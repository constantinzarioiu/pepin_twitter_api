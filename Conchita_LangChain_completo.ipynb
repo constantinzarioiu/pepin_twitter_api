{
  "cells": [
    {
      "cell_type": "markdown",
      "id": "7f259fdb-fc35-4602-8830-d88c03bc206b",
      "metadata": {
        "id": "7f259fdb-fc35-4602-8830-d88c03bc206b"
      },
      "source": [
        "## Creating your first LangChain project"
      ]
    },
    {
      "cell_type": "code",
      "source": [
        "pip install -q langchain_google_genai"
      ],
      "metadata": {
        "id": "D1-aGt1D-_SA",
        "colab": {
          "base_uri": "https://localhost:8080/"
        },
        "outputId": "4d28552b-2745-419d-ecb8-76d0b8571af3"
      },
      "id": "D1-aGt1D-_SA",
      "execution_count": 1,
      "outputs": [
        {
          "output_type": "stream",
          "name": "stdout",
          "text": [
            "\u001b[?25l   \u001b[90m━━━━━━━━━━━━━━━━━━━━━━━━━━━━━━━━━━━━━━━━\u001b[0m \u001b[32m0.0/44.3 kB\u001b[0m \u001b[31m?\u001b[0m eta \u001b[36m-:--:--\u001b[0m\r\u001b[2K   \u001b[90m━━━━━━━━━━━━━━━━━━━━━━━━━━━━━━━━━━━━━━━━\u001b[0m \u001b[32m44.3/44.3 kB\u001b[0m \u001b[31m1.8 MB/s\u001b[0m eta \u001b[36m0:00:00\u001b[0m\n",
            "\u001b[?25h\u001b[?25l   \u001b[90m━━━━━━━━━━━━━━━━━━━━━━━━━━━━━━━━━━━━━━━━\u001b[0m \u001b[32m0.0/1.4 MB\u001b[0m \u001b[31m?\u001b[0m eta \u001b[36m-:--:--\u001b[0m\r\u001b[2K   \u001b[91m━━━━━━━━━━━━━━━━━━━━━━━━━━━━━━━━━━━━━━━\u001b[0m\u001b[91m╸\u001b[0m \u001b[32m1.4/1.4 MB\u001b[0m \u001b[31m46.0 MB/s\u001b[0m eta \u001b[36m0:00:01\u001b[0m\r\u001b[2K   \u001b[90m━━━━━━━━━━━━━━━━━━━━━━━━━━━━━━━━━━━━━━━━\u001b[0m \u001b[32m1.4/1.4 MB\u001b[0m \u001b[31m23.0 MB/s\u001b[0m eta \u001b[36m0:00:00\u001b[0m\n",
            "\u001b[?25h\u001b[?25l   \u001b[90m━━━━━━━━━━━━━━━━━━━━━━━━━━━━━━━━━━━━━━━━\u001b[0m \u001b[32m0.0/437.6 kB\u001b[0m \u001b[31m?\u001b[0m eta \u001b[36m-:--:--\u001b[0m\r\u001b[2K   \u001b[91m━━━━━━━━━━━━━━━━━━━━━━━━━━━━━━━━━━━━━━━\u001b[0m\u001b[90m╺\u001b[0m \u001b[32m430.1/437.6 kB\u001b[0m \u001b[31m140.7 MB/s\u001b[0m eta \u001b[36m0:00:01\u001b[0m\r\u001b[2K   \u001b[90m━━━━━━━━━━━━━━━━━━━━━━━━━━━━━━━━━━━━━━━━\u001b[0m \u001b[32m437.6/437.6 kB\u001b[0m \u001b[31m11.2 MB/s\u001b[0m eta \u001b[36m0:00:00\u001b[0m\n",
            "\u001b[?25h\u001b[31mERROR: pip's dependency resolver does not currently take into account all the packages that are installed. This behaviour is the source of the following dependency conflicts.\n",
            "google-generativeai 0.8.4 requires google-ai-generativelanguage==0.6.15, but you have google-ai-generativelanguage 0.6.18 which is incompatible.\u001b[0m\u001b[31m\n",
            "\u001b[0m"
          ]
        }
      ]
    },
    {
      "cell_type": "code",
      "source": [
        "pip install -U langchain-community"
      ],
      "metadata": {
        "colab": {
          "base_uri": "https://localhost:8080/"
        },
        "id": "2JGMap0byHAb",
        "outputId": "9341074f-a6a7-4c65-84eb-96a7da3a4c8b"
      },
      "id": "2JGMap0byHAb",
      "execution_count": 2,
      "outputs": [
        {
          "output_type": "stream",
          "name": "stdout",
          "text": [
            "Collecting langchain-community\n",
            "  Downloading langchain_community-0.3.23-py3-none-any.whl.metadata (2.5 kB)\n",
            "Requirement already satisfied: langchain-core<1.0.0,>=0.3.56 in /usr/local/lib/python3.11/dist-packages (from langchain-community) (0.3.58)\n",
            "Collecting langchain<1.0.0,>=0.3.24 (from langchain-community)\n",
            "  Downloading langchain-0.3.25-py3-none-any.whl.metadata (7.8 kB)\n",
            "Requirement already satisfied: SQLAlchemy<3,>=1.4 in /usr/local/lib/python3.11/dist-packages (from langchain-community) (2.0.38)\n",
            "Requirement already satisfied: requests<3,>=2 in /usr/local/lib/python3.11/dist-packages (from langchain-community) (2.32.3)\n",
            "Requirement already satisfied: PyYAML>=5.3 in /usr/local/lib/python3.11/dist-packages (from langchain-community) (6.0.2)\n",
            "Requirement already satisfied: aiohttp<4.0.0,>=3.8.3 in /usr/local/lib/python3.11/dist-packages (from langchain-community) (3.11.13)\n",
            "Requirement already satisfied: tenacity!=8.4.0,<10,>=8.1.0 in /usr/local/lib/python3.11/dist-packages (from langchain-community) (9.0.0)\n",
            "Collecting dataclasses-json<0.7,>=0.5.7 (from langchain-community)\n",
            "  Downloading dataclasses_json-0.6.7-py3-none-any.whl.metadata (25 kB)\n",
            "Collecting pydantic-settings<3.0.0,>=2.4.0 (from langchain-community)\n",
            "  Downloading pydantic_settings-2.9.1-py3-none-any.whl.metadata (3.8 kB)\n",
            "Requirement already satisfied: langsmith<0.4,>=0.1.125 in /usr/local/lib/python3.11/dist-packages (from langchain-community) (0.3.11)\n",
            "Collecting httpx-sse<1.0.0,>=0.4.0 (from langchain-community)\n",
            "  Downloading httpx_sse-0.4.0-py3-none-any.whl.metadata (9.0 kB)\n",
            "Requirement already satisfied: numpy>=1.26.2 in /usr/local/lib/python3.11/dist-packages (from langchain-community) (1.26.4)\n",
            "Requirement already satisfied: aiohappyeyeballs>=2.3.0 in /usr/local/lib/python3.11/dist-packages (from aiohttp<4.0.0,>=3.8.3->langchain-community) (2.4.6)\n",
            "Requirement already satisfied: aiosignal>=1.1.2 in /usr/local/lib/python3.11/dist-packages (from aiohttp<4.0.0,>=3.8.3->langchain-community) (1.3.2)\n",
            "Requirement already satisfied: attrs>=17.3.0 in /usr/local/lib/python3.11/dist-packages (from aiohttp<4.0.0,>=3.8.3->langchain-community) (25.1.0)\n",
            "Requirement already satisfied: frozenlist>=1.1.1 in /usr/local/lib/python3.11/dist-packages (from aiohttp<4.0.0,>=3.8.3->langchain-community) (1.5.0)\n",
            "Requirement already satisfied: multidict<7.0,>=4.5 in /usr/local/lib/python3.11/dist-packages (from aiohttp<4.0.0,>=3.8.3->langchain-community) (6.1.0)\n",
            "Requirement already satisfied: propcache>=0.2.0 in /usr/local/lib/python3.11/dist-packages (from aiohttp<4.0.0,>=3.8.3->langchain-community) (0.3.0)\n",
            "Requirement already satisfied: yarl<2.0,>=1.17.0 in /usr/local/lib/python3.11/dist-packages (from aiohttp<4.0.0,>=3.8.3->langchain-community) (1.18.3)\n",
            "Collecting marshmallow<4.0.0,>=3.18.0 (from dataclasses-json<0.7,>=0.5.7->langchain-community)\n",
            "  Downloading marshmallow-3.26.1-py3-none-any.whl.metadata (7.3 kB)\n",
            "Collecting typing-inspect<1,>=0.4.0 (from dataclasses-json<0.7,>=0.5.7->langchain-community)\n",
            "  Downloading typing_inspect-0.9.0-py3-none-any.whl.metadata (1.5 kB)\n",
            "Collecting langchain-text-splitters<1.0.0,>=0.3.8 (from langchain<1.0.0,>=0.3.24->langchain-community)\n",
            "  Downloading langchain_text_splitters-0.3.8-py3-none-any.whl.metadata (1.9 kB)\n",
            "Requirement already satisfied: pydantic<3.0.0,>=2.7.4 in /usr/local/lib/python3.11/dist-packages (from langchain<1.0.0,>=0.3.24->langchain-community) (2.10.6)\n",
            "Requirement already satisfied: jsonpatch<2.0,>=1.33 in /usr/local/lib/python3.11/dist-packages (from langchain-core<1.0.0,>=0.3.56->langchain-community) (1.33)\n",
            "Requirement already satisfied: packaging<25,>=23.2 in /usr/local/lib/python3.11/dist-packages (from langchain-core<1.0.0,>=0.3.56->langchain-community) (24.2)\n",
            "Requirement already satisfied: typing-extensions>=4.7 in /usr/local/lib/python3.11/dist-packages (from langchain-core<1.0.0,>=0.3.56->langchain-community) (4.12.2)\n",
            "Requirement already satisfied: httpx<1,>=0.23.0 in /usr/local/lib/python3.11/dist-packages (from langsmith<0.4,>=0.1.125->langchain-community) (0.28.1)\n",
            "Requirement already satisfied: orjson<4.0.0,>=3.9.14 in /usr/local/lib/python3.11/dist-packages (from langsmith<0.4,>=0.1.125->langchain-community) (3.10.15)\n",
            "Requirement already satisfied: requests-toolbelt<2.0.0,>=1.0.0 in /usr/local/lib/python3.11/dist-packages (from langsmith<0.4,>=0.1.125->langchain-community) (1.0.0)\n",
            "Requirement already satisfied: zstandard<0.24.0,>=0.23.0 in /usr/local/lib/python3.11/dist-packages (from langsmith<0.4,>=0.1.125->langchain-community) (0.23.0)\n",
            "Collecting python-dotenv>=0.21.0 (from pydantic-settings<3.0.0,>=2.4.0->langchain-community)\n",
            "  Downloading python_dotenv-1.1.0-py3-none-any.whl.metadata (24 kB)\n",
            "Collecting typing-inspection>=0.4.0 (from pydantic-settings<3.0.0,>=2.4.0->langchain-community)\n",
            "  Downloading typing_inspection-0.4.0-py3-none-any.whl.metadata (2.6 kB)\n",
            "Requirement already satisfied: charset-normalizer<4,>=2 in /usr/local/lib/python3.11/dist-packages (from requests<3,>=2->langchain-community) (3.4.1)\n",
            "Requirement already satisfied: idna<4,>=2.5 in /usr/local/lib/python3.11/dist-packages (from requests<3,>=2->langchain-community) (3.10)\n",
            "Requirement already satisfied: urllib3<3,>=1.21.1 in /usr/local/lib/python3.11/dist-packages (from requests<3,>=2->langchain-community) (2.3.0)\n",
            "Requirement already satisfied: certifi>=2017.4.17 in /usr/local/lib/python3.11/dist-packages (from requests<3,>=2->langchain-community) (2025.1.31)\n",
            "Requirement already satisfied: greenlet!=0.4.17 in /usr/local/lib/python3.11/dist-packages (from SQLAlchemy<3,>=1.4->langchain-community) (3.1.1)\n",
            "Requirement already satisfied: anyio in /usr/local/lib/python3.11/dist-packages (from httpx<1,>=0.23.0->langsmith<0.4,>=0.1.125->langchain-community) (3.7.1)\n",
            "Requirement already satisfied: httpcore==1.* in /usr/local/lib/python3.11/dist-packages (from httpx<1,>=0.23.0->langsmith<0.4,>=0.1.125->langchain-community) (1.0.7)\n",
            "Requirement already satisfied: h11<0.15,>=0.13 in /usr/local/lib/python3.11/dist-packages (from httpcore==1.*->httpx<1,>=0.23.0->langsmith<0.4,>=0.1.125->langchain-community) (0.14.0)\n",
            "Requirement already satisfied: jsonpointer>=1.9 in /usr/local/lib/python3.11/dist-packages (from jsonpatch<2.0,>=1.33->langchain-core<1.0.0,>=0.3.56->langchain-community) (3.0.0)\n",
            "Requirement already satisfied: annotated-types>=0.6.0 in /usr/local/lib/python3.11/dist-packages (from pydantic<3.0.0,>=2.7.4->langchain<1.0.0,>=0.3.24->langchain-community) (0.7.0)\n",
            "Requirement already satisfied: pydantic-core==2.27.2 in /usr/local/lib/python3.11/dist-packages (from pydantic<3.0.0,>=2.7.4->langchain<1.0.0,>=0.3.24->langchain-community) (2.27.2)\n",
            "Collecting mypy-extensions>=0.3.0 (from typing-inspect<1,>=0.4.0->dataclasses-json<0.7,>=0.5.7->langchain-community)\n",
            "  Downloading mypy_extensions-1.1.0-py3-none-any.whl.metadata (1.1 kB)\n",
            "Requirement already satisfied: sniffio>=1.1 in /usr/local/lib/python3.11/dist-packages (from anyio->httpx<1,>=0.23.0->langsmith<0.4,>=0.1.125->langchain-community) (1.3.1)\n",
            "Downloading langchain_community-0.3.23-py3-none-any.whl (2.5 MB)\n",
            "\u001b[2K   \u001b[90m━━━━━━━━━━━━━━━━━━━━━━━━━━━━━━━━━━━━━━━━\u001b[0m \u001b[32m2.5/2.5 MB\u001b[0m \u001b[31m35.6 MB/s\u001b[0m eta \u001b[36m0:00:00\u001b[0m\n",
            "\u001b[?25hDownloading dataclasses_json-0.6.7-py3-none-any.whl (28 kB)\n",
            "Downloading httpx_sse-0.4.0-py3-none-any.whl (7.8 kB)\n",
            "Downloading langchain-0.3.25-py3-none-any.whl (1.0 MB)\n",
            "\u001b[2K   \u001b[90m━━━━━━━━━━━━━━━━━━━━━━━━━━━━━━━━━━━━━━━━\u001b[0m \u001b[32m1.0/1.0 MB\u001b[0m \u001b[31m44.6 MB/s\u001b[0m eta \u001b[36m0:00:00\u001b[0m\n",
            "\u001b[?25hDownloading pydantic_settings-2.9.1-py3-none-any.whl (44 kB)\n",
            "\u001b[2K   \u001b[90m━━━━━━━━━━━━━━━━━━━━━━━━━━━━━━━━━━━━━━━━\u001b[0m \u001b[32m44.4/44.4 kB\u001b[0m \u001b[31m3.6 MB/s\u001b[0m eta \u001b[36m0:00:00\u001b[0m\n",
            "\u001b[?25hDownloading langchain_text_splitters-0.3.8-py3-none-any.whl (32 kB)\n",
            "Downloading marshmallow-3.26.1-py3-none-any.whl (50 kB)\n",
            "\u001b[2K   \u001b[90m━━━━━━━━━━━━━━━━━━━━━━━━━━━━━━━━━━━━━━━━\u001b[0m \u001b[32m50.9/50.9 kB\u001b[0m \u001b[31m4.2 MB/s\u001b[0m eta \u001b[36m0:00:00\u001b[0m\n",
            "\u001b[?25hDownloading python_dotenv-1.1.0-py3-none-any.whl (20 kB)\n",
            "Downloading typing_inspect-0.9.0-py3-none-any.whl (8.8 kB)\n",
            "Downloading typing_inspection-0.4.0-py3-none-any.whl (14 kB)\n",
            "Downloading mypy_extensions-1.1.0-py3-none-any.whl (5.0 kB)\n",
            "Installing collected packages: typing-inspection, python-dotenv, mypy-extensions, marshmallow, httpx-sse, typing-inspect, pydantic-settings, dataclasses-json, langchain-text-splitters, langchain, langchain-community\n",
            "  Attempting uninstall: langchain-text-splitters\n",
            "    Found existing installation: langchain-text-splitters 0.3.6\n",
            "    Uninstalling langchain-text-splitters-0.3.6:\n",
            "      Successfully uninstalled langchain-text-splitters-0.3.6\n",
            "  Attempting uninstall: langchain\n",
            "    Found existing installation: langchain 0.3.19\n",
            "    Uninstalling langchain-0.3.19:\n",
            "      Successfully uninstalled langchain-0.3.19\n",
            "Successfully installed dataclasses-json-0.6.7 httpx-sse-0.4.0 langchain-0.3.25 langchain-community-0.3.23 langchain-text-splitters-0.3.8 marshmallow-3.26.1 mypy-extensions-1.1.0 pydantic-settings-2.9.1 python-dotenv-1.1.0 typing-inspect-0.9.0 typing-inspection-0.4.0\n"
          ]
        }
      ]
    },
    {
      "cell_type": "code",
      "source": [
        "import getpass\n",
        "import os\n",
        "if 'GOOGLE_API_KEY' not in os.environ:\n",
        "    os.environ['GOOGLE_API_KEY'] = getpass.getpass('Provide your Google API Key: ')"
      ],
      "metadata": {
        "colab": {
          "base_uri": "https://localhost:8080/"
        },
        "id": "0QKhpqd00Ig8",
        "outputId": "948e5659-36ac-4b11-d0ab-1e79baf18464"
      },
      "id": "0QKhpqd00Ig8",
      "execution_count": 3,
      "outputs": [
        {
          "name": "stdout",
          "output_type": "stream",
          "text": [
            "Provide your Google API Key: ··········\n"
          ]
        }
      ]
    },
    {
      "cell_type": "code",
      "source": [
        "from langchain_google_genai import ChatGoogleGenerativeAI"
      ],
      "metadata": {
        "id": "ikpqKCsD_Qpq"
      },
      "id": "ikpqKCsD_Qpq",
      "execution_count": 4,
      "outputs": []
    },
    {
      "cell_type": "code",
      "source": [
        "chat = ChatGoogleGenerativeAI(model='gemini-2.0-flash')"
      ],
      "metadata": {
        "id": "q1OzVMHH_biN"
      },
      "id": "q1OzVMHH_biN",
      "execution_count": 12,
      "outputs": []
    },
    {
      "cell_type": "code",
      "execution_count": 13,
      "id": "a63eb7ff-eefc-4e7b-b323-ff8fddf3819e",
      "metadata": {
        "id": "a63eb7ff-eefc-4e7b-b323-ff8fddf3819e",
        "outputId": "073719e9-d160-4883-ed53-1fc3e2f35476",
        "colab": {
          "base_uri": "https://localhost:8080/"
        }
      },
      "outputs": [
        {
          "output_type": "execute_result",
          "data": {
            "text/plain": [
              "AIMessage(content='Consider Denver, Salt Lake City, or Vancouver for easy access to ski resorts.', additional_kwargs={}, response_metadata={'prompt_feedback': {'block_reason': 0, 'safety_ratings': []}, 'finish_reason': 'STOP', 'model_name': 'gemini-2.0-flash', 'safety_ratings': []}, id='run--4433236d-8fd7-42bf-88da-6c7b1ab192f4-0', usage_metadata={'input_tokens': 33, 'output_tokens': 17, 'total_tokens': 50, 'input_token_details': {'cache_read': 0}})"
            ]
          },
          "metadata": {},
          "execution_count": 13
        }
      ],
      "source": [
        "messages = [\n",
        "    (\n",
        "        \"system\",\n",
        "        \"You are a helpful AI that helps the user make travel plans. Respond only in a single line.\",\n",
        "    ),\n",
        "    (\"human\", \"I want to go skiing. Which city should I go to?\"),\n",
        "]\n",
        "first_msg = chat.invoke(messages)\n",
        "first_msg"
      ]
    },
    {
      "cell_type": "code",
      "execution_count": 14,
      "id": "c6fab4f5-2ce5-4538-baea-ad5552e7196f",
      "metadata": {
        "id": "c6fab4f5-2ce5-4538-baea-ad5552e7196f",
        "outputId": "8ee7f4f6-9a43-4d12-8afd-a76274f44ca1",
        "colab": {
          "base_uri": "https://localhost:8080/"
        }
      },
      "outputs": [
        {
          "output_type": "stream",
          "name": "stdout",
          "text": [
            "Consider Denver, Salt Lake City, or Vancouver for easy access to ski resorts.\n"
          ]
        }
      ],
      "source": [
        "print(first_msg.content)"
      ]
    },
    {
      "cell_type": "code",
      "execution_count": 15,
      "id": "9b993656-69b2-4829-b142-8e88a9e7a9a4",
      "metadata": {
        "id": "9b993656-69b2-4829-b142-8e88a9e7a9a4",
        "outputId": "186f9c2f-88f8-4141-8a22-c4935976f9ea",
        "colab": {
          "base_uri": "https://localhost:8080/"
        }
      },
      "outputs": [
        {
          "output_type": "stream",
          "name": "stdout",
          "text": [
            "50\n"
          ]
        }
      ],
      "source": [
        "print(first_msg.usage_metadata[\"total_tokens\"])"
      ]
    },
    {
      "cell_type": "code",
      "execution_count": 16,
      "id": "e108e729-7d2c-41e9-9121-19be63c41649",
      "metadata": {
        "id": "e108e729-7d2c-41e9-9121-19be63c41649",
        "outputId": "ce0e4da9-3626-465c-f36a-48d155b8a4a1",
        "colab": {
          "base_uri": "https://localhost:8080/"
        }
      },
      "outputs": [
        {
          "output_type": "stream",
          "name": "stdout",
          "text": [
            "Okay, I need more information to answer that question effectively!  Tell me:\n",
            "\n",
            "*   **What city are you asking about?**\n",
            "*   **What do you enjoy doing?**\n",
            "*   **What is your budget?**\n",
            "*   **What is the time of year/season?**\n",
            "*   **Who are you travelling with?**\n",
            "\n",
            "Once I have this information, I can give you some great suggestions.\n"
          ]
        }
      ],
      "source": [
        "messages = [\n",
        "\n",
        "    (\"human\", \"What else can I do in that city?\"),\n",
        "]\n",
        "ai_msg = chat.invoke(messages)\n",
        "print(ai_msg.content)"
      ]
    },
    {
      "cell_type": "markdown",
      "id": "38426503-527d-40c2-84c5-6e1c6c38b94a",
      "metadata": {
        "id": "38426503-527d-40c2-84c5-6e1c6c38b94a"
      },
      "source": [
        "## Prompt Templates"
      ]
    },
    {
      "cell_type": "code",
      "execution_count": 17,
      "id": "0ff639ff-5d49-4f26-9725-485ae7a4c0b8",
      "metadata": {
        "id": "0ff639ff-5d49-4f26-9725-485ae7a4c0b8",
        "outputId": "38f011c8-c61e-4ceb-9b19-6ca1cd14dfaf",
        "colab": {
          "base_uri": "https://localhost:8080/"
        }
      },
      "outputs": [
        {
          "output_type": "stream",
          "name": "stdout",
          "text": [
            "Give me a one line definition of Sesquipedalian. Then, give one example of how it is used.\n"
          ]
        }
      ],
      "source": [
        "from langchain import PromptTemplate\n",
        "\n",
        "dictionary_template = PromptTemplate(\n",
        "    input_variables =['word'],\n",
        "    template = \"Give me a one line definition of {word}. Then, give one example of how it is used.\"\n",
        ")\n",
        "p = dictionary_template.format(word=\"Sesquipedalian\")\n",
        "print(p)\n"
      ]
    },
    {
      "cell_type": "code",
      "source": [
        "chat = ChatGoogleGenerativeAI(model='gemini-2.0-flash')"
      ],
      "metadata": {
        "id": "gjCqFhzKADhV"
      },
      "id": "gjCqFhzKADhV",
      "execution_count": 18,
      "outputs": []
    },
    {
      "cell_type": "code",
      "execution_count": 19,
      "id": "c7fb97ff-3966-460b-b0fb-ad885398e5c9",
      "metadata": {
        "id": "c7fb97ff-3966-460b-b0fb-ad885398e5c9",
        "outputId": "008870e8-bbfa-40d6-f2dc-e5398dd6ed1b",
        "colab": {
          "base_uri": "https://localhost:8080/"
        }
      },
      "outputs": [
        {
          "output_type": "stream",
          "name": "stdout",
          "text": [
            "Sesquipedalian means characterized by long words; long-winded.\n",
            "Example: \"The professor's lectures were often sesquipedalian, leaving students struggling to grasp his meaning.\"\n"
          ]
        }
      ],
      "source": [
        "print(chat.invoke(p).content)"
      ]
    },
    {
      "cell_type": "markdown",
      "id": "fccd1a1c-84e0-4527-8535-c1aed588ffbc",
      "metadata": {
        "id": "fccd1a1c-84e0-4527-8535-c1aed588ffbc"
      },
      "source": [
        "#### Multiple input variables"
      ]
    },
    {
      "cell_type": "code",
      "execution_count": 20,
      "id": "542a0c8c-d58a-46dd-b10f-a7232adb2e9d",
      "metadata": {
        "id": "542a0c8c-d58a-46dd-b10f-a7232adb2e9d",
        "outputId": "dd30afdf-5d77-4cc7-e802-45fda28a1ecb",
        "colab": {
          "base_uri": "https://localhost:8080/"
        }
      },
      "outputs": [
        {
          "output_type": "stream",
          "name": "stdout",
          "text": [
            "Give me a one line definition of Sesquipedalian. Then, give the translation of that word in Hindi.\n",
            "Sesquipedalian means characterized by long words; long-winded.\n",
            "\n",
            "Hindi translation: **दीर्घशब्दप्रयोगशील** (Dīrghashabdaprayogashīl)\n"
          ]
        }
      ],
      "source": [
        "from langchain import PromptTemplate\n",
        "\n",
        "define_translate = PromptTemplate(\n",
        "    input_variables =['word','language'],\n",
        "    template = \"Give me a one line definition of {word}. Then, give the translation of that word in {language}.\"\n",
        ")\n",
        "p = define_translate.format(word=\"Sesquipedalian\", language=\"Hindi\")\n",
        "print(p)\n",
        "print(chat.invoke(p).content)"
      ]
    },
    {
      "cell_type": "markdown",
      "id": "0c40c59e-db27-4b69-8a31-91d6d597d2ac",
      "metadata": {
        "id": "0c40c59e-db27-4b69-8a31-91d6d597d2ac"
      },
      "source": [
        "#### Taking input from user"
      ]
    },
    {
      "cell_type": "code",
      "source": [
        "user_input = input(\"Enter the word you want to learn about: \")  # Use input() for text input\n",
        "\n",
        "dictionary_template = PromptTemplate(\n",
        "    input_variables=['word'],\n",
        "    template=\"Give me a one line definition of {word}. Then, give one example of how it is used.\"\n",
        ")\n",
        "p = dictionary_template.format(word=user_input)\n",
        "print(chat.invoke(p).content)"
      ],
      "metadata": {
        "colab": {
          "base_uri": "https://localhost:8080/"
        },
        "id": "qDA1tlcDAZty",
        "outputId": "dd6b3107-632a-4115-b774-1a80ecd27a7f"
      },
      "id": "qDA1tlcDAZty",
      "execution_count": 21,
      "outputs": [
        {
          "output_type": "stream",
          "name": "stdout",
          "text": [
            "Enter the word you want to learn about: amazing\n",
            "Amazing means causing great surprise or wonder; astonishing.\n",
            "\n",
            "Example: \"The magician's amazing disappearing act left the audience speechless.\"\n"
          ]
        }
      ]
    },
    {
      "cell_type": "markdown",
      "id": "e2b3f587-7b11-4436-bd24-9298851b1edc",
      "metadata": {
        "id": "e2b3f587-7b11-4436-bd24-9298851b1edc"
      },
      "source": [
        "#### ChatPromptTemplate"
      ]
    },
    {
      "cell_type": "code",
      "execution_count": 22,
      "id": "7c704222-f9e8-4eb8-9ee8-80f415a8a3c8",
      "metadata": {
        "id": "7c704222-f9e8-4eb8-9ee8-80f415a8a3c8",
        "outputId": "dbad7ef3-afd1-4910-d37d-a0241631fe74",
        "colab": {
          "base_uri": "https://localhost:8080/"
        }
      },
      "outputs": [
        {
          "output_type": "execute_result",
          "data": {
            "text/plain": [
              "[SystemMessage(content='You are a helpful assistant that gives a one-line definition of the word entered by user', additional_kwargs={}, response_metadata={}),\n",
              " HumanMessage(content='Sesquipedalian', additional_kwargs={}, response_metadata={})]"
            ]
          },
          "metadata": {},
          "execution_count": 22
        }
      ],
      "source": [
        "from langchain_core.prompts import ChatPromptTemplate\n",
        "\n",
        "chat_template = ChatPromptTemplate.from_messages(\n",
        "    [\n",
        "        (\"system\", \"You are a helpful assistant that gives a one-line definition of the word entered by user\"),\n",
        "        (\"human\", \"{user_input}\"),\n",
        "    ]\n",
        ")\n",
        "\n",
        "messages = chat_template.format_messages(user_input=\"Sesquipedalian\")\n",
        "messages"
      ]
    },
    {
      "cell_type": "code",
      "source": [
        "chat = ChatGoogleGenerativeAI(model='gemini-2.0-flash')"
      ],
      "metadata": {
        "id": "tD4BMAaDAx5i"
      },
      "id": "tD4BMAaDAx5i",
      "execution_count": 23,
      "outputs": []
    },
    {
      "cell_type": "code",
      "source": [
        "print(chat.invoke(messages).content)"
      ],
      "metadata": {
        "colab": {
          "base_uri": "https://localhost:8080/"
        },
        "id": "9oY3zCpVBujK",
        "outputId": "2abd17e4-ec9a-4b97-e250-a2701319c060"
      },
      "id": "9oY3zCpVBujK",
      "execution_count": 24,
      "outputs": [
        {
          "output_type": "stream",
          "name": "stdout",
          "text": [
            "Using or characterized by long words.\n"
          ]
        }
      ]
    },
    {
      "cell_type": "markdown",
      "id": "a63b6db6-ee59-4bdf-b583-6e397dfa1c2a",
      "metadata": {
        "id": "a63b6db6-ee59-4bdf-b583-6e397dfa1c2a"
      },
      "source": [
        "#### Few shot prompt templates"
      ]
    },
    {
      "cell_type": "code",
      "execution_count": 25,
      "id": "42af4873-4ee5-4cff-b94c-0000bb397d07",
      "metadata": {
        "id": "42af4873-4ee5-4cff-b94c-0000bb397d07",
        "outputId": "cb898549-c8ca-44c5-f312-e8038743fa34",
        "colab": {
          "base_uri": "https://localhost:8080/"
        }
      },
      "outputs": [
        {
          "output_type": "stream",
          "name": "stdout",
          "text": [
            "Identify the sentiment of the user review. Here are some examples: \n",
            "\n",
            "User: I love this product\n",
            "AI: positive\n",
            "\n",
            "\n",
            "User: It was an average experience\n",
            "AI: neutral\n",
            "\n",
            "\n",
            "User: I wonder why it is so highly rated.\n",
            "AI: negative\n",
            "\n",
            "\n",
            "User: Well structured. Five stars.\n",
            "AI: \n"
          ]
        }
      ],
      "source": [
        "from langchain import FewShotPromptTemplate\n",
        "\n",
        "# create our examples\n",
        "examples = [\n",
        "    {\n",
        "        \"rev\": \"I love this product\",\n",
        "        \"answer\": \"positive\"\n",
        "    }, {\n",
        "        \"rev\": \"It was an average experience\",\n",
        "        \"answer\": \"neutral\"\n",
        "    },{\n",
        "        \"rev\": \"I wonder why it is so highly rated.\",\n",
        "        \"answer\": \"negative\"\n",
        "    }\n",
        "]\n",
        "\n",
        "\n",
        "# create a prompt example from above template\n",
        "example_prompt = PromptTemplate(\n",
        "    input_variables=[\"rev\", \"answer\"],\n",
        "    template= \"\"\"\n",
        "User: {rev}\n",
        "AI: {answer}\n",
        "\"\"\"\n",
        ")\n",
        "\n",
        "# now break our previous prompt into a prefix and suffix\n",
        "# the prefix is our instructions\n",
        "prefix = \"Identify the sentiment of the user review. Here are some examples: \"\n",
        "# and the suffix our user input and output indicator\n",
        "suffix = \"\"\"\n",
        "User: {review}\n",
        "AI: \"\"\"\n",
        "\n",
        "# now create the few shot prompt template\n",
        "few_shot_prompt_template = FewShotPromptTemplate(\n",
        "    examples=examples,\n",
        "    example_prompt=example_prompt,\n",
        "    prefix=prefix,\n",
        "    suffix=suffix,\n",
        "    input_variables=[\"review\"],\n",
        "    example_separator=\"\\n\"\n",
        ")\n",
        "\n",
        "user_review = \"Well structured. Five stars.\"\n",
        "\n",
        "print(few_shot_prompt_template.format(review=user_review))"
      ]
    },
    {
      "cell_type": "code",
      "source": [
        "print(chat.invoke(few_shot_prompt_template.format(review=user_review)).content)\n"
      ],
      "metadata": {
        "colab": {
          "base_uri": "https://localhost:8080/"
        },
        "id": "05F1-ba9CgCm",
        "outputId": "182b90f4-daea-4919-8fe0-8458329df360"
      },
      "id": "05F1-ba9CgCm",
      "execution_count": 26,
      "outputs": [
        {
          "output_type": "stream",
          "name": "stdout",
          "text": [
            "positive\n"
          ]
        }
      ]
    },
    {
      "cell_type": "markdown",
      "id": "340e52f7-6df3-445f-892e-936ba043c054",
      "metadata": {
        "id": "340e52f7-6df3-445f-892e-936ba043c054"
      },
      "source": [
        "## Chains"
      ]
    },
    {
      "cell_type": "markdown",
      "id": "793a2ebb-4d6e-461f-addc-1f91d4a9c90a",
      "metadata": {
        "id": "793a2ebb-4d6e-461f-addc-1f91d4a9c90a"
      },
      "source": [
        "#### Generic chain - LLMChain"
      ]
    },
    {
      "cell_type": "code",
      "execution_count": 27,
      "id": "00d3ea2f-eca0-4e5c-b3b8-21d895f935de",
      "metadata": {
        "id": "00d3ea2f-eca0-4e5c-b3b8-21d895f935de",
        "outputId": "61d04376-8d65-4e9c-84f0-1c6c7f6283a2",
        "colab": {
          "base_uri": "https://localhost:8080/"
        }
      },
      "outputs": [
        {
          "output_type": "stream",
          "name": "stderr",
          "text": [
            "<ipython-input-27-4ee3cdd59a4f>:12: LangChainDeprecationWarning: The class `LLMChain` was deprecated in LangChain 0.1.17 and will be removed in 1.0. Use :meth:`~RunnableSequence, e.g., `prompt | llm`` instead.\n",
            "  chain = LLMChain(llm=llm, prompt=dictionary_template)\n"
          ]
        },
        {
          "output_type": "execute_result",
          "data": {
            "text/plain": [
              "{'word': 'Anachronism',\n",
              " 'text': 'An anachronism is something that is out of place in time, either chronologically or contextually.\\n\\nExample: A cell phone appearing in a movie set in the 1800s.'}"
            ]
          },
          "metadata": {},
          "execution_count": 27
        }
      ],
      "source": [
        "from langchain import PromptTemplate\n",
        "from langchain.chains import LLMChain\n",
        "from langchain_google_genai import ChatGoogleGenerativeAI\n",
        "\n",
        "dictionary_template = PromptTemplate(\n",
        "    input_variables =[\"word\"],\n",
        "    template = \"Give me a one line definition of {word}. Then, give one example of how it is used.\"\n",
        ")\n",
        "\n",
        "llm = ChatGoogleGenerativeAI(model='gemini-2.0-flash')\n",
        "\n",
        "chain = LLMChain(llm=llm, prompt=dictionary_template)\n",
        "chain.invoke(\"Anachronism\")\n"
      ]
    },
    {
      "cell_type": "code",
      "execution_count": 28,
      "id": "e5d60b82-8b46-42bd-b509-a68cdec0a630",
      "metadata": {
        "id": "e5d60b82-8b46-42bd-b509-a68cdec0a630",
        "outputId": "73f27332-b268-4319-b471-578a98540f22",
        "colab": {
          "base_uri": "https://localhost:8080/"
        }
      },
      "outputs": [
        {
          "output_type": "execute_result",
          "data": {
            "text/plain": [
              "[{'text': 'Sesquipedalian means characterized by long words; long-winded.\\n\\nExample: \"The professor\\'s speech was so sesquipedalian that the students struggled to understand his points.\"'},\n",
              " {'text': 'Anachronism: Something that appears in the wrong time period.\\n\\nExample: A cell phone appearing in a movie set in ancient Rome.'},\n",
              " {'text': 'Onomatopoeia is the formation of a word from a sound associated with what is named.\\n\\nExample: The bees buzzed around the hive.'}]"
            ]
          },
          "metadata": {},
          "execution_count": 28
        }
      ],
      "source": [
        "input_list = [\n",
        "    {\"word\": \"Sesquipedalian\"},\n",
        "    {\"word\": \"Anachronism\"},\n",
        "    {\"word\": \"Onomatopoeia\"}\n",
        "]\n",
        "\n",
        "chain.apply(input_list)"
      ]
    },
    {
      "cell_type": "markdown",
      "id": "e3bf5c3d-4f33-410d-ae72-0f17b05ad5da",
      "metadata": {
        "id": "e3bf5c3d-4f33-410d-ae72-0f17b05ad5da"
      },
      "source": [
        "#### Utility chains"
      ]
    },
    {
      "cell_type": "code",
      "execution_count": 29,
      "id": "af3319f9-afa7-475c-a133-a069a3bb1b04",
      "metadata": {
        "id": "af3319f9-afa7-475c-a133-a069a3bb1b04"
      },
      "outputs": [],
      "source": [
        "from langchain.chains import LLMMathChain"
      ]
    },
    {
      "cell_type": "code",
      "execution_count": 30,
      "id": "bd91a149-671e-45de-80a2-4ab1c944809f",
      "metadata": {
        "id": "bd91a149-671e-45de-80a2-4ab1c944809f",
        "outputId": "1ce45a33-2851-406e-d1f0-ded980b0eda0",
        "colab": {
          "base_uri": "https://localhost:8080/"
        }
      },
      "outputs": [
        {
          "output_type": "stream",
          "name": "stdout",
          "text": [
            "\n",
            "\n",
            "\u001b[1m> Entering new LLMMathChain chain...\u001b[0m\n",
            "Calculate (625 raised to power (0.225))-(log10(100))\u001b[32;1m\u001b[1;3m```text\n",
            "625**0.225 - log10(100)\n",
            "```\n",
            "...numexpr.evaluate(\"625**0.225 - log10(100)\")...\u001b[0m\n",
            "Answer: \u001b[33;1m\u001b[1;3m2.2566996126039234\u001b[0m\n",
            "\u001b[1m> Finished chain.\u001b[0m\n"
          ]
        },
        {
          "output_type": "execute_result",
          "data": {
            "text/plain": [
              "{'question': 'Calculate (625 raised to power (0.225))-(log10(100))',\n",
              " 'answer': 'Answer: 2.2566996126039234'}"
            ]
          },
          "metadata": {},
          "execution_count": 30
        }
      ],
      "source": [
        "\n",
        "calculator = LLMMathChain.from_llm(llm, verbose=True)\n",
        "calculator.invoke(\"Calculate (625 raised to power (0.225))-(log10(100))\")"
      ]
    },
    {
      "cell_type": "code",
      "execution_count": 31,
      "id": "8bac403e-1b85-49d7-972b-1a47e0f832b8",
      "metadata": {
        "id": "8bac403e-1b85-49d7-972b-1a47e0f832b8",
        "outputId": "717b84bb-36af-4853-c9ed-cd720c5c9a45",
        "colab": {
          "base_uri": "https://localhost:8080/"
        }
      },
      "outputs": [
        {
          "output_type": "stream",
          "name": "stdout",
          "text": [
            "Translate a math problem into a expression that can be executed using Python's numexpr library. Use the output of running this code to answer the question.\n",
            "\n",
            "Question: ${{Question with math problem.}}\n",
            "```text\n",
            "${{single line mathematical expression that solves the problem}}\n",
            "```\n",
            "...numexpr.evaluate(text)...\n",
            "```output\n",
            "${{Output of running the code}}\n",
            "```\n",
            "Answer: ${{Answer}}\n",
            "\n",
            "Begin.\n",
            "\n",
            "Question: What is 37593 * 67?\n",
            "```text\n",
            "37593 * 67\n",
            "```\n",
            "...numexpr.evaluate(\"37593 * 67\")...\n",
            "```output\n",
            "2518731\n",
            "```\n",
            "Answer: 2518731\n",
            "\n",
            "Question: 37593^(1/5)\n",
            "```text\n",
            "37593**(1/5)\n",
            "```\n",
            "...numexpr.evaluate(\"37593**(1/5)\")...\n",
            "```output\n",
            "8.222831614237718\n",
            "```\n",
            "Answer: 8.222831614237718\n",
            "\n",
            "Question: {question}\n",
            "\n"
          ]
        }
      ],
      "source": [
        "print(calculator.prompt.template)"
      ]
    },
    {
      "cell_type": "code",
      "execution_count": 32,
      "id": "cf2c67ef-024e-4be6-bc2f-b77a15894f75",
      "metadata": {
        "id": "cf2c67ef-024e-4be6-bc2f-b77a15894f75",
        "outputId": "51a411bc-fd84-444a-d2aa-82330a6655c6",
        "colab": {
          "base_uri": "https://localhost:8080/"
        }
      },
      "outputs": [
        {
          "output_type": "stream",
          "name": "stdout",
          "text": [
            "Here's how to solve this problem step-by-step:\n",
            "\n",
            "**1. Calculate 625 raised to the power of 0.225:**\n",
            "\n",
            "625<sup>0.225</sup> can be simplified by recognizing that 625 = 5<sup>4</sup>.  Therefore:\n",
            "\n",
            "625<sup>0.225</sup> = (5<sup>4</sup>)<sup>0.225</sup> = 5<sup>(4 * 0.225)</sup> = 5<sup>1</sup> = 5\n",
            "\n",
            "**2. Calculate log<sub>10</sub>(100):**\n",
            "\n",
            "log<sub>10</sub>(100) = 2  (because 10<sup>2</sup> = 100)\n",
            "\n",
            "**3. Subtract the results:**\n",
            "\n",
            "5 - 2 = 3\n",
            "\n",
            "Therefore, the answer is $\\boxed{3}$\n"
          ]
        }
      ],
      "source": [
        "\n",
        "calc_llm = ChatGoogleGenerativeAI(model='gemini-1.5-flash', temperature=0)\n",
        "messages = [\n",
        "    (\"human\", \"Calculate (625 raised to power (0.225))-(log10(100))\"),\n",
        "]\n",
        "calculation = calc_llm.invoke(messages)\n",
        "print(calculation.content)"
      ]
    },
    {
      "cell_type": "markdown",
      "id": "848cd929-e0f3-433d-944d-6edf359ae95f",
      "metadata": {
        "id": "848cd929-e0f3-433d-944d-6edf359ae95f"
      },
      "source": [
        "##### List of all chains - https://python.langchain.com/v0.1/docs/modules/chains/"
      ]
    },
    {
      "cell_type": "markdown",
      "id": "babbbe02-985d-41a1-93d3-8455290fc52f",
      "metadata": {
        "id": "babbbe02-985d-41a1-93d3-8455290fc52f"
      },
      "source": [
        "### Sequential Chain"
      ]
    },
    {
      "cell_type": "code",
      "execution_count": 33,
      "id": "691ca167-0fd8-4b5b-bd92-3121a57a7a2d",
      "metadata": {
        "id": "691ca167-0fd8-4b5b-bd92-3121a57a7a2d",
        "outputId": "d95e03a0-253a-47ff-dfe0-386907aae9c4",
        "colab": {
          "base_uri": "https://localhost:8080/"
        }
      },
      "outputs": [
        {
          "output_type": "stream",
          "name": "stderr",
          "text": [
            "<ipython-input-33-0a5c6b7c1621>:29: LangChainDeprecationWarning: The method `Chain.__call__` was deprecated in langchain 0.1.0 and will be removed in 1.0. Use :meth:`~invoke` instead.\n",
            "  seq_chain({\"name\": \"AeroGlow Nightlight\",\"description\":\"AeroGlow Nightlight is a smart, voice-activated nightlight that projects calming, animated constellations onto your ceiling.\"})\n"
          ]
        },
        {
          "output_type": "execute_result",
          "data": {
            "text/plain": [
              "{'name': 'AeroGlow Nightlight',\n",
              " 'description': 'AeroGlow Nightlight is a smart, voice-activated nightlight that projects calming, animated constellations onto your ceiling.',\n",
              " 'copy_text': 'Transform your bedroom into a starry sanctuary with AeroGlow: the voice-activated nightlight that projects calming constellations onto your ceiling.',\n",
              " 'translated_copy': \"Here's the translation of the text to Spanish:\\n\\n**Transforma tu dormitorio en un santuario estrellado con AeroGlow: la luz nocturna activada por voz que proyecta constelaciones relajantes en tu techo.**\\n\\nHere's a breakdown of the translation choices:\\n\\n*   **Transform your bedroom:** Transforma tu dormitorio (or: Transforma tu habitación)\\n*   **into a starry sanctuary:** en un santuario estrellado\\n*   **with AeroGlow:** con AeroGlow (keeping the product name in English is common)\\n*   **the voice-activated nightlight:** la luz nocturna activada por voz\\n*   **that projects calming constellations:** que proyecta constelaciones relajantes\\n*   **onto your ceiling:** en tu techo\"}"
            ]
          },
          "metadata": {},
          "execution_count": 33
        }
      ],
      "source": [
        "marketing_text = PromptTemplate(\n",
        "    input_variables =['name','description'],\n",
        "    template = \"Generate a one line facebook ad copy for a product called {name}. Below is a description of this product: {description}\"\n",
        ")\n",
        "\n",
        "text_llm = ChatGoogleGenerativeAI(model='gemini-1.5-flash', temperature=0)\n",
        "\n",
        "text_chain = LLMChain(llm=text_llm, prompt=marketing_text, output_key=\"copy_text\")\n",
        "\n",
        "\n",
        "translate_text = PromptTemplate(input_variables=[\"copy_text\"], template=\"\"\"Translate this text to Spanish:\n",
        "\n",
        "{copy_text} \"\"\")\n",
        "\n",
        "from langchain_google_genai import ChatGoogleGenerativeAI\n",
        "\n",
        "translate_llm = ChatGoogleGenerativeAI(model=\"gemini-2.0-flash-lite-001\")\n",
        "\n",
        "translate_chain = LLMChain(llm=translate_llm, prompt=translate_text, output_key=\"translated_copy\")\n",
        "\n",
        "from langchain.chains import SequentialChain\n",
        "\n",
        "seq_chain = SequentialChain(\n",
        "    chains = [text_chain, translate_chain],\n",
        "    input_variables = [\"name\", \"description\"],\n",
        "    output_variables = [\"copy_text\",\"translated_copy\"]\n",
        ")\n",
        "\n",
        "seq_chain({\"name\": \"AeroGlow Nightlight\",\"description\":\"AeroGlow Nightlight is a smart, voice-activated nightlight that projects calming, animated constellations onto your ceiling.\"})"
      ]
    },
    {
      "cell_type": "code",
      "source": [
        "result = seq_chain({\"name\": \"AeroGlow Nightlight\",\"description\":\"AeroGlow Nightlight is a smart, voice-activated nightlight that projects calming, animated constellations onto your ceiling.\"})\n",
        "# Access the 'copy_text' from the results\n",
        "print(result['copy_text'])\n",
        "# Access the 'translated_copy' from the results\n",
        "print(result['translated_copy'])"
      ],
      "metadata": {
        "colab": {
          "base_uri": "https://localhost:8080/"
        },
        "id": "bgvg__jJO7nv",
        "outputId": "846534ae-f342-4bf7-b108-d39090e92689"
      },
      "id": "bgvg__jJO7nv",
      "execution_count": 34,
      "outputs": [
        {
          "output_type": "stream",
          "name": "stdout",
          "text": [
            "Transform your bedroom into a starry sanctuary with AeroGlow: the voice-activated nightlight that projects calming constellations onto your ceiling.\n",
            "Here are a few options for translating the text to Spanish, with slightly different nuances:\n",
            "\n",
            "**Option 1 (Most direct and clear):**\n",
            "\n",
            "> Transforma tu dormitorio en un santuario estelar con AeroGlow: la luz nocturna activada por voz que proyecta constelaciones relajantes en tu techo.\n",
            "\n",
            "**Option 2 (Emphasizing the calming effect):**\n",
            "\n",
            "> Convierte tu habitación en un refugio de estrellas con AeroGlow: la luz nocturna con activación por voz que proyecta relajantes constelaciones sobre tu techo.\n",
            "\n",
            "**Option 3 (Slightly more poetic):**\n",
            "\n",
            "> Convierte tu dormitorio en un santuario de estrellas con AeroGlow: la luz nocturna activada por voz que pinta constelaciones tranquilizadoras en tu techo.\n",
            "\n",
            "**Key changes and explanations:**\n",
            "\n",
            "*   **\"Transform\" / \"Convierte\":** Both translate \"transform.\" \"Convierte\" is a bit more common in this context.\n",
            "*   **\"Bedroom\" / \"dormitorio\" / \"habitación\":** Both are valid, \"dormitorio\" is more formal.\n",
            "*   **\"Starry sanctuary\" / \"santuario estelar\" / \"refugio de estrellas\":** These options capture the imagery well.\n",
            "*   **\"Voice-activated\" / \"activada por voz\":** Straightforward translation.\n",
            "*   **\"Nightlight\" / \"luz nocturna\":** Standard translation.\n",
            "*   **\"Projects\" / \"proyecta\":** The direct translation.\n",
            "*   **\"Calming\" / \"relajantes\" / \"tranquilizadoras\":** \"Relajantes\" is a good general translation. \"Tranquilizadoras\" is a slightly more emphatic synonym.\n",
            "*   **\"Constellations\" / \"constelaciones\":** The same in both languages.\n",
            "*   **\"Onto your ceiling\" / \"en tu techo\" / \"sobre tu techo\":** Both are good.\n",
            "\n",
            "The best option depends on the specific tone you want to convey. Option 1 is the most direct and probably the safest choice. Option 2 is a good alternative emphasizing relaxation. Option 3 is a bit more poetic.\n"
          ]
        }
      ]
    },
    {
      "cell_type": "markdown",
      "source": [
        "### LCEL - Pipe operator and Runnables"
      ],
      "metadata": {
        "id": "zrUCSb4ZmY12"
      },
      "id": "zrUCSb4ZmY12"
    },
    {
      "cell_type": "code",
      "source": [
        "from langchain import PromptTemplate\n",
        "from langchain_google_genai import ChatGoogleGenerativeAI\n",
        "from langchain_core.output_parsers import StrOutputParser\n",
        "\n",
        "dictionary_template = PromptTemplate(\n",
        "    input_variables =[\"word\"],\n",
        "    template = \"Give me a one line definition of {word}. Response should not contain the word - {word} itself, only the meaning.\"\n",
        ")\n",
        "\n",
        "\n",
        "llm = ChatGoogleGenerativeAI(model='gemini-1.5-flash')\n",
        "\n",
        "\n",
        "chain = dictionary_template | llm | StrOutputParser()"
      ],
      "metadata": {
        "id": "uDs9x3Uymest"
      },
      "id": "uDs9x3Uymest",
      "execution_count": 35,
      "outputs": []
    },
    {
      "cell_type": "code",
      "source": [
        "chain.invoke({\"word\": \"Onomatopoeia\"})"
      ],
      "metadata": {
        "colab": {
          "base_uri": "https://localhost:8080/",
          "height": 35
        },
        "id": "mZgUXDJZm59l",
        "outputId": "ea77b018-daad-4a1d-8934-ef391233a281"
      },
      "id": "mZgUXDJZm59l",
      "execution_count": 36,
      "outputs": [
        {
          "output_type": "execute_result",
          "data": {
            "text/plain": [
              "'Words that imitate the sounds they describe.'"
            ],
            "application/vnd.google.colaboratory.intrinsic+json": {
              "type": "string"
            }
          },
          "metadata": {},
          "execution_count": 36
        }
      ]
    },
    {
      "cell_type": "markdown",
      "source": [
        "#### RunnablePassthrough, RunnableLambda and RunnableParallel"
      ],
      "metadata": {
        "id": "CqJqREG-nexQ"
      },
      "id": "CqJqREG-nexQ"
    },
    {
      "cell_type": "code",
      "source": [
        "from langchain_core.runnables import RunnablePassthrough, RunnableLambda, RunnableParallel"
      ],
      "metadata": {
        "id": "TQmWRKl5nj7b"
      },
      "id": "TQmWRKl5nj7b",
      "execution_count": 37,
      "outputs": []
    },
    {
      "cell_type": "code",
      "source": [
        "chain = RunnablePassthrough()"
      ],
      "metadata": {
        "id": "IW50hOT3no21"
      },
      "id": "IW50hOT3no21",
      "execution_count": 38,
      "outputs": []
    },
    {
      "cell_type": "code",
      "source": [
        "chain.invoke(\"abcd\")"
      ],
      "metadata": {
        "colab": {
          "base_uri": "https://localhost:8080/",
          "height": 35
        },
        "id": "STvZboIinq_6",
        "outputId": "047b051e-195b-4d0a-a419-225e94edc8bf"
      },
      "id": "STvZboIinq_6",
      "execution_count": 39,
      "outputs": [
        {
          "output_type": "execute_result",
          "data": {
            "text/plain": [
              "'abcd'"
            ],
            "application/vnd.google.colaboratory.intrinsic+json": {
              "type": "string"
            }
          },
          "metadata": {},
          "execution_count": 39
        }
      ]
    },
    {
      "cell_type": "code",
      "source": [
        "def output_length(input: str):\n",
        "    output = len(input)\n",
        "    return output\n",
        "\n",
        "chain = RunnableLambda(output_length)\n",
        "chain.invoke(\"input to output\")"
      ],
      "metadata": {
        "colab": {
          "base_uri": "https://localhost:8080/"
        },
        "id": "nZXnAvjonrHc",
        "outputId": "5843744f-dde4-4c9f-8360-aa111df39cf3"
      },
      "id": "nZXnAvjonrHc",
      "execution_count": 40,
      "outputs": [
        {
          "output_type": "execute_result",
          "data": {
            "text/plain": [
              "15"
            ]
          },
          "metadata": {},
          "execution_count": 40
        }
      ]
    },
    {
      "cell_type": "code",
      "source": [
        "chain = RunnableParallel(text = RunnablePassthrough(), length = RunnableLambda(output_length))\n",
        "chain.invoke(\"i love my teacher Conchita\")"
      ],
      "metadata": {
        "colab": {
          "base_uri": "https://localhost:8080/"
        },
        "id": "C119HaGcnrLd",
        "outputId": "c17e0df9-e37d-4ba5-c77d-ed20c5b4add7"
      },
      "id": "C119HaGcnrLd",
      "execution_count": 41,
      "outputs": [
        {
          "output_type": "execute_result",
          "data": {
            "text/plain": [
              "{'text': 'i love my teacher Conchita', 'length': 26}"
            ]
          },
          "metadata": {},
          "execution_count": 41
        }
      ]
    },
    {
      "cell_type": "markdown",
      "source": [
        "#### Example"
      ],
      "metadata": {
        "id": "_G4eFPrQoP7w"
      },
      "id": "_G4eFPrQoP7w"
    },
    {
      "cell_type": "code",
      "source": [
        "from langchain import PromptTemplate\n",
        "from langchain_core.output_parsers import StrOutputParser\n",
        "\n",
        "explainer_template = PromptTemplate(\n",
        "    input_variables =[\"topic\"],\n",
        "    template = \"Explain this topic in a single paragraph as if you were explaining it to a 10 year old - {topic}.\"\n",
        ")\n",
        "\n",
        "llm = ChatGoogleGenerativeAI(model='gemini-1.5-flash')\n",
        "\n",
        "llm_chain = explainer_template | llm | StrOutputParser()\n",
        "llm_chain.invoke({\"topic\": \"Gravity\"})"
      ],
      "metadata": {
        "colab": {
          "base_uri": "https://localhost:8080/",
          "height": 122
        },
        "id": "eQDPjS2ooQpb",
        "outputId": "b016b6b9-d173-44fe-c611-dc94e610877d"
      },
      "id": "eQDPjS2ooQpb",
      "execution_count": 42,
      "outputs": [
        {
          "output_type": "execute_result",
          "data": {
            "text/plain": [
              "\"Imagine the Earth is a giant magnet, but instead of attracting metal, it attracts *everything*!  That's gravity!  It's an invisible force that pulls everything towards the center of the Earth, keeping us stuck to the ground and making things fall down.  The bigger something is, the stronger its gravity.  That's why the Earth pulls you down, but the Earth also pulls on the moon, keeping it circling around us!  Even you have a tiny bit of gravity – it's just too weak to notice.\""
            ],
            "application/vnd.google.colaboratory.intrinsic+json": {
              "type": "string"
            }
          },
          "metadata": {},
          "execution_count": 42
        }
      ]
    },
    {
      "cell_type": "code",
      "source": [
        "from langchain_google_genai import ChatGoogleGenerativeAI\n",
        "\n",
        "googlellm = ChatGoogleGenerativeAI(model=\"gemini-2.0-flash\")\n",
        "\n",
        "google_chain = explainer_template | googlellm | StrOutputParser()\n",
        "google_chain.invoke({\"topic\": \"Gravity\"})"
      ],
      "metadata": {
        "colab": {
          "base_uri": "https://localhost:8080/",
          "height": 105
        },
        "id": "HHpANUsxoz4s",
        "outputId": "d8438e97-8c7d-4419-b3c9-6693bc157991"
      },
      "id": "HHpANUsxoz4s",
      "execution_count": 43,
      "outputs": [
        {
          "output_type": "execute_result",
          "data": {
            "text/plain": [
              "\"Imagine everything in the universe has a superpower that pulls things towards it, like an invisible rope! That's gravity! Bigger things, like the Earth, have a stronger pull, so they keep us stuck to the ground. Gravity is why you don't float away, why apples fall from trees, and why the moon goes around the Earth instead of flying off into space. It's basically the force that keeps everything together!\""
            ],
            "application/vnd.google.colaboratory.intrinsic+json": {
              "type": "string"
            }
          },
          "metadata": {},
          "execution_count": 43
        }
      ]
    },
    {
      "cell_type": "code",
      "source": [
        "analyzer_template = PromptTemplate(\n",
        "    input_variables =[\"topic\", \"explanation1\", \"explanation2\"],\n",
        "    template = \"\"\"\n",
        "    Which of the two explanations given below are better for explaining {topic} to 10 year old students.\n",
        "    ###\n",
        "    Explanation 1 - {explanation1}\n",
        "    ###\n",
        "    ***\n",
        "    Explanation 2 - {explanation2}\n",
        "    ***\n",
        "    \"\"\"\n",
        ")\n",
        "\n",
        "combined_chain = (\n",
        "    RunnableParallel({\"explanation1\": llm_chain, \"explanation2\": google_chain, \"topic\": RunnablePassthrough()})\n",
        "    | analyzer_template | llm_chain | StrOutputParser()\n",
        ")\n",
        "\n",
        "combined_chain.invoke({\"topic\": \"Gravity\"})"
      ],
      "metadata": {
        "colab": {
          "base_uri": "https://localhost:8080/",
          "height": 122
        },
        "id": "poGi_1haolIT",
        "outputId": "76e355a4-2f30-48d0-84ae-14c587c8dd58"
      },
      "id": "poGi_1haolIT",
      "execution_count": 44,
      "outputs": [
        {
          "output_type": "execute_result",
          "data": {
            "text/plain": [
              "'Both explanations use good analogies to explain gravity, but Explanation 1 is better because it\\'s more precise.  It correctly explains that gravity is a force, not just an invisible string, and it clarifies that bigger things have stronger gravity because they have more mass.  While Explanation 2\\'s \"invisible string\" is a helpful image, it doesn\\'t fully explain *why* bigger things pull harder, making Explanation 1 the clearer and more accurate explanation for 10-year-olds.'"
            ],
            "application/vnd.google.colaboratory.intrinsic+json": {
              "type": "string"
            }
          },
          "metadata": {},
          "execution_count": 44
        }
      ]
    },
    {
      "cell_type": "code",
      "source": [
        "analyzer_chain = analyzer_template | googlellm | StrOutputParser()\n",
        "\n",
        "updated_chain = (\n",
        "    RunnableParallel({\"explanation1\": llm_chain, \"explanation2\": google_chain, \"topic\": RunnablePassthrough()})\n",
        "    | RunnableParallel({\"input\": RunnablePassthrough(), \"analysis\": analyzer_chain})\n",
        ")\n",
        "\n",
        "updated_chain.invoke({\"topic\": \"Gravity\"})"
      ],
      "metadata": {
        "colab": {
          "base_uri": "https://localhost:8080/"
        },
        "id": "mYkP3UIlpQA2",
        "outputId": "dddaa93b-94fa-498b-d0bb-2b48561c4a7c"
      },
      "id": "mYkP3UIlpQA2",
      "execution_count": 45,
      "outputs": [
        {
          "output_type": "execute_result",
          "data": {
            "text/plain": [
              "{'input': {'explanation1': \"Imagine the Earth is like a giant magnet, but instead of attracting metal, it attracts *everything*!  That's gravity!  It's an invisible force that pulls everything towards the center of the Earth, keeping you stuck to the ground and making things fall down.  The bigger something is, the stronger its gravity.  That's why the Earth pulls you down, but you don't pull the Earth up towards you – you're just much smaller!  Gravity also keeps the moon going around the Earth, and the Earth going around the sun. It's like an invisible string holding everything together in space!\",\n",
              "  'explanation2': 'Imagine everything has a tiny bit of stickiness pulling it towards everything else. That stickiness is gravity! Big things, like the Earth, have a LOT of stickiness, so they pull everything towards them really strongly. That\\'s why you stay on the ground instead of floating away, and why when you drop something, it falls down instead of up! The bigger something is, the more \"sticky\" it is, so it pulls harder. Even you have a tiny bit of gravity, but it\\'s so small you can\\'t feel it pulling anything!',\n",
              "  'topic': {'topic': 'Gravity'}},\n",
              " 'analysis': 'Both explanations are good, but Explanation 2 is slightly better for 10-year-olds for these reasons:\\n\\n*   **Simpler Analogy:** The \"stickiness\" analogy is more straightforward and easier to grasp than the \"giant magnet\" analogy. While many kids are familiar with magnets, it can be confusing to then say it attracts *everything* instead of just metal. The stickiness concept is more universally relatable.\\n*   **Focus on Universal Attraction:** Explanation 2 emphasizes that *everything* has gravity, even if it\\'s a tiny amount. This is a more accurate and fundamental concept of gravity. Explanation 1, while mentioning the size difference, doesn\\'t explicitly state that you also have gravity, just that it\\'s not strong enough to pull the Earth.\\n*   **Less Potential for Misconceptions:** The magnet analogy in Explanation 1 might lead to the misconception that gravity is a property of only certain objects (like magnets) or that the Earth is somehow magnetically charged. The stickiness analogy avoids this.\\n*   **Emphasis on relative strength:** Both mention the relationship between size and gravitational pull, but the stickiness analogy in explanation 2 may be easier for a 10 year old to understand.\\n\\n**In summary,** while both explanations are appropriate, the \"stickiness\" analogy in Explanation 2 is slightly more intuitive, accurate, and less prone to creating misconceptions for a 10-year-old audience.'}"
            ]
          },
          "metadata": {},
          "execution_count": 45
        }
      ]
    },
    {
      "cell_type": "code",
      "source": [
        "result = updated_chain.invoke({\"topic\": \"Gravity\"})\n",
        "# Access the 'copy_text' from the results\n",
        "print(result['analysis'])"
      ],
      "metadata": {
        "colab": {
          "base_uri": "https://localhost:8080/"
        },
        "id": "fT8NdD6VPTqi",
        "outputId": "c2410d57-6584-4da3-e0ab-885ebc78fc93"
      },
      "id": "fT8NdD6VPTqi",
      "execution_count": 46,
      "outputs": [
        {
          "output_type": "stream",
          "name": "stdout",
          "text": [
            "Both explanations are good and use age-appropriate analogies. However, here's a breakdown of why one might be slightly better:\n",
            "\n",
            "*   **Explanation 1 (Trampoline Analogy):** This explanation is slightly better because it provides a more visual and tangible analogy. The trampoline analogy helps kids understand that gravity isn't just a pull, but also a distortion of space (although you don't need to use those words with 10-year-olds). They can easily visualize objects sinking into the trampoline. This also subtly hints at the relationship between mass and gravity (heavier objects create a deeper \"sink\").\n",
            "\n",
            "*   **Explanation 2 (Invisible Rope Analogy):** This is a good analogy as well, but \"invisible rope\" isn't quite as intuitive or visually compelling as the trampoline. While it conveys the idea of a pulling force, it doesn't offer the same understanding of how mass influences gravity.\n",
            "\n",
            "**In summary:**\n",
            "\n",
            "Explanation 1 is slightly better because the trampoline analogy is more visually engaging and provides a more intuitive understanding of how mass affects gravity.\n"
          ]
        }
      ]
    },
    {
      "cell_type": "markdown",
      "source": [
        "#### Dynamic Routing"
      ],
      "metadata": {
        "id": "xzmRfdVMps4u"
      },
      "id": "xzmRfdVMps4u"
    },
    {
      "cell_type": "code",
      "source": [
        "from langchain_google_genai import ChatGoogleGenerativeAI\n",
        "from langchain_core.output_parsers import StrOutputParser\n",
        "from langchain import PromptTemplate\n",
        "\n",
        "classifier_template = PromptTemplate(\n",
        "    input_variables = [\"question\", \"answer\"],\n",
        "    template = \"\"\"You are given a question and the user's response to that question. Classify the response as either `Correct`, or `Incorrect`.\n",
        "    Do not respond with more than one word.\n",
        "    Question - {question}\n",
        "    User's Answer - {answer}\n",
        "    Classification:\"\"\"\n",
        ")\n",
        "\n",
        "llm = ChatGoogleGenerativeAI(model=\"gemini-2.0-flash\")\n",
        "\n",
        "output_parser = StrOutputParser()\n",
        "\n",
        "classifier_chain = classifier_template | llm | output_parser\n",
        "\n",
        "classifier_chain.invoke({\"question\": \"what are penguins\", \"answer\": \"Penguins are birds\"})"
      ],
      "metadata": {
        "colab": {
          "base_uri": "https://localhost:8080/",
          "height": 35
        },
        "id": "8GIqPioipt1x",
        "outputId": "5902b5a2-0d3a-4fa6-af65-296cc305e101"
      },
      "id": "8GIqPioipt1x",
      "execution_count": 47,
      "outputs": [
        {
          "output_type": "execute_result",
          "data": {
            "text/plain": [
              "'Correct'"
            ],
            "application/vnd.google.colaboratory.intrinsic+json": {
              "type": "string"
            }
          },
          "metadata": {},
          "execution_count": 47
        }
      ]
    },
    {
      "cell_type": "code",
      "source": [
        "correct_template = PromptTemplate(\n",
        "    input_variables = [\"question\"],\n",
        "    template = \"\"\"The user was asked the following question and user answered it correctly. Now ask a more difficult question on the same topic to the user.\n",
        "    Question: {question}\n",
        "    New Question:\"\"\"\n",
        ")\n",
        "\n",
        "correct_chain = correct_template | llm | output_parser\n",
        "\n",
        "incorrect_template = PromptTemplate(\n",
        "    input_variables = [\"question\"],\n",
        "    template = \"\"\"The user was asked the following question and user answered it incorrectly. Give the correct answer and explain it to the user.\n",
        "    Question: {question}\n",
        "    Correct Answer:\n",
        "    Explanation: \"\"\"\n",
        ")\n",
        "\n",
        "incorrect_chain = incorrect_template | llm | output_parser"
      ],
      "metadata": {
        "id": "K1gYdSlIqCo6"
      },
      "id": "K1gYdSlIqCo6",
      "execution_count": 48,
      "outputs": []
    },
    {
      "cell_type": "code",
      "source": [
        "def route(info):\n",
        "    if  info[\"result\"].lower() == \"correct\":\n",
        "        return correct_chain\n",
        "    elif info[\"result\"].lower() == \"incorrect\":\n",
        "        return incorrect_chain\n",
        "    else:\n",
        "        return \"Format is not correct\""
      ],
      "metadata": {
        "id": "sUkMVntsqGY_"
      },
      "id": "sUkMVntsqGY_",
      "execution_count": 49,
      "outputs": []
    },
    {
      "cell_type": "code",
      "source": [
        "from langchain_core.runnables import RunnableLambda, RunnableParallel, RunnablePassthrough\n",
        "\n",
        "\n",
        "final_chain = RunnableParallel({\"result\": classifier_chain, \"question\": lambda x: x[\"question\"], \"answer\": lambda x: x[\"answer\"]}) | RunnableParallel({\"response\":RunnableLambda(route), \"input\": RunnablePassthrough()})"
      ],
      "metadata": {
        "id": "loDE6vJTqKsQ"
      },
      "id": "loDE6vJTqKsQ",
      "execution_count": 50,
      "outputs": []
    },
    {
      "cell_type": "code",
      "source": [
        "final_chain.invoke({\"question\": \"what are penguins\", \"answer\": \"Penguins are sea animals\"})"
      ],
      "metadata": {
        "colab": {
          "base_uri": "https://localhost:8080/"
        },
        "id": "121C_xnAqNT-",
        "outputId": "f9f67e2c-b647-4b57-8bda-0ec0eedd2898"
      },
      "id": "121C_xnAqNT-",
      "execution_count": 51,
      "outputs": [
        {
          "output_type": "execute_result",
          "data": {
            "text/plain": [
              "{'response': \"Okay, since you know what penguins are, let's delve a little deeper.\\n\\n**New Question:** Beyond their physical adaptations for cold environments and aquatic life, what are some *behavioral* adaptations penguins have developed to survive and thrive in their challenging habitats, and how do these behaviors contribute to their overall success?\",\n",
              " 'input': {'result': 'Correct',\n",
              "  'question': 'what are penguins',\n",
              "  'answer': 'Penguins are sea animals'}}"
            ]
          },
          "metadata": {},
          "execution_count": 51
        }
      ]
    },
    {
      "cell_type": "code",
      "source": [
        "final_chain.invoke({\"question\": \"what are SQL joins\", \"answer\": \"SQL joins are operations used to combine rows from two or more tables based on a related column\"})"
      ],
      "metadata": {
        "colab": {
          "base_uri": "https://localhost:8080/"
        },
        "id": "PMl8shXaqNgV",
        "outputId": "60a464f1-74a5-4921-c143-dd97ed80acc3"
      },
      "id": "PMl8shXaqNgV",
      "execution_count": 52,
      "outputs": [
        {
          "output_type": "execute_result",
          "data": {
            "text/plain": [
              "{'response': \"Okay, great! You understand the basics of SQL joins.\\n\\nLet's delve a bit deeper:\\n\\n**Question:**\\n\\nDescribe the key differences in terms of performance and use cases between using a `LEFT JOIN` with a `WHERE` clause that filters on the *right* table's columns *versus* using an `INNER JOIN` with the same filtering criteria applied to the *left* table's columns.  Explain why one approach might be significantly more efficient than the other in specific scenarios. Provide a brief example to illustrate your point.\",\n",
              " 'input': {'result': 'Correct',\n",
              "  'question': 'what are SQL joins',\n",
              "  'answer': 'SQL joins are operations used to combine rows from two or more tables based on a related column'}}"
            ]
          },
          "metadata": {},
          "execution_count": 52
        }
      ]
    },
    {
      "cell_type": "markdown",
      "source": [
        "### Output Parsing"
      ],
      "metadata": {
        "id": "zBaqwffPrChv"
      },
      "id": "zBaqwffPrChv"
    },
    {
      "cell_type": "markdown",
      "source": [
        "#### StrOutputParser()"
      ],
      "metadata": {
        "id": "_PBNjRcFrC8z"
      },
      "id": "_PBNjRcFrC8z"
    },
    {
      "cell_type": "code",
      "source": [
        "from langchain import PromptTemplate\n",
        "from langchain_google_genai import ChatGoogleGenerativeAI\n",
        "\n",
        "dictionary_template = PromptTemplate(\n",
        "    input_variables =[\"word\"],\n",
        "    template = \"Give me a one line definition of {word}. Response should not contain the word itself, only the meaning.\"\n",
        ")\n",
        "\n",
        "llm = ChatGoogleGenerativeAI(model=\"gemini-2.0-flash\")\n",
        "\n",
        "chain = dictionary_template | llm\n",
        "chain.invoke(\"Onomatopoeia\")"
      ],
      "metadata": {
        "colab": {
          "base_uri": "https://localhost:8080/"
        },
        "id": "g62zwpMArFqK",
        "outputId": "3b59f0b8-202e-48ed-cb2a-26be509a5fd1"
      },
      "id": "g62zwpMArFqK",
      "execution_count": 53,
      "outputs": [
        {
          "output_type": "execute_result",
          "data": {
            "text/plain": [
              "AIMessage(content='Words that imitate or suggest the sounds they describe.', additional_kwargs={}, response_metadata={'prompt_feedback': {'block_reason': 0, 'safety_ratings': []}, 'finish_reason': 'STOP', 'model_name': 'gemini-2.0-flash', 'safety_ratings': []}, id='run--864ee588-58e4-4f56-8a83-cb9d553c8f6a-0', usage_metadata={'input_tokens': 24, 'output_tokens': 11, 'total_tokens': 35, 'input_token_details': {'cache_read': 0}})"
            ]
          },
          "metadata": {},
          "execution_count": 53
        }
      ]
    },
    {
      "cell_type": "code",
      "source": [
        "from langchain import PromptTemplate\n",
        "from langchain_google_genai import ChatGoogleGenerativeAI\n",
        "\n",
        "from langchain_core.output_parsers import StrOutputParser\n",
        "\n",
        "dictionary_template = PromptTemplate(\n",
        "    input_variables =[\"word\"],\n",
        "    template = \"Give me a one line definition of {word}. Response should not contain the word itself, only the meaning.\"\n",
        ")\n",
        "\n",
        "llm = ChatGoogleGenerativeAI(model=\"gemini-2.0-flash\")\n",
        "\n",
        "chain = dictionary_template | llm | StrOutputParser()\n",
        "chain.invoke(\"Onomatopoeia\")"
      ],
      "metadata": {
        "colab": {
          "base_uri": "https://localhost:8080/",
          "height": 35
        },
        "id": "KRzgQ-ytrSuU",
        "outputId": "39173d7f-2e31-49be-b870-fcc8a3eafbc6"
      },
      "id": "KRzgQ-ytrSuU",
      "execution_count": 54,
      "outputs": [
        {
          "output_type": "execute_result",
          "data": {
            "text/plain": [
              "'Words that imitate the sounds they represent.'"
            ],
            "application/vnd.google.colaboratory.intrinsic+json": {
              "type": "string"
            }
          },
          "metadata": {},
          "execution_count": 54
        }
      ]
    },
    {
      "cell_type": "markdown",
      "source": [
        "#### StructuredOutputParser - Output as a specified Schema"
      ],
      "metadata": {
        "id": "AR5Z1W-qrdla"
      },
      "id": "AR5Z1W-qrdla"
    },
    {
      "cell_type": "code",
      "source": [
        "from langchain.output_parsers import StructuredOutputParser, ResponseSchema\n",
        "from langchain_core.prompts import PromptTemplate\n",
        "from langchain_google_genai import ChatGoogleGenerativeAI\n",
        "\n",
        "chat_model = ChatGoogleGenerativeAI(model=\"gemini-2.0-flash\")\n",
        "\n",
        "response_schemas = [\n",
        "    ResponseSchema(name=\"word\", description=\"word entered by user\"),\n",
        "    ResponseSchema(name=\"meaning\", description=\"One line meaning of the word given by user\"),\n",
        "    ResponseSchema(name=\"example\", description=\"An example of how that word can be used in a line\"),\n",
        "    ResponseSchema(name=\"Etymology\", description=\"Origin or history of the word\")\n",
        "]\n",
        "output_parser = StructuredOutputParser.from_response_schemas(response_schemas)\n",
        "format_instructions = output_parser.get_format_instructions()\n",
        "\n",
        "print(format_instructions)"
      ],
      "metadata": {
        "colab": {
          "base_uri": "https://localhost:8080/"
        },
        "id": "gPL2uJJ_reCE",
        "outputId": "5d259c18-a6fc-44e2-a56d-919f15605f49"
      },
      "id": "gPL2uJJ_reCE",
      "execution_count": 55,
      "outputs": [
        {
          "output_type": "stream",
          "name": "stdout",
          "text": [
            "The output should be a markdown code snippet formatted in the following schema, including the leading and trailing \"```json\" and \"```\":\n",
            "\n",
            "```json\n",
            "{\n",
            "\t\"word\": string  // word entered by user\n",
            "\t\"meaning\": string  // One line meaning of the word given by user\n",
            "\t\"example\": string  // An example of how that word can be used in a line\n",
            "\t\"Etymology\": string  // Origin or history of the word\n",
            "}\n",
            "```\n"
          ]
        }
      ]
    },
    {
      "cell_type": "code",
      "source": [
        "prompt = PromptTemplate(\n",
        "    template=\"Provide the meaning, an example of how the word is used in a sentence and the etymology of this word: {word}.\\n{format_instructions}\",\n",
        "    input_variables=[\"word\"],\n",
        "    partial_variables={\"format_instructions\": format_instructions}\n",
        ")\n",
        "\n",
        "chain = prompt | chat_model | output_parser\n",
        "\n",
        "chain.invoke(\"Onomatopoeia\")"
      ],
      "metadata": {
        "colab": {
          "base_uri": "https://localhost:8080/"
        },
        "id": "TMAFhD6rrpQi",
        "outputId": "20c4d6cd-72ca-423c-9056-1047dcdba84c"
      },
      "id": "TMAFhD6rrpQi",
      "execution_count": 56,
      "outputs": [
        {
          "output_type": "execute_result",
          "data": {
            "text/plain": [
              "{'word': 'Onomatopoeia',\n",
              " 'meaning': 'The formation of a word from a sound associated with what is named.',\n",
              " 'example': 'The buzzing of the bee is a classic example of onomatopoeia.',\n",
              " 'Etymology': \"From Greek onomatopoiia, from onoma 'name' + poiein 'to make'.\"}"
            ]
          },
          "metadata": {},
          "execution_count": 56
        }
      ]
    },
    {
      "cell_type": "markdown",
      "source": [
        "#### Comma separated list"
      ],
      "metadata": {
        "id": "z2LFJKaCr7WM"
      },
      "id": "z2LFJKaCr7WM"
    },
    {
      "cell_type": "code",
      "source": [
        "from langchain.output_parsers import CommaSeparatedListOutputParser\n",
        "from langchain_core.prompts import PromptTemplate\n",
        "from langchain_google_genai import ChatGoogleGenerativeAI\n",
        "from langchain_core.output_parsers import StrOutputParser\n",
        "\n",
        "output_parser = CommaSeparatedListOutputParser()\n",
        "\n",
        "format_instructions = output_parser.get_format_instructions()\n",
        "prompt = PromptTemplate(\n",
        "    template=\"List five {topic}.\\n{format_instructions}\",\n",
        "    input_variables=[\"topic\"],\n",
        "    partial_variables={\"format_instructions\": format_instructions},\n",
        ")\n",
        "\n",
        "model = ChatGoogleGenerativeAI(model=\"gemini-2.0-flash\")\n",
        "\n",
        "chain = prompt | model | output_parser"
      ],
      "metadata": {
        "id": "_Lumr-dUr7y_"
      },
      "id": "_Lumr-dUr7y_",
      "execution_count": 57,
      "outputs": []
    },
    {
      "cell_type": "code",
      "source": [
        "print(format_instructions)"
      ],
      "metadata": {
        "colab": {
          "base_uri": "https://localhost:8080/"
        },
        "id": "iZSFRCgFsPUu",
        "outputId": "c001da00-f9e8-425a-8751-64b78c4141f2"
      },
      "id": "iZSFRCgFsPUu",
      "execution_count": 58,
      "outputs": [
        {
          "output_type": "stream",
          "name": "stdout",
          "text": [
            "Your response should be a list of comma separated values, eg: `foo, bar, baz` or `foo,bar,baz`\n"
          ]
        }
      ]
    },
    {
      "cell_type": "code",
      "source": [
        "chain.invoke({\"topic\": \"healthy foods\"})"
      ],
      "metadata": {
        "colab": {
          "base_uri": "https://localhost:8080/"
        },
        "id": "k3cTq5cPsPuT",
        "outputId": "ac04ac80-b474-410b-ce15-5f28a34327f5"
      },
      "id": "k3cTq5cPsPuT",
      "execution_count": 59,
      "outputs": [
        {
          "output_type": "execute_result",
          "data": {
            "text/plain": [
              "['Apples', 'broccoli', 'salmon', 'quinoa', 'blueberries']"
            ]
          },
          "metadata": {},
          "execution_count": 59
        }
      ]
    },
    {
      "cell_type": "markdown",
      "source": [
        "#### Date Time Parser"
      ],
      "metadata": {
        "id": "Fe8zjb-MsrRg"
      },
      "id": "Fe8zjb-MsrRg"
    },
    {
      "cell_type": "code",
      "source": [
        "from langchain.output_parsers import DatetimeOutputParser\n",
        "from langchain_core.prompts import PromptTemplate\n",
        "from langchain_google_genai import ChatGoogleGenerativeAI\n",
        "\n",
        "chat_model = ChatGoogleGenerativeAI(model=\"gemini-2.0-flash\")\n",
        "\n",
        "output_parser = DatetimeOutputParser()\n",
        "template = \"\"\"Answer the users question:\n",
        "\n",
        "{question}\n",
        "\n",
        "{format_instructions}\"\"\"\n",
        "prompt = PromptTemplate.from_template(\n",
        "    template,\n",
        "    partial_variables={\"format_instructions\": output_parser.get_format_instructions()},\n",
        ")"
      ],
      "metadata": {
        "id": "WyLidPITsr3D"
      },
      "id": "WyLidPITsr3D",
      "execution_count": 60,
      "outputs": []
    },
    {
      "cell_type": "code",
      "source": [
        "prompt"
      ],
      "metadata": {
        "colab": {
          "base_uri": "https://localhost:8080/"
        },
        "id": "8T4Ffewos6B8",
        "outputId": "75a3315f-d461-4402-f2c4-56870e772a0d"
      },
      "id": "8T4Ffewos6B8",
      "execution_count": 61,
      "outputs": [
        {
          "output_type": "execute_result",
          "data": {
            "text/plain": [
              "PromptTemplate(input_variables=['question'], input_types={}, partial_variables={'format_instructions': \"Write a datetime string that matches the following pattern: '%Y-%m-%dT%H:%M:%S.%fZ'.\\n\\nExamples: 1169-12-22T16:49:36.485008Z, 1059-10-06T19:39:03.639393Z, 1701-12-15T00:09:18.011909Z\\n\\nReturn ONLY this string, no other words!\"}, template='Answer the users question:\\n\\n{question}\\n\\n{format_instructions}')"
            ]
          },
          "metadata": {},
          "execution_count": 61
        }
      ]
    },
    {
      "cell_type": "code",
      "source": [
        "chain = prompt | chat_model | output_parser"
      ],
      "metadata": {
        "id": "ASykFrKRs82y"
      },
      "id": "ASykFrKRs82y",
      "execution_count": 62,
      "outputs": []
    },
    {
      "cell_type": "code",
      "source": [
        "output = chain.invoke({\"question\": \"When did India get independence?\"})\n",
        "print(output)"
      ],
      "metadata": {
        "colab": {
          "base_uri": "https://localhost:8080/"
        },
        "id": "IzHUBzm3s_4A",
        "outputId": "789b23ed-0d7a-4e29-d2b6-20a8f961309f"
      },
      "id": "IzHUBzm3s_4A",
      "execution_count": 63,
      "outputs": [
        {
          "output_type": "stream",
          "name": "stdout",
          "text": [
            "1947-08-15 00:00:00\n"
          ]
        }
      ]
    },
    {
      "cell_type": "markdown",
      "source": [
        "## Memory"
      ],
      "metadata": {
        "id": "QcUcTv8wtBPh"
      },
      "id": "QcUcTv8wtBPh"
    },
    {
      "cell_type": "code",
      "source": [
        "from langchain import PromptTemplate\n",
        "from langchain_google_genai import ChatGoogleGenerativeAI\n",
        "from langchain.chains import LLMChain\n",
        "from langchain.memory import ConversationBufferMemory\n",
        "\n",
        "prompt_template = PromptTemplate(\n",
        "    input_variables =[\"history\", \"new_input\"],\n",
        "    template = \"\"\"You are having a chat with a human.\n",
        "    previous chat: {history}\n",
        "    Human: {new_input}\n",
        "    Assistant: \"\"\"\n",
        ")\n",
        "\n",
        "memory = ConversationBufferMemory()\n",
        "\n",
        "\n",
        "llm = ChatGoogleGenerativeAI(model=\"gemini-2.0-flash\")\n",
        "\n",
        "chain = LLMChain(llm=llm, prompt=prompt_template, memory = memory, verbose=True)\n",
        "\n",
        "chain.invoke({\"new_input\": \"Which country is the biggest exporter of cotton?\"})"
      ],
      "metadata": {
        "colab": {
          "base_uri": "https://localhost:8080/"
        },
        "id": "95ot4EwRtEs8",
        "outputId": "9f00412c-c5d3-40ae-faed-9016e813a0b6"
      },
      "id": "95ot4EwRtEs8",
      "execution_count": 64,
      "outputs": [
        {
          "output_type": "stream",
          "name": "stderr",
          "text": [
            "<ipython-input-64-328bc8ba7278>:14: LangChainDeprecationWarning: Please see the migration guide at: https://python.langchain.com/docs/versions/migrating_memory/\n",
            "  memory = ConversationBufferMemory()\n"
          ]
        },
        {
          "output_type": "stream",
          "name": "stdout",
          "text": [
            "\n",
            "\n",
            "\u001b[1m> Entering new LLMChain chain...\u001b[0m\n",
            "Prompt after formatting:\n",
            "\u001b[32;1m\u001b[1;3mYou are having a chat with a human.\n",
            "    previous chat: \n",
            "    Human: Which country is the biggest exporter of cotton?\n",
            "    Assistant: \u001b[0m\n",
            "\n",
            "\u001b[1m> Finished chain.\u001b[0m\n"
          ]
        },
        {
          "output_type": "execute_result",
          "data": {
            "text/plain": [
              "{'new_input': 'Which country is the biggest exporter of cotton?',\n",
              " 'history': '',\n",
              " 'text': 'The United States.'}"
            ]
          },
          "metadata": {},
          "execution_count": 64
        }
      ]
    },
    {
      "cell_type": "code",
      "source": [
        "chain.invoke({\"new_input\": \"What is the total value of cotton exports of this country\"})"
      ],
      "metadata": {
        "colab": {
          "base_uri": "https://localhost:8080/"
        },
        "id": "4FGCtw5ct4W_",
        "outputId": "8b014e48-b728-4a34-a96b-acd75c6aabea"
      },
      "id": "4FGCtw5ct4W_",
      "execution_count": 65,
      "outputs": [
        {
          "output_type": "stream",
          "name": "stdout",
          "text": [
            "\n",
            "\n",
            "\u001b[1m> Entering new LLMChain chain...\u001b[0m\n",
            "Prompt after formatting:\n",
            "\u001b[32;1m\u001b[1;3mYou are having a chat with a human.\n",
            "    previous chat: Human: Which country is the biggest exporter of cotton?\n",
            "AI: The United States.\n",
            "    Human: What is the total value of cotton exports of this country\n",
            "    Assistant: \u001b[0m\n",
            "\n",
            "\u001b[1m> Finished chain.\u001b[0m\n"
          ]
        },
        {
          "output_type": "execute_result",
          "data": {
            "text/plain": [
              "{'new_input': 'What is the total value of cotton exports of this country',\n",
              " 'history': 'Human: Which country is the biggest exporter of cotton?\\nAI: The United States.',\n",
              " 'text': 'That information changes from year to year. According to the USDA, in 2023/2024 the United States is expected to export $7.3 billion worth of cotton.'}"
            ]
          },
          "metadata": {},
          "execution_count": 65
        }
      ]
    },
    {
      "cell_type": "markdown",
      "source": [
        "# RAG"
      ],
      "metadata": {
        "id": "a1Qzx7dqtKIy"
      },
      "id": "a1Qzx7dqtKIy"
    },
    {
      "cell_type": "markdown",
      "source": [
        "### Document Loading"
      ],
      "metadata": {
        "id": "Y3Tlgwc6tLgA"
      },
      "id": "Y3Tlgwc6tLgA"
    },
    {
      "cell_type": "markdown",
      "source": [
        "#### Text"
      ],
      "metadata": {
        "id": "poD-U6AktOp3"
      },
      "id": "poD-U6AktOp3"
    },
    {
      "cell_type": "code",
      "source": [
        "from langchain_community.document_loaders import TextLoader\n",
        "\n",
        "loader = TextLoader(\"LangchainRetrieval.txt\")\n",
        "loader.load()"
      ],
      "metadata": {
        "colab": {
          "base_uri": "https://localhost:8080/"
        },
        "id": "hep1S4oftSX3",
        "outputId": "6d357386-568d-450b-e54c-22b1bd44da19"
      },
      "id": "hep1S4oftSX3",
      "execution_count": 66,
      "outputs": [
        {
          "output_type": "execute_result",
          "data": {
            "text/plain": [
              "[Document(metadata={'source': 'LangchainRetrieval.txt'}, page_content=\"Retrieval\\nMany LLM applications require user-specific data that is not part of the model's training set. The primary way of accomplishing this is through Retrieval Augmented Generation (RAG). In this process, external data is retrieved and then passed to the LLM when doing the generation step.\\n\\nLangChain provides all the building blocks for RAG applications - from simple to complex. This section of the documentation covers everything related to the retrieval step - e.g. the fetching of the data. Although this sounds simple, it can be subtly complex. This encompasses several key modules.\\n\\nIllustrative diagram showing the data connection process with steps: Source, Load, Transform, Embed, Store, and Retrieve.\\n\\nDocument loaders\\nDocument loaders load documents from many different sources. LangChain provides over 100 different document loaders as well as integrations with other major providers in the space, like AirByte and Unstructured. LangChain provides integrations to load all types of documents (HTML, PDF, code) from all types of locations (private S3 buckets, public websites).\\n\\nText Splitting\\nA key part of retrieval is fetching only the relevant parts of documents. This involves several transformation steps to prepare the documents for retrieval. One of the primary ones here is splitting (or chunking) a large document into smaller chunks. LangChain provides several transformation algorithms for doing this, as well as logic optimized for specific document types (code, markdown, etc).\\n\\nText embedding models\\nAnother key part of retrieval is creating embeddings for documents. Embeddings capture the semantic meaning of the text, allowing you to quickly and efficiently find other pieces of a text that are similar. LangChain provides integrations with over 25 different embedding providers and methods, from open-source to proprietary API, allowing you to choose the one best suited for your needs. LangChain provides a standard interface, allowing you to easily swap between models.\\n\\nVector stores\\nWith the rise of embeddings, there has emerged a need for databases to support efficient storage and searching of these embeddings. LangChain provides integrations with over 50 different vectorstores, from open-source local ones to cloud-hosted proprietary ones, allowing you to choose the one best suited for your needs. LangChain exposes a standard interface, allowing you to easily swap between vector stores.\\n\\nRetrievers\\nOnce the data is in the database, you still need to retrieve it. LangChain supports many different retrieval algorithms and is one of the places where we add the most value. LangChain supports basic methods that are easy to get started - namely simple semantic search. However, we have also added a collection of algorithms on top of this to increase performance. These include:\\n\\nParent Document Retriever: This allows you to create multiple embeddings per parent document, allowing you to look up smaller chunks but return larger context.\\nSelf Query Retriever: User questions often contain a reference to something that isn't just semantic but rather expresses some logic that can best be represented as a metadata filter. Self-query allows you to parse out the semantic part of a query from other metadata filters present in the query.\\nEnsemble Retriever: Sometimes you may want to retrieve documents from multiple different sources, or using multiple different algorithms. The ensemble retriever allows you to easily do this.\\nAnd more!\\nIndexing\\nThe LangChain Indexing API syncs your data from any source into a vector store, helping you:\\n\\nAvoid writing duplicated content into the vector store\\nAvoid re-writing unchanged content\\nAvoid re-computing embeddings over unchanged content\\nAll of which should save you time and money, as well as improve your vector search results.\")]"
            ]
          },
          "metadata": {},
          "execution_count": 66
        }
      ]
    },
    {
      "cell_type": "code",
      "source": [
        "pip install pypdf"
      ],
      "metadata": {
        "colab": {
          "base_uri": "https://localhost:8080/"
        },
        "id": "iwW-JgwwuHlA",
        "outputId": "74c1fed3-28c7-483f-c796-bb6083d0dd2d"
      },
      "id": "iwW-JgwwuHlA",
      "execution_count": 67,
      "outputs": [
        {
          "output_type": "stream",
          "name": "stdout",
          "text": [
            "Collecting pypdf\n",
            "  Downloading pypdf-5.4.0-py3-none-any.whl.metadata (7.3 kB)\n",
            "Downloading pypdf-5.4.0-py3-none-any.whl (302 kB)\n",
            "\u001b[?25l   \u001b[90m━━━━━━━━━━━━━━━━━━━━━━━━━━━━━━━━━━━━━━━━\u001b[0m \u001b[32m0.0/302.3 kB\u001b[0m \u001b[31m?\u001b[0m eta \u001b[36m-:--:--\u001b[0m\r\u001b[2K   \u001b[91m━━━━━━━━━━━━━━━━━━━━━━━━━━━━━━━━━━━━━\u001b[0m\u001b[91m╸\u001b[0m\u001b[90m━━\u001b[0m \u001b[32m286.7/302.3 kB\u001b[0m \u001b[31m8.9 MB/s\u001b[0m eta \u001b[36m0:00:01\u001b[0m\r\u001b[2K   \u001b[90m━━━━━━━━━━━━━━━━━━━━━━━━━━━━━━━━━━━━━━━━\u001b[0m \u001b[32m302.3/302.3 kB\u001b[0m \u001b[31m6.1 MB/s\u001b[0m eta \u001b[36m0:00:00\u001b[0m\n",
            "\u001b[?25hInstalling collected packages: pypdf\n",
            "Successfully installed pypdf-5.4.0\n"
          ]
        }
      ]
    },
    {
      "cell_type": "code",
      "source": [
        "from langchain_community.document_loaders import PyPDFLoader\n",
        "\n",
        "loader = PyPDFLoader(\"Excel+Course+Document.pdf\")\n",
        "pages = loader.load_and_split()"
      ],
      "metadata": {
        "id": "mdMYoA-RuIfL"
      },
      "id": "mdMYoA-RuIfL",
      "execution_count": null,
      "outputs": []
    },
    {
      "cell_type": "code",
      "source": [
        "pages[1]"
      ],
      "metadata": {
        "colab": {
          "base_uri": "https://localhost:8080/"
        },
        "id": "IImKLjNMuSxu",
        "outputId": "8442b91c-e961-4c16-e3c8-c00d57fc9a13"
      },
      "id": "IImKLjNMuSxu",
      "execution_count": null,
      "outputs": [
        {
          "output_type": "execute_result",
          "data": {
            "text/plain": [
              "Document(metadata={'producer': 'Skia/PDF m119 Google Docs Renderer', 'creator': 'PyPDF', 'creationdate': '', 'title': 'Excel Course Document', 'source': 'Excel+Course+Document.pdf', 'total_pages': 8, 'page': 1, 'page_label': '2'}, page_content=\"Whatyou'll learn\\n● ABeginner'sGuidetoMicrosoftExcel-MicrosoftExcel,LearnExcel,Spreadsheets,Formulas,Shortcuts,Macros● KnowledgeofalltheessentialExcelformulas● BecomeproﬁcientinExceldatatoolslikeSorting,Filtering,DatavalidationsandDataimporting● MasterExcel'smostpopularlookupfunctionssuchasVlookup,Hlookup,IndexandMatch● HarnessfullpotentialofExcelbycreatingPivottableswithslicers● MakegreatpresentationsusingtheConditionalandTableformattingoptions● VisuallyenchantviewersusingBarcharts,ScatterPlots,Histogramsetc.● IncreaseyourefﬁciencybylearninghowtocreateanduseimportantExcelshortcuts● ExplorefunandexcitingusecasesofExcel\\nRequirements\\nYouwillneedaPCwithanyversionofExcelinstalledinit\\nWhothiscourseisfor\\nAnyonecurioustomasterExcelfrombeginnertoAdvancedinashortspanoftime\\n1\")"
            ]
          },
          "metadata": {},
          "execution_count": 8
        }
      ]
    },
    {
      "cell_type": "code",
      "source": [
        "from langchain_community.document_loaders import DirectoryLoader\n",
        "\n",
        "loader = DirectoryLoader('./RAG/', glob=\"**/*.txt\")"
      ],
      "metadata": {
        "id": "wDlzBu5yuZN7"
      },
      "id": "wDlzBu5yuZN7",
      "execution_count": null,
      "outputs": []
    },
    {
      "cell_type": "code",
      "source": [
        "!pip install unstructured"
      ],
      "metadata": {
        "colab": {
          "base_uri": "https://localhost:8080/"
        },
        "id": "ssk_Et2lvKmv",
        "outputId": "65737e00-08be-4193-d39e-4686706c8505"
      },
      "id": "ssk_Et2lvKmv",
      "execution_count": 68,
      "outputs": [
        {
          "output_type": "stream",
          "name": "stdout",
          "text": [
            "Collecting unstructured\n",
            "  Downloading unstructured-0.17.2-py3-none-any.whl.metadata (24 kB)\n",
            "Requirement already satisfied: chardet in /usr/local/lib/python3.11/dist-packages (from unstructured) (5.2.0)\n",
            "Requirement already satisfied: filetype in /usr/local/lib/python3.11/dist-packages (from unstructured) (1.2.0)\n",
            "Collecting python-magic (from unstructured)\n",
            "  Downloading python_magic-0.4.27-py2.py3-none-any.whl.metadata (5.8 kB)\n",
            "Requirement already satisfied: lxml in /usr/local/lib/python3.11/dist-packages (from unstructured) (5.3.1)\n",
            "Requirement already satisfied: nltk in /usr/local/lib/python3.11/dist-packages (from unstructured) (3.9.1)\n",
            "Requirement already satisfied: requests in /usr/local/lib/python3.11/dist-packages (from unstructured) (2.32.3)\n",
            "Requirement already satisfied: beautifulsoup4 in /usr/local/lib/python3.11/dist-packages (from unstructured) (4.13.3)\n",
            "Collecting emoji (from unstructured)\n",
            "  Downloading emoji-2.14.1-py3-none-any.whl.metadata (5.7 kB)\n",
            "Requirement already satisfied: dataclasses-json in /usr/local/lib/python3.11/dist-packages (from unstructured) (0.6.7)\n",
            "Collecting python-iso639 (from unstructured)\n",
            "  Downloading python_iso639-2025.2.18-py3-none-any.whl.metadata (14 kB)\n",
            "Collecting langdetect (from unstructured)\n",
            "  Downloading langdetect-1.0.9.tar.gz (981 kB)\n",
            "\u001b[2K     \u001b[90m━━━━━━━━━━━━━━━━━━━━━━━━━━━━━━━━━━━━━━━━\u001b[0m \u001b[32m981.5/981.5 kB\u001b[0m \u001b[31m15.9 MB/s\u001b[0m eta \u001b[36m0:00:00\u001b[0m\n",
            "\u001b[?25h  Preparing metadata (setup.py) ... \u001b[?25l\u001b[?25hdone\n",
            "Requirement already satisfied: numpy in /usr/local/lib/python3.11/dist-packages (from unstructured) (1.26.4)\n",
            "Collecting rapidfuzz (from unstructured)\n",
            "  Downloading rapidfuzz-3.13.0-cp311-cp311-manylinux_2_17_x86_64.manylinux2014_x86_64.whl.metadata (12 kB)\n",
            "Collecting backoff (from unstructured)\n",
            "  Downloading backoff-2.2.1-py3-none-any.whl.metadata (14 kB)\n",
            "Requirement already satisfied: typing-extensions in /usr/local/lib/python3.11/dist-packages (from unstructured) (4.12.2)\n",
            "Collecting unstructured-client (from unstructured)\n",
            "  Downloading unstructured_client-0.34.0-py3-none-any.whl.metadata (21 kB)\n",
            "Requirement already satisfied: wrapt in /usr/local/lib/python3.11/dist-packages (from unstructured) (1.17.2)\n",
            "Requirement already satisfied: tqdm in /usr/local/lib/python3.11/dist-packages (from unstructured) (4.67.1)\n",
            "Requirement already satisfied: psutil in /usr/local/lib/python3.11/dist-packages (from unstructured) (5.9.5)\n",
            "Collecting python-oxmsg (from unstructured)\n",
            "  Downloading python_oxmsg-0.0.2-py3-none-any.whl.metadata (5.0 kB)\n",
            "Requirement already satisfied: html5lib in /usr/local/lib/python3.11/dist-packages (from unstructured) (1.1)\n",
            "Requirement already satisfied: soupsieve>1.2 in /usr/local/lib/python3.11/dist-packages (from beautifulsoup4->unstructured) (2.6)\n",
            "Requirement already satisfied: marshmallow<4.0.0,>=3.18.0 in /usr/local/lib/python3.11/dist-packages (from dataclasses-json->unstructured) (3.26.1)\n",
            "Requirement already satisfied: typing-inspect<1,>=0.4.0 in /usr/local/lib/python3.11/dist-packages (from dataclasses-json->unstructured) (0.9.0)\n",
            "Requirement already satisfied: six>=1.9 in /usr/local/lib/python3.11/dist-packages (from html5lib->unstructured) (1.17.0)\n",
            "Requirement already satisfied: webencodings in /usr/local/lib/python3.11/dist-packages (from html5lib->unstructured) (0.5.1)\n",
            "Requirement already satisfied: click in /usr/local/lib/python3.11/dist-packages (from nltk->unstructured) (8.1.8)\n",
            "Requirement already satisfied: joblib in /usr/local/lib/python3.11/dist-packages (from nltk->unstructured) (1.4.2)\n",
            "Requirement already satisfied: regex>=2021.8.3 in /usr/local/lib/python3.11/dist-packages (from nltk->unstructured) (2024.11.6)\n",
            "Collecting olefile (from python-oxmsg->unstructured)\n",
            "  Downloading olefile-0.47-py2.py3-none-any.whl.metadata (9.7 kB)\n",
            "Requirement already satisfied: charset-normalizer<4,>=2 in /usr/local/lib/python3.11/dist-packages (from requests->unstructured) (3.4.1)\n",
            "Requirement already satisfied: idna<4,>=2.5 in /usr/local/lib/python3.11/dist-packages (from requests->unstructured) (3.10)\n",
            "Requirement already satisfied: urllib3<3,>=1.21.1 in /usr/local/lib/python3.11/dist-packages (from requests->unstructured) (2.3.0)\n",
            "Requirement already satisfied: certifi>=2017.4.17 in /usr/local/lib/python3.11/dist-packages (from requests->unstructured) (2025.1.31)\n",
            "Collecting aiofiles>=24.1.0 (from unstructured-client->unstructured)\n",
            "  Downloading aiofiles-24.1.0-py3-none-any.whl.metadata (10 kB)\n",
            "Requirement already satisfied: cryptography>=3.1 in /usr/local/lib/python3.11/dist-packages (from unstructured-client->unstructured) (43.0.3)\n",
            "Collecting eval-type-backport>=0.2.0 (from unstructured-client->unstructured)\n",
            "  Downloading eval_type_backport-0.2.2-py3-none-any.whl.metadata (2.2 kB)\n",
            "Requirement already satisfied: httpx>=0.27.0 in /usr/local/lib/python3.11/dist-packages (from unstructured-client->unstructured) (0.28.1)\n",
            "Requirement already satisfied: nest-asyncio>=1.6.0 in /usr/local/lib/python3.11/dist-packages (from unstructured-client->unstructured) (1.6.0)\n",
            "Collecting pydantic>=2.11.2 (from unstructured-client->unstructured)\n",
            "  Downloading pydantic-2.11.4-py3-none-any.whl.metadata (66 kB)\n",
            "\u001b[2K     \u001b[90m━━━━━━━━━━━━━━━━━━━━━━━━━━━━━━━━━━━━━━━━\u001b[0m \u001b[32m66.6/66.6 kB\u001b[0m \u001b[31m5.3 MB/s\u001b[0m eta \u001b[36m0:00:00\u001b[0m\n",
            "\u001b[?25hRequirement already satisfied: pypdf>=4.0 in /usr/local/lib/python3.11/dist-packages (from unstructured-client->unstructured) (5.4.0)\n",
            "Requirement already satisfied: requests-toolbelt>=1.0.0 in /usr/local/lib/python3.11/dist-packages (from unstructured-client->unstructured) (1.0.0)\n",
            "Requirement already satisfied: typing-inspection>=0.4.0 in /usr/local/lib/python3.11/dist-packages (from unstructured-client->unstructured) (0.4.0)\n",
            "Requirement already satisfied: cffi>=1.12 in /usr/local/lib/python3.11/dist-packages (from cryptography>=3.1->unstructured-client->unstructured) (1.17.1)\n",
            "Requirement already satisfied: anyio in /usr/local/lib/python3.11/dist-packages (from httpx>=0.27.0->unstructured-client->unstructured) (3.7.1)\n",
            "Requirement already satisfied: httpcore==1.* in /usr/local/lib/python3.11/dist-packages (from httpx>=0.27.0->unstructured-client->unstructured) (1.0.7)\n",
            "Requirement already satisfied: h11<0.15,>=0.13 in /usr/local/lib/python3.11/dist-packages (from httpcore==1.*->httpx>=0.27.0->unstructured-client->unstructured) (0.14.0)\n",
            "Requirement already satisfied: packaging>=17.0 in /usr/local/lib/python3.11/dist-packages (from marshmallow<4.0.0,>=3.18.0->dataclasses-json->unstructured) (24.2)\n",
            "Requirement already satisfied: annotated-types>=0.6.0 in /usr/local/lib/python3.11/dist-packages (from pydantic>=2.11.2->unstructured-client->unstructured) (0.7.0)\n",
            "Collecting pydantic-core==2.33.2 (from pydantic>=2.11.2->unstructured-client->unstructured)\n",
            "  Downloading pydantic_core-2.33.2-cp311-cp311-manylinux_2_17_x86_64.manylinux2014_x86_64.whl.metadata (6.8 kB)\n",
            "Requirement already satisfied: mypy-extensions>=0.3.0 in /usr/local/lib/python3.11/dist-packages (from typing-inspect<1,>=0.4.0->dataclasses-json->unstructured) (1.1.0)\n",
            "Requirement already satisfied: pycparser in /usr/local/lib/python3.11/dist-packages (from cffi>=1.12->cryptography>=3.1->unstructured-client->unstructured) (2.22)\n",
            "Requirement already satisfied: sniffio>=1.1 in /usr/local/lib/python3.11/dist-packages (from anyio->httpx>=0.27.0->unstructured-client->unstructured) (1.3.1)\n",
            "Downloading unstructured-0.17.2-py3-none-any.whl (1.8 MB)\n",
            "\u001b[2K   \u001b[90m━━━━━━━━━━━━━━━━━━━━━━━━━━━━━━━━━━━━━━━━\u001b[0m \u001b[32m1.8/1.8 MB\u001b[0m \u001b[31m55.5 MB/s\u001b[0m eta \u001b[36m0:00:00\u001b[0m\n",
            "\u001b[?25hDownloading backoff-2.2.1-py3-none-any.whl (15 kB)\n",
            "Downloading emoji-2.14.1-py3-none-any.whl (590 kB)\n",
            "\u001b[2K   \u001b[90m━━━━━━━━━━━━━━━━━━━━━━━━━━━━━━━━━━━━━━━━\u001b[0m \u001b[32m590.6/590.6 kB\u001b[0m \u001b[31m18.7 MB/s\u001b[0m eta \u001b[36m0:00:00\u001b[0m\n",
            "\u001b[?25hDownloading python_iso639-2025.2.18-py3-none-any.whl (167 kB)\n",
            "\u001b[2K   \u001b[90m━━━━━━━━━━━━━━━━━━━━━━━━━━━━━━━━━━━━━━━━\u001b[0m \u001b[32m167.6/167.6 kB\u001b[0m \u001b[31m7.6 MB/s\u001b[0m eta \u001b[36m0:00:00\u001b[0m\n",
            "\u001b[?25hDownloading python_magic-0.4.27-py2.py3-none-any.whl (13 kB)\n",
            "Downloading python_oxmsg-0.0.2-py3-none-any.whl (31 kB)\n",
            "Downloading rapidfuzz-3.13.0-cp311-cp311-manylinux_2_17_x86_64.manylinux2014_x86_64.whl (3.1 MB)\n",
            "\u001b[2K   \u001b[90m━━━━━━━━━━━━━━━━━━━━━━━━━━━━━━━━━━━━━━━━\u001b[0m \u001b[32m3.1/3.1 MB\u001b[0m \u001b[31m24.7 MB/s\u001b[0m eta \u001b[36m0:00:00\u001b[0m\n",
            "\u001b[?25hDownloading unstructured_client-0.34.0-py3-none-any.whl (189 kB)\n",
            "\u001b[2K   \u001b[90m━━━━━━━━━━━━━━━━━━━━━━━━━━━━━━━━━━━━━━━━\u001b[0m \u001b[32m189.4/189.4 kB\u001b[0m \u001b[31m8.6 MB/s\u001b[0m eta \u001b[36m0:00:00\u001b[0m\n",
            "\u001b[?25hDownloading aiofiles-24.1.0-py3-none-any.whl (15 kB)\n",
            "Downloading eval_type_backport-0.2.2-py3-none-any.whl (5.8 kB)\n",
            "Downloading pydantic-2.11.4-py3-none-any.whl (443 kB)\n",
            "\u001b[2K   \u001b[90m━━━━━━━━━━━━━━━━━━━━━━━━━━━━━━━━━━━━━━━━\u001b[0m \u001b[32m443.9/443.9 kB\u001b[0m \u001b[31m24.4 MB/s\u001b[0m eta \u001b[36m0:00:00\u001b[0m\n",
            "\u001b[?25hDownloading pydantic_core-2.33.2-cp311-cp311-manylinux_2_17_x86_64.manylinux2014_x86_64.whl (2.0 MB)\n",
            "\u001b[2K   \u001b[90m━━━━━━━━━━━━━━━━━━━━━━━━━━━━━━━━━━━━━━━━\u001b[0m \u001b[32m2.0/2.0 MB\u001b[0m \u001b[31m36.6 MB/s\u001b[0m eta \u001b[36m0:00:00\u001b[0m\n",
            "\u001b[?25hDownloading olefile-0.47-py2.py3-none-any.whl (114 kB)\n",
            "\u001b[2K   \u001b[90m━━━━━━━━━━━━━━━━━━━━━━━━━━━━━━━━━━━━━━━━\u001b[0m \u001b[32m114.6/114.6 kB\u001b[0m \u001b[31m8.5 MB/s\u001b[0m eta \u001b[36m0:00:00\u001b[0m\n",
            "\u001b[?25hBuilding wheels for collected packages: langdetect\n",
            "  Building wheel for langdetect (setup.py) ... \u001b[?25l\u001b[?25hdone\n",
            "  Created wheel for langdetect: filename=langdetect-1.0.9-py3-none-any.whl size=993222 sha256=37334f9b64f1cc8bd58078e002206c6a873e0a7e57ce0a2a747c8925d0125c78\n",
            "  Stored in directory: /root/.cache/pip/wheels/0a/f2/b2/e5ca405801e05eb7c8ed5b3b4bcf1fcabcd6272c167640072e\n",
            "Successfully built langdetect\n",
            "Installing collected packages: rapidfuzz, python-magic, python-iso639, pydantic-core, olefile, langdetect, eval-type-backport, emoji, backoff, aiofiles, python-oxmsg, pydantic, unstructured-client, unstructured\n",
            "  Attempting uninstall: pydantic-core\n",
            "    Found existing installation: pydantic_core 2.27.2\n",
            "    Uninstalling pydantic_core-2.27.2:\n",
            "      Successfully uninstalled pydantic_core-2.27.2\n",
            "  Attempting uninstall: pydantic\n",
            "    Found existing installation: pydantic 2.10.6\n",
            "    Uninstalling pydantic-2.10.6:\n",
            "      Successfully uninstalled pydantic-2.10.6\n",
            "\u001b[31mERROR: pip's dependency resolver does not currently take into account all the packages that are installed. This behaviour is the source of the following dependency conflicts.\n",
            "google-generativeai 0.8.4 requires google-ai-generativelanguage==0.6.15, but you have google-ai-generativelanguage 0.6.18 which is incompatible.\u001b[0m\u001b[31m\n",
            "\u001b[0mSuccessfully installed aiofiles-24.1.0 backoff-2.2.1 emoji-2.14.1 eval-type-backport-0.2.2 langdetect-1.0.9 olefile-0.47 pydantic-2.11.4 pydantic-core-2.33.2 python-iso639-2025.2.18 python-magic-0.4.27 python-oxmsg-0.0.2 rapidfuzz-3.13.0 unstructured-0.17.2 unstructured-client-0.34.0\n"
          ]
        }
      ]
    },
    {
      "cell_type": "code",
      "source": [
        "docs = loader.load()"
      ],
      "metadata": {
        "id": "by-11rBGuzlc"
      },
      "id": "by-11rBGuzlc",
      "execution_count": 69,
      "outputs": []
    },
    {
      "cell_type": "code",
      "source": [
        "len(docs)"
      ],
      "metadata": {
        "colab": {
          "base_uri": "https://localhost:8080/"
        },
        "id": "e1WmAWtxvPYr",
        "outputId": "a30923af-6569-44c4-dc7f-fac5a388ca32"
      },
      "id": "e1WmAWtxvPYr",
      "execution_count": 70,
      "outputs": [
        {
          "output_type": "execute_result",
          "data": {
            "text/plain": [
              "1"
            ]
          },
          "metadata": {},
          "execution_count": 70
        }
      ]
    },
    {
      "cell_type": "code",
      "source": [
        "docs[0]"
      ],
      "metadata": {
        "colab": {
          "base_uri": "https://localhost:8080/"
        },
        "id": "G3qfXbW8vT-2",
        "outputId": "7926c0b2-9f24-46df-bc7f-cfd1d129c629"
      },
      "id": "G3qfXbW8vT-2",
      "execution_count": 72,
      "outputs": [
        {
          "output_type": "execute_result",
          "data": {
            "text/plain": [
              "Document(metadata={'source': 'LangchainRetrieval.txt'}, page_content=\"Retrieval\\nMany LLM applications require user-specific data that is not part of the model's training set. The primary way of accomplishing this is through Retrieval Augmented Generation (RAG). In this process, external data is retrieved and then passed to the LLM when doing the generation step.\\n\\nLangChain provides all the building blocks for RAG applications - from simple to complex. This section of the documentation covers everything related to the retrieval step - e.g. the fetching of the data. Although this sounds simple, it can be subtly complex. This encompasses several key modules.\\n\\nIllustrative diagram showing the data connection process with steps: Source, Load, Transform, Embed, Store, and Retrieve.\\n\\nDocument loaders\\nDocument loaders load documents from many different sources. LangChain provides over 100 different document loaders as well as integrations with other major providers in the space, like AirByte and Unstructured. LangChain provides integrations to load all types of documents (HTML, PDF, code) from all types of locations (private S3 buckets, public websites).\\n\\nText Splitting\\nA key part of retrieval is fetching only the relevant parts of documents. This involves several transformation steps to prepare the documents for retrieval. One of the primary ones here is splitting (or chunking) a large document into smaller chunks. LangChain provides several transformation algorithms for doing this, as well as logic optimized for specific document types (code, markdown, etc).\\n\\nText embedding models\\nAnother key part of retrieval is creating embeddings for documents. Embeddings capture the semantic meaning of the text, allowing you to quickly and efficiently find other pieces of a text that are similar. LangChain provides integrations with over 25 different embedding providers and methods, from open-source to proprietary API, allowing you to choose the one best suited for your needs. LangChain provides a standard interface, allowing you to easily swap between models.\\n\\nVector stores\\nWith the rise of embeddings, there has emerged a need for databases to support efficient storage and searching of these embeddings. LangChain provides integrations with over 50 different vectorstores, from open-source local ones to cloud-hosted proprietary ones, allowing you to choose the one best suited for your needs. LangChain exposes a standard interface, allowing you to easily swap between vector stores.\\n\\nRetrievers\\nOnce the data is in the database, you still need to retrieve it. LangChain supports many different retrieval algorithms and is one of the places where we add the most value. LangChain supports basic methods that are easy to get started - namely simple semantic search. However, we have also added a collection of algorithms on top of this to increase performance. These include:\\n\\nParent Document Retriever: This allows you to create multiple embeddings per parent document, allowing you to look up smaller chunks but return larger context.\\nSelf Query Retriever: User questions often contain a reference to something that isn't just semantic but rather expresses some logic that can best be represented as a metadata filter. Self-query allows you to parse out the semantic part of a query from other metadata filters present in the query.\\nEnsemble Retriever: Sometimes you may want to retrieve documents from multiple different sources, or using multiple different algorithms. The ensemble retriever allows you to easily do this.\\nAnd more!\\nIndexing\\nThe LangChain Indexing API syncs your data from any source into a vector store, helping you:\\n\\nAvoid writing duplicated content into the vector store\\nAvoid re-writing unchanged content\\nAvoid re-computing embeddings over unchanged content\\nAll of which should save you time and money, as well as improve your vector search results.\")"
            ]
          },
          "metadata": {},
          "execution_count": 72
        }
      ]
    },
    {
      "cell_type": "code",
      "source": [
        "loader = DirectoryLoader('./RAG/', glob=\"**/*.txt\", show_progress=True)\n",
        "docs = loader.load()"
      ],
      "metadata": {
        "colab": {
          "base_uri": "https://localhost:8080/"
        },
        "id": "VTO_vQ8jvplP",
        "outputId": "22afaad7-99d7-4ead-a2aa-c3d6b4465ce4"
      },
      "id": "VTO_vQ8jvplP",
      "execution_count": null,
      "outputs": [
        {
          "output_type": "stream",
          "name": "stderr",
          "text": [
            "100%|██████████| 4/4 [00:00<00:00, 42.02it/s]\n"
          ]
        }
      ]
    },
    {
      "cell_type": "code",
      "source": [
        "from langchain_community.document_loaders.csv_loader import CSVLoader\n",
        "\n",
        "\n",
        "loader = CSVLoader(file_path='Movie_collection_dataset.csv')\n",
        "data = loader.load()"
      ],
      "metadata": {
        "id": "aMWxIYLivrh5"
      },
      "id": "aMWxIYLivrh5",
      "execution_count": null,
      "outputs": []
    },
    {
      "cell_type": "code",
      "source": [
        "print(data)"
      ],
      "metadata": {
        "colab": {
          "base_uri": "https://localhost:8080/"
        },
        "id": "_6k3FKI_v0PW",
        "outputId": "6e382017-5266-426e-a1c3-ca02391c44e9"
      },
      "id": "_6k3FKI_v0PW",
      "execution_count": null,
      "outputs": [
        {
          "output_type": "stream",
          "name": "stdout",
          "text": [
            "[Document(metadata={'source': 'Movie_collection_dataset.csv', 'row': 0}, page_content='Collection: 48000\\nMarketin_expense: 20.1264\\nBudget: 36524.125\\nLead_ Actor_Rating: 7.825\\nLead_Actress_rating: 8.095\\nTrailer_views: 527367\\nGenre: Thriller\\nNum_multiplex: 494\\n3D_available: YES'), Document(metadata={'source': 'Movie_collection_dataset.csv', 'row': 1}, page_content='Collection: 43200\\nMarketin_expense: 20.5462\\nBudget: 35668.655\\nLead_ Actor_Rating: 7.505\\nLead_Actress_rating: 7.65\\nTrailer_views: 494055\\nGenre: Drama\\nNum_multiplex: 462\\n3D_available: NO'), Document(metadata={'source': 'Movie_collection_dataset.csv', 'row': 2}, page_content='Collection: 69400\\nMarketin_expense: 20.5458\\nBudget: 39912.675\\nLead_ Actor_Rating: 7.485\\nLead_Actress_rating: 7.57\\nTrailer_views: 547051\\nGenre: Comedy\\nNum_multiplex: 458\\n3D_available: NO'), Document(metadata={'source': 'Movie_collection_dataset.csv', 'row': 3}, page_content='Collection: 66800\\nMarketin_expense: 20.6474\\nBudget: 38873.89\\nLead_ Actor_Rating: 6.895\\nLead_Actress_rating: 7.035\\nTrailer_views: 516279\\nGenre: Drama\\nNum_multiplex: 472\\n3D_available: YES'), Document(metadata={'source': 'Movie_collection_dataset.csv', 'row': 4}, page_content='Collection: 72400\\nMarketin_expense: 21.381\\nBudget: 39701.585\\nLead_ Actor_Rating: 6.92\\nLead_Actress_rating: 7.07\\nTrailer_views: 531448\\nGenre: Drama\\nNum_multiplex: 395\\n3D_available: NO'), Document(metadata={'source': 'Movie_collection_dataset.csv', 'row': 5}, page_content='Collection: 57400\\nMarketin_expense: 20.597\\nBudget: 35718.65\\nLead_ Actor_Rating: 6.89\\nLead_Actress_rating: 7.1\\nTrailer_views: 498425\\nGenre: Comedy\\nNum_multiplex: 460\\n3D_available: YES'), Document(metadata={'source': 'Movie_collection_dataset.csv', 'row': 6}, page_content='Collection: 45800\\nMarketin_expense: 21.7658\\nBudget: 33396.66\\nLead_ Actor_Rating: 7.065\\nLead_Actress_rating: 7.265\\nTrailer_views: 459241\\nGenre: Thriller\\nNum_multiplex: 522\\n3D_available: YES'), Document(metadata={'source': 'Movie_collection_dataset.csv', 'row': 7}, page_content='Collection: 44200\\nMarketin_expense: 22.891\\nBudget: 34285.46\\nLead_ Actor_Rating: 6.98\\nLead_Actress_rating: 7.075\\nTrailer_views: 400821\\nGenre: Drama\\nNum_multiplex: 571\\n3D_available: NO'), Document(metadata={'source': 'Movie_collection_dataset.csv', 'row': 8}, page_content='Collection: 33000\\nMarketin_expense: 24.2248\\nBudget: 31280.205\\nLead_ Actor_Rating: 6.91\\nLead_Actress_rating: 7.075\\nTrailer_views: 295168\\nGenre: Comedy\\nNum_multiplex: 564\\n3D_available: YES'), Document(metadata={'source': 'Movie_collection_dataset.csv', 'row': 9}, page_content='Collection: 37800\\nMarketin_expense: 23.4008\\nBudget: 33352.22\\nLead_ Actor_Rating: 6.665\\nLead_Actress_rating: 6.725\\nTrailer_views: 412012\\nGenre: Thriller\\nNum_multiplex: 508\\n3D_available: YES'), Document(metadata={'source': 'Movie_collection_dataset.csv', 'row': 10}, page_content='Collection: 30000\\nMarketin_expense: 24.4978\\nBudget: 35424.235\\nLead_ Actor_Rating: 6.675\\nLead_Actress_rating: 6.845\\nTrailer_views: 369595\\nGenre: Drama\\nNum_multiplex: 578\\n3D_available: NO'), Document(metadata={'source': 'Movie_collection_dataset.csv', 'row': 11}, page_content='Collection: 37800\\nMarketin_expense: 22.3494\\nBudget: 33379.995\\nLead_ Actor_Rating: 6.865\\nLead_Actress_rating: 7.035\\nTrailer_views: 451646\\nGenre: Action\\nNum_multiplex: 553\\n3D_available: NO'), Document(metadata={'source': 'Movie_collection_dataset.csv', 'row': 12}, page_content='Collection: 43400\\nMarketin_expense: 21.8756\\nBudget: 32713.395\\nLead_ Actor_Rating: 7.12\\nLead_Actress_rating: 7.43\\nTrailer_views: 407557\\nGenre: Action\\nNum_multiplex: 575\\n3D_available: YES'), Document(metadata={'source': 'Movie_collection_dataset.csv', 'row': 13}, page_content='Collection: 40800\\nMarketin_expense: 32.5952\\nBudget: 33046.695\\nLead_ Actor_Rating: 7.64\\nLead_Actress_rating: 7.705\\nTrailer_views: 472490\\nGenre: Comedy\\nNum_multiplex: 535\\n3D_available: YES'), Document(metadata={'source': 'Movie_collection_dataset.csv', 'row': 14}, page_content='Collection: 36400\\nMarketin_expense: 32.7592\\nBudget: 33863.28\\nLead_ Actor_Rating: 7.7\\nLead_Actress_rating: 7.9\\nTrailer_views: 495311\\nGenre: Comedy\\nNum_multiplex: 599\\n3D_available: NO'), Document(metadata={'source': 'Movie_collection_dataset.csv', 'row': 15}, page_content='Collection: 39800\\nMarketin_expense: 32.5478\\nBudget: 32407.87\\nLead_ Actor_Rating: 7.7\\nLead_Actress_rating: 7.825\\nTrailer_views: 497626\\nGenre: Thriller\\nNum_multiplex: 598\\n3D_available: YES'), Document(metadata={'source': 'Movie_collection_dataset.csv', 'row': 16}, page_content='Collection: 46200\\nMarketin_expense: 41.0786\\nBudget: 32968.925\\nLead_ Actor_Rating: 7.67\\nLead_Actress_rating: 7.805\\nTrailer_views: 532331\\nGenre: Comedy\\nNum_multiplex: 547\\n3D_available: NO'), Document(metadata={'source': 'Movie_collection_dataset.csv', 'row': 17}, page_content='Collection: 35000\\nMarketin_expense: 35.684\\nBudget: 33274.45\\nLead_ Actor_Rating: 7.72\\nLead_Actress_rating: 7.925\\nTrailer_views: 431225\\nGenre: Drama\\nNum_multiplex: 548\\n3D_available: NO'), Document(metadata={'source': 'Movie_collection_dataset.csv', 'row': 18}, page_content='Collection: 40400\\nMarketin_expense: 36.0542\\nBudget: 30308.08\\nLead_ Actor_Rating: 8.1\\nLead_Actress_rating: 8.24\\nTrailer_views: 448317\\nGenre: Action\\nNum_multiplex: 543\\n3D_available: YES'), Document(metadata={'source': 'Movie_collection_dataset.csv', 'row': 19}, page_content='Collection: 36400\\nMarketin_expense: 34.516\\nBudget: 31813.485\\nLead_ Actor_Rating: 8.01\\nLead_Actress_rating: 8.175\\nTrailer_views: 463328\\nGenre: Action\\nNum_multiplex: 578\\n3D_available: NO'), Document(metadata={'source': 'Movie_collection_dataset.csv', 'row': 20}, page_content='Collection: 27200\\nMarketin_expense: 45.0358\\nBudget: 30941.35\\nLead_ Actor_Rating: 8.035\\nLead_Actress_rating: 8.205\\nTrailer_views: 371051\\nGenre: Action\\nNum_multiplex: 484\\n3D_available: YES'), Document(metadata={'source': 'Movie_collection_dataset.csv', 'row': 21}, page_content='Collection: 39200\\nMarketin_expense: 37.0408\\nBudget: 33135.575\\nLead_ Actor_Rating: 7.945\\nLead_Actress_rating: 8.14\\nTrailer_views: 457361\\nGenre: Comedy\\nNum_multiplex: 541\\n3D_available: YES'), Document(metadata={'source': 'Movie_collection_dataset.csv', 'row': 22}, page_content='Collection: 30400\\nMarketin_expense: 44.6494\\nBudget: 34118.81\\nLead_ Actor_Rating: 7.91\\nLead_Actress_rating: 8.01\\nTrailer_views: 387496\\nGenre: Thriller\\nNum_multiplex: 575\\n3D_available: YES'), Document(metadata={'source': 'Movie_collection_dataset.csv', 'row': 23}, page_content='Collection: 29000\\nMarketin_expense: 39.7686\\nBudget: 32291.215\\nLead_ Actor_Rating: 7.825\\nLead_Actress_rating: 8.01\\nTrailer_views: 365213\\nGenre: Drama\\nNum_multiplex: 527\\n3D_available: YES'), Document(metadata={'source': 'Movie_collection_dataset.csv', 'row': 24}, page_content='Collection: 31200\\nMarketin_expense: 35.0052\\nBudget: 32907.82\\nLead_ Actor_Rating: 7.655\\nLead_Actress_rating: 7.965\\nTrailer_views: 414145\\nGenre: Drama\\nNum_multiplex: 502\\n3D_available: YES'), Document(metadata={'source': 'Movie_collection_dataset.csv', 'row': 25}, page_content='Collection: 27800\\nMarketin_expense: 36.8108\\nBudget: 31102.445\\nLead_ Actor_Rating: 7.655\\nLead_Actress_rating: 7.835\\nTrailer_views: 422375\\nGenre: Thriller\\nNum_multiplex: 516\\n3D_available: YES'), Document(metadata={'source': 'Movie_collection_dataset.csv', 'row': 26}, page_content='Collection: 33200\\nMarketin_expense: 33.4382\\nBudget: 32291.215\\nLead_ Actor_Rating: 7.53\\nLead_Actress_rating: 7.705\\nTrailer_views: 436807\\nGenre: Drama\\nNum_multiplex: 476\\n3D_available: NO'), Document(metadata={'source': 'Movie_collection_dataset.csv', 'row': 27}, page_content='Collection: 29600\\nMarketin_expense: 39.1154\\nBudget: 33591.085\\nLead_ Actor_Rating: 7.75\\nLead_Actress_rating: 7.8\\nTrailer_views: 406866\\nGenre: Drama\\nNum_multiplex: 488\\n3D_available: YES'), Document(metadata={'source': 'Movie_collection_dataset.csv', 'row': 28}, page_content='Collection: 36800\\nMarketin_expense: 35.4598\\nBudget: 36079.725\\nLead_ Actor_Rating: 7.715\\nLead_Actress_rating: 7.825\\nTrailer_views: 455480\\nGenre: Thriller\\nNum_multiplex: 544\\n3D_available: YES'), Document(metadata={'source': 'Movie_collection_dataset.csv', 'row': 29}, page_content='Collection: 42000\\nMarketin_expense: 40.049\\nBudget: 37074.07\\nLead_ Actor_Rating: 7.735\\nLead_Actress_rating: 8.03\\nTrailer_views: 466851\\nGenre: Thriller\\nNum_multiplex: 488\\n3D_available: NO'), Document(metadata={'source': 'Movie_collection_dataset.csv', 'row': 30}, page_content='Collection: 25400\\nMarketin_expense: 42.6162\\nBudget: 31735.715\\nLead_ Actor_Rating: 7.74\\nLead_Actress_rating: 7.91\\nTrailer_views: 350102\\nGenre: Drama\\nNum_multiplex: 586\\n3D_available: NO'), Document(metadata={'source': 'Movie_collection_dataset.csv', 'row': 31}, page_content='Collection: 29000\\nMarketin_expense: 47.0944\\nBudget: 33729.96\\nLead_ Actor_Rating: 7.805\\nLead_Actress_rating: 7.97\\nTrailer_views: 436306\\nGenre: Comedy\\nNum_multiplex: 523\\n3D_available: YES'), Document(metadata={'source': 'Movie_collection_dataset.csv', 'row': 32}, page_content='Collection: 26400\\nMarketin_expense: 47.7598\\nBudget: 33052.25\\nLead_ Actor_Rating: 7.995\\nLead_Actress_rating: 8.07\\nTrailer_views: 299587\\nGenre: Thriller\\nNum_multiplex: 533\\n3D_available: NO'), Document(metadata={'source': 'Movie_collection_dataset.csv', 'row': 33}, page_content='Collection: 26200\\nMarketin_expense: 43.0344\\nBudget: 31669.055\\nLead_ Actor_Rating: 8.1\\nLead_Actress_rating: 8.165\\nTrailer_views: 394967\\nGenre: Comedy\\nNum_multiplex: 571\\n3D_available: YES'), Document(metadata={'source': 'Movie_collection_dataset.csv', 'row': 34}, page_content='Collection: 27000\\nMarketin_expense: 52.2564\\nBudget: 33863.28\\nLead_ Actor_Rating: 7.965\\nLead_Actress_rating: 8.17\\nTrailer_views: 377048\\nGenre: Comedy\\nNum_multiplex: 497\\n3D_available: YES'), Document(metadata={'source': 'Movie_collection_dataset.csv', 'row': 35}, page_content='Collection: 37800\\nMarketin_expense: 21.2834\\nBudget: 32957.815\\nLead_ Actor_Rating: 8.155\\nLead_Actress_rating: 8.365\\nTrailer_views: 475977\\nGenre: Thriller\\nNum_multiplex: 530\\n3D_available: YES'), Document(metadata={'source': 'Movie_collection_dataset.csv', 'row': 36}, page_content='Collection: 40000\\nMarketin_expense: 21.9488\\nBudget: 32446.755\\nLead_ Actor_Rating: 8.305\\nLead_Actress_rating: 8.36\\nTrailer_views: 474433\\nGenre: Comedy\\nNum_multiplex: 454\\n3D_available: NO'), Document(metadata={'source': 'Movie_collection_dataset.csv', 'row': 37}, page_content='Collection: 42000\\nMarketin_expense: 21.6028\\nBudget: 32496.75\\nLead_ Actor_Rating: 8.01\\nLead_Actress_rating: 8.125\\nTrailer_views: 482433\\nGenre: Thriller\\nNum_multiplex: 510\\n3D_available: YES'), Document(metadata={'source': 'Movie_collection_dataset.csv', 'row': 38}, page_content='Collection: 48400\\nMarketin_expense: 23.501\\nBudget: 33141.13\\nLead_ Actor_Rating: 7.925\\nLead_Actress_rating: 8.17\\nTrailer_views: 498052\\nGenre: Thriller\\nNum_multiplex: 484\\n3D_available: YES'), Document(metadata={'source': 'Movie_collection_dataset.csv', 'row': 39}, page_content='Collection: 61600\\nMarketin_expense: 20.5526\\nBudget: 36635.225\\nLead_ Actor_Rating: 7.175\\nLead_Actress_rating: 7.325\\nTrailer_views: 553070\\nGenre: Thriller\\nNum_multiplex: 451\\n3D_available: YES'), Document(metadata={'source': 'Movie_collection_dataset.csv', 'row': 40}, page_content='Collection: 69800\\nMarketin_expense: 20.6718\\nBudget: 39018.32\\nLead_ Actor_Rating: 7.185\\nLead_Actress_rating: 7.345\\nTrailer_views: 567784\\nGenre: Thriller\\nNum_multiplex: 428\\n3D_available: YES'), Document(metadata={'source': 'Movie_collection_dataset.csv', 'row': 41}, page_content='Collection: 53200\\nMarketin_expense: 22.5488\\nBudget: 37607.35\\nLead_ Actor_Rating: 7.115\\nLead_Actress_rating: 7.14\\nTrailer_views: 512492\\nGenre: Action\\nNum_multiplex: 495\\n3D_available: NO'), Document(metadata={'source': 'Movie_collection_dataset.csv', 'row': 42}, page_content='Collection: 50600\\nMarketin_expense: 22.83\\nBudget: 34268.795\\nLead_ Actor_Rating: 7.035\\nLead_Actress_rating: 7.27\\nTrailer_views: 526836\\nGenre: Thriller\\nNum_multiplex: 419\\n3D_available: NO'), Document(metadata={'source': 'Movie_collection_dataset.csv', 'row': 43}, page_content='Collection: 49400\\nMarketin_expense: 23.1872\\nBudget: 34502.105\\nLead_ Actor_Rating: 6.98\\nLead_Actress_rating: 7.17\\nTrailer_views: 473146\\nGenre: Thriller\\nNum_multiplex: 449\\n3D_available: YES'), Document(metadata={'source': 'Movie_collection_dataset.csv', 'row': 44}, page_content='Collection: 42400\\nMarketin_expense: 22.4538\\nBudget: 33713.295\\nLead_ Actor_Rating: 7.095\\nLead_Actress_rating: 7.245\\nTrailer_views: 471960\\nGenre: Thriller\\nNum_multiplex: 400\\n3D_available: NO'), Document(metadata={'source': 'Movie_collection_dataset.csv', 'row': 45}, page_content='Collection: 38600\\nMarketin_expense: 23.4284\\nBudget: 31563.51\\nLead_ Actor_Rating: 7.385\\nLead_Actress_rating: 7.525\\nTrailer_views: 470466\\nGenre: Thriller\\nNum_multiplex: 445\\n3D_available: NO'), Document(metadata={'source': 'Movie_collection_dataset.csv', 'row': 46}, page_content='Collection: 40000\\nMarketin_expense: 23.7672\\nBudget: 32141.23\\nLead_ Actor_Rating: 7.375\\nLead_Actress_rating: 7.5\\nTrailer_views: 445250\\nGenre: Drama\\nNum_multiplex: 455\\n3D_available: YES'), Document(metadata={'source': 'Movie_collection_dataset.csv', 'row': 47}, page_content='Collection: 33200\\nMarketin_expense: 24.5854\\nBudget: 33496.65\\nLead_ Actor_Rating: 7.085\\nLead_Actress_rating: 7.18\\nTrailer_views: 374797\\nGenre: Thriller\\nNum_multiplex: 526\\n3D_available: YES'), Document(metadata={'source': 'Movie_collection_dataset.csv', 'row': 48}, page_content='Collection: 28800\\nMarketin_expense: 25.0774\\nBudget: 29991.445\\nLead_ Actor_Rating: 7.01\\nLead_Actress_rating: 7.16\\nTrailer_views: 264112\\nGenre: Comedy\\nNum_multiplex: 427\\n3D_available: NO'), Document(metadata={'source': 'Movie_collection_dataset.csv', 'row': 49}, page_content='Collection: 38800\\nMarketin_expense: 24.3954\\nBudget: 31119.11\\nLead_ Actor_Rating: 6.945\\nLead_Actress_rating: 7.05\\nTrailer_views: 422013\\nGenre: Action\\nNum_multiplex: 507\\n3D_available: NO'), Document(metadata={'source': 'Movie_collection_dataset.csv', 'row': 50}, page_content='Collection: 39400\\nMarketin_expense: 21.7746\\nBudget: 33124.465\\nLead_ Actor_Rating: 6.46\\nLead_Actress_rating: 6.725\\nTrailer_views: 442225\\nGenre: Thriller\\nNum_multiplex: 404\\n3D_available: YES'), Document(metadata={'source': 'Movie_collection_dataset.csv', 'row': 51}, page_content='Collection: 41000\\nMarketin_expense: 20.8674\\nBudget: 33968.825\\nLead_ Actor_Rating: 6.48\\nLead_Actress_rating: 6.63\\nTrailer_views: 502413\\nGenre: Drama\\nNum_multiplex: 473\\n3D_available: YES'), Document(metadata={'source': 'Movie_collection_dataset.csv', 'row': 52}, page_content='Collection: 50000\\nMarketin_expense: 21.072\\nBudget: 36168.605\\nLead_ Actor_Rating: 6.49\\nLead_Actress_rating: 6.62\\nTrailer_views: 504792\\nGenre: Thriller\\nNum_multiplex: 462\\n3D_available: NO'), Document(metadata={'source': 'Movie_collection_dataset.csv', 'row': 53}, page_content='Collection: 46800\\nMarketin_expense: 20.9962\\nBudget: 33318.89\\nLead_ Actor_Rating: 6.555\\nLead_Actress_rating: 6.74\\nTrailer_views: 496877\\nGenre: Thriller\\nNum_multiplex: 416\\n3D_available: NO'), Document(metadata={'source': 'Movie_collection_dataset.csv', 'row': 54}, page_content='Collection: 37800\\nMarketin_expense: 20.272\\nBudget: 32707.84\\nLead_ Actor_Rating: 6.3\\nLead_Actress_rating: 6.365\\nTrailer_views: 410055\\nGenre: Comedy\\nNum_multiplex: 387\\n3D_available: YES'), Document(metadata={'source': 'Movie_collection_dataset.csv', 'row': 55}, page_content='Collection: 70800\\nMarketin_expense: 20.2622\\nBudget: 40268.195\\nLead_ Actor_Rating: 5.55\\nLead_Actress_rating: 5.795\\nTrailer_views: 512329\\nGenre: Thriller\\nNum_multiplex: 480\\n3D_available: YES'), Document(metadata={'source': 'Movie_collection_dataset.csv', 'row': 56}, page_content='Collection: 49400\\nMarketin_expense: 20.411\\nBudget: 35457.565\\nLead_ Actor_Rating: 5.34\\nLead_Actress_rating: 5.535\\nTrailer_views: 539589\\nGenre: Drama\\nNum_multiplex: 383\\n3D_available: YES'), Document(metadata={'source': 'Movie_collection_dataset.csv', 'row': 57}, page_content='Collection: 63200\\nMarketin_expense: 20.2864\\nBudget: 37862.88\\nLead_ Actor_Rating: 5.685\\nLead_Actress_rating: 5.86\\nTrailer_views: 512129\\nGenre: Drama\\nNum_multiplex: 426\\n3D_available: YES'), Document(metadata={'source': 'Movie_collection_dataset.csv', 'row': 58}, page_content='Collection: 46600\\nMarketin_expense: 23.089\\nBudget: 34135.475\\nLead_ Actor_Rating: 6.01\\nLead_Actress_rating: 6.115\\nTrailer_views: 480067\\nGenre: Comedy\\nNum_multiplex: 438\\n3D_available: NO'), Document(metadata={'source': 'Movie_collection_dataset.csv', 'row': 59}, page_content='Collection: 39200\\nMarketin_expense: 22.0656\\nBudget: 32924.485\\nLead_ Actor_Rating: 6.37\\nLead_Actress_rating: 6.66\\nTrailer_views: 467075\\nGenre: Comedy\\nNum_multiplex: 460\\n3D_available: YES'), Document(metadata={'source': 'Movie_collection_dataset.csv', 'row': 60}, page_content='Collection: 37400\\nMarketin_expense: 22.9864\\nBudget: 31891.255\\nLead_ Actor_Rating: 6.335\\nLead_Actress_rating: 6.42\\nTrailer_views: 465689\\nGenre: Thriller\\nNum_multiplex: 439\\n3D_available: NO'), Document(metadata={'source': 'Movie_collection_dataset.csv', 'row': 61}, page_content='Collection: 32000\\nMarketin_expense: 23.4342\\nBudget: 33141.13\\nLead_ Actor_Rating: 6.58\\nLead_Actress_rating: 6.665\\nTrailer_views: 430178\\nGenre: Thriller\\nNum_multiplex: 387\\n3D_available: NO'), Document(metadata={'source': 'Movie_collection_dataset.csv', 'row': 62}, page_content='Collection: 44400\\nMarketin_expense: 22.2054\\nBudget: 35863.08\\nLead_ Actor_Rating: 6.225\\nLead_Actress_rating: 6.46\\nTrailer_views: 525189\\nGenre: Comedy\\nNum_multiplex: 434\\n3D_available: YES'), Document(metadata={'source': 'Movie_collection_dataset.csv', 'row': 63}, page_content='Collection: 50000\\nMarketin_expense: 22.53\\nBudget: 37562.91\\nLead_ Actor_Rating: 5.885\\nLead_Actress_rating: 6.155\\nTrailer_views: 469499\\nGenre: Action\\nNum_multiplex: 470\\n3D_available: YES'), Document(metadata={'source': 'Movie_collection_dataset.csv', 'row': 64}, page_content='Collection: 66000\\nMarketin_expense: 20.3902\\nBudget: 39462.72\\nLead_ Actor_Rating: 5.28\\nLead_Actress_rating: 5.455\\nTrailer_views: 477265\\nGenre: Action\\nNum_multiplex: 390\\n3D_available: YES'), Document(metadata={'source': 'Movie_collection_dataset.csv', 'row': 65}, page_content='Collection: 47000\\nMarketin_expense: 20.7168\\nBudget: 34940.95\\nLead_ Actor_Rating: 6.69\\nLead_Actress_rating: 6.785\\nTrailer_views: 545499\\nGenre: Thriller\\nNum_multiplex: 375\\n3D_available: NO'), Document(metadata={'source': 'Movie_collection_dataset.csv', 'row': 66}, page_content='Collection: 38800\\nMarketin_expense: 20.8758\\nBudget: 32146.785\\nLead_ Actor_Rating: 6.65\\nLead_Actress_rating: 6.78\\nTrailer_views: 465605\\nGenre: Action\\nNum_multiplex: 479\\n3D_available: NO'), Document(metadata={'source': 'Movie_collection_dataset.csv', 'row': 67}, page_content='Collection: 44000\\nMarketin_expense: 21.1578\\nBudget: 32652.29\\nLead_ Actor_Rating: 6.68\\nLead_Actress_rating: 6.8\\nTrailer_views: 493569\\nGenre: Thriller\\nNum_multiplex: 406\\n3D_available: YES'), Document(metadata={'source': 'Movie_collection_dataset.csv', 'row': 68}, page_content='Collection: 34800\\nMarketin_expense: 22.7108\\nBudget: 31074.67\\nLead_ Actor_Rating: 6.745\\nLead_Actress_rating: 6.915\\nTrailer_views: 461313\\nGenre: Thriller\\nNum_multiplex: 485\\n3D_available: NO'), Document(metadata={'source': 'Movie_collection_dataset.csv', 'row': 69}, page_content='Collection: 41800\\nMarketin_expense: 22.5632\\nBudget: 32691.175\\nLead_ Actor_Rating: 6.725\\nLead_Actress_rating: 6.805\\nTrailer_views: 499656\\nGenre: Drama\\nNum_multiplex: 384\\n3D_available: NO'), Document(metadata={'source': 'Movie_collection_dataset.csv', 'row': 70}, page_content='Collection: 48400\\nMarketin_expense: 21.7652\\nBudget: 35646.435\\nLead_ Actor_Rating: 7.24\\nLead_Actress_rating: 7.465\\nTrailer_views: 501152\\nGenre: Thriller\\nNum_multiplex: 410\\n3D_available: YES'), Document(metadata={'source': 'Movie_collection_dataset.csv', 'row': 71}, page_content='Collection: 43400\\nMarketin_expense: 23.1752\\nBudget: 33113.355\\nLead_ Actor_Rating: 7.28\\nLead_Actress_rating: 7.4\\nTrailer_views: 491978\\nGenre: Action\\nNum_multiplex: 400\\n3D_available: NO'), Document(metadata={'source': 'Movie_collection_dataset.csv', 'row': 72}, page_content='Collection: 45600\\nMarketin_expense: 21.8328\\nBudget: 33691.075\\nLead_ Actor_Rating: 7.27\\nLead_Actress_rating: 7.52\\nTrailer_views: 500290\\nGenre: Thriller\\nNum_multiplex: 361\\n3D_available: NO'), Document(metadata={'source': 'Movie_collection_dataset.csv', 'row': 73}, page_content='Collection: 46800\\nMarketin_expense: 23.9078\\nBudget: 34690.975\\nLead_ Actor_Rating: 7.32\\nLead_Actress_rating: 7.385\\nTrailer_views: 493124\\nGenre: Drama\\nNum_multiplex: 434\\n3D_available: YES'), Document(metadata={'source': 'Movie_collection_dataset.csv', 'row': 74}, page_content='Collection: 48200\\nMarketin_expense: 21.5792\\nBudget: 34846.515\\nLead_ Actor_Rating: 7.73\\nLead_Actress_rating: 8.025\\nTrailer_views: 488560\\nGenre: Thriller\\nNum_multiplex: 389\\n3D_available: NO'), Document(metadata={'source': 'Movie_collection_dataset.csv', 'row': 75}, page_content='Collection: 42800\\nMarketin_expense: 21.9024\\nBudget: 34918.73\\nLead_ Actor_Rating: 7.585\\nLead_Actress_rating: 7.75\\nTrailer_views: 496661\\nGenre: Comedy\\nNum_multiplex: 382\\n3D_available: NO'), Document(metadata={'source': 'Movie_collection_dataset.csv', 'row': 76}, page_content='Collection: 40000\\nMarketin_expense: 22.0306\\nBudget: 34879.845\\nLead_ Actor_Rating: 7.835\\nLead_Actress_rating: 8.14\\nTrailer_views: 478283\\nGenre: Comedy\\nNum_multiplex: 453\\n3D_available: NO'), Document(metadata={'source': 'Movie_collection_dataset.csv', 'row': 77}, page_content='Collection: 41600\\nMarketin_expense: 21.7414\\nBudget: 34107.7\\nLead_ Actor_Rating: 7.84\\nLead_Actress_rating: 7.97\\nTrailer_views: 490040\\nGenre: Thriller\\nNum_multiplex: 419\\n3D_available: YES'), Document(metadata={'source': 'Movie_collection_dataset.csv', 'row': 78}, page_content='Collection: 42400\\nMarketin_expense: 21.1292\\nBudget: 34618.76\\nLead_ Actor_Rating: 7.33\\nLead_Actress_rating: 7.5\\nTrailer_views: 447528\\nGenre: Drama\\nNum_multiplex: 377\\n3D_available: YES'), Document(metadata={'source': 'Movie_collection_dataset.csv', 'row': 79}, page_content='Collection: 40600\\nMarketin_expense: 21.6774\\nBudget: 32630.07\\nLead_ Actor_Rating: 7.735\\nLead_Actress_rating: 7.885\\nTrailer_views: 467670\\nGenre: Action\\nNum_multiplex: 472\\n3D_available: NO'), Document(metadata={'source': 'Movie_collection_dataset.csv', 'row': 80}, page_content='Collection: 56000\\nMarketin_expense: 20.8226\\nBudget: 37368.485\\nLead_ Actor_Rating: 7.25\\nLead_Actress_rating: 7.36\\nTrailer_views: 499995\\nGenre: Drama\\nNum_multiplex: 374\\n3D_available: YES'), Document(metadata={'source': 'Movie_collection_dataset.csv', 'row': 81}, page_content='Collection: 47800\\nMarketin_expense: 20.8924\\nBudget: 36768.545\\nLead_ Actor_Rating: 7.145\\nLead_Actress_rating: 7.445\\nTrailer_views: 510436\\nGenre: Drama\\nNum_multiplex: 501\\n3D_available: YES'), Document(metadata={'source': 'Movie_collection_dataset.csv', 'row': 82}, page_content='Collection: 49600\\nMarketin_expense: 20.7318\\nBudget: 35007.61\\nLead_ Actor_Rating: 7.235\\nLead_Actress_rating: 7.405\\nTrailer_views: 492574\\nGenre: Thriller\\nNum_multiplex: 469\\n3D_available: NO'), Document(metadata={'source': 'Movie_collection_dataset.csv', 'row': 83}, page_content='Collection: 45800\\nMarketin_expense: 20.7102\\nBudget: 34257.685\\nLead_ Actor_Rating: 7.24\\nLead_Actress_rating: 7.41\\nTrailer_views: 485743\\nGenre: Drama\\nNum_multiplex: 405\\n3D_available: YES'), Document(metadata={'source': 'Movie_collection_dataset.csv', 'row': 84}, page_content='Collection: 47800\\nMarketin_expense: 21.0118\\nBudget: 35490.895\\nLead_ Actor_Rating: 7.515\\nLead_Actress_rating: 7.645\\nTrailer_views: 454277\\nGenre: Drama\\nNum_multiplex: 422\\n3D_available: NO'), Document(metadata={'source': 'Movie_collection_dataset.csv', 'row': 85}, page_content='Collection: 53200\\nMarketin_expense: 21.147\\nBudget: 36829.65\\nLead_ Actor_Rating: 7.625\\nLead_Actress_rating: 7.925\\nTrailer_views: 495454\\nGenre: Thriller\\nNum_multiplex: 521\\n3D_available: NO'), Document(metadata={'source': 'Movie_collection_dataset.csv', 'row': 86}, page_content='Collection: 45000\\nMarketin_expense: 21.0376\\nBudget: 33413.325\\nLead_ Actor_Rating: 7.69\\nLead_Actress_rating: 7.92\\nTrailer_views: 436753\\nGenre: Thriller\\nNum_multiplex: 472\\n3D_available: YES'), Document(metadata={'source': 'Movie_collection_dataset.csv', 'row': 87}, page_content='Collection: 44400\\nMarketin_expense: 21.4302\\nBudget: 34002.155\\nLead_ Actor_Rating: 8.035\\nLead_Actress_rating: 8.13\\nTrailer_views: 489563\\nGenre: Comedy\\nNum_multiplex: 510\\n3D_available: YES'), Document(metadata={'source': 'Movie_collection_dataset.csv', 'row': 88}, page_content='Collection: 47200\\nMarketin_expense: 21.132\\nBudget: 38923.885\\nLead_ Actor_Rating: 8.25\\nLead_Actress_rating: 8.455\\nTrailer_views: 509357\\nGenre: Thriller\\nNum_multiplex: 456\\n3D_available: NO'), Document(metadata={'source': 'Movie_collection_dataset.csv', 'row': 89}, page_content='Collection: 57400\\nMarketin_expense: 21.0604\\nBudget: 39323.845\\nLead_ Actor_Rating: 8.17\\nLead_Actress_rating: 8.31\\nTrailer_views: 515362\\nGenre: Comedy\\nNum_multiplex: 478\\n3D_available: YES'), Document(metadata={'source': 'Movie_collection_dataset.csv', 'row': 90}, page_content='Collection: 45200\\nMarketin_expense: 20.9368\\nBudget: 35646.435\\nLead_ Actor_Rating: 8.43\\nLead_Actress_rating: 8.535\\nTrailer_views: 503147\\nGenre: Drama\\nNum_multiplex: 424\\n3D_available: YES'), Document(metadata={'source': 'Movie_collection_dataset.csv', 'row': 91}, page_content='Collection: 44000\\nMarketin_expense: 20.7864\\nBudget: 35579.775\\nLead_ Actor_Rating: 8.42\\nLead_Actress_rating: 8.525\\nTrailer_views: 496193\\nGenre: Thriller\\nNum_multiplex: 451\\n3D_available: NO'), Document(metadata={'source': 'Movie_collection_dataset.csv', 'row': 92}, page_content='Collection: 45800\\nMarketin_expense: 20.8406\\nBudget: 35785.31\\nLead_ Actor_Rating: 8.02\\nLead_Actress_rating: 8.295\\nTrailer_views: 489837\\nGenre: Drama\\nNum_multiplex: 518\\n3D_available: NO'), Document(metadata={'source': 'Movie_collection_dataset.csv', 'row': 93}, page_content='Collection: 50000\\nMarketin_expense: 20.575\\nBudget: 34502.105\\nLead_ Actor_Rating: 8.04\\nLead_Actress_rating: 8.225\\nTrailer_views: 508101\\nGenre: Action\\nNum_multiplex: 492\\n3D_available: NO'), Document(metadata={'source': 'Movie_collection_dataset.csv', 'row': 94}, page_content='Collection: 41200\\nMarketin_expense: 20.8588\\nBudget: 34713.195\\nLead_ Actor_Rating: 8.095\\nLead_Actress_rating: 8.33\\nTrailer_views: 468556\\nGenre: Action\\nNum_multiplex: 465\\n3D_available: NO'), Document(metadata={'source': 'Movie_collection_dataset.csv', 'row': 95}, page_content='Collection: 56800\\nMarketin_expense: 22.4408\\nBudget: 36801.875\\nLead_ Actor_Rating: 8.215\\nLead_Actress_rating: 8.385\\nTrailer_views: 489220\\nGenre: Thriller\\nNum_multiplex: 467\\n3D_available: NO'), Document(metadata={'source': 'Movie_collection_dataset.csv', 'row': 96}, page_content='Collection: 42800\\nMarketin_expense: 22.3008\\nBudget: 34235.465\\nLead_ Actor_Rating: 8.21\\nLead_Actress_rating: 8.325\\nTrailer_views: 467769\\nGenre: Thriller\\nNum_multiplex: 463\\n3D_available: NO'), Document(metadata={'source': 'Movie_collection_dataset.csv', 'row': 97}, page_content='Collection: 77400\\nMarketin_expense: 22.4166\\nBudget: 44823.295\\nLead_ Actor_Rating: 8.15\\nLead_Actress_rating: 8.34\\nTrailer_views: 543618\\nGenre: Thriller\\nNum_multiplex: 413\\n3D_available: YES'), Document(metadata={'source': 'Movie_collection_dataset.csv', 'row': 98}, page_content='Collection: 87600\\nMarketin_expense: 21.6374\\nBudget: 43440.1\\nLead_ Actor_Rating: 8.23\\nLead_Actress_rating: 8.29\\nTrailer_views: 544945\\nGenre: Action\\nNum_multiplex: 512\\n3D_available: YES'), Document(metadata={'source': 'Movie_collection_dataset.csv', 'row': 99}, page_content='Collection: 66400\\nMarketin_expense: 21.372\\nBudget: 41195.88\\nLead_ Actor_Rating: 8.085\\nLead_Actress_rating: 8.32\\nTrailer_views: 484613\\nGenre: Thriller\\nNum_multiplex: 510\\n3D_available: NO'), Document(metadata={'source': 'Movie_collection_dataset.csv', 'row': 100}, page_content='Collection: 55000\\nMarketin_expense: 22.9732\\nBudget: 37368.485\\nLead_ Actor_Rating: 8.45\\nLead_Actress_rating: 8.66\\nTrailer_views: 471052\\nGenre: Drama\\nNum_multiplex: 470\\n3D_available: YES'), Document(metadata={'source': 'Movie_collection_dataset.csv', 'row': 101}, page_content='Collection: 53000\\nMarketin_expense: 22.2864\\nBudget: 37668.455\\nLead_ Actor_Rating: 8.425\\nLead_Actress_rating: 8.63\\nTrailer_views: 491484\\nGenre: Thriller\\nNum_multiplex: 445\\n3D_available: YES'), Document(metadata={'source': 'Movie_collection_dataset.csv', 'row': 102}, page_content='Collection: 37200\\nMarketin_expense: 24.5752\\nBudget: 35579.775\\nLead_ Actor_Rating: 8.485\\nLead_Actress_rating: 8.725\\nTrailer_views: 457364\\nGenre: Action\\nNum_multiplex: 544\\n3D_available: NO'), Document(metadata={'source': 'Movie_collection_dataset.csv', 'row': 103}, page_content='Collection: 38600\\nMarketin_expense: 24.2322\\nBudget: 34091.035\\nLead_ Actor_Rating: 8.515\\nLead_Actress_rating: 8.79\\nTrailer_views: 443252\\nGenre: Comedy\\nNum_multiplex: 555\\n3D_available: YES'), Document(metadata={'source': 'Movie_collection_dataset.csv', 'row': 104}, page_content='Collection: 40200\\nMarketin_expense: 22.792\\nBudget: 34257.685\\nLead_ Actor_Rating: 8.685\\nLead_Actress_rating: 8.875\\nTrailer_views: 432081\\nGenre: Comedy\\nNum_multiplex: 458\\n3D_available: YES'), Document(metadata={'source': 'Movie_collection_dataset.csv', 'row': 105}, page_content='Collection: 39000\\nMarketin_expense: 22.6524\\nBudget: 32502.305\\nLead_ Actor_Rating: 8.905\\nLead_Actress_rating: 9.025\\nTrailer_views: 430817\\nGenre: Comedy\\nNum_multiplex: 515\\n3D_available: YES'), Document(metadata={'source': 'Movie_collection_dataset.csv', 'row': 106}, page_content='Collection: 39000\\nMarketin_expense: 23.424\\nBudget: 32418.98\\nLead_ Actor_Rating: 8.815\\nLead_Actress_rating: 8.965\\nTrailer_views: 405008\\nGenre: Drama\\nNum_multiplex: 482\\n3D_available: YES'), Document(metadata={'source': 'Movie_collection_dataset.csv', 'row': 107}, page_content='Collection: 40800\\nMarketin_expense: 22.6234\\nBudget: 34035.485\\nLead_ Actor_Rating: 8.825\\nLead_Actress_rating: 9.025\\nTrailer_views: 442160\\nGenre: Action\\nNum_multiplex: 517\\n3D_available: YES'), Document(metadata={'source': 'Movie_collection_dataset.csv', 'row': 108}, page_content='Collection: 39600\\nMarketin_expense: 22.5604\\nBudget: 35963.07\\nLead_ Actor_Rating: 8.64\\nLead_Actress_rating: 8.91\\nTrailer_views: 473768\\nGenre: Action\\nNum_multiplex: 502\\n3D_available: NO'), Document(metadata={'source': 'Movie_collection_dataset.csv', 'row': 109}, page_content='Collection: 38800\\nMarketin_expense: 25.2726\\nBudget: 34602.095\\nLead_ Actor_Rating: 8.715\\nLead_Actress_rating: 8.86\\nTrailer_views: 437611\\nGenre: Comedy\\nNum_multiplex: 555\\n3D_available: YES'), Document(metadata={'source': 'Movie_collection_dataset.csv', 'row': 110}, page_content='Collection: 43400\\nMarketin_expense: 22.1586\\nBudget: 34413.225\\nLead_ Actor_Rating: 8.475\\nLead_Actress_rating: 8.7\\nTrailer_views: 423752\\nGenre: Comedy\\nNum_multiplex: 453\\n3D_available: YES'), Document(metadata={'source': 'Movie_collection_dataset.csv', 'row': 111}, page_content='Collection: 45600\\nMarketin_expense: 22.0168\\nBudget: 37301.825\\nLead_ Actor_Rating: 8.595\\nLead_Actress_rating: 8.685\\nTrailer_views: 495560\\nGenre: Thriller\\nNum_multiplex: 544\\n3D_available: YES'), Document(metadata={'source': 'Movie_collection_dataset.csv', 'row': 112}, page_content='Collection: 37600\\nMarketin_expense: 22.4658\\nBudget: 32846.715\\nLead_ Actor_Rating: 8.725\\nLead_Actress_rating: 8.885\\nTrailer_views: 394329\\nGenre: Thriller\\nNum_multiplex: 577\\n3D_available: YES'), Document(metadata={'source': 'Movie_collection_dataset.csv', 'row': 113}, page_content='Collection: 37400\\nMarketin_expense: 24.4424\\nBudget: 33841.06\\nLead_ Actor_Rating: 8.705\\nLead_Actress_rating: 8.875\\nTrailer_views: 405200\\nGenre: Thriller\\nNum_multiplex: 604\\n3D_available: YES'), Document(metadata={'source': 'Movie_collection_dataset.csv', 'row': 114}, page_content='Collection: 37000\\nMarketin_expense: 22.8462\\nBudget: 34740.97\\nLead_ Actor_Rating: 8.73\\nLead_Actress_rating: 8.93\\nTrailer_views: 446050\\nGenre: Action\\nNum_multiplex: 570\\n3D_available: NO'), Document(metadata={'source': 'Movie_collection_dataset.csv', 'row': 115}, page_content='Collection: 36600\\nMarketin_expense: 23.4268\\nBudget: 32930.04\\nLead_ Actor_Rating: 8.72\\nLead_Actress_rating: 8.795\\nTrailer_views: 415458\\nGenre: Comedy\\nNum_multiplex: 539\\n3D_available: NO'), Document(metadata={'source': 'Movie_collection_dataset.csv', 'row': 116}, page_content='Collection: 42400\\nMarketin_expense: 22.6316\\nBudget: 34307.68\\nLead_ Actor_Rating: 8.535\\nLead_Actress_rating: 8.645\\nTrailer_views: 432696\\nGenre: Comedy\\nNum_multiplex: 528\\n3D_available: NO'), Document(metadata={'source': 'Movie_collection_dataset.csv', 'row': 117}, page_content='Collection: 38400\\nMarketin_expense: 23.0196\\nBudget: 33446.655\\nLead_ Actor_Rating: 8.615\\nLead_Actress_rating: 8.755\\nTrailer_views: 454755\\nGenre: Action\\nNum_multiplex: 609\\n3D_available: NO'), Document(metadata={'source': 'Movie_collection_dataset.csv', 'row': 118}, page_content='Collection: 40800\\nMarketin_expense: 22.6116\\nBudget: 32618.96\\nLead_ Actor_Rating: 8.6\\nLead_Actress_rating: 8.865\\nTrailer_views: 410730\\nGenre: Thriller\\nNum_multiplex: 566\\n3D_available: YES'), Document(metadata={'source': 'Movie_collection_dataset.csv', 'row': 119}, page_content='Collection: 38600\\nMarketin_expense: 22.8952\\nBudget: 31835.705\\nLead_ Actor_Rating: 8.52\\nLead_Actress_rating: 8.74\\nTrailer_views: 463019\\nGenre: Thriller\\nNum_multiplex: 530\\n3D_available: YES'), Document(metadata={'source': 'Movie_collection_dataset.csv', 'row': 120}, page_content='Collection: 44000\\nMarketin_expense: 21.3798\\nBudget: 32607.85\\nLead_ Actor_Rating: 8.8\\nLead_Actress_rating: 8.92\\nTrailer_views: 455844\\nGenre: Thriller\\nNum_multiplex: 570\\n3D_available: YES'), Document(metadata={'source': 'Movie_collection_dataset.csv', 'row': 121}, page_content='Collection: 40600\\nMarketin_expense: 21.433\\nBudget: 33352.22\\nLead_ Actor_Rating: 8.78\\nLead_Actress_rating: 9.02\\nTrailer_views: 454602\\nGenre: Action\\nNum_multiplex: 568\\n3D_available: YES'), Document(metadata={'source': 'Movie_collection_dataset.csv', 'row': 122}, page_content='Collection: 41000\\nMarketin_expense: 21.8598\\nBudget: 33113.355\\nLead_ Actor_Rating: 8.83\\nLead_Actress_rating: 9.075\\nTrailer_views: 388265\\nGenre: Comedy\\nNum_multiplex: 608\\n3D_available: YES'), Document(metadata={'source': 'Movie_collection_dataset.csv', 'row': 123}, page_content='Collection: 34600\\nMarketin_expense: 23.0076\\nBudget: 32530.08\\nLead_ Actor_Rating: 8.89\\nLead_Actress_rating: 9.09\\nTrailer_views: 334417\\nGenre: Drama\\nNum_multiplex: 524\\n3D_available: YES'), Document(metadata={'source': 'Movie_collection_dataset.csv', 'row': 124}, page_content='Collection: 37600\\nMarketin_expense: 21.9698\\nBudget: 32657.845\\nLead_ Actor_Rating: 8.895\\nLead_Actress_rating: 9.13\\nTrailer_views: 395312\\nGenre: Thriller\\nNum_multiplex: 622\\n3D_available: NO'), Document(metadata={'source': 'Movie_collection_dataset.csv', 'row': 125}, page_content='Collection: 42800\\nMarketin_expense: 23.3804\\nBudget: 33252.23\\nLead_ Actor_Rating: 8.935\\nLead_Actress_rating: 9.075\\nTrailer_views: 443766\\nGenre: Drama\\nNum_multiplex: 608\\n3D_available: YES'), Document(metadata={'source': 'Movie_collection_dataset.csv', 'row': 126}, page_content='Collection: 31400\\nMarketin_expense: 27.747\\nBudget: 31180.215\\nLead_ Actor_Rating: 9.035\\nLead_Actress_rating: 9.24\\nTrailer_views: 303828\\nGenre: Drama\\nNum_multiplex: 635\\n3D_available: NO'), Document(metadata={'source': 'Movie_collection_dataset.csv', 'row': 127}, page_content='Collection: 32400\\nMarketin_expense: 25.183\\nBudget: 31624.615\\nLead_ Actor_Rating: 8.955\\nLead_Actress_rating: 9.135\\nTrailer_views: 391198\\nGenre: Comedy\\nNum_multiplex: 567\\n3D_available: YES'), Document(metadata={'source': 'Movie_collection_dataset.csv', 'row': 128}, page_content='Collection: 36000\\nMarketin_expense: 26.5086\\nBudget: 35724.205\\nLead_ Actor_Rating: 9.02\\nLead_Actress_rating: 9.195\\nTrailer_views: 444896\\nGenre: Comedy\\nNum_multiplex: 564\\n3D_available: NO'), Document(metadata={'source': 'Movie_collection_dataset.csv', 'row': 129}, page_content='Collection: 28600\\nMarketin_expense: 37.625\\nBudget: 31313.535\\nLead_ Actor_Rating: 8.85\\nLead_Actress_rating: 9.06\\nTrailer_views: 406685\\nGenre: Drama\\nNum_multiplex: 581\\n3D_available: YES'), Document(metadata={'source': 'Movie_collection_dataset.csv', 'row': 130}, page_content='Collection: 38400\\nMarketin_expense: 26.8012\\nBudget: 35874.19\\nLead_ Actor_Rating: 8.815\\nLead_Actress_rating: 9.035\\nTrailer_views: 466796\\nGenre: Comedy\\nNum_multiplex: 663\\n3D_available: YES'), Document(metadata={'source': 'Movie_collection_dataset.csv', 'row': 131}, page_content='Collection: 39200\\nMarketin_expense: 43.8588\\nBudget: 35140.93\\nLead_ Actor_Rating: 8.73\\nLead_Actress_rating: 8.985\\nTrailer_views: 438063\\nGenre: Comedy\\nNum_multiplex: 559\\n3D_available: YES'), Document(metadata={'source': 'Movie_collection_dataset.csv', 'row': 132}, page_content='Collection: 46000\\nMarketin_expense: 31.801\\nBudget: 35396.46\\nLead_ Actor_Rating: 8.795\\nLead_Actress_rating: 8.92\\nTrailer_views: 456491\\nGenre: Action\\nNum_multiplex: 550\\n3D_available: YES'), Document(metadata={'source': 'Movie_collection_dataset.csv', 'row': 133}, page_content='Collection: 36800\\nMarketin_expense: 26.5964\\nBudget: 32341.21\\nLead_ Actor_Rating: 8.635\\nLead_Actress_rating: 8.79\\nTrailer_views: 426316\\nGenre: Action\\nNum_multiplex: 617\\n3D_available: YES'), Document(metadata={'source': 'Movie_collection_dataset.csv', 'row': 134}, page_content='Collection: 31200\\nMarketin_expense: 39.5234\\nBudget: 31980.135\\nLead_ Actor_Rating: 8.825\\nLead_Actress_rating: 8.86\\nTrailer_views: 402396\\nGenre: Action\\nNum_multiplex: 646\\n3D_available: NO'), Document(metadata={'source': 'Movie_collection_dataset.csv', 'row': 135}, page_content='Collection: 36200\\nMarketin_expense: 31.1556\\nBudget: 35190.925\\nLead_ Actor_Rating: 8.89\\nLead_Actress_rating: 8.965\\nTrailer_views: 411162\\nGenre: Thriller\\nNum_multiplex: 663\\n3D_available: YES'), Document(metadata={'source': 'Movie_collection_dataset.csv', 'row': 136}, page_content='Collection: 34800\\nMarketin_expense: 26.4528\\nBudget: 33007.81\\nLead_ Actor_Rating: 8.87\\nLead_Actress_rating: 9.08\\nTrailer_views: 394365\\nGenre: Thriller\\nNum_multiplex: 622\\n3D_available: NO'), Document(metadata={'source': 'Movie_collection_dataset.csv', 'row': 137}, page_content='Collection: 34200\\nMarketin_expense: 27.0466\\nBudget: 35851.97\\nLead_ Actor_Rating: 8.925\\nLead_Actress_rating: 9.235\\nTrailer_views: 442884\\nGenre: Comedy\\nNum_multiplex: 674\\n3D_available: YES'), Document(metadata={'source': 'Movie_collection_dataset.csv', 'row': 138}, page_content='Collection: 26600\\nMarketin_expense: 24.996\\nBudget: 32535.635\\nLead_ Actor_Rating: 9.055\\nLead_Actress_rating: 9.295\\nTrailer_views: 380380\\nGenre: Thriller\\nNum_multiplex: 593\\n3D_available: NO'), Document(metadata={'source': 'Movie_collection_dataset.csv', 'row': 139}, page_content='Collection: 35600\\nMarketin_expense: 30.8904\\nBudget: 34168.805\\nLead_ Actor_Rating: 9.045\\nLead_Actress_rating: 9.205\\nTrailer_views: 411330\\nGenre: Drama\\nNum_multiplex: 592\\n3D_available: YES'), Document(metadata={'source': 'Movie_collection_dataset.csv', 'row': 140}, page_content='Collection: 28000\\nMarketin_expense: 25.818\\nBudget: 34296.57\\nLead_ Actor_Rating: 9.07\\nLead_Actress_rating: 9.23\\nTrailer_views: 354960\\nGenre: Drama\\nNum_multiplex: 570\\n3D_available: NO'), Document(metadata={'source': 'Movie_collection_dataset.csv', 'row': 141}, page_content='Collection: 28800\\nMarketin_expense: 52.5728\\nBudget: 27880.545\\nLead_ Actor_Rating: 9.185\\nLead_Actress_rating: 9.34\\nTrailer_views: 233100\\nGenre: Comedy\\nNum_multiplex: 561\\n3D_available: YES'), Document(metadata={'source': 'Movie_collection_dataset.csv', 'row': 142}, page_content='Collection: 26800\\nMarketin_expense: 86.421\\nBudget: 30013.665\\nLead_ Actor_Rating: 9.33\\nLead_Actress_rating: 9.48\\nTrailer_views: 329378\\nGenre: Thriller\\nNum_multiplex: 807\\n3D_available: YES'), Document(metadata={'source': 'Movie_collection_dataset.csv', 'row': 143}, page_content='Collection: 31200\\nMarketin_expense: 101.948\\nBudget: 30374.74\\nLead_ Actor_Rating: 9.18\\nLead_Actress_rating: 9.4\\nTrailer_views: 308802\\nGenre: Comedy\\nNum_multiplex: 793\\n3D_available: YES'), Document(metadata={'source': 'Movie_collection_dataset.csv', 'row': 144}, page_content='Collection: 23600\\nMarketin_expense: 75.5948\\nBudget: 27236.165\\nLead_ Actor_Rating: 9.26\\nLead_Actress_rating: 9.46\\nTrailer_views: 294970\\nGenre: Thriller\\nNum_multiplex: 795\\n3D_available: YES'), Document(metadata={'source': 'Movie_collection_dataset.csv', 'row': 145}, page_content='Collection: 27600\\nMarketin_expense: 67.5868\\nBudget: 34052.15\\nLead_ Actor_Rating: 9.155\\nLead_Actress_rating: 9.37\\nTrailer_views: 305675\\nGenre: Thriller\\nNum_multiplex: 846\\n3D_available: YES'), Document(metadata={'source': 'Movie_collection_dataset.csv', 'row': 146}, page_content='Collection: 31200\\nMarketin_expense: 63.101\\nBudget: 31263.54\\nLead_ Actor_Rating: 9.09\\nLead_Actress_rating: 9.255\\nTrailer_views: 399297\\nGenre: Thriller\\nNum_multiplex: 760\\n3D_available: YES'), Document(metadata={'source': 'Movie_collection_dataset.csv', 'row': 147}, page_content='Collection: 29200\\nMarketin_expense: 67.3724\\nBudget: 27363.93\\nLead_ Actor_Rating: 9.115\\nLead_Actress_rating: 9.32\\nTrailer_views: 286266\\nGenre: Comedy\\nNum_multiplex: 800\\n3D_available: NO'), Document(metadata={'source': 'Movie_collection_dataset.csv', 'row': 148}, page_content='Collection: 35600\\nMarketin_expense: 66.6198\\nBudget: 28808.23\\nLead_ Actor_Rating: 9.21\\nLead_Actress_rating: 9.385\\nTrailer_views: 309356\\nGenre: Drama\\nNum_multiplex: 838\\n3D_available: NO'), Document(metadata={'source': 'Movie_collection_dataset.csv', 'row': 149}, page_content='Collection: 30800\\nMarketin_expense: 74.6794\\nBudget: 31091.335\\nLead_ Actor_Rating: 9.12\\nLead_Actress_rating: 9.39\\nTrailer_views: 347105\\nGenre: Comedy\\nNum_multiplex: 759\\n3D_available: NO'), Document(metadata={'source': 'Movie_collection_dataset.csv', 'row': 150}, page_content='Collection: 43000\\nMarketin_expense: 53.132\\nBudget: 34007.71\\nLead_ Actor_Rating: 9.175\\nLead_Actress_rating: 9.24\\nTrailer_views: 428936\\nGenre: Thriller\\nNum_multiplex: 831\\n3D_available: NO'), Document(metadata={'source': 'Movie_collection_dataset.csv', 'row': 151}, page_content='Collection: 39200\\nMarketin_expense: 49.9264\\nBudget: 30019.22\\nLead_ Actor_Rating: 9.07\\nLead_Actress_rating: 9.27\\nTrailer_views: 466687\\nGenre: Thriller\\nNum_multiplex: 754\\n3D_available: NO'), Document(metadata={'source': 'Movie_collection_dataset.csv', 'row': 152}, page_content='Collection: 30600\\nMarketin_expense: 42.5316\\nBudget: 27841.66\\nLead_ Actor_Rating: 9.09\\nLead_Actress_rating: 9.22\\nTrailer_views: 455196\\nGenre: Comedy\\nNum_multiplex: 851\\n3D_available: YES'), Document(metadata={'source': 'Movie_collection_dataset.csv', 'row': 153}, page_content='Collection: 38800\\nMarketin_expense: 62.9836\\nBudget: 31713.495\\nLead_ Actor_Rating: 9.11\\nLead_Actress_rating: 9.32\\nTrailer_views: 411772\\nGenre: Comedy\\nNum_multiplex: 840\\n3D_available: NO'), Document(metadata={'source': 'Movie_collection_dataset.csv', 'row': 154}, page_content='Collection: 34000\\nMarketin_expense: 48.277\\nBudget: 34046.595\\nLead_ Actor_Rating: 9.115\\nLead_Actress_rating: 9.265\\nTrailer_views: 440004\\nGenre: Action\\nNum_multiplex: 806\\n3D_available: NO'), Document(metadata={'source': 'Movie_collection_dataset.csv', 'row': 155}, page_content='Collection: 31200\\nMarketin_expense: 90.7002\\nBudget: 34174.36\\nLead_ Actor_Rating: 9.06\\nLead_Actress_rating: 9.275\\nTrailer_views: 432078\\nGenre: Thriller\\nNum_multiplex: 868\\n3D_available: NO'), Document(metadata={'source': 'Movie_collection_dataset.csv', 'row': 156}, page_content='Collection: 26200\\nMarketin_expense: 68.9336\\nBudget: 29285.96\\nLead_ Actor_Rating: 9.005\\nLead_Actress_rating: 9.145\\nTrailer_views: 426057\\nGenre: Thriller\\nNum_multiplex: 749\\n3D_available: NO'), Document(metadata={'source': 'Movie_collection_dataset.csv', 'row': 157}, page_content='Collection: 82600\\nMarketin_expense: 44.4716\\nBudget: 38568.365\\nLead_ Actor_Rating: 9.005\\nLead_Actress_rating: 9.12\\nTrailer_views: 501350\\nGenre: Comedy\\nNum_multiplex: 549\\n3D_available: YES'), Document(metadata={'source': 'Movie_collection_dataset.csv', 'row': 158}, page_content='Collection: 48600\\nMarketin_expense: 46.8568\\nBudget: 33696.63\\nLead_ Actor_Rating: 9.02\\nLead_Actress_rating: 9.23\\nTrailer_views: 483363\\nGenre: Thriller\\nNum_multiplex: 556\\n3D_available: NO'), Document(metadata={'source': 'Movie_collection_dataset.csv', 'row': 159}, page_content='Collection: 46600\\nMarketin_expense: 48.5004\\nBudget: 36163.05\\nLead_ Actor_Rating: 9.08\\nLead_Actress_rating: 9.155\\nTrailer_views: 475753\\nGenre: Drama\\nNum_multiplex: 765\\n3D_available: YES'), Document(metadata={'source': 'Movie_collection_dataset.csv', 'row': 160}, page_content='Collection: 54000\\nMarketin_expense: 45.4692\\nBudget: 34718.75\\nLead_ Actor_Rating: 9.07\\nLead_Actress_rating: 9.24\\nTrailer_views: 540041\\nGenre: Drama\\nNum_multiplex: 519\\n3D_available: YES'), Document(metadata={'source': 'Movie_collection_dataset.csv', 'row': 161}, page_content='Collection: 100000\\nMarketin_expense: 49.2672\\nBudget: 41601.395\\nLead_ Actor_Rating: 8.915\\nLead_Actress_rating: 9.055\\nTrailer_views: 539697\\nGenre: Comedy\\nNum_multiplex: 539\\n3D_available: YES'), Document(metadata={'source': 'Movie_collection_dataset.csv', 'row': 162}, page_content='Collection: 100000\\nMarketin_expense: 56.6754\\nBudget: 43340.11\\nLead_ Actor_Rating: 8.87\\nLead_Actress_rating: 9.12\\nTrailer_views: 531084\\nGenre: Drama\\nNum_multiplex: 557\\n3D_available: YES'), Document(metadata={'source': 'Movie_collection_dataset.csv', 'row': 163}, page_content='Collection: 100000\\nMarketin_expense: 50.3804\\nBudget: 46523.125\\nLead_ Actor_Rating: 8.87\\nLead_Actress_rating: 9.03\\nTrailer_views: 561132\\nGenre: Thriller\\nNum_multiplex: 603\\n3D_available: YES'), Document(metadata={'source': 'Movie_collection_dataset.csv', 'row': 164}, page_content='Collection: 45400\\nMarketin_expense: 64.8472\\nBudget: 32518.97\\nLead_ Actor_Rating: 8.645\\nLead_Actress_rating: 8.805\\nTrailer_views: 467883\\nGenre: Drama\\nNum_multiplex: 659\\n3D_available: YES'), Document(metadata={'source': 'Movie_collection_dataset.csv', 'row': 165}, page_content='Collection: 50000\\nMarketin_expense: 78.48\\nBudget: 33891.055\\nLead_ Actor_Rating: 8.815\\nLead_Actress_rating: 8.86\\nTrailer_views: 471586\\nGenre: Thriller\\nNum_multiplex: 533\\n3D_available: YES'), Document(metadata={'source': 'Movie_collection_dataset.csv', 'row': 166}, page_content='Collection: 100000\\nMarketin_expense: 60.2038\\nBudget: 44045.595\\nLead_ Actor_Rating: 8.945\\nLead_Actress_rating: 9.045\\nTrailer_views: 517904\\nGenre: Thriller\\nNum_multiplex: 522\\n3D_available: YES'), Document(metadata={'source': 'Movie_collection_dataset.csv', 'row': 167}, page_content='Collection: 47600\\nMarketin_expense: 56.0056\\nBudget: 32646.735\\nLead_ Actor_Rating: 8.655\\nLead_Actress_rating: 8.895\\nTrailer_views: 468741\\nGenre: Drama\\nNum_multiplex: 549\\n3D_available: YES'), Document(metadata={'source': 'Movie_collection_dataset.csv', 'row': 168}, page_content='Collection: 47600\\nMarketin_expense: 66.008\\nBudget: 35102.045\\nLead_ Actor_Rating: 8.855\\nLead_Actress_rating: 8.98\\nTrailer_views: 473988\\nGenre: Comedy\\nNum_multiplex: 663\\n3D_available: NO'), Document(metadata={'source': 'Movie_collection_dataset.csv', 'row': 169}, page_content='Collection: 44600\\nMarketin_expense: 68.9906\\nBudget: 35563.11\\nLead_ Actor_Rating: 8.85\\nLead_Actress_rating: 8.94\\nTrailer_views: 449755\\nGenre: Action\\nNum_multiplex: 536\\n3D_available: NO'), Document(metadata={'source': 'Movie_collection_dataset.csv', 'row': 170}, page_content='Collection: 34800\\nMarketin_expense: 44.1484\\nBudget: 32635.625\\nLead_ Actor_Rating: 8.65\\nLead_Actress_rating: 8.79\\nTrailer_views: 438703\\nGenre: Drama\\nNum_multiplex: 606\\n3D_available: NO'), Document(metadata={'source': 'Movie_collection_dataset.csv', 'row': 171}, page_content='Collection: 38200\\nMarketin_expense: 66.278\\nBudget: 32663.4\\nLead_ Actor_Rating: 8.69\\nLead_Actress_rating: 8.82\\nTrailer_views: 470298\\nGenre: Thriller\\nNum_multiplex: 575\\n3D_available: NO'), Document(metadata={'source': 'Movie_collection_dataset.csv', 'row': 172}, page_content='Collection: 46200\\nMarketin_expense: 22.7828\\nBudget: 30952.46\\nLead_ Actor_Rating: 8.65\\nLead_Actress_rating: 8.73\\nTrailer_views: 415584\\nGenre: Thriller\\nNum_multiplex: 530\\n3D_available: NO'), Document(metadata={'source': 'Movie_collection_dataset.csv', 'row': 173}, page_content='Collection: 47200\\nMarketin_expense: 21.8356\\nBudget: 35640.88\\nLead_ Actor_Rating: 8.57\\nLead_Actress_rating: 8.715\\nTrailer_views: 467457\\nGenre: Comedy\\nNum_multiplex: 540\\n3D_available: YES'), Document(metadata={'source': 'Movie_collection_dataset.csv', 'row': 174}, page_content='Collection: 45200\\nMarketin_expense: 21.6894\\nBudget: 32546.745\\nLead_ Actor_Rating: 8.58\\nLead_Actress_rating: 8.65\\nTrailer_views: 480435\\nGenre: Thriller\\nNum_multiplex: 530\\n3D_available: YES'), Document(metadata={'source': 'Movie_collection_dataset.csv', 'row': 175}, page_content='Collection: 58800\\nMarketin_expense: 21.3328\\nBudget: 36363.03\\nLead_ Actor_Rating: 8.39\\nLead_Actress_rating: 8.545\\nTrailer_views: 500067\\nGenre: Comedy\\nNum_multiplex: 509\\n3D_available: YES'), Document(metadata={'source': 'Movie_collection_dataset.csv', 'row': 176}, page_content='Collection: 46400\\nMarketin_expense: 21.4044\\nBudget: 33441.1\\nLead_ Actor_Rating: 8.125\\nLead_Actress_rating: 8.295\\nTrailer_views: 491916\\nGenre: Drama\\nNum_multiplex: 520\\n3D_available: YES'), Document(metadata={'source': 'Movie_collection_dataset.csv', 'row': 177}, page_content='Collection: 49200\\nMarketin_expense: 21.085\\nBudget: 35079.825\\nLead_ Actor_Rating: 8.325\\nLead_Actress_rating: 8.36\\nTrailer_views: 487150\\nGenre: Drama\\nNum_multiplex: 474\\n3D_available: YES'), Document(metadata={'source': 'Movie_collection_dataset.csv', 'row': 178}, page_content='Collection: 59800\\nMarketin_expense: 21.3284\\nBudget: 38107.3\\nLead_ Actor_Rating: 8.405\\nLead_Actress_rating: 8.625\\nTrailer_views: 513390\\nGenre: Comedy\\nNum_multiplex: 548\\n3D_available: NO'), Document(metadata={'source': 'Movie_collection_dataset.csv', 'row': 179}, page_content='Collection: 74400\\nMarketin_expense: 21.156\\nBudget: 38773.9\\nLead_ Actor_Rating: 8.445\\nLead_Actress_rating: 8.725\\nTrailer_views: 505742\\nGenre: Drama\\nNum_multiplex: 456\\n3D_available: NO'), Document(metadata={'source': 'Movie_collection_dataset.csv', 'row': 180}, page_content='Collection: 79600\\nMarketin_expense: 21.3176\\nBudget: 43134.575\\nLead_ Actor_Rating: 8.51\\nLead_Actress_rating: 8.67\\nTrailer_views: 515276\\nGenre: Action\\nNum_multiplex: 466\\n3D_available: YES'), Document(metadata={'source': 'Movie_collection_dataset.csv', 'row': 181}, page_content='Collection: 72400\\nMarketin_expense: 21.3776\\nBudget: 34129.92\\nLead_ Actor_Rating: 8.655\\nLead_Actress_rating: 8.805\\nTrailer_views: 461876\\nGenre: Thriller\\nNum_multiplex: 561\\n3D_available: YES'), Document(metadata={'source': 'Movie_collection_dataset.csv', 'row': 182}, page_content='Collection: 75800\\nMarketin_expense: 21.8206\\nBudget: 39746.025\\nLead_ Actor_Rating: 8.64\\nLead_Actress_rating: 8.675\\nTrailer_views: 549262\\nGenre: Thriller\\nNum_multiplex: 430\\n3D_available: YES'), Document(metadata={'source': 'Movie_collection_dataset.csv', 'row': 183}, page_content='Collection: 65000\\nMarketin_expense: 22.0016\\nBudget: 36457.465\\nLead_ Actor_Rating: 8.48\\nLead_Actress_rating: 8.665\\nTrailer_views: 493498\\nGenre: Drama\\nNum_multiplex: 451\\n3D_available: YES'), Document(metadata={'source': 'Movie_collection_dataset.csv', 'row': 184}, page_content='Collection: 52800\\nMarketin_expense: 21.6616\\nBudget: 31130.22\\nLead_ Actor_Rating: 8.47\\nLead_Actress_rating: 8.58\\nTrailer_views: 440780\\nGenre: Drama\\nNum_multiplex: 467\\n3D_available: YES'), Document(metadata={'source': 'Movie_collection_dataset.csv', 'row': 185}, page_content='Collection: 59200\\nMarketin_expense: 21.2094\\nBudget: 34179.915\\nLead_ Actor_Rating: 8.285\\nLead_Actress_rating: 8.475\\nTrailer_views: 463628\\nGenre: Drama\\nNum_multiplex: 466\\n3D_available: YES'), Document(metadata={'source': 'Movie_collection_dataset.csv', 'row': 186}, page_content='Collection: 100000\\nMarketin_expense: 21.1204\\nBudget: 43501.205\\nLead_ Actor_Rating: 8.275\\nLead_Actress_rating: 8.405\\nTrailer_views: 511949\\nGenre: Drama\\nNum_multiplex: 458\\n3D_available: YES'), Document(metadata={'source': 'Movie_collection_dataset.csv', 'row': 187}, page_content='Collection: 64000\\nMarketin_expense: 21.575\\nBudget: 37674.01\\nLead_ Actor_Rating: 8.095\\nLead_Actress_rating: 8.15\\nTrailer_views: 480787\\nGenre: Thriller\\nNum_multiplex: 423\\n3D_available: YES'), Document(metadata={'source': 'Movie_collection_dataset.csv', 'row': 188}, page_content='Collection: 59600\\nMarketin_expense: 22.5158\\nBudget: 36418.58\\nLead_ Actor_Rating: 7.69\\nLead_Actress_rating: 7.86\\nTrailer_views: 537380\\nGenre: Thriller\\nNum_multiplex: 460\\n3D_available: YES'), Document(metadata={'source': 'Movie_collection_dataset.csv', 'row': 189}, page_content='Collection: 69800\\nMarketin_expense: 21.674\\nBudget: 39912.675\\nLead_ Actor_Rating: 7.585\\nLead_Actress_rating: 7.785\\nTrailer_views: 520707\\nGenre: Thriller\\nNum_multiplex: 464\\n3D_available: NO'), Document(metadata={'source': 'Movie_collection_dataset.csv', 'row': 190}, page_content='Collection: 66000\\nMarketin_expense: 21.8136\\nBudget: 38612.805\\nLead_ Actor_Rating: 6.73\\nLead_Actress_rating: 6.82\\nTrailer_views: 512163\\nGenre: Comedy\\nNum_multiplex: 510\\n3D_available: NO'), Document(metadata={'source': 'Movie_collection_dataset.csv', 'row': 191}, page_content='Collection: 61000\\nMarketin_expense: 21.3822\\nBudget: 37435.145\\nLead_ Actor_Rating: 6.645\\nLead_Actress_rating: 6.79\\nTrailer_views: 507193\\nGenre: Comedy\\nNum_multiplex: 384\\n3D_available: NO'), Document(metadata={'source': 'Movie_collection_dataset.csv', 'row': 192}, page_content='Collection: 72800\\nMarketin_expense: 21.7328\\nBudget: 39873.79\\nLead_ Actor_Rating: 6.62\\nLead_Actress_rating: 6.83\\nTrailer_views: 515199\\nGenre: Drama\\nNum_multiplex: 448\\n3D_available: YES'), Document(metadata={'source': 'Movie_collection_dataset.csv', 'row': 193}, page_content='Collection: 62200\\nMarketin_expense: 20.4374\\nBudget: 37774\\nLead_ Actor_Rating: 6.77\\nLead_Actress_rating: 6.935\\nTrailer_views: 503965\\nGenre: Thriller\\nNum_multiplex: 412\\n3D_available: NO'), Document(metadata={'source': 'Movie_collection_dataset.csv', 'row': 194}, page_content='Collection: 58200\\nMarketin_expense: 20.2878\\nBudget: 36685.22\\nLead_ Actor_Rating: 6.745\\nLead_Actress_rating: 6.985\\nTrailer_views: 525053\\nGenre: Thriller\\nNum_multiplex: 489\\n3D_available: NO'), Document(metadata={'source': 'Movie_collection_dataset.csv', 'row': 195}, page_content='Collection: 100000\\nMarketin_expense: 20.2762\\nBudget: 43745.625\\nLead_ Actor_Rating: 7.095\\nLead_Actress_rating: 7.235\\nTrailer_views: 546519\\nGenre: Thriller\\nNum_multiplex: 430\\n3D_available: YES'), Document(metadata={'source': 'Movie_collection_dataset.csv', 'row': 196}, page_content='Collection: 66600\\nMarketin_expense: 20.8022\\nBudget: 40479.285\\nLead_ Actor_Rating: 6.21\\nLead_Actress_rating: 6.4\\nTrailer_views: 549247\\nGenre: Action\\nNum_multiplex: 367\\n3D_available: YES'), Document(metadata={'source': 'Movie_collection_dataset.csv', 'row': 197}, page_content='Collection: 60600\\nMarketin_expense: 20.9332\\nBudget: 39479.385\\nLead_ Actor_Rating: 6.18\\nLead_Actress_rating: 6.49\\nTrailer_views: 511537\\nGenre: Action\\nNum_multiplex: 401\\n3D_available: YES'), Document(metadata={'source': 'Movie_collection_dataset.csv', 'row': 198}, page_content='Collection: 69200\\nMarketin_expense: 20.7536\\nBudget: 40407.07\\nLead_ Actor_Rating: 6.235\\nLead_Actress_rating: 6.39\\nTrailer_views: 519868\\nGenre: Drama\\nNum_multiplex: 412\\n3D_available: NO'), Document(metadata={'source': 'Movie_collection_dataset.csv', 'row': 199}, page_content='Collection: 69800\\nMarketin_expense: 20.63\\nBudget: 38746.125\\nLead_ Actor_Rating: 6.015\\nLead_Actress_rating: 6.24\\nTrailer_views: 536549\\nGenre: Comedy\\nNum_multiplex: 413\\n3D_available: YES'), Document(metadata={'source': 'Movie_collection_dataset.csv', 'row': 200}, page_content='Collection: 65800\\nMarketin_expense: 20.3556\\nBudget: 39634.925\\nLead_ Actor_Rating: 6.105\\nLead_Actress_rating: 6.185\\nTrailer_views: 535003\\nGenre: Drama\\nNum_multiplex: 465\\n3D_available: NO'), Document(metadata={'source': 'Movie_collection_dataset.csv', 'row': 201}, page_content='Collection: 48200\\nMarketin_expense: 20.689\\nBudget: 34229.91\\nLead_ Actor_Rating: 6.8\\nLead_Actress_rating: 6.965\\nTrailer_views: 501886\\nGenre: Thriller\\nNum_multiplex: 415\\n3D_available: YES'), Document(metadata={'source': 'Movie_collection_dataset.csv', 'row': 202}, page_content='Collection: 84600\\nMarketin_expense: 20.4354\\nBudget: 42273.55\\nLead_ Actor_Rating: 6.825\\nLead_Actress_rating: 6.955\\nTrailer_views: 554735\\nGenre: Action\\nNum_multiplex: 459\\n3D_available: NO'), Document(metadata={'source': 'Movie_collection_dataset.csv', 'row': 203}, page_content='Collection: 97000\\nMarketin_expense: 20.702\\nBudget: 43623.415\\nLead_ Actor_Rating: 7.315\\nLead_Actress_rating: 7.485\\nTrailer_views: 546954\\nGenre: Comedy\\nNum_multiplex: 410\\n3D_available: NO'), Document(metadata={'source': 'Movie_collection_dataset.csv', 'row': 204}, page_content='Collection: 100000\\nMarketin_expense: 20.4018\\nBudget: 44628.87\\nLead_ Actor_Rating: 7.295\\nLead_Actress_rating: 7.6\\nTrailer_views: 517393\\nGenre: Thriller\\nNum_multiplex: 442\\n3D_available: YES'), Document(metadata={'source': 'Movie_collection_dataset.csv', 'row': 205}, page_content='Collection: 45200\\nMarketin_expense: 22.7284\\nBudget: 32724.505\\nLead_ Actor_Rating: 7.88\\nLead_Actress_rating: 8.19\\nTrailer_views: 456271\\nGenre: Thriller\\nNum_multiplex: 563\\n3D_available: YES'), Document(metadata={'source': 'Movie_collection_dataset.csv', 'row': 206}, page_content='Collection: 48800\\nMarketin_expense: 24.5938\\nBudget: 35140.93\\nLead_ Actor_Rating: 7.685\\nLead_Actress_rating: 7.88\\nTrailer_views: 444948\\nGenre: Thriller\\nNum_multiplex: 511\\n3D_available: YES'), Document(metadata={'source': 'Movie_collection_dataset.csv', 'row': 207}, page_content='Collection: 45000\\nMarketin_expense: 25.0398\\nBudget: 32124.565\\nLead_ Actor_Rating: 7.68\\nLead_Actress_rating: 7.875\\nTrailer_views: 378970\\nGenre: Comedy\\nNum_multiplex: 519\\n3D_available: YES'), Document(metadata={'source': 'Movie_collection_dataset.csv', 'row': 208}, page_content='Collection: 48800\\nMarketin_expense: 22.7174\\nBudget: 33685.52\\nLead_ Actor_Rating: 7.85\\nLead_Actress_rating: 8.005\\nTrailer_views: 418851\\nGenre: Comedy\\nNum_multiplex: 447\\n3D_available: YES'), Document(metadata={'source': 'Movie_collection_dataset.csv', 'row': 209}, page_content='Collection: 40000\\nMarketin_expense: 28.7142\\nBudget: 29685.92\\nLead_ Actor_Rating: 8.025\\nLead_Actress_rating: 8.07\\nTrailer_views: 367698\\nGenre: Comedy\\nNum_multiplex: 562\\n3D_available: NO'), Document(metadata={'source': 'Movie_collection_dataset.csv', 'row': 210}, page_content='Collection: 43400\\nMarketin_expense: 23.4892\\nBudget: 33107.8\\nLead_ Actor_Rating: 8.045\\nLead_Actress_rating: 8.185\\nTrailer_views: 402133\\nGenre: Comedy\\nNum_multiplex: 446\\n3D_available: YES'), Document(metadata={'source': 'Movie_collection_dataset.csv', 'row': 211}, page_content='Collection: 38600\\nMarketin_expense: 27.5156\\nBudget: 30019.22\\nLead_ Actor_Rating: 8.005\\nLead_Actress_rating: 8.295\\nTrailer_views: 347413\\nGenre: Thriller\\nNum_multiplex: 489\\n3D_available: NO'), Document(metadata={'source': 'Movie_collection_dataset.csv', 'row': 212}, page_content='Collection: 44800\\nMarketin_expense: 24.3438\\nBudget: 32257.885\\nLead_ Actor_Rating: 8.17\\nLead_Actress_rating: 8.21\\nTrailer_views: 414813\\nGenre: Thriller\\nNum_multiplex: 527\\n3D_available: YES'), Document(metadata={'source': 'Movie_collection_dataset.csv', 'row': 213}, page_content='Collection: 56200\\nMarketin_expense: 22.8104\\nBudget: 35413.125\\nLead_ Actor_Rating: 7.945\\nLead_Actress_rating: 8.04\\nTrailer_views: 504226\\nGenre: Comedy\\nNum_multiplex: 441\\n3D_available: YES'), Document(metadata={'source': 'Movie_collection_dataset.csv', 'row': 214}, page_content='Collection: 47400\\nMarketin_expense: 25.791\\nBudget: 30063.66\\nLead_ Actor_Rating: 8.16\\nLead_Actress_rating: 8.26\\nTrailer_views: 298989\\nGenre: Comedy\\nNum_multiplex: 562\\n3D_available: YES'), Document(metadata={'source': 'Movie_collection_dataset.csv', 'row': 215}, page_content='Collection: 50000\\nMarketin_expense: 23.9604\\nBudget: 34341.01\\nLead_ Actor_Rating: 7.925\\nLead_Actress_rating: 8.095\\nTrailer_views: 456943\\nGenre: Drama\\nNum_multiplex: 480\\n3D_available: YES'), Document(metadata={'source': 'Movie_collection_dataset.csv', 'row': 216}, page_content='Collection: 46600\\nMarketin_expense: 20.912\\nBudget: 32707.84\\nLead_ Actor_Rating: 8.28\\nLead_Actress_rating: 8.515\\nTrailer_views: 429010\\nGenre: Action\\nNum_multiplex: 617\\n3D_available: YES'), Document(metadata={'source': 'Movie_collection_dataset.csv', 'row': 217}, page_content='Collection: 57400\\nMarketin_expense: 21.4026\\nBudget: 36896.31\\nLead_ Actor_Rating: 8.24\\nLead_Actress_rating: 8.405\\nTrailer_views: 461695\\nGenre: Comedy\\nNum_multiplex: 487\\n3D_available: NO'), Document(metadata={'source': 'Movie_collection_dataset.csv', 'row': 218}, page_content='Collection: 43000\\nMarketin_expense: 22.2138\\nBudget: 33057.805\\nLead_ Actor_Rating: 8.54\\nLead_Actress_rating: 8.56\\nTrailer_views: 411880\\nGenre: Comedy\\nNum_multiplex: 481\\n3D_available: YES'), Document(metadata={'source': 'Movie_collection_dataset.csv', 'row': 219}, page_content='Collection: 46000\\nMarketin_expense: 22.285\\nBudget: 35402.015\\nLead_ Actor_Rating: 8.175\\nLead_Actress_rating: 8.375\\nTrailer_views: 451935\\nGenre: Comedy\\nNum_multiplex: 561\\n3D_available: YES'), Document(metadata={'source': 'Movie_collection_dataset.csv', 'row': 220}, page_content='Collection: 53400\\nMarketin_expense: 27.1618\\nBudget: 38612.805\\nLead_ Actor_Rating: 8.485\\nLead_Actress_rating: 8.64\\nTrailer_views: 480270\\nGenre: Thriller\\nNum_multiplex: 536\\n3D_available: NO'), Document(metadata={'source': 'Movie_collection_dataset.csv', 'row': 221}, page_content='Collection: 43400\\nMarketin_expense: 28.1542\\nBudget: 34241.02\\nLead_ Actor_Rating: 8.345\\nLead_Actress_rating: 8.48\\nTrailer_views: 369907\\nGenre: Comedy\\nNum_multiplex: 574\\n3D_available: YES'), Document(metadata={'source': 'Movie_collection_dataset.csv', 'row': 222}, page_content='Collection: 55000\\nMarketin_expense: 32.4712\\nBudget: 38212.845\\nLead_ Actor_Rating: 8.295\\nLead_Actress_rating: 8.395\\nTrailer_views: 470809\\nGenre: Action\\nNum_multiplex: 469\\n3D_available: YES'), Document(metadata={'source': 'Movie_collection_dataset.csv', 'row': 223}, page_content='Collection: 60200\\nMarketin_expense: 32.294\\nBudget: 36762.99\\nLead_ Actor_Rating: 8.25\\nLead_Actress_rating: 8.4\\nTrailer_views: 489836\\nGenre: Thriller\\nNum_multiplex: 491\\n3D_available: YES'), Document(metadata={'source': 'Movie_collection_dataset.csv', 'row': 224}, page_content='Collection: 89600\\nMarketin_expense: 26.3066\\nBudget: 45917.63\\nLead_ Actor_Rating: 8.52\\nLead_Actress_rating: 8.635\\nTrailer_views: 549160\\nGenre: Drama\\nNum_multiplex: 570\\n3D_available: YES'), Document(metadata={'source': 'Movie_collection_dataset.csv', 'row': 225}, page_content='Collection: 100000\\nMarketin_expense: 30.5386\\nBudget: 48467.375\\nLead_ Actor_Rating: 8.435\\nLead_Actress_rating: 8.695\\nTrailer_views: 521198\\nGenre: Thriller\\nNum_multiplex: 570\\n3D_available: YES'), Document(metadata={'source': 'Movie_collection_dataset.csv', 'row': 226}, page_content='Collection: 75200\\nMarketin_expense: 27.6428\\nBudget: 44662.2\\nLead_ Actor_Rating: 8.255\\nLead_Actress_rating: 8.52\\nTrailer_views: 560909\\nGenre: Action\\nNum_multiplex: 532\\n3D_available: YES'), Document(metadata={'source': 'Movie_collection_dataset.csv', 'row': 227}, page_content='Collection: 63200\\nMarketin_expense: 28.2476\\nBudget: 39790.465\\nLead_ Actor_Rating: 8.345\\nLead_Actress_rating: 8.44\\nTrailer_views: 506523\\nGenre: Thriller\\nNum_multiplex: 541\\n3D_available: NO'), Document(metadata={'source': 'Movie_collection_dataset.csv', 'row': 228}, page_content='Collection: 93400\\nMarketin_expense: 25.9638\\nBudget: 42695.73\\nLead_ Actor_Rating: 8.225\\nLead_Actress_rating: 8.35\\nTrailer_views: 547397\\nGenre: Drama\\nNum_multiplex: 550\\n3D_available: YES'), Document(metadata={'source': 'Movie_collection_dataset.csv', 'row': 229}, page_content='Collection: 63000\\nMarketin_expense: 28.8356\\nBudget: 36396.36\\nLead_ Actor_Rating: 8.22\\nLead_Actress_rating: 8.36\\nTrailer_views: 561219\\nGenre: Comedy\\nNum_multiplex: 444\\n3D_available: YES'), Document(metadata={'source': 'Movie_collection_dataset.csv', 'row': 230}, page_content='Collection: 48600\\nMarketin_expense: 30.74\\nBudget: 33224.455\\nLead_ Actor_Rating: 8.015\\nLead_Actress_rating: 8.31\\nTrailer_views: 480986\\nGenre: Comedy\\nNum_multiplex: 467\\n3D_available: NO'), Document(metadata={'source': 'Movie_collection_dataset.csv', 'row': 231}, page_content='Collection: 63400\\nMarketin_expense: 29.2592\\nBudget: 41173.66\\nLead_ Actor_Rating: 8.06\\nLead_Actress_rating: 8.33\\nTrailer_views: 540602\\nGenre: Comedy\\nNum_multiplex: 540\\n3D_available: YES'), Document(metadata={'source': 'Movie_collection_dataset.csv', 'row': 232}, page_content='Collection: 83400\\nMarketin_expense: 31.5058\\nBudget: 46312.035\\nLead_ Actor_Rating: 7.97\\nLead_Actress_rating: 8.09\\nTrailer_views: 545730\\nGenre: Thriller\\nNum_multiplex: 574\\n3D_available: YES'), Document(metadata={'source': 'Movie_collection_dataset.csv', 'row': 233}, page_content='Collection: 96600\\nMarketin_expense: 26.6294\\nBudget: 45812.085\\nLead_ Actor_Rating: 8.09\\nLead_Actress_rating: 8.255\\nTrailer_views: 529841\\nGenre: Comedy\\nNum_multiplex: 504\\n3D_available: YES'), Document(metadata={'source': 'Movie_collection_dataset.csv', 'row': 234}, page_content='Collection: 58000\\nMarketin_expense: 28.9582\\nBudget: 37362.93\\nLead_ Actor_Rating: 8.165\\nLead_Actress_rating: 8.31\\nTrailer_views: 514773\\nGenre: Thriller\\nNum_multiplex: 441\\n3D_available: YES'), Document(metadata={'source': 'Movie_collection_dataset.csv', 'row': 235}, page_content='Collection: 48000\\nMarketin_expense: 26.609\\nBudget: 33807.73\\nLead_ Actor_Rating: 8.045\\nLead_Actress_rating: 8.305\\nTrailer_views: 471552\\nGenre: Comedy\\nNum_multiplex: 525\\n3D_available: YES'), Document(metadata={'source': 'Movie_collection_dataset.csv', 'row': 236}, page_content='Collection: 50200\\nMarketin_expense: 30.4116\\nBudget: 36835.205\\nLead_ Actor_Rating: 7.77\\nLead_Actress_rating: 8.05\\nTrailer_views: 502128\\nGenre: Action\\nNum_multiplex: 464\\n3D_available: YES'), Document(metadata={'source': 'Movie_collection_dataset.csv', 'row': 237}, page_content='Collection: 63000\\nMarketin_expense: 30.2366\\nBudget: 40873.69\\nLead_ Actor_Rating: 7.88\\nLead_Actress_rating: 8.09\\nTrailer_views: 533135\\nGenre: Thriller\\nNum_multiplex: 562\\n3D_available: YES'), Document(metadata={'source': 'Movie_collection_dataset.csv', 'row': 238}, page_content='Collection: 47400\\nMarketin_expense: 21.6488\\nBudget: 36001.955\\nLead_ Actor_Rating: 6.87\\nLead_Actress_rating: 6.94\\nTrailer_views: 523902\\nGenre: Action\\nNum_multiplex: 491\\n3D_available: YES'), Document(metadata={'source': 'Movie_collection_dataset.csv', 'row': 239}, page_content='Collection: 46600\\nMarketin_expense: 21.8504\\nBudget: 36696.33\\nLead_ Actor_Rating: 6.875\\nLead_Actress_rating: 6.945\\nTrailer_views: 507617\\nGenre: Action\\nNum_multiplex: 413\\n3D_available: NO'), Document(metadata={'source': 'Movie_collection_dataset.csv', 'row': 240}, page_content='Collection: 54000\\nMarketin_expense: 22.2658\\nBudget: 38312.835\\nLead_ Actor_Rating: 6.755\\nLead_Actress_rating: 6.935\\nTrailer_views: 470107\\nGenre: Comedy\\nNum_multiplex: 387\\n3D_available: YES'), Document(metadata={'source': 'Movie_collection_dataset.csv', 'row': 241}, page_content='Collection: 40200\\nMarketin_expense: 22.1224\\nBudget: 33857.725\\nLead_ Actor_Rating: 6.785\\nLead_Actress_rating: 6.96\\nTrailer_views: 462958\\nGenre: Comedy\\nNum_multiplex: 397\\n3D_available: NO'), Document(metadata={'source': 'Movie_collection_dataset.csv', 'row': 242}, page_content='Collection: 44400\\nMarketin_expense: 22.058\\nBudget: 35318.69\\nLead_ Actor_Rating: 6.445\\nLead_Actress_rating: 6.595\\nTrailer_views: 479264\\nGenre: Thriller\\nNum_multiplex: 412\\n3D_available: YES'), Document(metadata={'source': 'Movie_collection_dataset.csv', 'row': 243}, page_content='Collection: 47400\\nMarketin_expense: 22.5514\\nBudget: 35513.115\\nLead_ Actor_Rating: 6.47\\nLead_Actress_rating: 6.515\\nTrailer_views: 537248\\nGenre: Thriller\\nNum_multiplex: 481\\n3D_available: YES'), Document(metadata={'source': 'Movie_collection_dataset.csv', 'row': 244}, page_content='Collection: 35200\\nMarketin_expense: 24.1216\\nBudget: 31069.115\\nLead_ Actor_Rating: 5.925\\nLead_Actress_rating: 6.19\\nTrailer_views: 458708\\nGenre: Comedy\\nNum_multiplex: 412\\n3D_available: NO'), Document(metadata={'source': 'Movie_collection_dataset.csv', 'row': 245}, page_content='Collection: 37000\\nMarketin_expense: 23.8266\\nBudget: 31135.775\\nLead_ Actor_Rating: 5.86\\nLead_Actress_rating: 6.085\\nTrailer_views: 405929\\nGenre: Comedy\\nNum_multiplex: 438\\n3D_available: YES'), Document(metadata={'source': 'Movie_collection_dataset.csv', 'row': 246}, page_content='Collection: 48600\\nMarketin_expense: 26.7966\\nBudget: 33929.94\\nLead_ Actor_Rating: 5.815\\nLead_Actress_rating: 6.11\\nTrailer_views: 465288\\nGenre: Comedy\\nNum_multiplex: 489\\n3D_available: YES'), Document(metadata={'source': 'Movie_collection_dataset.csv', 'row': 247}, page_content='Collection: 41000\\nMarketin_expense: 23.9314\\nBudget: 34585.43\\nLead_ Actor_Rating: 5.915\\nLead_Actress_rating: 6.005\\nTrailer_views: 484343\\nGenre: Thriller\\nNum_multiplex: 466\\n3D_available: NO'), Document(metadata={'source': 'Movie_collection_dataset.csv', 'row': 248}, page_content='Collection: 49000\\nMarketin_expense: 23.2878\\nBudget: 35735.315\\nLead_ Actor_Rating: 5.975\\nLead_Actress_rating: 6.13\\nTrailer_views: 504043\\nGenre: Thriller\\nNum_multiplex: 494\\n3D_available: YES'), Document(metadata={'source': 'Movie_collection_dataset.csv', 'row': 249}, page_content='Collection: 52400\\nMarketin_expense: 23.8146\\nBudget: 37318.49\\nLead_ Actor_Rating: 5.96\\nLead_Actress_rating: 6.2\\nTrailer_views: 531248\\nGenre: Comedy\\nNum_multiplex: 443\\n3D_available: YES'), Document(metadata={'source': 'Movie_collection_dataset.csv', 'row': 250}, page_content='Collection: 48800\\nMarketin_expense: 22.806\\nBudget: 36035.285\\nLead_ Actor_Rating: 6.25\\nLead_Actress_rating: 6.34\\nTrailer_views: 522769\\nGenre: Thriller\\nNum_multiplex: 389\\n3D_available: YES'), Document(metadata={'source': 'Movie_collection_dataset.csv', 'row': 251}, page_content='Collection: 49600\\nMarketin_expense: 24.2818\\nBudget: 35763.09\\nLead_ Actor_Rating: 6.285\\nLead_Actress_rating: 6.41\\nTrailer_views: 548870\\nGenre: Drama\\nNum_multiplex: 469\\n3D_available: NO'), Document(metadata={'source': 'Movie_collection_dataset.csv', 'row': 252}, page_content='Collection: 59200\\nMarketin_expense: 21.6442\\nBudget: 38646.135\\nLead_ Actor_Rating: 5.41\\nLead_Actress_rating: 5.575\\nTrailer_views: 534094\\nGenre: Action\\nNum_multiplex: 396\\n3D_available: NO'), Document(metadata={'source': 'Movie_collection_dataset.csv', 'row': 253}, page_content='Collection: 85600\\nMarketin_expense: 27.3788\\nBudget: 45878.745\\nLead_ Actor_Rating: 5.485\\nLead_Actress_rating: 5.555\\nTrailer_views: 518247\\nGenre: Thriller\\nNum_multiplex: 509\\n3D_available: NO'), Document(metadata={'source': 'Movie_collection_dataset.csv', 'row': 254}, page_content='Collection: 43800\\nMarketin_expense: 20.9638\\nBudget: 33929.94\\nLead_ Actor_Rating: 5.305\\nLead_Actress_rating: 5.495\\nTrailer_views: 528690\\nGenre: Thriller\\nNum_multiplex: 370\\n3D_available: NO'), Document(metadata={'source': 'Movie_collection_dataset.csv', 'row': 255}, page_content='Collection: 41800\\nMarketin_expense: 20.7096\\nBudget: 32641.18\\nLead_ Actor_Rating: 5.385\\nLead_Actress_rating: 5.445\\nTrailer_views: 459998\\nGenre: Comedy\\nNum_multiplex: 438\\n3D_available: NO'), Document(metadata={'source': 'Movie_collection_dataset.csv', 'row': 256}, page_content='Collection: 88000\\nMarketin_expense: 20.3076\\nBudget: 41406.97\\nLead_ Actor_Rating: 6.67\\nLead_Actress_rating: 6.985\\nTrailer_views: 524356\\nGenre: Thriller\\nNum_multiplex: 422\\n3D_available: NO'), Document(metadata={'source': 'Movie_collection_dataset.csv', 'row': 257}, page_content='Collection: 100000\\nMarketin_expense: 32.2308\\nBudget: 48350.72\\nLead_ Actor_Rating: 8.955\\nLead_Actress_rating: 9.235\\nTrailer_views: 530690\\nGenre: Thriller\\nNum_multiplex: 552\\n3D_available: YES'), Document(metadata={'source': 'Movie_collection_dataset.csv', 'row': 258}, page_content='Collection: 72000\\nMarketin_expense: 33.2702\\nBudget: 40734.815\\nLead_ Actor_Rating: 8.9\\nLead_Actress_rating: 9.13\\nTrailer_views: 477252\\nGenre: Thriller\\nNum_multiplex: 601\\n3D_available: YES'), Document(metadata={'source': 'Movie_collection_dataset.csv', 'row': 259}, page_content='Collection: 60200\\nMarketin_expense: 33.133\\nBudget: 38007.31\\nLead_ Actor_Rating: 8.9\\nLead_Actress_rating: 9.09\\nTrailer_views: 483741\\nGenre: Thriller\\nNum_multiplex: 599\\n3D_available: YES'), Document(metadata={'source': 'Movie_collection_dataset.csv', 'row': 260}, page_content='Collection: 67600\\nMarketin_expense: 30.8022\\nBudget: 40012.665\\nLead_ Actor_Rating: 8.94\\nLead_Actress_rating: 9.025\\nTrailer_views: 483080\\nGenre: Drama\\nNum_multiplex: 681\\n3D_available: YES'), Document(metadata={'source': 'Movie_collection_dataset.csv', 'row': 261}, page_content='Collection: 86200\\nMarketin_expense: 30.6824\\nBudget: 41773.6\\nLead_ Actor_Rating: 8.8\\nLead_Actress_rating: 9\\nTrailer_views: 526451\\nGenre: Action\\nNum_multiplex: 651\\n3D_available: YES'), Document(metadata={'source': 'Movie_collection_dataset.csv', 'row': 262}, page_content='Collection: 97600\\nMarketin_expense: 30.4028\\nBudget: 46650.89\\nLead_ Actor_Rating: 8.725\\nLead_Actress_rating: 8.98\\nTrailer_views: 511151\\nGenre: Thriller\\nNum_multiplex: 552\\n3D_available: YES'), Document(metadata={'source': 'Movie_collection_dataset.csv', 'row': 263}, page_content='Collection: 62000\\nMarketin_expense: 36.5052\\nBudget: 40701.485\\nLead_ Actor_Rating: 8.795\\nLead_Actress_rating: 8.99\\nTrailer_views: 450060\\nGenre: Comedy\\nNum_multiplex: 555\\n3D_available: YES'), Document(metadata={'source': 'Movie_collection_dataset.csv', 'row': 264}, page_content='Collection: 73000\\nMarketin_expense: 31.0014\\nBudget: 40029.33\\nLead_ Actor_Rating: 9.02\\nLead_Actress_rating: 9.045\\nTrailer_views: 503379\\nGenre: Thriller\\nNum_multiplex: 588\\n3D_available: YES'), Document(metadata={'source': 'Movie_collection_dataset.csv', 'row': 265}, page_content='Collection: 45600\\nMarketin_expense: 35.2324\\nBudget: 30885.8\\nLead_ Actor_Rating: 8.95\\nLead_Actress_rating: 9.015\\nTrailer_views: 458883\\nGenre: Comedy\\nNum_multiplex: 589\\n3D_available: NO'), Document(metadata={'source': 'Movie_collection_dataset.csv', 'row': 266}, page_content='Collection: 61400\\nMarketin_expense: 35.714\\nBudget: 38962.77\\nLead_ Actor_Rating: 8.89\\nLead_Actress_rating: 9.07\\nTrailer_views: 440617\\nGenre: Thriller\\nNum_multiplex: 578\\n3D_available: NO'), Document(metadata={'source': 'Movie_collection_dataset.csv', 'row': 267}, page_content='Collection: 100000\\nMarketin_expense: 31.5668\\nBudget: 46089.835\\nLead_ Actor_Rating: 8.7\\nLead_Actress_rating: 8.935\\nTrailer_views: 495431\\nGenre: Comedy\\nNum_multiplex: 633\\n3D_available: YES'), Document(metadata={'source': 'Movie_collection_dataset.csv', 'row': 268}, page_content='Collection: 87000\\nMarketin_expense: 30.81\\nBudget: 41495.85\\nLead_ Actor_Rating: 8.415\\nLead_Actress_rating: 8.69\\nTrailer_views: 558567\\nGenre: Drama\\nNum_multiplex: 504\\n3D_available: NO'), Document(metadata={'source': 'Movie_collection_dataset.csv', 'row': 269}, page_content='Collection: 41400\\nMarketin_expense: 21.813\\nBudget: 32885.6\\nLead_ Actor_Rating: 7.89\\nLead_Actress_rating: 8.185\\nTrailer_views: 442828\\nGenre: Action\\nNum_multiplex: 524\\n3D_available: NO'), Document(metadata={'source': 'Movie_collection_dataset.csv', 'row': 270}, page_content='Collection: 42200\\nMarketin_expense: 25.9832\\nBudget: 32530.08\\nLead_ Actor_Rating: 7.67\\nLead_Actress_rating: 7.895\\nTrailer_views: 448615\\nGenre: Comedy\\nNum_multiplex: 466\\n3D_available: YES'), Document(metadata={'source': 'Movie_collection_dataset.csv', 'row': 271}, page_content='Collection: 50400\\nMarketin_expense: 23.2422\\nBudget: 34663.2\\nLead_ Actor_Rating: 7.72\\nLead_Actress_rating: 7.815\\nTrailer_views: 527157\\nGenre: Thriller\\nNum_multiplex: 434\\n3D_available: NO'), Document(metadata={'source': 'Movie_collection_dataset.csv', 'row': 272}, page_content='Collection: 48800\\nMarketin_expense: 22.292\\nBudget: 36318.59\\nLead_ Actor_Rating: 7.995\\nLead_Actress_rating: 8.185\\nTrailer_views: 502420\\nGenre: Thriller\\nNum_multiplex: 440\\n3D_available: YES'), Document(metadata={'source': 'Movie_collection_dataset.csv', 'row': 273}, page_content='Collection: 70400\\nMarketin_expense: 24.4376\\nBudget: 42723.505\\nLead_ Actor_Rating: 7.735\\nLead_Actress_rating: 7.95\\nTrailer_views: 522502\\nGenre: Thriller\\nNum_multiplex: 425\\n3D_available: YES'), Document(metadata={'source': 'Movie_collection_dataset.csv', 'row': 274}, page_content='Collection: 64800\\nMarketin_expense: 21.1288\\nBudget: 37540.69\\nLead_ Actor_Rating: 7.9\\nLead_Actress_rating: 8.01\\nTrailer_views: 510207\\nGenre: Thriller\\nNum_multiplex: 426\\n3D_available: NO'), Document(metadata={'source': 'Movie_collection_dataset.csv', 'row': 275}, page_content='Collection: 64000\\nMarketin_expense: 21.9208\\nBudget: 38073.97\\nLead_ Actor_Rating: 7.86\\nLead_Actress_rating: 7.95\\nTrailer_views: 532339\\nGenre: Thriller\\nNum_multiplex: 385\\n3D_available: YES'), Document(metadata={'source': 'Movie_collection_dataset.csv', 'row': 276}, page_content='Collection: 66400\\nMarketin_expense: 22.0938\\nBudget: 40368.185\\nLead_ Actor_Rating: 7.53\\nLead_Actress_rating: 7.66\\nTrailer_views: 490028\\nGenre: Drama\\nNum_multiplex: 424\\n3D_available: NO'), Document(metadata={'source': 'Movie_collection_dataset.csv', 'row': 277}, page_content='Collection: 66200\\nMarketin_expense: 21.2254\\nBudget: 37918.43\\nLead_ Actor_Rating: 7.43\\nLead_Actress_rating: 7.58\\nTrailer_views: 516911\\nGenre: Thriller\\nNum_multiplex: 417\\n3D_available: NO'), Document(metadata={'source': 'Movie_collection_dataset.csv', 'row': 278}, page_content='Collection: 58200\\nMarketin_expense: 21.5956\\nBudget: 36007.51\\nLead_ Actor_Rating: 7.89\\nLead_Actress_rating: 7.96\\nTrailer_views: 504442\\nGenre: Thriller\\nNum_multiplex: 478\\n3D_available: YES'), Document(metadata={'source': 'Movie_collection_dataset.csv', 'row': 279}, page_content='Collection: 70200\\nMarketin_expense: 24.2076\\nBudget: 37840.66\\nLead_ Actor_Rating: 7.825\\nLead_Actress_rating: 8.04\\nTrailer_views: 504458\\nGenre: Drama\\nNum_multiplex: 513\\n3D_available: NO'), Document(metadata={'source': 'Movie_collection_dataset.csv', 'row': 280}, page_content='Collection: 90800\\nMarketin_expense: 20.7156\\nBudget: 43440.1\\nLead_ Actor_Rating: 7.51\\nLead_Actress_rating: 7.665\\nTrailer_views: 538611\\nGenre: Comedy\\nNum_multiplex: 420\\n3D_available: NO'), Document(metadata={'source': 'Movie_collection_dataset.csv', 'row': 281}, page_content='Collection: 70800\\nMarketin_expense: 20.741\\nBudget: 38707.24\\nLead_ Actor_Rating: 7.225\\nLead_Actress_rating: 7.54\\nTrailer_views: 546620\\nGenre: Comedy\\nNum_multiplex: 422\\n3D_available: YES'), Document(metadata={'source': 'Movie_collection_dataset.csv', 'row': 282}, page_content='Collection: 92000\\nMarketin_expense: 21.2258\\nBudget: 42467.975\\nLead_ Actor_Rating: 7.27\\nLead_Actress_rating: 7.53\\nTrailer_views: 524593\\nGenre: Drama\\nNum_multiplex: 512\\n3D_available: YES'), Document(metadata={'source': 'Movie_collection_dataset.csv', 'row': 283}, page_content='Collection: 100000\\nMarketin_expense: 20.3002\\nBudget: 44012.265\\nLead_ Actor_Rating: 6.925\\nLead_Actress_rating: 7.08\\nTrailer_views: 564706\\nGenre: Drama\\nNum_multiplex: 489\\n3D_available: YES'), Document(metadata={'source': 'Movie_collection_dataset.csv', 'row': 284}, page_content='Collection: 64400\\nMarketin_expense: 20.1812\\nBudget: 39373.84\\nLead_ Actor_Rating: 6.28\\nLead_Actress_rating: 6.5\\nTrailer_views: 489220\\nGenre: Action\\nNum_multiplex: 424\\n3D_available: YES'), Document(metadata={'source': 'Movie_collection_dataset.csv', 'row': 285}, page_content='Collection: 44000\\nMarketin_expense: 20.2192\\nBudget: 35846.415\\nLead_ Actor_Rating: 6.335\\nLead_Actress_rating: 6.445\\nTrailer_views: 511643\\nGenre: Comedy\\nNum_multiplex: 347\\n3D_available: YES'), Document(metadata={'source': 'Movie_collection_dataset.csv', 'row': 286}, page_content='Collection: 40200\\nMarketin_expense: 20.393\\nBudget: 34607.65\\nLead_ Actor_Rating: 5.395\\nLead_Actress_rating: 5.54\\nTrailer_views: 449001\\nGenre: Comedy\\nNum_multiplex: 333\\n3D_available: YES'), Document(metadata={'source': 'Movie_collection_dataset.csv', 'row': 287}, page_content='Collection: 46400\\nMarketin_expense: 20.7742\\nBudget: 34490.995\\nLead_ Actor_Rating: 6.275\\nLead_Actress_rating: 6.4\\nTrailer_views: 514434\\nGenre: Drama\\nNum_multiplex: 433\\n3D_available: YES'), Document(metadata={'source': 'Movie_collection_dataset.csv', 'row': 288}, page_content='Collection: 44600\\nMarketin_expense: 20.918\\nBudget: 35079.825\\nLead_ Actor_Rating: 6.185\\nLead_Actress_rating: 6.48\\nTrailer_views: 498744\\nGenre: Thriller\\nNum_multiplex: 349\\n3D_available: NO'), Document(metadata={'source': 'Movie_collection_dataset.csv', 'row': 289}, page_content='Collection: 49600\\nMarketin_expense: 20.8594\\nBudget: 36468.575\\nLead_ Actor_Rating: 6.335\\nLead_Actress_rating: 6.505\\nTrailer_views: 459056\\nGenre: Comedy\\nNum_multiplex: 411\\n3D_available: NO'), Document(metadata={'source': 'Movie_collection_dataset.csv', 'row': 290}, page_content='Collection: 57000\\nMarketin_expense: 20.7004\\nBudget: 38112.855\\nLead_ Actor_Rating: 7.39\\nLead_Actress_rating: 7.59\\nTrailer_views: 566644\\nGenre: Thriller\\nNum_multiplex: 397\\n3D_available: YES'), Document(metadata={'source': 'Movie_collection_dataset.csv', 'row': 291}, page_content='Collection: 74600\\nMarketin_expense: 21.5772\\nBudget: 39707.14\\nLead_ Actor_Rating: 7.44\\nLead_Actress_rating: 7.515\\nTrailer_views: 542840\\nGenre: Comedy\\nNum_multiplex: 475\\n3D_available: YES'), Document(metadata={'source': 'Movie_collection_dataset.csv', 'row': 292}, page_content='Collection: 55800\\nMarketin_expense: 20.723\\nBudget: 36829.65\\nLead_ Actor_Rating: 7.375\\nLead_Actress_rating: 7.48\\nTrailer_views: 529498\\nGenre: Thriller\\nNum_multiplex: 390\\n3D_available: NO'), Document(metadata={'source': 'Movie_collection_dataset.csv', 'row': 293}, page_content='Collection: 47800\\nMarketin_expense: 21.653\\nBudget: 34035.485\\nLead_ Actor_Rating: 7.12\\nLead_Actress_rating: 7.305\\nTrailer_views: 486691\\nGenre: Thriller\\nNum_multiplex: 485\\n3D_available: YES'), Document(metadata={'source': 'Movie_collection_dataset.csv', 'row': 294}, page_content='Collection: 43400\\nMarketin_expense: 21.6398\\nBudget: 33379.995\\nLead_ Actor_Rating: 7.23\\nLead_Actress_rating: 7.265\\nTrailer_views: 481269\\nGenre: Drama\\nNum_multiplex: 386\\n3D_available: NO'), Document(metadata={'source': 'Movie_collection_dataset.csv', 'row': 295}, page_content='Collection: 57200\\nMarketin_expense: 22.5864\\nBudget: 37096.29\\nLead_ Actor_Rating: 6.9\\nLead_Actress_rating: 7.135\\nTrailer_views: 534560\\nGenre: Thriller\\nNum_multiplex: 421\\n3D_available: YES'), Document(metadata={'source': 'Movie_collection_dataset.csv', 'row': 296}, page_content='Collection: 54200\\nMarketin_expense: 21.0744\\nBudget: 36379.695\\nLead_ Actor_Rating: 6.89\\nLead_Actress_rating: 7.125\\nTrailer_views: 479856\\nGenre: Comedy\\nNum_multiplex: 454\\n3D_available: NO'), Document(metadata={'source': 'Movie_collection_dataset.csv', 'row': 297}, page_content='Collection: 40600\\nMarketin_expense: 22.8206\\nBudget: 32163.45\\nLead_ Actor_Rating: 6.72\\nLead_Actress_rating: 6.85\\nTrailer_views: 405787\\nGenre: Comedy\\nNum_multiplex: 521\\n3D_available: YES'), Document(metadata={'source': 'Movie_collection_dataset.csv', 'row': 298}, page_content='Collection: 45000\\nMarketin_expense: 21.2932\\nBudget: 35246.475\\nLead_ Actor_Rating: 6\\nLead_Actress_rating: 6.165\\nTrailer_views: 517172\\nGenre: Drama\\nNum_multiplex: 369\\n3D_available: NO'), Document(metadata={'source': 'Movie_collection_dataset.csv', 'row': 299}, page_content='Collection: 58000\\nMarketin_expense: 21.1122\\nBudget: 39112.755\\nLead_ Actor_Rating: 6.08\\nLead_Actress_rating: 6.095\\nTrailer_views: 524749\\nGenre: Drama\\nNum_multiplex: 414\\n3D_available: YES'), Document(metadata={'source': 'Movie_collection_dataset.csv', 'row': 300}, page_content='Collection: 49600\\nMarketin_expense: 20.8834\\nBudget: 38168.405\\nLead_ Actor_Rating: 5.955\\nLead_Actress_rating: 6.16\\nTrailer_views: 503113\\nGenre: Thriller\\nNum_multiplex: 429\\n3D_available: YES'), Document(metadata={'source': 'Movie_collection_dataset.csv', 'row': 301}, page_content='Collection: 44000\\nMarketin_expense: 20.7074\\nBudget: 36607.45\\nLead_ Actor_Rating: 7.185\\nLead_Actress_rating: 7.4\\nTrailer_views: 456975\\nGenre: Thriller\\nNum_multiplex: 372\\n3D_available: YES'), Document(metadata={'source': 'Movie_collection_dataset.csv', 'row': 302}, page_content='Collection: 52800\\nMarketin_expense: 21.8532\\nBudget: 36079.725\\nLead_ Actor_Rating: 7.1\\nLead_Actress_rating: 7.4\\nTrailer_views: 495797\\nGenre: Action\\nNum_multiplex: 373\\n3D_available: YES'), Document(metadata={'source': 'Movie_collection_dataset.csv', 'row': 303}, page_content='Collection: 66200\\nMarketin_expense: 22\\nBudget: 38785.01\\nLead_ Actor_Rating: 7.095\\nLead_Actress_rating: 7.32\\nTrailer_views: 546989\\nGenre: Comedy\\nNum_multiplex: 511\\n3D_available: NO'), Document(metadata={'source': 'Movie_collection_dataset.csv', 'row': 304}, page_content='Collection: 72200\\nMarketin_expense: 21.103\\nBudget: 40195.98\\nLead_ Actor_Rating: 7.95\\nLead_Actress_rating: 8.02\\nTrailer_views: 525924\\nGenre: Thriller\\nNum_multiplex: 524\\n3D_available: NO'), Document(metadata={'source': 'Movie_collection_dataset.csv', 'row': 305}, page_content='Collection: 56800\\nMarketin_expense: 21.0958\\nBudget: 36751.88\\nLead_ Actor_Rating: 8.185\\nLead_Actress_rating: 8.475\\nTrailer_views: 462490\\nGenre: Comedy\\nNum_multiplex: 454\\n3D_available: NO'), Document(metadata={'source': 'Movie_collection_dataset.csv', 'row': 306}, page_content='Collection: 66800\\nMarketin_expense: 21.5006\\nBudget: 41218.1\\nLead_ Actor_Rating: 8.345\\nLead_Actress_rating: 8.54\\nTrailer_views: 497990\\nGenre: Thriller\\nNum_multiplex: 506\\n3D_available: YES'), Document(metadata={'source': 'Movie_collection_dataset.csv', 'row': 307}, page_content='Collection: 56400\\nMarketin_expense: 20.9864\\nBudget: 38046.195\\nLead_ Actor_Rating: 8.36\\nLead_Actress_rating: 8.555\\nTrailer_views: 490857\\nGenre: Action\\nNum_multiplex: 470\\n3D_available: YES'), Document(metadata={'source': 'Movie_collection_dataset.csv', 'row': 308}, page_content='Collection: 45600\\nMarketin_expense: 29.8596\\nBudget: 36857.425\\nLead_ Actor_Rating: 8.215\\nLead_Actress_rating: 8.38\\nTrailer_views: 539571\\nGenre: Thriller\\nNum_multiplex: 581\\n3D_available: NO'), Document(metadata={'source': 'Movie_collection_dataset.csv', 'row': 309}, page_content='Collection: 40600\\nMarketin_expense: 26.988\\nBudget: 33174.46\\nLead_ Actor_Rating: 8.3\\nLead_Actress_rating: 8.545\\nTrailer_views: 491345\\nGenre: Comedy\\nNum_multiplex: 568\\n3D_available: YES'), Document(metadata={'source': 'Movie_collection_dataset.csv', 'row': 310}, page_content='Collection: 32200\\nMarketin_expense: 72.7096\\nBudget: 27625.015\\nLead_ Actor_Rating: 8.685\\nLead_Actress_rating: 8.86\\nTrailer_views: 447032\\nGenre: Thriller\\nNum_multiplex: 562\\n3D_available: NO'), Document(metadata={'source': 'Movie_collection_dataset.csv', 'row': 311}, page_content='Collection: 44200\\nMarketin_expense: 35.8082\\nBudget: 34007.71\\nLead_ Actor_Rating: 8.555\\nLead_Actress_rating: 8.83\\nTrailer_views: 501252\\nGenre: Thriller\\nNum_multiplex: 558\\n3D_available: YES'), Document(metadata={'source': 'Movie_collection_dataset.csv', 'row': 312}, page_content='Collection: 38800\\nMarketin_expense: 25.2338\\nBudget: 33457.765\\nLead_ Actor_Rating: 8.5\\nLead_Actress_rating: 8.665\\nTrailer_views: 475124\\nGenre: Comedy\\nNum_multiplex: 535\\n3D_available: YES'), Document(metadata={'source': 'Movie_collection_dataset.csv', 'row': 313}, page_content='Collection: 43200\\nMarketin_expense: 25.3876\\nBudget: 34807.63\\nLead_ Actor_Rating: 8.31\\nLead_Actress_rating: 8.51\\nTrailer_views: 474736\\nGenre: Comedy\\nNum_multiplex: 543\\n3D_available: YES'), Document(metadata={'source': 'Movie_collection_dataset.csv', 'row': 314}, page_content='Collection: 47600\\nMarketin_expense: 27.384\\nBudget: 36479.685\\nLead_ Actor_Rating: 8.04\\nLead_Actress_rating: 8.345\\nTrailer_views: 483058\\nGenre: Drama\\nNum_multiplex: 544\\n3D_available: YES'), Document(metadata={'source': 'Movie_collection_dataset.csv', 'row': 315}, page_content='Collection: 32400\\nMarketin_expense: 25.0712\\nBudget: 31691.275\\nLead_ Actor_Rating: 7.99\\nLead_Actress_rating: 8.1\\nTrailer_views: 482381\\nGenre: Thriller\\nNum_multiplex: 559\\n3D_available: NO'), Document(metadata={'source': 'Movie_collection_dataset.csv', 'row': 316}, page_content='Collection: 35600\\nMarketin_expense: 26.3654\\nBudget: 32852.27\\nLead_ Actor_Rating: 7.9\\nLead_Actress_rating: 8.09\\nTrailer_views: 387823\\nGenre: Thriller\\nNum_multiplex: 520\\n3D_available: NO'), Document(metadata={'source': 'Movie_collection_dataset.csv', 'row': 317}, page_content='Collection: 39600\\nMarketin_expense: 24.9044\\nBudget: 32119.01\\nLead_ Actor_Rating: 7.935\\nLead_Actress_rating: 8.03\\nTrailer_views: 401740\\nGenre: Thriller\\nNum_multiplex: 471\\n3D_available: NO'), Document(metadata={'source': 'Movie_collection_dataset.csv', 'row': 318}, page_content='Collection: 46200\\nMarketin_expense: 28.0404\\nBudget: 35452.01\\nLead_ Actor_Rating: 8.1\\nLead_Actress_rating: 8.325\\nTrailer_views: 478332\\nGenre: Comedy\\nNum_multiplex: 515\\n3D_available: NO'), Document(metadata={'source': 'Movie_collection_dataset.csv', 'row': 319}, page_content='Collection: 42000\\nMarketin_expense: 29.5094\\nBudget: 33957.715\\nLead_ Actor_Rating: 7.965\\nLead_Actress_rating: 8.07\\nTrailer_views: 471282\\nGenre: Action\\nNum_multiplex: 542\\n3D_available: NO'), Document(metadata={'source': 'Movie_collection_dataset.csv', 'row': 320}, page_content='Collection: 47600\\nMarketin_expense: 23.352\\nBudget: 35696.43\\nLead_ Actor_Rating: 7.63\\nLead_Actress_rating: 7.84\\nTrailer_views: 510893\\nGenre: Thriller\\nNum_multiplex: 554\\n3D_available: YES'), Document(metadata={'source': 'Movie_collection_dataset.csv', 'row': 321}, page_content='Collection: 46200\\nMarketin_expense: 23.6318\\nBudget: 35418.68\\nLead_ Actor_Rating: 7.575\\nLead_Actress_rating: 7.81\\nTrailer_views: 484440\\nGenre: Drama\\nNum_multiplex: 470\\n3D_available: YES'), Document(metadata={'source': 'Movie_collection_dataset.csv', 'row': 322}, page_content='Collection: 40800\\nMarketin_expense: 27.0228\\nBudget: 33557.755\\nLead_ Actor_Rating: 7.535\\nLead_Actress_rating: 7.785\\nTrailer_views: 491464\\nGenre: Comedy\\nNum_multiplex: 457\\n3D_available: NO'), Document(metadata={'source': 'Movie_collection_dataset.csv', 'row': 323}, page_content='Collection: 37000\\nMarketin_expense: 25.6784\\nBudget: 31707.94\\nLead_ Actor_Rating: 7.545\\nLead_Actress_rating: 7.7\\nTrailer_views: 446743\\nGenre: Comedy\\nNum_multiplex: 501\\n3D_available: YES'), Document(metadata={'source': 'Movie_collection_dataset.csv', 'row': 324}, page_content='Collection: 50000\\nMarketin_expense: 26.8218\\nBudget: 35635.325\\nLead_ Actor_Rating: 7.5\\nLead_Actress_rating: 7.75\\nTrailer_views: 528887\\nGenre: Thriller\\nNum_multiplex: 474\\n3D_available: NO'), Document(metadata={'source': 'Movie_collection_dataset.csv', 'row': 325}, page_content='Collection: 49200\\nMarketin_expense: 23.8372\\nBudget: 35724.205\\nLead_ Actor_Rating: 7.245\\nLead_Actress_rating: 7.45\\nTrailer_views: 533713\\nGenre: Comedy\\nNum_multiplex: 454\\n3D_available: NO'), Document(metadata={'source': 'Movie_collection_dataset.csv', 'row': 326}, page_content='Collection: 46000\\nMarketin_expense: 26.0694\\nBudget: 35063.16\\nLead_ Actor_Rating: 7.265\\nLead_Actress_rating: 7.455\\nTrailer_views: 509852\\nGenre: Thriller\\nNum_multiplex: 485\\n3D_available: YES'), Document(metadata={'source': 'Movie_collection_dataset.csv', 'row': 327}, page_content='Collection: 44400\\nMarketin_expense: 24.8206\\nBudget: 33791.065\\nLead_ Actor_Rating: 7.205\\nLead_Actress_rating: 7.31\\nTrailer_views: 448684\\nGenre: Comedy\\nNum_multiplex: 509\\n3D_available: NO'), Document(metadata={'source': 'Movie_collection_dataset.csv', 'row': 328}, page_content='Collection: 38600\\nMarketin_expense: 21.3234\\nBudget: 32596.74\\nLead_ Actor_Rating: 7.29\\nLead_Actress_rating: 7.47\\nTrailer_views: 483140\\nGenre: Drama\\nNum_multiplex: 395\\n3D_available: YES'), Document(metadata={'source': 'Movie_collection_dataset.csv', 'row': 329}, page_content='Collection: 45200\\nMarketin_expense: 21.3448\\nBudget: 35179.815\\nLead_ Actor_Rating: 7.32\\nLead_Actress_rating: 7.46\\nTrailer_views: 483051\\nGenre: Comedy\\nNum_multiplex: 452\\n3D_available: NO'), Document(metadata={'source': 'Movie_collection_dataset.csv', 'row': 330}, page_content='Collection: 39600\\nMarketin_expense: 20.9088\\nBudget: 34129.92\\nLead_ Actor_Rating: 6.99\\nLead_Actress_rating: 7.225\\nTrailer_views: 465165\\nGenre: Thriller\\nNum_multiplex: 431\\n3D_available: NO'), Document(metadata={'source': 'Movie_collection_dataset.csv', 'row': 331}, page_content='Collection: 34200\\nMarketin_expense: 21.0046\\nBudget: 31696.83\\nLead_ Actor_Rating: 6.665\\nLead_Actress_rating: 6.72\\nTrailer_views: 450203\\nGenre: Drama\\nNum_multiplex: 522\\n3D_available: NO'), Document(metadata={'source': 'Movie_collection_dataset.csv', 'row': 332}, page_content='Collection: 38800\\nMarketin_expense: 20.6932\\nBudget: 33502.205\\nLead_ Actor_Rating: 6.525\\nLead_Actress_rating: 6.71\\nTrailer_views: 480695\\nGenre: Comedy\\nNum_multiplex: 518\\n3D_available: YES'), Document(metadata={'source': 'Movie_collection_dataset.csv', 'row': 333}, page_content='Collection: 44400\\nMarketin_expense: 21.0166\\nBudget: 35085.38\\nLead_ Actor_Rating: 6.62\\nLead_Actress_rating: 6.9\\nTrailer_views: 536791\\nGenre: Comedy\\nNum_multiplex: 499\\n3D_available: NO'), Document(metadata={'source': 'Movie_collection_dataset.csv', 'row': 334}, page_content='Collection: 41400\\nMarketin_expense: 20.7476\\nBudget: 35052.05\\nLead_ Actor_Rating: 6.74\\nLead_Actress_rating: 6.83\\nTrailer_views: 505077\\nGenre: Action\\nNum_multiplex: 555\\n3D_available: YES'), Document(metadata={'source': 'Movie_collection_dataset.csv', 'row': 335}, page_content='Collection: 42200\\nMarketin_expense: 20.7922\\nBudget: 33535.535\\nLead_ Actor_Rating: 6.87\\nLead_Actress_rating: 7.15\\nTrailer_views: 477685\\nGenre: Comedy\\nNum_multiplex: 506\\n3D_available: YES'), Document(metadata={'source': 'Movie_collection_dataset.csv', 'row': 336}, page_content='Collection: 39000\\nMarketin_expense: 20.6854\\nBudget: 32602.295\\nLead_ Actor_Rating: 7.25\\nLead_Actress_rating: 7.545\\nTrailer_views: 483878\\nGenre: Thriller\\nNum_multiplex: 447\\n3D_available: NO'), Document(metadata={'source': 'Movie_collection_dataset.csv', 'row': 337}, page_content='Collection: 37000\\nMarketin_expense: 20.6082\\nBudget: 32746.725\\nLead_ Actor_Rating: 7.07\\nLead_Actress_rating: 7.255\\nTrailer_views: 452920\\nGenre: Thriller\\nNum_multiplex: 567\\n3D_available: YES'), Document(metadata={'source': 'Movie_collection_dataset.csv', 'row': 338}, page_content='Collection: 41200\\nMarketin_expense: 20.6612\\nBudget: 33657.745\\nLead_ Actor_Rating: 7.545\\nLead_Actress_rating: 7.74\\nTrailer_views: 466294\\nGenre: Thriller\\nNum_multiplex: 535\\n3D_available: YES'), Document(metadata={'source': 'Movie_collection_dataset.csv', 'row': 339}, page_content='Collection: 38000\\nMarketin_expense: 21.0994\\nBudget: 33246.675\\nLead_ Actor_Rating: 7.555\\nLead_Actress_rating: 7.68\\nTrailer_views: 457316\\nGenre: Drama\\nNum_multiplex: 477\\n3D_available: NO'), Document(metadata={'source': 'Movie_collection_dataset.csv', 'row': 340}, page_content='Collection: 37400\\nMarketin_expense: 21.2302\\nBudget: 33152.24\\nLead_ Actor_Rating: 7.47\\nLead_Actress_rating: 7.62\\nTrailer_views: 459687\\nGenre: Comedy\\nNum_multiplex: 534\\n3D_available: YES'), Document(metadata={'source': 'Movie_collection_dataset.csv', 'row': 341}, page_content='Collection: 65400\\nMarketin_expense: 20.2602\\nBudget: 40223.755\\nLead_ Actor_Rating: 6.34\\nLead_Actress_rating: 6.52\\nTrailer_views: 516919\\nGenre: Comedy\\nNum_multiplex: 525\\n3D_available: YES'), Document(metadata={'source': 'Movie_collection_dataset.csv', 'row': 342}, page_content='Collection: 33000\\nMarketin_expense: 20.4996\\nBudget: 36329.7\\nLead_ Actor_Rating: 6.77\\nLead_Actress_rating: 6.895\\nTrailer_views: 494604\\nGenre: Thriller\\nNum_multiplex: 566\\n3D_available: YES'), Document(metadata={'source': 'Movie_collection_dataset.csv', 'row': 343}, page_content='Collection: 47800\\nMarketin_expense: 20.5086\\nBudget: 37196.28\\nLead_ Actor_Rating: 6.985\\nLead_Actress_rating: 7.19\\nTrailer_views: 480187\\nGenre: Action\\nNum_multiplex: 479\\n3D_available: YES'), Document(metadata={'source': 'Movie_collection_dataset.csv', 'row': 344}, page_content='Collection: 62400\\nMarketin_expense: 20.6098\\nBudget: 38185.07\\nLead_ Actor_Rating: 6.645\\nLead_Actress_rating: 6.91\\nTrailer_views: 534902\\nGenre: Thriller\\nNum_multiplex: 464\\n3D_available: NO'), Document(metadata={'source': 'Movie_collection_dataset.csv', 'row': 345}, page_content='Collection: 35000\\nMarketin_expense: 20.6226\\nBudget: 33407.77\\nLead_ Actor_Rating: 5.88\\nLead_Actress_rating: 6.045\\nTrailer_views: 494404\\nGenre: Drama\\nNum_multiplex: 507\\n3D_available: YES'), Document(metadata={'source': 'Movie_collection_dataset.csv', 'row': 346}, page_content='Collection: 34400\\nMarketin_expense: 21.2324\\nBudget: 32763.39\\nLead_ Actor_Rating: 5.965\\nLead_Actress_rating: 6.075\\nTrailer_views: 459385\\nGenre: Thriller\\nNum_multiplex: 441\\n3D_available: NO'), Document(metadata={'source': 'Movie_collection_dataset.csv', 'row': 347}, page_content='Collection: 46200\\nMarketin_expense: 20.374\\nBudget: 36196.38\\nLead_ Actor_Rating: 5.565\\nLead_Actress_rating: 5.855\\nTrailer_views: 485496\\nGenre: Drama\\nNum_multiplex: 385\\n3D_available: YES'), Document(metadata={'source': 'Movie_collection_dataset.csv', 'row': 348}, page_content='Collection: 49000\\nMarketin_expense: 20.3002\\nBudget: 36857.425\\nLead_ Actor_Rating: 5.69\\nLead_Actress_rating: 5.91\\nTrailer_views: 507911\\nGenre: Comedy\\nNum_multiplex: 490\\n3D_available: YES'), Document(metadata={'source': 'Movie_collection_dataset.csv', 'row': 349}, page_content='Collection: 53200\\nMarketin_expense: 20.5798\\nBudget: 38546.145\\nLead_ Actor_Rating: 5.56\\nLead_Actress_rating: 5.73\\nTrailer_views: 495540\\nGenre: Comedy\\nNum_multiplex: 393\\n3D_available: YES'), Document(metadata={'source': 'Movie_collection_dataset.csv', 'row': 350}, page_content='Collection: 45800\\nMarketin_expense: 21.2422\\nBudget: 36051.95\\nLead_ Actor_Rating: 5.5\\nLead_Actress_rating: 5.685\\nTrailer_views: 530639\\nGenre: Thriller\\nNum_multiplex: 389\\n3D_available: NO'), Document(metadata={'source': 'Movie_collection_dataset.csv', 'row': 351}, page_content='Collection: 48200\\nMarketin_expense: 21.59\\nBudget: 36546.345\\nLead_ Actor_Rating: 4.51\\nLead_Actress_rating: 4.785\\nTrailer_views: 528366\\nGenre: Thriller\\nNum_multiplex: 363\\n3D_available: YES'), Document(metadata={'source': 'Movie_collection_dataset.csv', 'row': 352}, page_content='Collection: 37200\\nMarketin_expense: 21.4488\\nBudget: 32685.62\\nLead_ Actor_Rating: 4.585\\nLead_Actress_rating: 4.725\\nTrailer_views: 500120\\nGenre: Thriller\\nNum_multiplex: 397\\n3D_available: YES'), Document(metadata={'source': 'Movie_collection_dataset.csv', 'row': 353}, page_content='Collection: 60200\\nMarketin_expense: 20.3418\\nBudget: 37374.04\\nLead_ Actor_Rating: 3.84\\nLead_Actress_rating: 4.035\\nTrailer_views: 502830\\nGenre: Drama\\nNum_multiplex: 474\\n3D_available: YES'), Document(metadata={'source': 'Movie_collection_dataset.csv', 'row': 354}, page_content='Collection: 36400\\nMarketin_expense: 20.8602\\nBudget: 31457.965\\nLead_ Actor_Rating: 4.62\\nLead_Actress_rating: 4.815\\nTrailer_views: 484954\\nGenre: Comedy\\nNum_multiplex: 470\\n3D_available: NO'), Document(metadata={'source': 'Movie_collection_dataset.csv', 'row': 355}, page_content='Collection: 41200\\nMarketin_expense: 22.1318\\nBudget: 32974.48\\nLead_ Actor_Rating: 4.59\\nLead_Actress_rating: 4.75\\nTrailer_views: 503151\\nGenre: Thriller\\nNum_multiplex: 444\\n3D_available: NO'), Document(metadata={'source': 'Movie_collection_dataset.csv', 'row': 356}, page_content='Collection: 35600\\nMarketin_expense: 199.6592\\nBudget: 34507.66\\nLead_ Actor_Rating: 8.92\\nLead_Actress_rating: 9.095\\nTrailer_views: 399154\\nGenre: Comedy\\nNum_multiplex: 773\\n3D_available: NO'), Document(metadata={'source': 'Movie_collection_dataset.csv', 'row': 357}, page_content='Collection: 43400\\nMarketin_expense: 96.994\\nBudget: 35524.225\\nLead_ Actor_Rating: 8.585\\nLead_Actress_rating: 8.775\\nTrailer_views: 465805\\nGenre: Drama\\nNum_multiplex: 756\\n3D_available: NO'), Document(metadata={'source': 'Movie_collection_dataset.csv', 'row': 358}, page_content='Collection: 45400\\nMarketin_expense: 124.0354\\nBudget: 34035.485\\nLead_ Actor_Rating: 8.52\\nLead_Actress_rating: 8.8\\nTrailer_views: 473168\\nGenre: Action\\nNum_multiplex: 767\\n3D_available: NO'), Document(metadata={'source': 'Movie_collection_dataset.csv', 'row': 359}, page_content='Collection: 45200\\nMarketin_expense: 105.2262\\nBudget: 33952.16\\nLead_ Actor_Rating: 8.61\\nLead_Actress_rating: 8.81\\nTrailer_views: 437945\\nGenre: Drama\\nNum_multiplex: 743\\n3D_available: NO'), Document(metadata={'source': 'Movie_collection_dataset.csv', 'row': 360}, page_content='Collection: 50000\\nMarketin_expense: 110.8384\\nBudget: 35540.89\\nLead_ Actor_Rating: 8.635\\nLead_Actress_rating: 8.79\\nTrailer_views: 486963\\nGenre: Comedy\\nNum_multiplex: 673\\n3D_available: NO'), Document(metadata={'source': 'Movie_collection_dataset.csv', 'row': 361}, page_content='Collection: 39800\\nMarketin_expense: 96.7368\\nBudget: 34724.305\\nLead_ Actor_Rating: 8.71\\nLead_Actress_rating: 9.01\\nTrailer_views: 456314\\nGenre: Thriller\\nNum_multiplex: 733\\n3D_available: YES'), Document(metadata={'source': 'Movie_collection_dataset.csv', 'row': 362}, page_content='Collection: 41600\\nMarketin_expense: 93.5644\\nBudget: 29785.91\\nLead_ Actor_Rating: 8.865\\nLead_Actress_rating: 9.1\\nTrailer_views: 450482\\nGenre: Drama\\nNum_multiplex: 700\\n3D_available: NO'), Document(metadata={'source': 'Movie_collection_dataset.csv', 'row': 363}, page_content='Collection: 33600\\nMarketin_expense: 104.4478\\nBudget: 32235.665\\nLead_ Actor_Rating: 9.01\\nLead_Actress_rating: 9.15\\nTrailer_views: 439085\\nGenre: Action\\nNum_multiplex: 803\\n3D_available: YES'), Document(metadata={'source': 'Movie_collection_dataset.csv', 'row': 364}, page_content='Collection: 43800\\nMarketin_expense: 89.4856\\nBudget: 48772.9\\nLead_ Actor_Rating: 9.015\\nLead_Actress_rating: 9.145\\nTrailer_views: 493047\\nGenre: Thriller\\nNum_multiplex: 622\\n3D_available: NO'), Document(metadata={'source': 'Movie_collection_dataset.csv', 'row': 365}, page_content='Collection: 55000\\nMarketin_expense: 111.1174\\nBudget: 19781.355\\nLead_ Actor_Rating: 9.185\\nLead_Actress_rating: 9.225\\nTrailer_views: 527849\\nGenre: Thriller\\nNum_multiplex: 680\\n3D_available: YES'), Document(metadata={'source': 'Movie_collection_dataset.csv', 'row': 366}, page_content='Collection: 43800\\nMarketin_expense: 93.939\\nBudget: 27569.465\\nLead_ Actor_Rating: 8.96\\nLead_Actress_rating: 9.225\\nTrailer_views: 417956\\nGenre: Drama\\nNum_multiplex: 757\\n3D_available: NO'), Document(metadata={'source': 'Movie_collection_dataset.csv', 'row': 367}, page_content='Collection: 46200\\nMarketin_expense: 290.444\\nBudget: 21458.965\\nLead_ Actor_Rating: 9.235\\nLead_Actress_rating: 9.305\\nTrailer_views: 466467\\nGenre: Drama\\nNum_multiplex: 559\\n3D_available: NO'), Document(metadata={'source': 'Movie_collection_dataset.csv', 'row': 368}, page_content='Collection: 100000\\nMarketin_expense: 117.9644\\nBudget: 27608.35\\nLead_ Actor_Rating: 9.265\\nLead_Actress_rating: 9.445\\nTrailer_views: 549584\\nGenre: Thriller\\nNum_multiplex: 624\\n3D_available: NO'), Document(metadata={'source': 'Movie_collection_dataset.csv', 'row': 369}, page_content='Collection: 100000\\nMarketin_expense: 133.3996\\nBudget: 37124.065\\nLead_ Actor_Rating: 9.225\\nLead_Actress_rating: 9.36\\nTrailer_views: 513408\\nGenre: Thriller\\nNum_multiplex: 675\\n3D_available: YES'), Document(metadata={'source': 'Movie_collection_dataset.csv', 'row': 370}, page_content='Collection: 100000\\nMarketin_expense: 150.7752\\nBudget: 38973.88\\nLead_ Actor_Rating: 9.3\\nLead_Actress_rating: 9.54\\nTrailer_views: 523799\\nGenre: Comedy\\nNum_multiplex: 593\\n3D_available: YES'), Document(metadata={'source': 'Movie_collection_dataset.csv', 'row': 371}, page_content='Collection: 100000\\nMarketin_expense: 204.646\\nBudget: 34529.88\\nLead_ Actor_Rating: 9.31\\nLead_Actress_rating: 9.525\\nTrailer_views: 454281\\nGenre: Comedy\\nNum_multiplex: 609\\n3D_available: YES'), Document(metadata={'source': 'Movie_collection_dataset.csv', 'row': 372}, page_content='Collection: 100000\\nMarketin_expense: 185.345\\nBudget: 32635.625\\nLead_ Actor_Rating: 9.435\\nLead_Actress_rating: 9.495\\nTrailer_views: 464886\\nGenre: Comedy\\nNum_multiplex: 645\\n3D_available: YES'), Document(metadata={'source': 'Movie_collection_dataset.csv', 'row': 373}, page_content='Collection: 27600\\nMarketin_expense: 242.162\\nBudget: 27252.83\\nLead_ Actor_Rating: 9.26\\nLead_Actress_rating: 9.505\\nTrailer_views: 237541\\nGenre: Comedy\\nNum_multiplex: 611\\n3D_available: YES'), Document(metadata={'source': 'Movie_collection_dataset.csv', 'row': 374}, page_content='Collection: 27600\\nMarketin_expense: 389.964\\nBudget: 22986.59\\nLead_ Actor_Rating: 9.27\\nLead_Actress_rating: 9.48\\nTrailer_views: 215432\\nGenre: Drama\\nNum_multiplex: 712\\n3D_available: NO'), Document(metadata={'source': 'Movie_collection_dataset.csv', 'row': 375}, page_content='Collection: 30000\\nMarketin_expense: 412.182\\nBudget: 40623.715\\nLead_ Actor_Rating: 9.19\\nLead_Actress_rating: 9.345\\nTrailer_views: 440970\\nGenre: Comedy\\nNum_multiplex: 625\\n3D_available: NO'), Document(metadata={'source': 'Movie_collection_dataset.csv', 'row': 376}, page_content='Collection: 27800\\nMarketin_expense: 325.76\\nBudget: 36935.195\\nLead_ Actor_Rating: 9.175\\nLead_Actress_rating: 9.445\\nTrailer_views: 362344\\nGenre: Comedy\\nNum_multiplex: 705\\n3D_available: YES'), Document(metadata={'source': 'Movie_collection_dataset.csv', 'row': 377}, page_content='Collection: 26600\\nMarketin_expense: 216.4698\\nBudget: 37740.67\\nLead_ Actor_Rating: 9.215\\nLead_Actress_rating: 9.465\\nTrailer_views: 349344\\nGenre: Comedy\\nNum_multiplex: 691\\n3D_available: YES'), Document(metadata={'source': 'Movie_collection_dataset.csv', 'row': 378}, page_content='Collection: 26200\\nMarketin_expense: 492.964\\nBudget: 35440.9\\nLead_ Actor_Rating: 9.24\\nLead_Actress_rating: 9.39\\nTrailer_views: 359760\\nGenre: Drama\\nNum_multiplex: 632\\n3D_available: YES'), Document(metadata={'source': 'Movie_collection_dataset.csv', 'row': 379}, page_content='Collection: 20400\\nMarketin_expense: 377.334\\nBudget: 34568.765\\nLead_ Actor_Rating: 9.26\\nLead_Actress_rating: 9.435\\nTrailer_views: 353650\\nGenre: Action\\nNum_multiplex: 581\\n3D_available: NO'), Document(metadata={'source': 'Movie_collection_dataset.csv', 'row': 380}, page_content='Collection: 20800\\nMarketin_expense: 1799.524\\nBudget: 38707.24\\nLead_ Actor_Rating: 9.17\\nLead_Actress_rating: 9.43\\nTrailer_views: 417588\\nGenre: Comedy\\nNum_multiplex: 666\\n3D_available: YES'), Document(metadata={'source': 'Movie_collection_dataset.csv', 'row': 381}, page_content='Collection: 21800\\nMarketin_expense: 337.488\\nBudget: 36357.475\\nLead_ Actor_Rating: 9.11\\nLead_Actress_rating: 9.35\\nTrailer_views: 382857\\nGenre: Action\\nNum_multiplex: 582\\n3D_available: NO'), Document(metadata={'source': 'Movie_collection_dataset.csv', 'row': 382}, page_content='Collection: 22600\\nMarketin_expense: 203.7404\\nBudget: 30752.48\\nLead_ Actor_Rating: 9.05\\nLead_Actress_rating: 9.225\\nTrailer_views: 362581\\nGenre: Thriller\\nNum_multiplex: 607\\n3D_available: YES'), Document(metadata={'source': 'Movie_collection_dataset.csv', 'row': 383}, page_content='Collection: 24600\\nMarketin_expense: 179.8496\\nBudget: 30663.6\\nLead_ Actor_Rating: 9.145\\nLead_Actress_rating: 9.335\\nTrailer_views: 339764\\nGenre: Drama\\nNum_multiplex: 702\\n3D_available: NO'), Document(metadata={'source': 'Movie_collection_dataset.csv', 'row': 384}, page_content='Collection: 17600\\nMarketin_expense: 421.698\\nBudget: 24264.24\\nLead_ Actor_Rating: 9.25\\nLead_Actress_rating: 9.33\\nTrailer_views: 269764\\nGenre: Thriller\\nNum_multiplex: 626\\n3D_available: NO'), Document(metadata={'source': 'Movie_collection_dataset.csv', 'row': 385}, page_content='Collection: 14400\\nMarketin_expense: 356.236\\nBudget: 29313.735\\nLead_ Actor_Rating: 9.27\\nLead_Actress_rating: 9.385\\nTrailer_views: 267965\\nGenre: Action\\nNum_multiplex: 600\\n3D_available: NO'), Document(metadata={'source': 'Movie_collection_dataset.csv', 'row': 386}, page_content='Collection: 21000\\nMarketin_expense: 507.876\\nBudget: 25841.86\\nLead_ Actor_Rating: 9.145\\nLead_Actress_rating: 9.32\\nTrailer_views: 291349\\nGenre: Thriller\\nNum_multiplex: 597\\n3D_available: YES'), Document(metadata={'source': 'Movie_collection_dataset.csv', 'row': 387}, page_content='Collection: 14800\\nMarketin_expense: 471.942\\nBudget: 27775\\nLead_ Actor_Rating: 9.105\\nLead_Actress_rating: 9.26\\nTrailer_views: 276179\\nGenre: Action\\nNum_multiplex: 617\\n3D_available: NO'), Document(metadata={'source': 'Movie_collection_dataset.csv', 'row': 388}, page_content='Collection: 20400\\nMarketin_expense: 306.674\\nBudget: 27108.4\\nLead_ Actor_Rating: 9.115\\nLead_Actress_rating: 9.315\\nTrailer_views: 278464\\nGenre: Drama\\nNum_multiplex: 711\\n3D_available: NO'), Document(metadata={'source': 'Movie_collection_dataset.csv', 'row': 389}, page_content='Collection: 23000\\nMarketin_expense: 183.0348\\nBudget: 29941.45\\nLead_ Actor_Rating: 9\\nLead_Actress_rating: 9.25\\nTrailer_views: 369811\\nGenre: Action\\nNum_multiplex: 616\\n3D_available: NO'), Document(metadata={'source': 'Movie_collection_dataset.csv', 'row': 390}, page_content='Collection: 30200\\nMarketin_expense: 159.243\\nBudget: 31735.715\\nLead_ Actor_Rating: 8.9\\nLead_Actress_rating: 9.145\\nTrailer_views: 416162\\nGenre: Thriller\\nNum_multiplex: 711\\n3D_available: YES'), Document(metadata={'source': 'Movie_collection_dataset.csv', 'row': 391}, page_content='Collection: 46400\\nMarketin_expense: 125.861\\nBudget: 33613.305\\nLead_ Actor_Rating: 8.915\\nLead_Actress_rating: 9.045\\nTrailer_views: 412194\\nGenre: Thriller\\nNum_multiplex: 619\\n3D_available: YES'), Document(metadata={'source': 'Movie_collection_dataset.csv', 'row': 392}, page_content='Collection: 19400\\nMarketin_expense: 251.558\\nBudget: 27974.98\\nLead_ Actor_Rating: 9.01\\nLead_Actress_rating: 9.125\\nTrailer_views: 317358\\nGenre: Comedy\\nNum_multiplex: 686\\n3D_available: NO'), Document(metadata={'source': 'Movie_collection_dataset.csv', 'row': 393}, page_content='Collection: 27600\\nMarketin_expense: 192.8952\\nBudget: 34402.115\\nLead_ Actor_Rating: 9.055\\nLead_Actress_rating: 9.17\\nTrailer_views: 437541\\nGenre: Thriller\\nNum_multiplex: 628\\n3D_available: NO'), Document(metadata={'source': 'Movie_collection_dataset.csv', 'row': 394}, page_content='Collection: 25400\\nMarketin_expense: 287.196\\nBudget: 32702.285\\nLead_ Actor_Rating: 9.005\\nLead_Actress_rating: 9.23\\nTrailer_views: 420044\\nGenre: Comedy\\nNum_multiplex: 654\\n3D_available: NO'), Document(metadata={'source': 'Movie_collection_dataset.csv', 'row': 395}, page_content='Collection: 26200\\nMarketin_expense: 194.335\\nBudget: 35946.405\\nLead_ Actor_Rating: 8.98\\nLead_Actress_rating: 9.26\\nTrailer_views: 424127\\nGenre: Action\\nNum_multiplex: 712\\n3D_available: NO'), Document(metadata={'source': 'Movie_collection_dataset.csv', 'row': 396}, page_content='Collection: 25000\\nMarketin_expense: 137.441\\nBudget: 35579.775\\nLead_ Actor_Rating: 9.115\\nLead_Actress_rating: 9.18\\nTrailer_views: 390048\\nGenre: Thriller\\nNum_multiplex: 685\\n3D_available: YES'), Document(metadata={'source': 'Movie_collection_dataset.csv', 'row': 397}, page_content='Collection: 17000\\nMarketin_expense: 173.4404\\nBudget: 31924.585\\nLead_ Actor_Rating: 9.135\\nLead_Actress_rating: 9.23\\nTrailer_views: 384688\\nGenre: Comedy\\nNum_multiplex: 663\\n3D_available: NO'), Document(metadata={'source': 'Movie_collection_dataset.csv', 'row': 398}, page_content='Collection: 10000\\nMarketin_expense: 787.036\\nBudget: 30291.415\\nLead_ Actor_Rating: 9.215\\nLead_Actress_rating: 9.37\\nTrailer_views: 291101\\nGenre: Drama\\nNum_multiplex: 653\\n3D_available: NO'), Document(metadata={'source': 'Movie_collection_dataset.csv', 'row': 399}, page_content='Collection: 12600\\nMarketin_expense: 218.331\\nBudget: 32507.86\\nLead_ Actor_Rating: 9.15\\nLead_Actress_rating: 9.38\\nTrailer_views: 270691\\nGenre: Thriller\\nNum_multiplex: 613\\n3D_available: NO')]\n"
          ]
        }
      ]
    },
    {
      "cell_type": "markdown",
      "source": [
        "### Splitting the document - Chunking"
      ],
      "metadata": {
        "id": "5mXCx3yt5Xnt"
      },
      "id": "5mXCx3yt5Xnt"
    },
    {
      "cell_type": "markdown",
      "source": [
        "#### Recursively split by character"
      ],
      "metadata": {
        "id": "VhIuxAvJ5bTz"
      },
      "id": "VhIuxAvJ5bTz"
    },
    {
      "cell_type": "code",
      "source": [
        "%pip install -qU langchain-text-splitters"
      ],
      "metadata": {
        "id": "cYz1z-rZ5YGc"
      },
      "id": "cYz1z-rZ5YGc",
      "execution_count": 73,
      "outputs": []
    },
    {
      "cell_type": "code",
      "source": [
        "from langchain_community.document_loaders import TextLoader\n",
        "\n",
        "loader = TextLoader(\"LangchainRetrieval.txt\")\n",
        "text = loader.load()"
      ],
      "metadata": {
        "id": "JlfHsY775euL"
      },
      "id": "JlfHsY775euL",
      "execution_count": 74,
      "outputs": []
    },
    {
      "cell_type": "code",
      "source": [
        "text"
      ],
      "metadata": {
        "colab": {
          "base_uri": "https://localhost:8080/"
        },
        "id": "zYp7N4Lp5gvo",
        "outputId": "d893c2ce-faa6-43bb-bc62-a4ae9ecc188a"
      },
      "id": "zYp7N4Lp5gvo",
      "execution_count": 75,
      "outputs": [
        {
          "output_type": "execute_result",
          "data": {
            "text/plain": [
              "[Document(metadata={'source': 'LangchainRetrieval.txt'}, page_content=\"Retrieval\\nMany LLM applications require user-specific data that is not part of the model's training set. The primary way of accomplishing this is through Retrieval Augmented Generation (RAG). In this process, external data is retrieved and then passed to the LLM when doing the generation step.\\n\\nLangChain provides all the building blocks for RAG applications - from simple to complex. This section of the documentation covers everything related to the retrieval step - e.g. the fetching of the data. Although this sounds simple, it can be subtly complex. This encompasses several key modules.\\n\\nIllustrative diagram showing the data connection process with steps: Source, Load, Transform, Embed, Store, and Retrieve.\\n\\nDocument loaders\\nDocument loaders load documents from many different sources. LangChain provides over 100 different document loaders as well as integrations with other major providers in the space, like AirByte and Unstructured. LangChain provides integrations to load all types of documents (HTML, PDF, code) from all types of locations (private S3 buckets, public websites).\\n\\nText Splitting\\nA key part of retrieval is fetching only the relevant parts of documents. This involves several transformation steps to prepare the documents for retrieval. One of the primary ones here is splitting (or chunking) a large document into smaller chunks. LangChain provides several transformation algorithms for doing this, as well as logic optimized for specific document types (code, markdown, etc).\\n\\nText embedding models\\nAnother key part of retrieval is creating embeddings for documents. Embeddings capture the semantic meaning of the text, allowing you to quickly and efficiently find other pieces of a text that are similar. LangChain provides integrations with over 25 different embedding providers and methods, from open-source to proprietary API, allowing you to choose the one best suited for your needs. LangChain provides a standard interface, allowing you to easily swap between models.\\n\\nVector stores\\nWith the rise of embeddings, there has emerged a need for databases to support efficient storage and searching of these embeddings. LangChain provides integrations with over 50 different vectorstores, from open-source local ones to cloud-hosted proprietary ones, allowing you to choose the one best suited for your needs. LangChain exposes a standard interface, allowing you to easily swap between vector stores.\\n\\nRetrievers\\nOnce the data is in the database, you still need to retrieve it. LangChain supports many different retrieval algorithms and is one of the places where we add the most value. LangChain supports basic methods that are easy to get started - namely simple semantic search. However, we have also added a collection of algorithms on top of this to increase performance. These include:\\n\\nParent Document Retriever: This allows you to create multiple embeddings per parent document, allowing you to look up smaller chunks but return larger context.\\nSelf Query Retriever: User questions often contain a reference to something that isn't just semantic but rather expresses some logic that can best be represented as a metadata filter. Self-query allows you to parse out the semantic part of a query from other metadata filters present in the query.\\nEnsemble Retriever: Sometimes you may want to retrieve documents from multiple different sources, or using multiple different algorithms. The ensemble retriever allows you to easily do this.\\nAnd more!\\nIndexing\\nThe LangChain Indexing API syncs your data from any source into a vector store, helping you:\\n\\nAvoid writing duplicated content into the vector store\\nAvoid re-writing unchanged content\\nAvoid re-computing embeddings over unchanged content\\nAll of which should save you time and money, as well as improve your vector search results.\")]"
            ]
          },
          "metadata": {},
          "execution_count": 75
        }
      ]
    },
    {
      "cell_type": "code",
      "source": [
        "from langchain_text_splitters import RecursiveCharacterTextSplitter"
      ],
      "metadata": {
        "id": "EUeDYOARBUKv"
      },
      "id": "EUeDYOARBUKv",
      "execution_count": 76,
      "outputs": []
    },
    {
      "cell_type": "code",
      "source": [
        "text_splitter = RecursiveCharacterTextSplitter(\n",
        "    chunk_size=200,\n",
        "    chunk_overlap=20,\n",
        "    length_function=len,\n",
        ")"
      ],
      "metadata": {
        "id": "9E_feVBfBUUy"
      },
      "id": "9E_feVBfBUUy",
      "execution_count": 77,
      "outputs": []
    },
    {
      "cell_type": "code",
      "source": [
        "texts = text_splitter.split_documents(text)\n",
        "print(texts[0])\n",
        "print(texts[1])\n",
        "print(texts[2])"
      ],
      "metadata": {
        "colab": {
          "base_uri": "https://localhost:8080/"
        },
        "id": "oVErPA-lBUaY",
        "outputId": "781b7517-e882-46f8-b8f5-f194a8d27512"
      },
      "id": "oVErPA-lBUaY",
      "execution_count": 78,
      "outputs": [
        {
          "output_type": "stream",
          "name": "stdout",
          "text": [
            "page_content='Retrieval' metadata={'source': 'LangchainRetrieval.txt'}\n",
            "page_content='Many LLM applications require user-specific data that is not part of the model's training set. The primary way of accomplishing this is through Retrieval Augmented Generation (RAG). In this process,' metadata={'source': 'LangchainRetrieval.txt'}\n",
            "page_content='In this process, external data is retrieved and then passed to the LLM when doing the generation step.' metadata={'source': 'LangchainRetrieval.txt'}\n"
          ]
        }
      ]
    },
    {
      "cell_type": "markdown",
      "source": [
        "### Embedding"
      ],
      "metadata": {
        "id": "bnOXXUM8Ba45"
      },
      "id": "bnOXXUM8Ba45"
    },
    {
      "cell_type": "code",
      "source": [
        "from langchain_google_genai import GoogleGenerativeAIEmbeddings"
      ],
      "metadata": {
        "id": "Oe7k4qnkBfzp"
      },
      "id": "Oe7k4qnkBfzp",
      "execution_count": 79,
      "outputs": []
    },
    {
      "cell_type": "code",
      "source": [
        "embeddings_model = GoogleGenerativeAIEmbeddings(model=\"models/embedding-001\")"
      ],
      "metadata": {
        "id": "N5hVB05bCQr8"
      },
      "id": "N5hVB05bCQr8",
      "execution_count": 80,
      "outputs": []
    },
    {
      "cell_type": "code",
      "source": [
        "embeddings = embeddings_model.embed_documents(\n",
        "    [\n",
        "        \"Hi\",\n",
        "        \"What's up!\",\n",
        "        \"Learning LangChain\",\n",
        "        \"You should learn it from Conchita\"\n",
        "    ]\n",
        ")\n",
        "len(embeddings), len(embeddings[0])"
      ],
      "metadata": {
        "colab": {
          "base_uri": "https://localhost:8080/"
        },
        "id": "FPe6bpj4CcfY",
        "outputId": "f51dcac3-056f-43ca-f751-42f018d22b11"
      },
      "id": "FPe6bpj4CcfY",
      "execution_count": 81,
      "outputs": [
        {
          "output_type": "execute_result",
          "data": {
            "text/plain": [
              "(4, 768)"
            ]
          },
          "metadata": {},
          "execution_count": 81
        }
      ]
    },
    {
      "cell_type": "code",
      "source": [
        "embeddings[0]"
      ],
      "metadata": {
        "colab": {
          "base_uri": "https://localhost:8080/"
        },
        "id": "pEv8tcpSCsvw",
        "outputId": "f7b1db3e-7287-4eae-d543-a369954eba84"
      },
      "id": "pEv8tcpSCsvw",
      "execution_count": 82,
      "outputs": [
        {
          "output_type": "execute_result",
          "data": {
            "text/plain": [
              "[0.03942074254155159,\n",
              " 0.00341339991427958,\n",
              " -0.06045940890908241,\n",
              " -0.028973408043384552,\n",
              " 0.06759811192750931,\n",
              " -0.0005555768148042262,\n",
              " 0.025805775076150894,\n",
              " -0.028432175517082214,\n",
              " -0.012789401225745678,\n",
              " 0.051125966012477875,\n",
              " -0.011636484414339066,\n",
              " 0.025080760940909386,\n",
              " -0.020078590139746666,\n",
              " 0.013835718855261803,\n",
              " -0.02999160625040531,\n",
              " -0.010279856622219086,\n",
              " 0.012468338944017887,\n",
              " 0.013220742344856262,\n",
              " 0.04119221493601799,\n",
              " -0.022260591387748718,\n",
              " 0.03646913915872574,\n",
              " 0.014467360451817513,\n",
              " -0.006965399254113436,\n",
              " 0.004088358022272587,\n",
              " 0.039823830127716064,\n",
              " -0.03032483160495758,\n",
              " 0.016167156398296356,\n",
              " -0.031830839812755585,\n",
              " -0.04246188700199127,\n",
              " 0.004185791593044996,\n",
              " -0.05010295286774635,\n",
              " 0.026064319536089897,\n",
              " -0.036640413105487823,\n",
              " 0.021568095311522484,\n",
              " 0.029510049149394035,\n",
              " -0.06420356035232544,\n",
              " -0.007808097172528505,\n",
              " 0.028815818950533867,\n",
              " -0.009917114861309528,\n",
              " 0.027429968118667603,\n",
              " 0.006766802165657282,\n",
              " -0.046439699828624725,\n",
              " -0.048993658274412155,\n",
              " 0.0058562676422297955,\n",
              " 0.005597096402198076,\n",
              " 0.014530646614730358,\n",
              " -0.06171755492687225,\n",
              " 0.03876221925020218,\n",
              " 0.020062722265720367,\n",
              " -0.039093270897865295,\n",
              " 0.036437105387449265,\n",
              " 0.026828065514564514,\n",
              " 0.07344149798154831,\n",
              " -0.035911768674850464,\n",
              " -0.013670460321009159,\n",
              " -0.05760376527905464,\n",
              " 0.04201577231287956,\n",
              " 0.009094932116568089,\n",
              " -0.010020574554800987,\n",
              " 0.018057668581604958,\n",
              " -0.006389028858393431,\n",
              " 0.0008076299563981593,\n",
              " 0.03418724238872528,\n",
              " 0.006229185964912176,\n",
              " -0.04245169460773468,\n",
              " -0.06795281171798706,\n",
              " -0.03308871015906334,\n",
              " 0.0204758457839489,\n",
              " 0.05143212899565697,\n",
              " -0.012646079063415527,\n",
              " 0.0032858115155249834,\n",
              " -0.06115258112549782,\n",
              " 0.04448441043496132,\n",
              " -0.01367245614528656,\n",
              " -0.011684441938996315,\n",
              " -0.12729905545711517,\n",
              " -0.01047980971634388,\n",
              " 0.07239590585231781,\n",
              " 0.023336952552199364,\n",
              " -0.021753594279289246,\n",
              " -0.018583958968520164,\n",
              " -0.050386201590299606,\n",
              " -0.07888487726449966,\n",
              " -0.01687312126159668,\n",
              " -0.07987309247255325,\n",
              " 0.023370327427983284,\n",
              " -0.03281649202108383,\n",
              " -0.01504659652709961,\n",
              " -0.003081578528508544,\n",
              " 0.04037553444504738,\n",
              " -0.02493949420750141,\n",
              " -0.019942985847592354,\n",
              " 0.057911358773708344,\n",
              " -0.042668960988521576,\n",
              " -0.007779132109135389,\n",
              " 0.058078959584236145,\n",
              " -0.04528798162937164,\n",
              " -0.02570047415792942,\n",
              " 0.037857066839933395,\n",
              " -0.00924950372427702,\n",
              " -0.000931618211325258,\n",
              " -0.029368357732892036,\n",
              " -0.06830932945013046,\n",
              " 0.02347605675458908,\n",
              " 0.025797409936785698,\n",
              " -0.0010139179648831487,\n",
              " 0.026748115196824074,\n",
              " 0.05960137024521828,\n",
              " -0.006830928847193718,\n",
              " 0.04390312358736992,\n",
              " -0.06134795397520065,\n",
              " 0.026614544913172722,\n",
              " 0.027620987966656685,\n",
              " 0.018122080713510513,\n",
              " 0.03465547412633896,\n",
              " -0.038353756070137024,\n",
              " -0.02764170989394188,\n",
              " 0.07545305043458939,\n",
              " 0.03240780904889107,\n",
              " 0.04176275059580803,\n",
              " 0.03931255638599396,\n",
              " -0.008239191956818104,\n",
              " 0.0838356614112854,\n",
              " -0.0401020385324955,\n",
              " 0.0351056344807148,\n",
              " 0.0062733665108680725,\n",
              " -0.025500908493995667,\n",
              " 0.04920944571495056,\n",
              " 0.015659306198358536,\n",
              " -0.0040290518663823605,\n",
              " -0.0007913763402029872,\n",
              " -0.05330822989344597,\n",
              " -0.04158685356378555,\n",
              " 0.027799341827630997,\n",
              " 0.048582255840301514,\n",
              " 0.08377707004547119,\n",
              " 0.028479184955358505,\n",
              " -0.01730797253549099,\n",
              " 0.019246267154812813,\n",
              " -0.014394999481737614,\n",
              " 0.016426630318164825,\n",
              " 0.03698471188545227,\n",
              " 0.0082863112911582,\n",
              " 0.018847493454813957,\n",
              " -0.0020493757911026478,\n",
              " 0.07280763238668442,\n",
              " -0.06968528032302856,\n",
              " -0.010380086489021778,\n",
              " 0.07855270057916641,\n",
              " -0.04661223292350769,\n",
              " -0.03612096607685089,\n",
              " -0.03150360286235809,\n",
              " -0.061534591019153595,\n",
              " -0.019328679889440536,\n",
              " 0.05240770801901817,\n",
              " -0.017833005636930466,\n",
              " -0.03643402084708214,\n",
              " 0.034207914024591446,\n",
              " 0.015218750573694706,\n",
              " 0.008940627798438072,\n",
              " 0.03440655767917633,\n",
              " -0.0022122364025563,\n",
              " 0.018731577321887016,\n",
              " 0.014924274757504463,\n",
              " 0.0047716605477035046,\n",
              " -0.014360379427671432,\n",
              " -0.013032150454819202,\n",
              " 0.0057822335511446,\n",
              " -0.014211407862603664,\n",
              " 0.01217111386358738,\n",
              " -0.04009106382727623,\n",
              " -0.000831371929962188,\n",
              " -0.049063436686992645,\n",
              " -0.02599973976612091,\n",
              " -0.019308805465698242,\n",
              " -0.04752926900982857,\n",
              " 0.057152945548295975,\n",
              " -0.018180716782808304,\n",
              " -0.04244443029165268,\n",
              " -0.006919897627085447,\n",
              " 0.006915248930454254,\n",
              " -0.04416489601135254,\n",
              " 0.01764238253235817,\n",
              " 0.058361269533634186,\n",
              " 0.003451672615483403,\n",
              " -0.059409111738204956,\n",
              " 0.05825360119342804,\n",
              " 0.009933936409652233,\n",
              " -0.009751093573868275,\n",
              " 0.02034442313015461,\n",
              " 0.003423144808039069,\n",
              " -0.002678838325664401,\n",
              " -0.04119319096207619,\n",
              " -0.030621005222201347,\n",
              " -0.033978499472141266,\n",
              " 0.0426621250808239,\n",
              " 0.0009863207815214992,\n",
              " -0.008311823941767216,\n",
              " 0.008946048095822334,\n",
              " -0.05904873460531235,\n",
              " -0.0015809648903086782,\n",
              " 0.06674182415008545,\n",
              " 0.011740862391889095,\n",
              " -0.01479256059974432,\n",
              " 0.0440349318087101,\n",
              " -0.013937179930508137,\n",
              " 0.06218148022890091,\n",
              " -0.036853693425655365,\n",
              " -0.04858703911304474,\n",
              " 0.03962164372205734,\n",
              " -0.03109251707792282,\n",
              " 0.03957212343811989,\n",
              " -0.019512921571731567,\n",
              " -0.006191789638251066,\n",
              " 0.018640238791704178,\n",
              " -0.007877928204834461,\n",
              " 0.013027156703174114,\n",
              " 0.022356169298291206,\n",
              " 0.033796194940805435,\n",
              " -0.024307040497660637,\n",
              " -0.02745116874575615,\n",
              " 0.0003301248943898827,\n",
              " -0.04585481062531471,\n",
              " 0.01003024447709322,\n",
              " 0.006270665675401688,\n",
              " 0.05375092476606369,\n",
              " -0.009477363899350166,\n",
              " -0.005203715525567532,\n",
              " 0.0051681348122656345,\n",
              " -0.040183842182159424,\n",
              " -0.01525342557579279,\n",
              " 0.07549526542425156,\n",
              " 0.0018233569571748376,\n",
              " -0.025488341227173805,\n",
              " 0.07413021475076675,\n",
              " 0.0004725901526398957,\n",
              " -0.001925998367369175,\n",
              " 0.01971370540559292,\n",
              " 0.02003195323050022,\n",
              " 0.03596457466483116,\n",
              " -0.05416911840438843,\n",
              " 0.017159845679998398,\n",
              " 0.03190105780959129,\n",
              " 0.06095615774393082,\n",
              " -0.0534881167113781,\n",
              " -0.04865192621946335,\n",
              " -0.03667478263378143,\n",
              " 0.042178984731435776,\n",
              " 0.005579900462180376,\n",
              " 0.06971042603254318,\n",
              " 0.0036884748842567205,\n",
              " -0.043237604200839996,\n",
              " -0.0022086843382567167,\n",
              " -0.0058096726424992085,\n",
              " -0.11690732836723328,\n",
              " 0.025978384539484978,\n",
              " -0.03836030885577202,\n",
              " 0.0294570941478014,\n",
              " -0.019758746027946472,\n",
              " 0.018970761448144913,\n",
              " 0.04319041222333908,\n",
              " 0.0026897629722952843,\n",
              " 0.0004009614640381187,\n",
              " -0.006762756500393152,\n",
              " -0.01445032749325037,\n",
              " -0.005900089628994465,\n",
              " 0.016655398532748222,\n",
              " -0.07919847220182419,\n",
              " 0.013726976700127125,\n",
              " -0.009344481863081455,\n",
              " 0.028034869581460953,\n",
              " -0.03325613588094711,\n",
              " 0.06721890717744827,\n",
              " 0.026597239077091217,\n",
              " 0.005546062719076872,\n",
              " 0.023139869794249535,\n",
              " -0.025881359353661537,\n",
              " 0.06640665978193283,\n",
              " 0.022087009623646736,\n",
              " -0.05340191721916199,\n",
              " 0.03584962710738182,\n",
              " 0.018518339842557907,\n",
              " 0.035929013043642044,\n",
              " -0.026823339983820915,\n",
              " 0.011533106677234173,\n",
              " -0.004898871760815382,\n",
              " -0.04635215550661087,\n",
              " -0.023237304762005806,\n",
              " 0.014714664779603481,\n",
              " -0.0570855438709259,\n",
              " -0.03648960590362549,\n",
              " -0.06627225875854492,\n",
              " 0.053338486701250076,\n",
              " -0.03166170045733452,\n",
              " -0.01810663565993309,\n",
              " -0.002086343476548791,\n",
              " 0.0037831440567970276,\n",
              " 0.018705282360315323,\n",
              " 0.03385602682828903,\n",
              " -0.02625134587287903,\n",
              " -0.017234431579709053,\n",
              " -0.04841310903429985,\n",
              " 0.014536053873598576,\n",
              " -0.11264077574014664,\n",
              " -0.016412291675806046,\n",
              " -0.011883542872965336,\n",
              " -0.02615601196885109,\n",
              " -0.049643222242593765,\n",
              " 0.018888797610998154,\n",
              " 0.04264282062649727,\n",
              " -0.018449001014232635,\n",
              " 0.03387979418039322,\n",
              " -0.02566954866051674,\n",
              " -0.0038031479343771935,\n",
              " 0.03380616381764412,\n",
              " 0.05628213658928871,\n",
              " -0.03479272127151489,\n",
              " 0.02851264178752899,\n",
              " 0.00616046879440546,\n",
              " 0.044964998960494995,\n",
              " -0.01670144312083721,\n",
              " 0.09048233926296234,\n",
              " 0.025777142494916916,\n",
              " -0.0012417132966220379,\n",
              " -0.023049723356962204,\n",
              " 0.04232983663678169,\n",
              " 0.010003289207816124,\n",
              " 0.010275314562022686,\n",
              " -0.013964001089334488,\n",
              " 0.0022253391798585653,\n",
              " -0.036078039556741714,\n",
              " 0.04555187374353409,\n",
              " -0.045260630548000336,\n",
              " -0.022218888625502586,\n",
              " -0.018012981861829758,\n",
              " 0.042810436338186264,\n",
              " -0.09297516196966171,\n",
              " 0.012993545271456242,\n",
              " -0.059444610029459,\n",
              " -0.025823934003710747,\n",
              " 0.011741996742784977,\n",
              " 0.019017383456230164,\n",
              " -0.04811156913638115,\n",
              " -0.04331960901618004,\n",
              " 0.0062087723053991795,\n",
              " -0.01379100140184164,\n",
              " -0.045648641884326935,\n",
              " 0.05779844522476196,\n",
              " 0.06894204765558243,\n",
              " 0.04725988209247589,\n",
              " 0.01092267595231533,\n",
              " 0.0874616801738739,\n",
              " 0.0019764425233006477,\n",
              " 0.04697223752737045,\n",
              " -0.017304079607129097,\n",
              " -0.03181667625904083,\n",
              " 0.03815086558461189,\n",
              " -0.039514120668172836,\n",
              " -0.009233439341187477,\n",
              " -0.0376974418759346,\n",
              " 0.026458879932761192,\n",
              " 0.014112861827015877,\n",
              " 0.009922496974468231,\n",
              " -0.014541538432240486,\n",
              " -0.024108076468110085,\n",
              " -0.011609225533902645,\n",
              " -0.02648230455815792,\n",
              " 0.00822620652616024,\n",
              " -0.010637901723384857,\n",
              " 0.06010114401578903,\n",
              " 0.02835310623049736,\n",
              " -0.02038118988275528,\n",
              " 0.027233965694904327,\n",
              " -0.04568963125348091,\n",
              " 0.022232243791222572,\n",
              " 0.007116346620023251,\n",
              " -0.04471619054675102,\n",
              " -0.010633007623255253,\n",
              " 0.029401792213320732,\n",
              " 0.01668143831193447,\n",
              " 0.01554117538034916,\n",
              " -0.0005295705632306635,\n",
              " 0.05168917030096054,\n",
              " -0.008743475191295147,\n",
              " 0.03304469957947731,\n",
              " -0.03215298429131508,\n",
              " 0.0401204451918602,\n",
              " 0.008930507116019726,\n",
              " -0.030137768015265465,\n",
              " 0.032832033932209015,\n",
              " -0.05452535301446915,\n",
              " 0.03202792629599571,\n",
              " 0.09783367067575455,\n",
              " 0.004362087231129408,\n",
              " -0.004268316552042961,\n",
              " -0.028348613530397415,\n",
              " -0.012080002576112747,\n",
              " -0.05018205568194389,\n",
              " -0.0019303581211715937,\n",
              " 0.04862025007605553,\n",
              " -0.037392307072877884,\n",
              " -0.06340208649635315,\n",
              " -0.03475244343280792,\n",
              " -0.008573450148105621,\n",
              " -0.04345385730266571,\n",
              " 0.009348896332085133,\n",
              " 0.011093071661889553,\n",
              " 0.00237710727378726,\n",
              " -0.04811901971697807,\n",
              " -0.024701524525880814,\n",
              " 0.01426760945469141,\n",
              " -0.015380260534584522,\n",
              " 0.008061319589614868,\n",
              " -0.0833510234951973,\n",
              " -0.039517439901828766,\n",
              " -0.04859276860952377,\n",
              " 0.05833885818719864,\n",
              " -0.017975788563489914,\n",
              " -0.03086010366678238,\n",
              " 0.03302964195609093,\n",
              " -0.0302520003169775,\n",
              " -0.01577368751168251,\n",
              " 4.400605394039303e-05,\n",
              " -0.02090826816856861,\n",
              " -0.07333962619304657,\n",
              " -0.032442111521959305,\n",
              " 0.012612232938408852,\n",
              " 0.03134644404053688,\n",
              " -0.005619299132376909,\n",
              " 0.003408682532608509,\n",
              " 0.03640539199113846,\n",
              " 0.008597763255238533,\n",
              " -0.0145765021443367,\n",
              " -0.035104382783174515,\n",
              " -0.015694057568907738,\n",
              " -0.0649060308933258,\n",
              " -0.005341778043657541,\n",
              " 0.044222310185432434,\n",
              " -0.0051527246832847595,\n",
              " -0.003979491535574198,\n",
              " 0.034093860536813736,\n",
              " -0.022752543911337852,\n",
              " 0.03413312882184982,\n",
              " 0.003989640157669783,\n",
              " -0.034661952406167984,\n",
              " -0.005592494737356901,\n",
              " -0.014984560199081898,\n",
              " -0.0356224961578846,\n",
              " 0.014560069888830185,\n",
              " -0.08756669610738754,\n",
              " 0.03943977877497673,\n",
              " -0.10004318505525589,\n",
              " -0.0310518741607666,\n",
              " -0.0558479018509388,\n",
              " -0.062392041087150574,\n",
              " -0.027666127309203148,\n",
              " 0.015725109726190567,\n",
              " 0.07874863594770432,\n",
              " -0.007453608326613903,\n",
              " 0.015676608309149742,\n",
              " -0.012752155773341656,\n",
              " -0.003254897892475128,\n",
              " -0.024746635928750038,\n",
              " -0.09459751099348068,\n",
              " 0.03877316787838936,\n",
              " -0.005796981044113636,\n",
              " 0.0063054305501282215,\n",
              " -0.027659790590405464,\n",
              " 0.03385869786143303,\n",
              " 0.03821919485926628,\n",
              " 0.032624516636133194,\n",
              " -0.025363927707076073,\n",
              " -0.016708889976143837,\n",
              " -0.0044837575405836105,\n",
              " -0.03438461199402809,\n",
              " -0.03360016644001007,\n",
              " -0.08871044218540192,\n",
              " 0.06596580892801285,\n",
              " -0.041457053273916245,\n",
              " -0.014149012975394726,\n",
              " 0.028628217056393623,\n",
              " 0.03681914880871773,\n",
              " -0.016988983377814293,\n",
              " 0.03352673724293709,\n",
              " -0.010874126106500626,\n",
              " 0.016036538407206535,\n",
              " -0.0035901160445064306,\n",
              " -0.021678371354937553,\n",
              " -0.026996148750185966,\n",
              " 0.03772703930735588,\n",
              " 0.028701145201921463,\n",
              " -0.015645688399672508,\n",
              " 0.003709211014211178,\n",
              " -0.03292636573314667,\n",
              " -0.035347163677215576,\n",
              " 0.005729529540985823,\n",
              " -0.016156261786818504,\n",
              " 0.043876565992832184,\n",
              " 0.0451175682246685,\n",
              " -0.004386988002806902,\n",
              " -0.04264342039823532,\n",
              " -0.028655914589762688,\n",
              " -0.0003830116183962673,\n",
              " -0.00743616558611393,\n",
              " 0.07633101940155029,\n",
              " -0.07202963531017303,\n",
              " -0.013395468704402447,\n",
              " 0.030925797298550606,\n",
              " 0.029937567189335823,\n",
              " -0.021089881658554077,\n",
              " 0.021801913157105446,\n",
              " 0.03229609504342079,\n",
              " -0.002966658677905798,\n",
              " 0.019553720951080322,\n",
              " 0.05895614996552467,\n",
              " -0.013718817383050919,\n",
              " 0.007282935548573732,\n",
              " 0.02309301495552063,\n",
              " -0.01076143141835928,\n",
              " 0.011327985674142838,\n",
              " 0.019350102171301842,\n",
              " -0.0054571256041526794,\n",
              " -0.07512873411178589,\n",
              " -0.024819549173116684,\n",
              " 0.002662504091858864,\n",
              " -0.06263018399477005,\n",
              " 0.008504383265972137,\n",
              " -0.0020222605671733618,\n",
              " -0.03041381947696209,\n",
              " 0.007540444377809763,\n",
              " -0.03668295964598656,\n",
              " 0.06838792562484741,\n",
              " -0.050557710230350494,\n",
              " -0.016016487032175064,\n",
              " 0.04387173056602478,\n",
              " 0.0006133527494966984,\n",
              " 0.028062622994184494,\n",
              " 0.020039329305291176,\n",
              " -0.014390351250767708,\n",
              " -0.03942478820681572,\n",
              " 0.0514470674097538,\n",
              " -0.01108422502875328,\n",
              " 0.043577056378126144,\n",
              " 0.00961854588240385,\n",
              " -0.05829127877950668,\n",
              " 0.024012841284275055,\n",
              " 0.012642467394471169,\n",
              " -0.08157483488321304,\n",
              " 0.0037776376120746136,\n",
              " 0.0002486573066562414,\n",
              " -0.014989737421274185,\n",
              " 0.015814153477549553,\n",
              " 0.03593543916940689,\n",
              " -0.02315785363316536,\n",
              " -0.004277224186807871,\n",
              " -0.020960913971066475,\n",
              " -0.018819723278284073,\n",
              " 0.011063151061534882,\n",
              " 0.024283653125166893,\n",
              " -0.004329456482082605,\n",
              " 0.006924468092620373,\n",
              " 0.004201523959636688,\n",
              " 0.008966098539531231,\n",
              " 0.04221794009208679,\n",
              " 0.0709717646241188,\n",
              " 0.01780151203274727,\n",
              " -0.02957581728696823,\n",
              " -0.02964026667177677,\n",
              " 0.06170783191919327,\n",
              " -0.005573927890509367,\n",
              " -0.017980758100748062,\n",
              " -0.00018912916129920632,\n",
              " 0.033624570816755295,\n",
              " 0.01193854957818985,\n",
              " 0.04692405089735985,\n",
              " -0.02266991324722767,\n",
              " -0.05943647027015686,\n",
              " -0.014394696801900864,\n",
              " -0.015495170839130878,\n",
              " -0.010215832851827145,\n",
              " 0.05936281383037567,\n",
              " -0.020785348489880562,\n",
              " 0.0009515537531115115,\n",
              " 0.061098363250494,\n",
              " -0.01395516935735941,\n",
              " 0.015006558038294315,\n",
              " 0.08316673338413239,\n",
              " 0.034910041838884354,\n",
              " 0.0229024775326252,\n",
              " 0.015683405101299286,\n",
              " -0.0322592593729496,\n",
              " 0.01752636581659317,\n",
              " -0.03880886733531952,\n",
              " -0.005071699153631926,\n",
              " -0.010057216510176659,\n",
              " 0.020207470282912254,\n",
              " -0.0006286209099926054,\n",
              " -0.007464128080755472,\n",
              " -0.032147422432899475,\n",
              " -0.01064966432750225,\n",
              " 0.027030877768993378,\n",
              " -0.013913594186306,\n",
              " 0.03167597949504852,\n",
              " -0.053416453301906586,\n",
              " 0.026676928624510765,\n",
              " 0.034405410289764404,\n",
              " -0.01354839839041233,\n",
              " 0.01966417394578457,\n",
              " 0.014660719782114029,\n",
              " 0.06647443026304245,\n",
              " 0.00803743302822113,\n",
              " -0.0215359665453434,\n",
              " 0.008132516406476498,\n",
              " -0.042778898030519485,\n",
              " -0.0328594408929348,\n",
              " -0.0488370805978775,\n",
              " 0.08154477179050446,\n",
              " -0.02468664012849331,\n",
              " -0.017442435026168823,\n",
              " -0.04277839884161949,\n",
              " -0.018552720546722412,\n",
              " 0.009435699321329594,\n",
              " 0.0005611627129837871,\n",
              " -0.036999840289354324,\n",
              " 0.009254909120500088,\n",
              " 0.011463242582976818,\n",
              " -0.02868380770087242,\n",
              " -0.018175330013036728,\n",
              " 0.05763211101293564,\n",
              " 0.029348641633987427,\n",
              " 0.041007768362760544,\n",
              " 0.07708114385604858,\n",
              " -0.020084496587514877,\n",
              " 0.02497621439397335,\n",
              " -0.038647059351205826,\n",
              " -0.013517461717128754,\n",
              " -0.026233991608023643,\n",
              " 0.017353994771838188,\n",
              " 0.04131682589650154,\n",
              " -0.011945786885917187,\n",
              " -0.07823687791824341,\n",
              " 0.013047324493527412,\n",
              " 0.004919474944472313,\n",
              " -0.007744131609797478,\n",
              " -0.01139028836041689,\n",
              " 0.07063885033130646,\n",
              " 0.013519308529794216,\n",
              " -0.08094818145036697,\n",
              " -0.06578610837459564,\n",
              " -0.008702007122337818,\n",
              " -0.007987900637090206,\n",
              " 0.011479577980935574,\n",
              " 8.335492020705715e-05,\n",
              " -0.014267636463046074,\n",
              " 0.008592497557401657,\n",
              " 0.014608201570808887,\n",
              " -0.030996566638350487,\n",
              " -0.051066722720861435,\n",
              " 0.04060878977179527,\n",
              " -0.01225455291569233,\n",
              " -0.05124882981181145,\n",
              " -0.01825905591249466,\n",
              " -0.010039402171969414,\n",
              " 0.013406319543719292,\n",
              " -0.011950659565627575,\n",
              " -0.031450964510440826,\n",
              " -0.03377729654312134,\n",
              " -0.08280611783266068,\n",
              " -0.025510508567094803,\n",
              " 0.057569850236177444,\n",
              " -0.06935882568359375,\n",
              " 0.016398662701249123,\n",
              " 0.05054876580834389,\n",
              " -0.0179419107735157,\n",
              " 0.03389829769730568,\n",
              " 0.0032040828373283148,\n",
              " 0.020786279812455177,\n",
              " 0.025222888216376305,\n",
              " 0.014032845385372639,\n",
              " 0.03311276435852051,\n",
              " 0.03398798778653145,\n",
              " 0.0020218980498611927,\n",
              " -0.03884558007121086,\n",
              " 0.021499503403902054,\n",
              " 0.009408373385667801,\n",
              " 0.03876271843910217,\n",
              " 0.015933508053421974,\n",
              " 0.002394550247117877,\n",
              " -0.04075946658849716,\n",
              " -0.04754805564880371,\n",
              " -0.001158631988801062,\n",
              " -0.02266009710729122,\n",
              " -0.0345529206097126,\n",
              " 0.04730008542537689,\n",
              " 0.017657142132520676,\n",
              " 0.03326043114066124,\n",
              " -0.013945475220680237,\n",
              " -0.006917519494891167,\n",
              " 0.00815743487328291,\n",
              " 0.02450156956911087,\n",
              " -0.026781253516674042,\n",
              " -0.045485738664865494,\n",
              " -0.008314077742397785,\n",
              " 0.03401362895965576,\n",
              " 0.027021728456020355,\n",
              " 0.019929731264710426,\n",
              " 0.024338649585843086,\n",
              " 0.016489174216985703,\n",
              " 0.03587474673986435,\n",
              " 0.04685625061392784,\n",
              " 0.026699569076299667,\n",
              " -0.043129585683345795,\n",
              " -0.039832986891269684,\n",
              " 0.05144502595067024,\n",
              " 0.017018241807818413,\n",
              " -0.05259988084435463,\n",
              " 0.026002483442425728,\n",
              " 0.04641646146774292,\n",
              " -0.045920148491859436,\n",
              " 0.0624588206410408,\n",
              " 0.050820041447877884,\n",
              " 0.03783580660820007,\n",
              " 0.024189045652747154,\n",
              " -0.029062919318675995,\n",
              " -0.06226731091737747,\n",
              " 0.07519302517175674,\n",
              " -0.05052458867430687,\n",
              " -0.0026304267812520266,\n",
              " -0.03720217943191528,\n",
              " -0.030964074656367302,\n",
              " 0.08196908235549927,\n",
              " -0.0057914345525205135,\n",
              " -0.019640712067484856,\n",
              " 0.02947370894253254,\n",
              " -0.023384010419249535,\n",
              " 0.08518391102552414,\n",
              " 0.039212439209222794,\n",
              " 0.04069003835320473,\n",
              " 0.00421138433739543,\n",
              " -0.0846221074461937,\n",
              " -0.023095248267054558,\n",
              " -0.0006662101368419826,\n",
              " 0.014268149621784687,\n",
              " 0.035225093364715576,\n",
              " 0.0331028588116169,\n",
              " -0.015696333721280098,\n",
              " -0.012717751786112785,\n",
              " -0.029314149171113968,\n",
              " 0.016246335580945015,\n",
              " -0.06422492116689682,\n",
              " -0.013642331585288048,\n",
              " 0.013338467106223106,\n",
              " -0.046217214316129684,\n",
              " 0.03304137662053108,\n",
              " 0.04070569947361946,\n",
              " 0.012395806610584259,\n",
              " -0.029075365513563156,\n",
              " -0.007198462728410959,\n",
              " 0.005592931993305683,\n",
              " 0.02354663982987404,\n",
              " -0.027285631746053696,\n",
              " -0.014797784388065338,\n",
              " -0.00357563397847116,\n",
              " -0.0029354491271078587,\n",
              " 0.02364438772201538,\n",
              " 0.0032833977602422237,\n",
              " 0.004129395820200443,\n",
              " 0.010648186318576336]"
            ]
          },
          "metadata": {},
          "execution_count": 82
        }
      ]
    },
    {
      "cell_type": "code",
      "source": [
        "embedded_query = embeddings_model.embed_query(\"What was the name mentioned in the conversation?\")\n",
        "embedded_query[:5]"
      ],
      "metadata": {
        "colab": {
          "base_uri": "https://localhost:8080/"
        },
        "id": "ObAXDGYwCw-h",
        "outputId": "cce72f80-f953-4cb1-90ec-f4363482de20"
      },
      "id": "ObAXDGYwCw-h",
      "execution_count": 83,
      "outputs": [
        {
          "output_type": "execute_result",
          "data": {
            "text/plain": [
              "[0.021657681092619896,\n",
              " -0.03848287835717201,\n",
              " -0.04262446612119675,\n",
              " -0.006191625725477934,\n",
              " 0.012112059630453587]"
            ]
          },
          "metadata": {},
          "execution_count": 83
        }
      ]
    },
    {
      "cell_type": "markdown",
      "source": [
        "### Vector Storage"
      ],
      "metadata": {
        "id": "w6y4JxtwC0mH"
      },
      "id": "w6y4JxtwC0mH"
    },
    {
      "cell_type": "markdown",
      "source": [
        "#### Chroma"
      ],
      "metadata": {
        "id": "7VL-1iPXC1Td"
      },
      "id": "7VL-1iPXC1Td"
    },
    {
      "cell_type": "code",
      "source": [
        "pip install langchain-chroma"
      ],
      "metadata": {
        "colab": {
          "base_uri": "https://localhost:8080/"
        },
        "id": "HAelPBgeC9wI",
        "outputId": "b670086d-7fd5-4f1a-d499-7e261a431aac"
      },
      "id": "HAelPBgeC9wI",
      "execution_count": 84,
      "outputs": [
        {
          "output_type": "stream",
          "name": "stdout",
          "text": [
            "Collecting langchain-chroma\n",
            "  Downloading langchain_chroma-0.2.3-py3-none-any.whl.metadata (1.1 kB)\n",
            "Requirement already satisfied: langchain-core>=0.3.52 in /usr/local/lib/python3.11/dist-packages (from langchain-chroma) (0.3.58)\n",
            "Requirement already satisfied: numpy>=1.26.0 in /usr/local/lib/python3.11/dist-packages (from langchain-chroma) (1.26.4)\n",
            "Collecting chromadb!=0.5.10,!=0.5.11,!=0.5.12,!=0.5.4,!=0.5.5,!=0.5.7,!=0.5.9,<0.7.0,>=0.4.0 (from langchain-chroma)\n",
            "  Downloading chromadb-0.6.3-py3-none-any.whl.metadata (6.8 kB)\n",
            "Collecting build>=1.0.3 (from chromadb!=0.5.10,!=0.5.11,!=0.5.12,!=0.5.4,!=0.5.5,!=0.5.7,!=0.5.9,<0.7.0,>=0.4.0->langchain-chroma)\n",
            "  Downloading build-1.2.2.post1-py3-none-any.whl.metadata (6.5 kB)\n",
            "Requirement already satisfied: pydantic>=1.9 in /usr/local/lib/python3.11/dist-packages (from chromadb!=0.5.10,!=0.5.11,!=0.5.12,!=0.5.4,!=0.5.5,!=0.5.7,!=0.5.9,<0.7.0,>=0.4.0->langchain-chroma) (2.11.4)\n",
            "Collecting chroma-hnswlib==0.7.6 (from chromadb!=0.5.10,!=0.5.11,!=0.5.12,!=0.5.4,!=0.5.5,!=0.5.7,!=0.5.9,<0.7.0,>=0.4.0->langchain-chroma)\n",
            "  Downloading chroma_hnswlib-0.7.6-cp311-cp311-manylinux_2_17_x86_64.manylinux2014_x86_64.whl.metadata (252 bytes)\n",
            "Collecting fastapi>=0.95.2 (from chromadb!=0.5.10,!=0.5.11,!=0.5.12,!=0.5.4,!=0.5.5,!=0.5.7,!=0.5.9,<0.7.0,>=0.4.0->langchain-chroma)\n",
            "  Downloading fastapi-0.115.12-py3-none-any.whl.metadata (27 kB)\n",
            "Collecting uvicorn>=0.18.3 (from uvicorn[standard]>=0.18.3->chromadb!=0.5.10,!=0.5.11,!=0.5.12,!=0.5.4,!=0.5.5,!=0.5.7,!=0.5.9,<0.7.0,>=0.4.0->langchain-chroma)\n",
            "  Downloading uvicorn-0.34.2-py3-none-any.whl.metadata (6.5 kB)\n",
            "Collecting posthog>=2.4.0 (from chromadb!=0.5.10,!=0.5.11,!=0.5.12,!=0.5.4,!=0.5.5,!=0.5.7,!=0.5.9,<0.7.0,>=0.4.0->langchain-chroma)\n",
            "  Downloading posthog-4.0.1-py2.py3-none-any.whl.metadata (3.0 kB)\n",
            "Requirement already satisfied: typing_extensions>=4.5.0 in /usr/local/lib/python3.11/dist-packages (from chromadb!=0.5.10,!=0.5.11,!=0.5.12,!=0.5.4,!=0.5.5,!=0.5.7,!=0.5.9,<0.7.0,>=0.4.0->langchain-chroma) (4.12.2)\n",
            "Collecting onnxruntime>=1.14.1 (from chromadb!=0.5.10,!=0.5.11,!=0.5.12,!=0.5.4,!=0.5.5,!=0.5.7,!=0.5.9,<0.7.0,>=0.4.0->langchain-chroma)\n",
            "  Downloading onnxruntime-1.21.1-cp311-cp311-manylinux_2_27_x86_64.manylinux_2_28_x86_64.whl.metadata (4.5 kB)\n",
            "Requirement already satisfied: opentelemetry-api>=1.2.0 in /usr/local/lib/python3.11/dist-packages (from chromadb!=0.5.10,!=0.5.11,!=0.5.12,!=0.5.4,!=0.5.5,!=0.5.7,!=0.5.9,<0.7.0,>=0.4.0->langchain-chroma) (1.16.0)\n",
            "Collecting opentelemetry-exporter-otlp-proto-grpc>=1.2.0 (from chromadb!=0.5.10,!=0.5.11,!=0.5.12,!=0.5.4,!=0.5.5,!=0.5.7,!=0.5.9,<0.7.0,>=0.4.0->langchain-chroma)\n",
            "  Downloading opentelemetry_exporter_otlp_proto_grpc-1.32.1-py3-none-any.whl.metadata (2.5 kB)\n",
            "Collecting opentelemetry-instrumentation-fastapi>=0.41b0 (from chromadb!=0.5.10,!=0.5.11,!=0.5.12,!=0.5.4,!=0.5.5,!=0.5.7,!=0.5.9,<0.7.0,>=0.4.0->langchain-chroma)\n",
            "  Downloading opentelemetry_instrumentation_fastapi-0.53b1-py3-none-any.whl.metadata (2.2 kB)\n",
            "Requirement already satisfied: opentelemetry-sdk>=1.2.0 in /usr/local/lib/python3.11/dist-packages (from chromadb!=0.5.10,!=0.5.11,!=0.5.12,!=0.5.4,!=0.5.5,!=0.5.7,!=0.5.9,<0.7.0,>=0.4.0->langchain-chroma) (1.16.0)\n",
            "Requirement already satisfied: tokenizers>=0.13.2 in /usr/local/lib/python3.11/dist-packages (from chromadb!=0.5.10,!=0.5.11,!=0.5.12,!=0.5.4,!=0.5.5,!=0.5.7,!=0.5.9,<0.7.0,>=0.4.0->langchain-chroma) (0.21.0)\n",
            "Collecting pypika>=0.48.9 (from chromadb!=0.5.10,!=0.5.11,!=0.5.12,!=0.5.4,!=0.5.5,!=0.5.7,!=0.5.9,<0.7.0,>=0.4.0->langchain-chroma)\n",
            "  Downloading PyPika-0.48.9.tar.gz (67 kB)\n",
            "\u001b[2K     \u001b[90m━━━━━━━━━━━━━━━━━━━━━━━━━━━━━━━━━━━━━━━━\u001b[0m \u001b[32m67.3/67.3 kB\u001b[0m \u001b[31m5.1 MB/s\u001b[0m eta \u001b[36m0:00:00\u001b[0m\n",
            "\u001b[?25h  Installing build dependencies ... \u001b[?25l\u001b[?25hdone\n",
            "  Getting requirements to build wheel ... \u001b[?25l\u001b[?25hdone\n",
            "  Preparing metadata (pyproject.toml) ... \u001b[?25l\u001b[?25hdone\n",
            "Requirement already satisfied: tqdm>=4.65.0 in /usr/local/lib/python3.11/dist-packages (from chromadb!=0.5.10,!=0.5.11,!=0.5.12,!=0.5.4,!=0.5.5,!=0.5.7,!=0.5.9,<0.7.0,>=0.4.0->langchain-chroma) (4.67.1)\n",
            "Collecting overrides>=7.3.1 (from chromadb!=0.5.10,!=0.5.11,!=0.5.12,!=0.5.4,!=0.5.5,!=0.5.7,!=0.5.9,<0.7.0,>=0.4.0->langchain-chroma)\n",
            "  Downloading overrides-7.7.0-py3-none-any.whl.metadata (5.8 kB)\n",
            "Requirement already satisfied: importlib-resources in /usr/local/lib/python3.11/dist-packages (from chromadb!=0.5.10,!=0.5.11,!=0.5.12,!=0.5.4,!=0.5.5,!=0.5.7,!=0.5.9,<0.7.0,>=0.4.0->langchain-chroma) (6.5.2)\n",
            "Requirement already satisfied: grpcio>=1.58.0 in /usr/local/lib/python3.11/dist-packages (from chromadb!=0.5.10,!=0.5.11,!=0.5.12,!=0.5.4,!=0.5.5,!=0.5.7,!=0.5.9,<0.7.0,>=0.4.0->langchain-chroma) (1.70.0)\n",
            "Collecting bcrypt>=4.0.1 (from chromadb!=0.5.10,!=0.5.11,!=0.5.12,!=0.5.4,!=0.5.5,!=0.5.7,!=0.5.9,<0.7.0,>=0.4.0->langchain-chroma)\n",
            "  Downloading bcrypt-4.3.0-cp39-abi3-manylinux_2_34_x86_64.whl.metadata (10 kB)\n",
            "Requirement already satisfied: typer>=0.9.0 in /usr/local/lib/python3.11/dist-packages (from chromadb!=0.5.10,!=0.5.11,!=0.5.12,!=0.5.4,!=0.5.5,!=0.5.7,!=0.5.9,<0.7.0,>=0.4.0->langchain-chroma) (0.15.2)\n",
            "Collecting kubernetes>=28.1.0 (from chromadb!=0.5.10,!=0.5.11,!=0.5.12,!=0.5.4,!=0.5.5,!=0.5.7,!=0.5.9,<0.7.0,>=0.4.0->langchain-chroma)\n",
            "  Downloading kubernetes-32.0.1-py2.py3-none-any.whl.metadata (1.7 kB)\n",
            "Requirement already satisfied: tenacity>=8.2.3 in /usr/local/lib/python3.11/dist-packages (from chromadb!=0.5.10,!=0.5.11,!=0.5.12,!=0.5.4,!=0.5.5,!=0.5.7,!=0.5.9,<0.7.0,>=0.4.0->langchain-chroma) (9.0.0)\n",
            "Requirement already satisfied: PyYAML>=6.0.0 in /usr/local/lib/python3.11/dist-packages (from chromadb!=0.5.10,!=0.5.11,!=0.5.12,!=0.5.4,!=0.5.5,!=0.5.7,!=0.5.9,<0.7.0,>=0.4.0->langchain-chroma) (6.0.2)\n",
            "Collecting mmh3>=4.0.1 (from chromadb!=0.5.10,!=0.5.11,!=0.5.12,!=0.5.4,!=0.5.5,!=0.5.7,!=0.5.9,<0.7.0,>=0.4.0->langchain-chroma)\n",
            "  Downloading mmh3-5.1.0-cp311-cp311-manylinux_2_5_x86_64.manylinux1_x86_64.manylinux_2_17_x86_64.manylinux2014_x86_64.whl.metadata (16 kB)\n",
            "Requirement already satisfied: orjson>=3.9.12 in /usr/local/lib/python3.11/dist-packages (from chromadb!=0.5.10,!=0.5.11,!=0.5.12,!=0.5.4,!=0.5.5,!=0.5.7,!=0.5.9,<0.7.0,>=0.4.0->langchain-chroma) (3.10.15)\n",
            "Requirement already satisfied: httpx>=0.27.0 in /usr/local/lib/python3.11/dist-packages (from chromadb!=0.5.10,!=0.5.11,!=0.5.12,!=0.5.4,!=0.5.5,!=0.5.7,!=0.5.9,<0.7.0,>=0.4.0->langchain-chroma) (0.28.1)\n",
            "Requirement already satisfied: rich>=10.11.0 in /usr/local/lib/python3.11/dist-packages (from chromadb!=0.5.10,!=0.5.11,!=0.5.12,!=0.5.4,!=0.5.5,!=0.5.7,!=0.5.9,<0.7.0,>=0.4.0->langchain-chroma) (13.9.4)\n",
            "Requirement already satisfied: langsmith<0.4,>=0.1.125 in /usr/local/lib/python3.11/dist-packages (from langchain-core>=0.3.52->langchain-chroma) (0.3.11)\n",
            "Requirement already satisfied: jsonpatch<2.0,>=1.33 in /usr/local/lib/python3.11/dist-packages (from langchain-core>=0.3.52->langchain-chroma) (1.33)\n",
            "Requirement already satisfied: packaging<25,>=23.2 in /usr/local/lib/python3.11/dist-packages (from langchain-core>=0.3.52->langchain-chroma) (24.2)\n",
            "Collecting pyproject_hooks (from build>=1.0.3->chromadb!=0.5.10,!=0.5.11,!=0.5.12,!=0.5.4,!=0.5.5,!=0.5.7,!=0.5.9,<0.7.0,>=0.4.0->langchain-chroma)\n",
            "  Downloading pyproject_hooks-1.2.0-py3-none-any.whl.metadata (1.3 kB)\n",
            "Collecting starlette<0.47.0,>=0.40.0 (from fastapi>=0.95.2->chromadb!=0.5.10,!=0.5.11,!=0.5.12,!=0.5.4,!=0.5.5,!=0.5.7,!=0.5.9,<0.7.0,>=0.4.0->langchain-chroma)\n",
            "  Downloading starlette-0.46.2-py3-none-any.whl.metadata (6.2 kB)\n",
            "Requirement already satisfied: anyio in /usr/local/lib/python3.11/dist-packages (from httpx>=0.27.0->chromadb!=0.5.10,!=0.5.11,!=0.5.12,!=0.5.4,!=0.5.5,!=0.5.7,!=0.5.9,<0.7.0,>=0.4.0->langchain-chroma) (3.7.1)\n",
            "Requirement already satisfied: certifi in /usr/local/lib/python3.11/dist-packages (from httpx>=0.27.0->chromadb!=0.5.10,!=0.5.11,!=0.5.12,!=0.5.4,!=0.5.5,!=0.5.7,!=0.5.9,<0.7.0,>=0.4.0->langchain-chroma) (2025.1.31)\n",
            "Requirement already satisfied: httpcore==1.* in /usr/local/lib/python3.11/dist-packages (from httpx>=0.27.0->chromadb!=0.5.10,!=0.5.11,!=0.5.12,!=0.5.4,!=0.5.5,!=0.5.7,!=0.5.9,<0.7.0,>=0.4.0->langchain-chroma) (1.0.7)\n",
            "Requirement already satisfied: idna in /usr/local/lib/python3.11/dist-packages (from httpx>=0.27.0->chromadb!=0.5.10,!=0.5.11,!=0.5.12,!=0.5.4,!=0.5.5,!=0.5.7,!=0.5.9,<0.7.0,>=0.4.0->langchain-chroma) (3.10)\n",
            "Requirement already satisfied: h11<0.15,>=0.13 in /usr/local/lib/python3.11/dist-packages (from httpcore==1.*->httpx>=0.27.0->chromadb!=0.5.10,!=0.5.11,!=0.5.12,!=0.5.4,!=0.5.5,!=0.5.7,!=0.5.9,<0.7.0,>=0.4.0->langchain-chroma) (0.14.0)\n",
            "Requirement already satisfied: jsonpointer>=1.9 in /usr/local/lib/python3.11/dist-packages (from jsonpatch<2.0,>=1.33->langchain-core>=0.3.52->langchain-chroma) (3.0.0)\n",
            "Requirement already satisfied: six>=1.9.0 in /usr/local/lib/python3.11/dist-packages (from kubernetes>=28.1.0->chromadb!=0.5.10,!=0.5.11,!=0.5.12,!=0.5.4,!=0.5.5,!=0.5.7,!=0.5.9,<0.7.0,>=0.4.0->langchain-chroma) (1.17.0)\n",
            "Requirement already satisfied: python-dateutil>=2.5.3 in /usr/local/lib/python3.11/dist-packages (from kubernetes>=28.1.0->chromadb!=0.5.10,!=0.5.11,!=0.5.12,!=0.5.4,!=0.5.5,!=0.5.7,!=0.5.9,<0.7.0,>=0.4.0->langchain-chroma) (2.8.2)\n",
            "Requirement already satisfied: google-auth>=1.0.1 in /usr/local/lib/python3.11/dist-packages (from kubernetes>=28.1.0->chromadb!=0.5.10,!=0.5.11,!=0.5.12,!=0.5.4,!=0.5.5,!=0.5.7,!=0.5.9,<0.7.0,>=0.4.0->langchain-chroma) (2.38.0)\n",
            "Requirement already satisfied: websocket-client!=0.40.0,!=0.41.*,!=0.42.*,>=0.32.0 in /usr/local/lib/python3.11/dist-packages (from kubernetes>=28.1.0->chromadb!=0.5.10,!=0.5.11,!=0.5.12,!=0.5.4,!=0.5.5,!=0.5.7,!=0.5.9,<0.7.0,>=0.4.0->langchain-chroma) (1.8.0)\n",
            "Requirement already satisfied: requests in /usr/local/lib/python3.11/dist-packages (from kubernetes>=28.1.0->chromadb!=0.5.10,!=0.5.11,!=0.5.12,!=0.5.4,!=0.5.5,!=0.5.7,!=0.5.9,<0.7.0,>=0.4.0->langchain-chroma) (2.32.3)\n",
            "Requirement already satisfied: requests-oauthlib in /usr/local/lib/python3.11/dist-packages (from kubernetes>=28.1.0->chromadb!=0.5.10,!=0.5.11,!=0.5.12,!=0.5.4,!=0.5.5,!=0.5.7,!=0.5.9,<0.7.0,>=0.4.0->langchain-chroma) (2.0.0)\n",
            "Requirement already satisfied: oauthlib>=3.2.2 in /usr/local/lib/python3.11/dist-packages (from kubernetes>=28.1.0->chromadb!=0.5.10,!=0.5.11,!=0.5.12,!=0.5.4,!=0.5.5,!=0.5.7,!=0.5.9,<0.7.0,>=0.4.0->langchain-chroma) (3.2.2)\n",
            "Requirement already satisfied: urllib3>=1.24.2 in /usr/local/lib/python3.11/dist-packages (from kubernetes>=28.1.0->chromadb!=0.5.10,!=0.5.11,!=0.5.12,!=0.5.4,!=0.5.5,!=0.5.7,!=0.5.9,<0.7.0,>=0.4.0->langchain-chroma) (2.3.0)\n",
            "Collecting durationpy>=0.7 (from kubernetes>=28.1.0->chromadb!=0.5.10,!=0.5.11,!=0.5.12,!=0.5.4,!=0.5.5,!=0.5.7,!=0.5.9,<0.7.0,>=0.4.0->langchain-chroma)\n",
            "  Downloading durationpy-0.9-py3-none-any.whl.metadata (338 bytes)\n",
            "Requirement already satisfied: requests-toolbelt<2.0.0,>=1.0.0 in /usr/local/lib/python3.11/dist-packages (from langsmith<0.4,>=0.1.125->langchain-core>=0.3.52->langchain-chroma) (1.0.0)\n",
            "Requirement already satisfied: zstandard<0.24.0,>=0.23.0 in /usr/local/lib/python3.11/dist-packages (from langsmith<0.4,>=0.1.125->langchain-core>=0.3.52->langchain-chroma) (0.23.0)\n",
            "Collecting coloredlogs (from onnxruntime>=1.14.1->chromadb!=0.5.10,!=0.5.11,!=0.5.12,!=0.5.4,!=0.5.5,!=0.5.7,!=0.5.9,<0.7.0,>=0.4.0->langchain-chroma)\n",
            "  Downloading coloredlogs-15.0.1-py2.py3-none-any.whl.metadata (12 kB)\n",
            "Requirement already satisfied: flatbuffers in /usr/local/lib/python3.11/dist-packages (from onnxruntime>=1.14.1->chromadb!=0.5.10,!=0.5.11,!=0.5.12,!=0.5.4,!=0.5.5,!=0.5.7,!=0.5.9,<0.7.0,>=0.4.0->langchain-chroma) (25.2.10)\n",
            "Requirement already satisfied: protobuf in /usr/local/lib/python3.11/dist-packages (from onnxruntime>=1.14.1->chromadb!=0.5.10,!=0.5.11,!=0.5.12,!=0.5.4,!=0.5.5,!=0.5.7,!=0.5.9,<0.7.0,>=0.4.0->langchain-chroma) (4.25.6)\n",
            "Requirement already satisfied: sympy in /usr/local/lib/python3.11/dist-packages (from onnxruntime>=1.14.1->chromadb!=0.5.10,!=0.5.11,!=0.5.12,!=0.5.4,!=0.5.5,!=0.5.7,!=0.5.9,<0.7.0,>=0.4.0->langchain-chroma) (1.13.1)\n",
            "Requirement already satisfied: deprecated>=1.2.6 in /usr/local/lib/python3.11/dist-packages (from opentelemetry-api>=1.2.0->chromadb!=0.5.10,!=0.5.11,!=0.5.12,!=0.5.4,!=0.5.5,!=0.5.7,!=0.5.9,<0.7.0,>=0.4.0->langchain-chroma) (1.2.18)\n",
            "Requirement already satisfied: setuptools>=16.0 in /usr/local/lib/python3.11/dist-packages (from opentelemetry-api>=1.2.0->chromadb!=0.5.10,!=0.5.11,!=0.5.12,!=0.5.4,!=0.5.5,!=0.5.7,!=0.5.9,<0.7.0,>=0.4.0->langchain-chroma) (75.1.0)\n",
            "Requirement already satisfied: googleapis-common-protos~=1.52 in /usr/local/lib/python3.11/dist-packages (from opentelemetry-exporter-otlp-proto-grpc>=1.2.0->chromadb!=0.5.10,!=0.5.11,!=0.5.12,!=0.5.4,!=0.5.5,!=0.5.7,!=0.5.9,<0.7.0,>=0.4.0->langchain-chroma) (1.69.0)\n",
            "Collecting opentelemetry-exporter-otlp-proto-common==1.32.1 (from opentelemetry-exporter-otlp-proto-grpc>=1.2.0->chromadb!=0.5.10,!=0.5.11,!=0.5.12,!=0.5.4,!=0.5.5,!=0.5.7,!=0.5.9,<0.7.0,>=0.4.0->langchain-chroma)\n",
            "  Downloading opentelemetry_exporter_otlp_proto_common-1.32.1-py3-none-any.whl.metadata (1.9 kB)\n",
            "Collecting opentelemetry-proto==1.32.1 (from opentelemetry-exporter-otlp-proto-grpc>=1.2.0->chromadb!=0.5.10,!=0.5.11,!=0.5.12,!=0.5.4,!=0.5.5,!=0.5.7,!=0.5.9,<0.7.0,>=0.4.0->langchain-chroma)\n",
            "  Downloading opentelemetry_proto-1.32.1-py3-none-any.whl.metadata (2.4 kB)\n",
            "Collecting opentelemetry-sdk>=1.2.0 (from chromadb!=0.5.10,!=0.5.11,!=0.5.12,!=0.5.4,!=0.5.5,!=0.5.7,!=0.5.9,<0.7.0,>=0.4.0->langchain-chroma)\n",
            "  Downloading opentelemetry_sdk-1.32.1-py3-none-any.whl.metadata (1.6 kB)\n",
            "Collecting protobuf (from onnxruntime>=1.14.1->chromadb!=0.5.10,!=0.5.11,!=0.5.12,!=0.5.4,!=0.5.5,!=0.5.7,!=0.5.9,<0.7.0,>=0.4.0->langchain-chroma)\n",
            "  Downloading protobuf-5.29.4-cp38-abi3-manylinux2014_x86_64.whl.metadata (592 bytes)\n",
            "Collecting opentelemetry-instrumentation-asgi==0.53b1 (from opentelemetry-instrumentation-fastapi>=0.41b0->chromadb!=0.5.10,!=0.5.11,!=0.5.12,!=0.5.4,!=0.5.5,!=0.5.7,!=0.5.9,<0.7.0,>=0.4.0->langchain-chroma)\n",
            "  Downloading opentelemetry_instrumentation_asgi-0.53b1-py3-none-any.whl.metadata (2.1 kB)\n",
            "Collecting opentelemetry-instrumentation==0.53b1 (from opentelemetry-instrumentation-fastapi>=0.41b0->chromadb!=0.5.10,!=0.5.11,!=0.5.12,!=0.5.4,!=0.5.5,!=0.5.7,!=0.5.9,<0.7.0,>=0.4.0->langchain-chroma)\n",
            "  Downloading opentelemetry_instrumentation-0.53b1-py3-none-any.whl.metadata (6.8 kB)\n",
            "Collecting opentelemetry-semantic-conventions==0.53b1 (from opentelemetry-instrumentation-fastapi>=0.41b0->chromadb!=0.5.10,!=0.5.11,!=0.5.12,!=0.5.4,!=0.5.5,!=0.5.7,!=0.5.9,<0.7.0,>=0.4.0->langchain-chroma)\n",
            "  Downloading opentelemetry_semantic_conventions-0.53b1-py3-none-any.whl.metadata (2.5 kB)\n",
            "Collecting opentelemetry-util-http==0.53b1 (from opentelemetry-instrumentation-fastapi>=0.41b0->chromadb!=0.5.10,!=0.5.11,!=0.5.12,!=0.5.4,!=0.5.5,!=0.5.7,!=0.5.9,<0.7.0,>=0.4.0->langchain-chroma)\n",
            "  Downloading opentelemetry_util_http-0.53b1-py3-none-any.whl.metadata (2.6 kB)\n",
            "Requirement already satisfied: wrapt<2.0.0,>=1.0.0 in /usr/local/lib/python3.11/dist-packages (from opentelemetry-instrumentation==0.53b1->opentelemetry-instrumentation-fastapi>=0.41b0->chromadb!=0.5.10,!=0.5.11,!=0.5.12,!=0.5.4,!=0.5.5,!=0.5.7,!=0.5.9,<0.7.0,>=0.4.0->langchain-chroma) (1.17.2)\n",
            "Collecting asgiref~=3.0 (from opentelemetry-instrumentation-asgi==0.53b1->opentelemetry-instrumentation-fastapi>=0.41b0->chromadb!=0.5.10,!=0.5.11,!=0.5.12,!=0.5.4,!=0.5.5,!=0.5.7,!=0.5.9,<0.7.0,>=0.4.0->langchain-chroma)\n",
            "  Downloading asgiref-3.8.1-py3-none-any.whl.metadata (9.3 kB)\n",
            "Collecting opentelemetry-api>=1.2.0 (from chromadb!=0.5.10,!=0.5.11,!=0.5.12,!=0.5.4,!=0.5.5,!=0.5.7,!=0.5.9,<0.7.0,>=0.4.0->langchain-chroma)\n",
            "  Downloading opentelemetry_api-1.32.1-py3-none-any.whl.metadata (1.6 kB)\n",
            "Requirement already satisfied: importlib-metadata<8.7.0,>=6.0 in /usr/local/lib/python3.11/dist-packages (from opentelemetry-api>=1.2.0->chromadb!=0.5.10,!=0.5.11,!=0.5.12,!=0.5.4,!=0.5.5,!=0.5.7,!=0.5.9,<0.7.0,>=0.4.0->langchain-chroma) (8.6.1)\n",
            "Requirement already satisfied: backoff>=1.10.0 in /usr/local/lib/python3.11/dist-packages (from posthog>=2.4.0->chromadb!=0.5.10,!=0.5.11,!=0.5.12,!=0.5.4,!=0.5.5,!=0.5.7,!=0.5.9,<0.7.0,>=0.4.0->langchain-chroma) (2.2.1)\n",
            "Requirement already satisfied: distro>=1.5.0 in /usr/local/lib/python3.11/dist-packages (from posthog>=2.4.0->chromadb!=0.5.10,!=0.5.11,!=0.5.12,!=0.5.4,!=0.5.5,!=0.5.7,!=0.5.9,<0.7.0,>=0.4.0->langchain-chroma) (1.9.0)\n",
            "Requirement already satisfied: annotated-types>=0.6.0 in /usr/local/lib/python3.11/dist-packages (from pydantic>=1.9->chromadb!=0.5.10,!=0.5.11,!=0.5.12,!=0.5.4,!=0.5.5,!=0.5.7,!=0.5.9,<0.7.0,>=0.4.0->langchain-chroma) (0.7.0)\n",
            "Requirement already satisfied: pydantic-core==2.33.2 in /usr/local/lib/python3.11/dist-packages (from pydantic>=1.9->chromadb!=0.5.10,!=0.5.11,!=0.5.12,!=0.5.4,!=0.5.5,!=0.5.7,!=0.5.9,<0.7.0,>=0.4.0->langchain-chroma) (2.33.2)\n",
            "Requirement already satisfied: typing-inspection>=0.4.0 in /usr/local/lib/python3.11/dist-packages (from pydantic>=1.9->chromadb!=0.5.10,!=0.5.11,!=0.5.12,!=0.5.4,!=0.5.5,!=0.5.7,!=0.5.9,<0.7.0,>=0.4.0->langchain-chroma) (0.4.0)\n",
            "Requirement already satisfied: markdown-it-py>=2.2.0 in /usr/local/lib/python3.11/dist-packages (from rich>=10.11.0->chromadb!=0.5.10,!=0.5.11,!=0.5.12,!=0.5.4,!=0.5.5,!=0.5.7,!=0.5.9,<0.7.0,>=0.4.0->langchain-chroma) (3.0.0)\n",
            "Requirement already satisfied: pygments<3.0.0,>=2.13.0 in /usr/local/lib/python3.11/dist-packages (from rich>=10.11.0->chromadb!=0.5.10,!=0.5.11,!=0.5.12,!=0.5.4,!=0.5.5,!=0.5.7,!=0.5.9,<0.7.0,>=0.4.0->langchain-chroma) (2.18.0)\n",
            "Requirement already satisfied: huggingface-hub<1.0,>=0.16.4 in /usr/local/lib/python3.11/dist-packages (from tokenizers>=0.13.2->chromadb!=0.5.10,!=0.5.11,!=0.5.12,!=0.5.4,!=0.5.5,!=0.5.7,!=0.5.9,<0.7.0,>=0.4.0->langchain-chroma) (0.28.1)\n",
            "Requirement already satisfied: click>=8.0.0 in /usr/local/lib/python3.11/dist-packages (from typer>=0.9.0->chromadb!=0.5.10,!=0.5.11,!=0.5.12,!=0.5.4,!=0.5.5,!=0.5.7,!=0.5.9,<0.7.0,>=0.4.0->langchain-chroma) (8.1.8)\n",
            "Requirement already satisfied: shellingham>=1.3.0 in /usr/local/lib/python3.11/dist-packages (from typer>=0.9.0->chromadb!=0.5.10,!=0.5.11,!=0.5.12,!=0.5.4,!=0.5.5,!=0.5.7,!=0.5.9,<0.7.0,>=0.4.0->langchain-chroma) (1.5.4)\n",
            "Collecting httptools>=0.6.3 (from uvicorn[standard]>=0.18.3->chromadb!=0.5.10,!=0.5.11,!=0.5.12,!=0.5.4,!=0.5.5,!=0.5.7,!=0.5.9,<0.7.0,>=0.4.0->langchain-chroma)\n",
            "  Downloading httptools-0.6.4-cp311-cp311-manylinux_2_5_x86_64.manylinux1_x86_64.manylinux_2_17_x86_64.manylinux2014_x86_64.whl.metadata (3.6 kB)\n",
            "Requirement already satisfied: python-dotenv>=0.13 in /usr/local/lib/python3.11/dist-packages (from uvicorn[standard]>=0.18.3->chromadb!=0.5.10,!=0.5.11,!=0.5.12,!=0.5.4,!=0.5.5,!=0.5.7,!=0.5.9,<0.7.0,>=0.4.0->langchain-chroma) (1.1.0)\n",
            "Collecting uvloop!=0.15.0,!=0.15.1,>=0.14.0 (from uvicorn[standard]>=0.18.3->chromadb!=0.5.10,!=0.5.11,!=0.5.12,!=0.5.4,!=0.5.5,!=0.5.7,!=0.5.9,<0.7.0,>=0.4.0->langchain-chroma)\n",
            "  Downloading uvloop-0.21.0-cp311-cp311-manylinux_2_17_x86_64.manylinux2014_x86_64.whl.metadata (4.9 kB)\n",
            "Collecting watchfiles>=0.13 (from uvicorn[standard]>=0.18.3->chromadb!=0.5.10,!=0.5.11,!=0.5.12,!=0.5.4,!=0.5.5,!=0.5.7,!=0.5.9,<0.7.0,>=0.4.0->langchain-chroma)\n",
            "  Downloading watchfiles-1.0.5-cp311-cp311-manylinux_2_17_x86_64.manylinux2014_x86_64.whl.metadata (4.9 kB)\n",
            "Requirement already satisfied: websockets>=10.4 in /usr/local/lib/python3.11/dist-packages (from uvicorn[standard]>=0.18.3->chromadb!=0.5.10,!=0.5.11,!=0.5.12,!=0.5.4,!=0.5.5,!=0.5.7,!=0.5.9,<0.7.0,>=0.4.0->langchain-chroma) (14.2)\n",
            "Requirement already satisfied: cachetools<6.0,>=2.0.0 in /usr/local/lib/python3.11/dist-packages (from google-auth>=1.0.1->kubernetes>=28.1.0->chromadb!=0.5.10,!=0.5.11,!=0.5.12,!=0.5.4,!=0.5.5,!=0.5.7,!=0.5.9,<0.7.0,>=0.4.0->langchain-chroma) (5.5.2)\n",
            "Requirement already satisfied: pyasn1-modules>=0.2.1 in /usr/local/lib/python3.11/dist-packages (from google-auth>=1.0.1->kubernetes>=28.1.0->chromadb!=0.5.10,!=0.5.11,!=0.5.12,!=0.5.4,!=0.5.5,!=0.5.7,!=0.5.9,<0.7.0,>=0.4.0->langchain-chroma) (0.4.1)\n",
            "Requirement already satisfied: rsa<5,>=3.1.4 in /usr/local/lib/python3.11/dist-packages (from google-auth>=1.0.1->kubernetes>=28.1.0->chromadb!=0.5.10,!=0.5.11,!=0.5.12,!=0.5.4,!=0.5.5,!=0.5.7,!=0.5.9,<0.7.0,>=0.4.0->langchain-chroma) (4.9)\n",
            "Requirement already satisfied: filelock in /usr/local/lib/python3.11/dist-packages (from huggingface-hub<1.0,>=0.16.4->tokenizers>=0.13.2->chromadb!=0.5.10,!=0.5.11,!=0.5.12,!=0.5.4,!=0.5.5,!=0.5.7,!=0.5.9,<0.7.0,>=0.4.0->langchain-chroma) (3.17.0)\n",
            "Requirement already satisfied: fsspec>=2023.5.0 in /usr/local/lib/python3.11/dist-packages (from huggingface-hub<1.0,>=0.16.4->tokenizers>=0.13.2->chromadb!=0.5.10,!=0.5.11,!=0.5.12,!=0.5.4,!=0.5.5,!=0.5.7,!=0.5.9,<0.7.0,>=0.4.0->langchain-chroma) (2024.10.0)\n",
            "Requirement already satisfied: zipp>=3.20 in /usr/local/lib/python3.11/dist-packages (from importlib-metadata<8.7.0,>=6.0->opentelemetry-api>=1.2.0->chromadb!=0.5.10,!=0.5.11,!=0.5.12,!=0.5.4,!=0.5.5,!=0.5.7,!=0.5.9,<0.7.0,>=0.4.0->langchain-chroma) (3.21.0)\n",
            "Requirement already satisfied: mdurl~=0.1 in /usr/local/lib/python3.11/dist-packages (from markdown-it-py>=2.2.0->rich>=10.11.0->chromadb!=0.5.10,!=0.5.11,!=0.5.12,!=0.5.4,!=0.5.5,!=0.5.7,!=0.5.9,<0.7.0,>=0.4.0->langchain-chroma) (0.1.2)\n",
            "Requirement already satisfied: charset-normalizer<4,>=2 in /usr/local/lib/python3.11/dist-packages (from requests->kubernetes>=28.1.0->chromadb!=0.5.10,!=0.5.11,!=0.5.12,!=0.5.4,!=0.5.5,!=0.5.7,!=0.5.9,<0.7.0,>=0.4.0->langchain-chroma) (3.4.1)\n",
            "Requirement already satisfied: sniffio>=1.1 in /usr/local/lib/python3.11/dist-packages (from anyio->httpx>=0.27.0->chromadb!=0.5.10,!=0.5.11,!=0.5.12,!=0.5.4,!=0.5.5,!=0.5.7,!=0.5.9,<0.7.0,>=0.4.0->langchain-chroma) (1.3.1)\n",
            "Collecting humanfriendly>=9.1 (from coloredlogs->onnxruntime>=1.14.1->chromadb!=0.5.10,!=0.5.11,!=0.5.12,!=0.5.4,!=0.5.5,!=0.5.7,!=0.5.9,<0.7.0,>=0.4.0->langchain-chroma)\n",
            "  Downloading humanfriendly-10.0-py2.py3-none-any.whl.metadata (9.2 kB)\n",
            "Requirement already satisfied: mpmath<1.4,>=1.1.0 in /usr/local/lib/python3.11/dist-packages (from sympy->onnxruntime>=1.14.1->chromadb!=0.5.10,!=0.5.11,!=0.5.12,!=0.5.4,!=0.5.5,!=0.5.7,!=0.5.9,<0.7.0,>=0.4.0->langchain-chroma) (1.3.0)\n",
            "Requirement already satisfied: pyasn1<0.7.0,>=0.4.6 in /usr/local/lib/python3.11/dist-packages (from pyasn1-modules>=0.2.1->google-auth>=1.0.1->kubernetes>=28.1.0->chromadb!=0.5.10,!=0.5.11,!=0.5.12,!=0.5.4,!=0.5.5,!=0.5.7,!=0.5.9,<0.7.0,>=0.4.0->langchain-chroma) (0.6.1)\n",
            "Downloading langchain_chroma-0.2.3-py3-none-any.whl (11 kB)\n",
            "Downloading chromadb-0.6.3-py3-none-any.whl (611 kB)\n",
            "\u001b[2K   \u001b[90m━━━━━━━━━━━━━━━━━━━━━━━━━━━━━━━━━━━━━━━━\u001b[0m \u001b[32m611.1/611.1 kB\u001b[0m \u001b[31m21.0 MB/s\u001b[0m eta \u001b[36m0:00:00\u001b[0m\n",
            "\u001b[?25hDownloading chroma_hnswlib-0.7.6-cp311-cp311-manylinux_2_17_x86_64.manylinux2014_x86_64.whl (2.4 MB)\n",
            "\u001b[2K   \u001b[90m━━━━━━━━━━━━━━━━━━━━━━━━━━━━━━━━━━━━━━━━\u001b[0m \u001b[32m2.4/2.4 MB\u001b[0m \u001b[31m63.9 MB/s\u001b[0m eta \u001b[36m0:00:00\u001b[0m\n",
            "\u001b[?25hDownloading bcrypt-4.3.0-cp39-abi3-manylinux_2_34_x86_64.whl (284 kB)\n",
            "\u001b[2K   \u001b[90m━━━━━━━━━━━━━━━━━━━━━━━━━━━━━━━━━━━━━━━━\u001b[0m \u001b[32m284.2/284.2 kB\u001b[0m \u001b[31m19.6 MB/s\u001b[0m eta \u001b[36m0:00:00\u001b[0m\n",
            "\u001b[?25hDownloading build-1.2.2.post1-py3-none-any.whl (22 kB)\n",
            "Downloading fastapi-0.115.12-py3-none-any.whl (95 kB)\n",
            "\u001b[2K   \u001b[90m━━━━━━━━━━━━━━━━━━━━━━━━━━━━━━━━━━━━━━━━\u001b[0m \u001b[32m95.2/95.2 kB\u001b[0m \u001b[31m8.5 MB/s\u001b[0m eta \u001b[36m0:00:00\u001b[0m\n",
            "\u001b[?25hDownloading kubernetes-32.0.1-py2.py3-none-any.whl (2.0 MB)\n",
            "\u001b[2K   \u001b[90m━━━━━━━━━━━━━━━━━━━━━━━━━━━━━━━━━━━━━━━━\u001b[0m \u001b[32m2.0/2.0 MB\u001b[0m \u001b[31m55.4 MB/s\u001b[0m eta \u001b[36m0:00:00\u001b[0m\n",
            "\u001b[?25hDownloading mmh3-5.1.0-cp311-cp311-manylinux_2_5_x86_64.manylinux1_x86_64.manylinux_2_17_x86_64.manylinux2014_x86_64.whl (101 kB)\n",
            "\u001b[2K   \u001b[90m━━━━━━━━━━━━━━━━━━━━━━━━━━━━━━━━━━━━━━━━\u001b[0m \u001b[32m101.6/101.6 kB\u001b[0m \u001b[31m8.2 MB/s\u001b[0m eta \u001b[36m0:00:00\u001b[0m\n",
            "\u001b[?25hDownloading onnxruntime-1.21.1-cp311-cp311-manylinux_2_27_x86_64.manylinux_2_28_x86_64.whl (16.0 MB)\n",
            "\u001b[2K   \u001b[90m━━━━━━━━━━━━━━━━━━━━━━━━━━━━━━━━━━━━━━━━\u001b[0m \u001b[32m16.0/16.0 MB\u001b[0m \u001b[31m64.8 MB/s\u001b[0m eta \u001b[36m0:00:00\u001b[0m\n",
            "\u001b[?25hDownloading opentelemetry_exporter_otlp_proto_grpc-1.32.1-py3-none-any.whl (18 kB)\n",
            "Downloading opentelemetry_exporter_otlp_proto_common-1.32.1-py3-none-any.whl (18 kB)\n",
            "Downloading opentelemetry_proto-1.32.1-py3-none-any.whl (55 kB)\n",
            "\u001b[2K   \u001b[90m━━━━━━━━━━━━━━━━━━━━━━━━━━━━━━━━━━━━━━━━\u001b[0m \u001b[32m55.9/55.9 kB\u001b[0m \u001b[31m4.5 MB/s\u001b[0m eta \u001b[36m0:00:00\u001b[0m\n",
            "\u001b[?25hDownloading opentelemetry_instrumentation_fastapi-0.53b1-py3-none-any.whl (12 kB)\n",
            "Downloading opentelemetry_instrumentation-0.53b1-py3-none-any.whl (30 kB)\n",
            "Downloading opentelemetry_instrumentation_asgi-0.53b1-py3-none-any.whl (16 kB)\n",
            "Downloading opentelemetry_semantic_conventions-0.53b1-py3-none-any.whl (188 kB)\n",
            "\u001b[2K   \u001b[90m━━━━━━━━━━━━━━━━━━━━━━━━━━━━━━━━━━━━━━━━\u001b[0m \u001b[32m188.4/188.4 kB\u001b[0m \u001b[31m14.2 MB/s\u001b[0m eta \u001b[36m0:00:00\u001b[0m\n",
            "\u001b[?25hDownloading opentelemetry_api-1.32.1-py3-none-any.whl (65 kB)\n",
            "\u001b[2K   \u001b[90m━━━━━━━━━━━━━━━━━━━━━━━━━━━━━━━━━━━━━━━━\u001b[0m \u001b[32m65.3/65.3 kB\u001b[0m \u001b[31m5.3 MB/s\u001b[0m eta \u001b[36m0:00:00\u001b[0m\n",
            "\u001b[?25hDownloading opentelemetry_util_http-0.53b1-py3-none-any.whl (7.3 kB)\n",
            "Downloading opentelemetry_sdk-1.32.1-py3-none-any.whl (118 kB)\n",
            "\u001b[2K   \u001b[90m━━━━━━━━━━━━━━━━━━━━━━━━━━━━━━━━━━━━━━━━\u001b[0m \u001b[32m119.0/119.0 kB\u001b[0m \u001b[31m11.6 MB/s\u001b[0m eta \u001b[36m0:00:00\u001b[0m\n",
            "\u001b[?25hDownloading overrides-7.7.0-py3-none-any.whl (17 kB)\n",
            "Downloading posthog-4.0.1-py2.py3-none-any.whl (92 kB)\n",
            "\u001b[2K   \u001b[90m━━━━━━━━━━━━━━━━━━━━━━━━━━━━━━━━━━━━━━━━\u001b[0m \u001b[32m92.0/92.0 kB\u001b[0m \u001b[31m8.3 MB/s\u001b[0m eta \u001b[36m0:00:00\u001b[0m\n",
            "\u001b[?25hDownloading uvicorn-0.34.2-py3-none-any.whl (62 kB)\n",
            "\u001b[2K   \u001b[90m━━━━━━━━━━━━━━━━━━━━━━━━━━━━━━━━━━━━━━━━\u001b[0m \u001b[32m62.5/62.5 kB\u001b[0m \u001b[31m5.2 MB/s\u001b[0m eta \u001b[36m0:00:00\u001b[0m\n",
            "\u001b[?25hDownloading durationpy-0.9-py3-none-any.whl (3.5 kB)\n",
            "Downloading httptools-0.6.4-cp311-cp311-manylinux_2_5_x86_64.manylinux1_x86_64.manylinux_2_17_x86_64.manylinux2014_x86_64.whl (459 kB)\n",
            "\u001b[2K   \u001b[90m━━━━━━━━━━━━━━━━━━━━━━━━━━━━━━━━━━━━━━━━\u001b[0m \u001b[32m459.8/459.8 kB\u001b[0m \u001b[31m34.8 MB/s\u001b[0m eta \u001b[36m0:00:00\u001b[0m\n",
            "\u001b[?25hDownloading protobuf-5.29.4-cp38-abi3-manylinux2014_x86_64.whl (319 kB)\n",
            "\u001b[2K   \u001b[90m━━━━━━━━━━━━━━━━━━━━━━━━━━━━━━━━━━━━━━━━\u001b[0m \u001b[32m319.7/319.7 kB\u001b[0m \u001b[31m24.9 MB/s\u001b[0m eta \u001b[36m0:00:00\u001b[0m\n",
            "\u001b[?25hDownloading starlette-0.46.2-py3-none-any.whl (72 kB)\n",
            "\u001b[2K   \u001b[90m━━━━━━━━━━━━━━━━━━━━━━━━━━━━━━━━━━━━━━━━\u001b[0m \u001b[32m72.0/72.0 kB\u001b[0m \u001b[31m5.5 MB/s\u001b[0m eta \u001b[36m0:00:00\u001b[0m\n",
            "\u001b[?25hDownloading uvloop-0.21.0-cp311-cp311-manylinux_2_17_x86_64.manylinux2014_x86_64.whl (4.0 MB)\n",
            "\u001b[2K   \u001b[90m━━━━━━━━━━━━━━━━━━━━━━━━━━━━━━━━━━━━━━━━\u001b[0m \u001b[32m4.0/4.0 MB\u001b[0m \u001b[31m96.4 MB/s\u001b[0m eta \u001b[36m0:00:00\u001b[0m\n",
            "\u001b[?25hDownloading watchfiles-1.0.5-cp311-cp311-manylinux_2_17_x86_64.manylinux2014_x86_64.whl (454 kB)\n",
            "\u001b[2K   \u001b[90m━━━━━━━━━━━━━━━━━━━━━━━━━━━━━━━━━━━━━━━━\u001b[0m \u001b[32m454.8/454.8 kB\u001b[0m \u001b[31m31.7 MB/s\u001b[0m eta \u001b[36m0:00:00\u001b[0m\n",
            "\u001b[?25hDownloading coloredlogs-15.0.1-py2.py3-none-any.whl (46 kB)\n",
            "\u001b[2K   \u001b[90m━━━━━━━━━━━━━━━━━━━━━━━━━━━━━━━━━━━━━━━━\u001b[0m \u001b[32m46.0/46.0 kB\u001b[0m \u001b[31m3.7 MB/s\u001b[0m eta \u001b[36m0:00:00\u001b[0m\n",
            "\u001b[?25hDownloading pyproject_hooks-1.2.0-py3-none-any.whl (10 kB)\n",
            "Downloading asgiref-3.8.1-py3-none-any.whl (23 kB)\n",
            "Downloading humanfriendly-10.0-py2.py3-none-any.whl (86 kB)\n",
            "\u001b[2K   \u001b[90m━━━━━━━━━━━━━━━━━━━━━━━━━━━━━━━━━━━━━━━━\u001b[0m \u001b[32m86.8/86.8 kB\u001b[0m \u001b[31m7.3 MB/s\u001b[0m eta \u001b[36m0:00:00\u001b[0m\n",
            "\u001b[?25hBuilding wheels for collected packages: pypika\n",
            "  Building wheel for pypika (pyproject.toml) ... \u001b[?25l\u001b[?25hdone\n",
            "  Created wheel for pypika: filename=pypika-0.48.9-py2.py3-none-any.whl size=53801 sha256=89d9283e44774cb8b828373e5078ee36e2f57686eca574cf57df92468c7392d7\n",
            "  Stored in directory: /root/.cache/pip/wheels/a3/01/bd/4c40ceb9d5354160cb186dcc153360f4ab7eb23e2b24daf96d\n",
            "Successfully built pypika\n",
            "Installing collected packages: pypika, durationpy, uvloop, uvicorn, pyproject_hooks, protobuf, overrides, opentelemetry-util-http, mmh3, humanfriendly, httptools, chroma-hnswlib, bcrypt, asgiref, watchfiles, starlette, posthog, opentelemetry-proto, opentelemetry-api, coloredlogs, build, opentelemetry-semantic-conventions, opentelemetry-exporter-otlp-proto-common, onnxruntime, kubernetes, fastapi, opentelemetry-sdk, opentelemetry-instrumentation, opentelemetry-instrumentation-asgi, opentelemetry-exporter-otlp-proto-grpc, opentelemetry-instrumentation-fastapi, chromadb, langchain-chroma\n",
            "  Attempting uninstall: protobuf\n",
            "    Found existing installation: protobuf 4.25.6\n",
            "    Uninstalling protobuf-4.25.6:\n",
            "      Successfully uninstalled protobuf-4.25.6\n",
            "  Attempting uninstall: opentelemetry-api\n",
            "    Found existing installation: opentelemetry-api 1.16.0\n",
            "    Uninstalling opentelemetry-api-1.16.0:\n",
            "      Successfully uninstalled opentelemetry-api-1.16.0\n",
            "  Attempting uninstall: opentelemetry-semantic-conventions\n",
            "    Found existing installation: opentelemetry-semantic-conventions 0.37b0\n",
            "    Uninstalling opentelemetry-semantic-conventions-0.37b0:\n",
            "      Successfully uninstalled opentelemetry-semantic-conventions-0.37b0\n",
            "  Attempting uninstall: opentelemetry-sdk\n",
            "    Found existing installation: opentelemetry-sdk 1.16.0\n",
            "    Uninstalling opentelemetry-sdk-1.16.0:\n",
            "      Successfully uninstalled opentelemetry-sdk-1.16.0\n",
            "\u001b[31mERROR: pip's dependency resolver does not currently take into account all the packages that are installed. This behaviour is the source of the following dependency conflicts.\n",
            "google-generativeai 0.8.4 requires google-ai-generativelanguage==0.6.15, but you have google-ai-generativelanguage 0.6.18 which is incompatible.\u001b[0m\u001b[31m\n",
            "\u001b[0mSuccessfully installed asgiref-3.8.1 bcrypt-4.3.0 build-1.2.2.post1 chroma-hnswlib-0.7.6 chromadb-0.6.3 coloredlogs-15.0.1 durationpy-0.9 fastapi-0.115.12 httptools-0.6.4 humanfriendly-10.0 kubernetes-32.0.1 langchain-chroma-0.2.3 mmh3-5.1.0 onnxruntime-1.21.1 opentelemetry-api-1.32.1 opentelemetry-exporter-otlp-proto-common-1.32.1 opentelemetry-exporter-otlp-proto-grpc-1.32.1 opentelemetry-instrumentation-0.53b1 opentelemetry-instrumentation-asgi-0.53b1 opentelemetry-instrumentation-fastapi-0.53b1 opentelemetry-proto-1.32.1 opentelemetry-sdk-1.32.1 opentelemetry-semantic-conventions-0.53b1 opentelemetry-util-http-0.53b1 overrides-7.7.0 posthog-4.0.1 protobuf-5.29.4 pypika-0.48.9 pyproject_hooks-1.2.0 starlette-0.46.2 uvicorn-0.34.2 uvloop-0.21.0 watchfiles-1.0.5\n"
          ]
        }
      ]
    },
    {
      "cell_type": "code",
      "source": [
        "from langchain_community.document_loaders import TextLoader\n",
        "from langchain_google_genai import GoogleGenerativeAIEmbeddings\n",
        "from langchain_text_splitters import CharacterTextSplitter\n",
        "from langchain_chroma import Chroma\n",
        "\n",
        "embeddings_model = GoogleGenerativeAIEmbeddings(model=\"models/embedding-001\")\n",
        "\n",
        "# Load the document, split it into chunks, embed each chunk and load it into the vector store.\n",
        "raw_documents = TextLoader(\"LangchainRetrieval.txt\").load()\n",
        "text_splitter = CharacterTextSplitter(chunk_size=500, chunk_overlap=20)\n",
        "documents = text_splitter.split_documents(raw_documents)\n",
        "db = Chroma.from_documents(documents, embeddings_model)"
      ],
      "metadata": {
        "colab": {
          "base_uri": "https://localhost:8080/"
        },
        "id": "5mbOUUHXDJhq",
        "outputId": "a32f093b-94cb-447b-9ed9-9460f8820828"
      },
      "id": "5mbOUUHXDJhq",
      "execution_count": 85,
      "outputs": [
        {
          "output_type": "stream",
          "name": "stderr",
          "text": [
            "WARNING:langchain_text_splitters.base:Created a chunk of size 760, which is longer than the specified 500\n"
          ]
        }
      ]
    },
    {
      "cell_type": "code",
      "source": [
        "query = \"What is text embedding and how does langchain help in doing it\"\n",
        "docs = db.similarity_search(query)\n",
        "print(docs[1].page_content)"
      ],
      "metadata": {
        "colab": {
          "base_uri": "https://localhost:8080/"
        },
        "id": "Elai9kVyDxqT",
        "outputId": "0f90106a-ed54-4664-a378-ecb0f3a7f909"
      },
      "id": "Elai9kVyDxqT",
      "execution_count": 86,
      "outputs": [
        {
          "output_type": "stream",
          "name": "stdout",
          "text": [
            "Parent Document Retriever: This allows you to create multiple embeddings per parent document, allowing you to look up smaller chunks but return larger context.\n",
            "Self Query Retriever: User questions often contain a reference to something that isn't just semantic but rather expresses some logic that can best be represented as a metadata filter. Self-query allows you to parse out the semantic part of a query from other metadata filters present in the query.\n",
            "Ensemble Retriever: Sometimes you may want to retrieve documents from multiple different sources, or using multiple different algorithms. The ensemble retriever allows you to easily do this.\n",
            "And more!\n",
            "Indexing\n",
            "The LangChain Indexing API syncs your data from any source into a vector store, helping you:\n"
          ]
        }
      ]
    },
    {
      "cell_type": "markdown",
      "source": [
        "## Retrievers"
      ],
      "metadata": {
        "id": "QweSFqq7ERZf"
      },
      "id": "QweSFqq7ERZf"
    },
    {
      "cell_type": "code",
      "source": [
        "from langchain_community.document_loaders import TextLoader\n",
        "from langchain_google_genai import GoogleGenerativeAIEmbeddings\n",
        "from langchain_text_splitters import RecursiveCharacterTextSplitter\n",
        "from langchain_chroma import Chroma\n",
        "\n",
        "embeddings_model = GoogleGenerativeAIEmbeddings(model=\"models/embedding-001\")\n",
        "\n",
        "# Load the document, split it into chunks, embed each chunk and load it into the vector store.\n",
        "raw_documents = TextLoader(\"LangchainRetrieval.txt\").load()\n",
        "text_splitter = RecursiveCharacterTextSplitter(chunk_size=300, chunk_overlap=20)\n",
        "documents = text_splitter.split_documents(raw_documents)\n",
        "db = Chroma.from_documents(documents, embeddings_model)"
      ],
      "metadata": {
        "id": "ku_JR0dFEVJv"
      },
      "id": "ku_JR0dFEVJv",
      "execution_count": 87,
      "outputs": []
    },
    {
      "cell_type": "code",
      "source": [
        "retriever = db.as_retriever()"
      ],
      "metadata": {
        "id": "M7rIrYgNErGa"
      },
      "id": "M7rIrYgNErGa",
      "execution_count": 88,
      "outputs": []
    },
    {
      "cell_type": "code",
      "source": [
        "docs = retriever.invoke(\"What is text embedding and how does langchain help in doing it\")"
      ],
      "metadata": {
        "id": "NFCmoUDOErOf"
      },
      "id": "NFCmoUDOErOf",
      "execution_count": 89,
      "outputs": []
    },
    {
      "cell_type": "code",
      "source": [
        "len(docs)"
      ],
      "metadata": {
        "colab": {
          "base_uri": "https://localhost:8080/"
        },
        "id": "xYDT9HUyErSa",
        "outputId": "d97cc74f-24cb-4036-95b6-8283e3efff20"
      },
      "id": "xYDT9HUyErSa",
      "execution_count": 90,
      "outputs": [
        {
          "output_type": "execute_result",
          "data": {
            "text/plain": [
              "4"
            ]
          },
          "metadata": {},
          "execution_count": 90
        }
      ]
    },
    {
      "cell_type": "code",
      "source": [
        "from langchain_google_genai import ChatGoogleGenerativeAI\n",
        "from langchain_core.prompts import ChatPromptTemplate\n",
        "from langchain_core.output_parsers import StrOutputParser\n",
        "from langchain_core.runnables import RunnablePassthrough\n",
        "\n",
        "template = \"\"\"Answer the question based only on the following context:\n",
        "\n",
        "{context}\n",
        "\n",
        "Question: {question}\n",
        "\"\"\"\n",
        "prompt = ChatPromptTemplate.from_template(template)\n",
        "model = ChatGoogleGenerativeAI(model=\"gemini-2.0-flash\")\n",
        "\n",
        "\n",
        "def format_docs(docs):\n",
        "    return \"\\n\\n\".join([d.page_content for d in docs])\n",
        "\n",
        "\n",
        "chain = (\n",
        "    {\"context\": retriever | format_docs, \"question\": RunnablePassthrough()}\n",
        "    | prompt\n",
        "    | model\n",
        "    | StrOutputParser()\n",
        ")\n",
        "\n",
        "chain.invoke(\"What is text embedding and how does langchain help in doing it\")"
      ],
      "metadata": {
        "colab": {
          "base_uri": "https://localhost:8080/",
          "height": 87
        },
        "id": "gEJ_tczqE4UM",
        "outputId": "e4087793-8f63-4c40-8048-f18df4ba1f5e"
      },
      "id": "gEJ_tczqE4UM",
      "execution_count": 91,
      "outputs": [
        {
          "output_type": "execute_result",
          "data": {
            "text/plain": [
              "'Text embeddings capture the semantic meaning of text, allowing you to quickly and efficiently find other pieces of text that are similar. LangChain provides integrations with over 25 different embedding providers and methods, and provides a standard interface, allowing you to easily swap between models.'"
            ],
            "application/vnd.google.colaboratory.intrinsic+json": {
              "type": "string"
            }
          },
          "metadata": {},
          "execution_count": 91
        }
      ]
    },
    {
      "cell_type": "code",
      "source": [
        "retriever = db.as_retriever(search_kwargs={\"k\": 1})"
      ],
      "metadata": {
        "id": "9qBFtyrpFY8G"
      },
      "id": "9qBFtyrpFY8G",
      "execution_count": 92,
      "outputs": []
    },
    {
      "cell_type": "code",
      "source": [
        "docs = retriever.invoke(\"What is text embedding and how does langchain help in doing it\")"
      ],
      "metadata": {
        "id": "kAHC0K-mFb85"
      },
      "id": "kAHC0K-mFb85",
      "execution_count": 93,
      "outputs": []
    },
    {
      "cell_type": "code",
      "source": [
        "docs"
      ],
      "metadata": {
        "colab": {
          "base_uri": "https://localhost:8080/"
        },
        "id": "1yMBZ80VFehk",
        "outputId": "b7f42dc6-fe4e-4ebb-e733-aa8eb4439940"
      },
      "id": "1yMBZ80VFehk",
      "execution_count": 94,
      "outputs": [
        {
          "output_type": "execute_result",
          "data": {
            "text/plain": [
              "[Document(id='d0527d00-f37b-4f7e-84f9-becc4561323d', metadata={'source': 'LangchainRetrieval.txt'}, page_content='Text embedding models\\nAnother key part of retrieval is creating embeddings for documents. Embeddings capture the semantic meaning of the text, allowing you to quickly and efficiently find other pieces of a text that are similar. LangChain provides integrations with over 25 different embedding providers and methods, from open-source to proprietary API, allowing you to choose the one best suited for your needs. LangChain provides a standard interface, allowing you to easily swap between models.')]"
            ]
          },
          "metadata": {},
          "execution_count": 94
        }
      ]
    },
    {
      "cell_type": "code",
      "source": [
        "retriever = db.as_retriever(\n",
        "    search_type=\"similarity_score_threshold\", search_kwargs={\"score_threshold\": 0.2}\n",
        ")"
      ],
      "metadata": {
        "id": "P9wW9aYEFhVX"
      },
      "id": "P9wW9aYEFhVX",
      "execution_count": 95,
      "outputs": []
    },
    {
      "cell_type": "code",
      "source": [
        "docs = retriever.invoke(\"What is text embedding and how does langchain help in doing it\")"
      ],
      "metadata": {
        "id": "bqO0TpUpFmYx"
      },
      "id": "bqO0TpUpFmYx",
      "execution_count": 96,
      "outputs": []
    },
    {
      "cell_type": "code",
      "source": [
        "docs"
      ],
      "metadata": {
        "colab": {
          "base_uri": "https://localhost:8080/"
        },
        "id": "eRZ8B4qeFpvr",
        "outputId": "208ff50f-9004-4d89-bc67-2f9898fe9d5b"
      },
      "id": "eRZ8B4qeFpvr",
      "execution_count": 97,
      "outputs": [
        {
          "output_type": "execute_result",
          "data": {
            "text/plain": [
              "[Document(id='d0527d00-f37b-4f7e-84f9-becc4561323d', metadata={'source': 'LangchainRetrieval.txt'}, page_content='Text embedding models\\nAnother key part of retrieval is creating embeddings for documents. Embeddings capture the semantic meaning of the text, allowing you to quickly and efficiently find other pieces of a text that are similar. LangChain provides integrations with over 25 different embedding providers and methods, from open-source to proprietary API, allowing you to choose the one best suited for your needs. LangChain provides a standard interface, allowing you to easily swap between models.'),\n",
              " Document(id='f5029671-c895-4aab-b1e0-266cc131d630', metadata={'source': 'LangchainRetrieval.txt'}, page_content='Another key part of retrieval is creating embeddings for documents. Embeddings capture the semantic meaning of the text, allowing you to quickly and efficiently find other pieces of a text that are similar. LangChain provides integrations with over 25 different embedding providers and methods, from'),\n",
              " Document(id='662950f5-85a9-42a4-962e-ce26b7aad3f3', metadata={'source': 'LangchainRetrieval.txt'}, page_content=\"Parent Document Retriever: This allows you to create multiple embeddings per parent document, allowing you to look up smaller chunks but return larger context.\\nSelf Query Retriever: User questions often contain a reference to something that isn't just semantic but rather expresses some logic that can best be represented as a metadata filter. Self-query allows you to parse out the semantic part of a query from other metadata filters present in the query.\\nEnsemble Retriever: Sometimes you may want to retrieve documents from multiple different sources, or using multiple different algorithms. The ensemble retriever allows you to easily do this.\\nAnd more!\\nIndexing\\nThe LangChain Indexing API syncs your data from any source into a vector store, helping you:\"),\n",
              " Document(id='5f6c2337-7456-4d50-bea0-13b3b6f18f8e', metadata={'source': 'LangchainRetrieval.txt'}, page_content='Vector stores\\nWith the rise of embeddings, there has emerged a need for databases to support efficient storage and searching of these embeddings. LangChain provides integrations with over 50 different vectorstores, from open-source local ones to cloud-hosted proprietary ones, allowing you to choose the one best suited for your needs. LangChain exposes a standard interface, allowing you to easily swap between vector stores.')]"
            ]
          },
          "metadata": {},
          "execution_count": 97
        }
      ]
    },
    {
      "cell_type": "markdown",
      "source": [
        "### Tools"
      ],
      "metadata": {
        "id": "S9PvNBs3JOfe"
      },
      "id": "S9PvNBs3JOfe"
    },
    {
      "cell_type": "markdown",
      "source": [
        "#### Creating own custom tool"
      ],
      "metadata": {
        "id": "FU4Rw1s8JRcL"
      },
      "id": "FU4Rw1s8JRcL"
    },
    {
      "cell_type": "code",
      "source": [
        "from langchain.tools import BaseTool, StructuredTool, tool"
      ],
      "metadata": {
        "id": "Gis7cz08JU6m"
      },
      "id": "Gis7cz08JU6m",
      "execution_count": 98,
      "outputs": []
    },
    {
      "cell_type": "code",
      "source": [
        "@tool\n",
        "def name_of_tool(input: str) -> str:\n",
        "    \"\"\"Tool_Description\"\"\"\n",
        "    return \"Result\""
      ],
      "metadata": {
        "id": "1bF4kY_gJZD3"
      },
      "id": "1bF4kY_gJZD3",
      "execution_count": 99,
      "outputs": []
    },
    {
      "cell_type": "code",
      "source": [
        "print(name_of_tool.name)\n",
        "print(name_of_tool.description)\n",
        "print(name_of_tool.args)"
      ],
      "metadata": {
        "colab": {
          "base_uri": "https://localhost:8080/"
        },
        "id": "V07V12eXJZNP",
        "outputId": "3051e382-86ff-4ad3-c52e-3a40ffb45845"
      },
      "id": "V07V12eXJZNP",
      "execution_count": 100,
      "outputs": [
        {
          "output_type": "stream",
          "name": "stdout",
          "text": [
            "name_of_tool\n",
            "Tool_Description\n",
            "{'input': {'title': 'Input', 'type': 'string'}}\n"
          ]
        }
      ]
    },
    {
      "cell_type": "markdown",
      "source": [
        "#### Defining, Binding and Calling the tool"
      ],
      "metadata": {
        "id": "5flwosx7Jeka"
      },
      "id": "5flwosx7Jeka"
    },
    {
      "cell_type": "code",
      "source": [
        "@tool\n",
        "def conchita_coins(input: float) -> float:\n",
        "    \"\"\"Use this tool to convert USD to Conchita Academy coins\"\"\"\n",
        "    return 1.3*(float(input))"
      ],
      "metadata": {
        "id": "GDvBue_MJe6R"
      },
      "id": "GDvBue_MJe6R",
      "execution_count": 101,
      "outputs": []
    },
    {
      "cell_type": "code",
      "source": [
        "from langchain_google_genai import ChatGoogleGenerativeAI\n",
        "\n",
        "llm = ChatGoogleGenerativeAI(model=\"gemini-2.0-flash\")\n",
        "llm_bind_tools = llm.bind_tools([conchita_coins])"
      ],
      "metadata": {
        "id": "T1yq9jWOJmYa"
      },
      "id": "T1yq9jWOJmYa",
      "execution_count": 102,
      "outputs": []
    },
    {
      "cell_type": "code",
      "source": [
        "result = llm_bind_tools.invoke(\"How many Conchita academy coins can I get for USD10\")\n",
        "result"
      ],
      "metadata": {
        "colab": {
          "base_uri": "https://localhost:8080/"
        },
        "id": "toRatNzzJ6G0",
        "outputId": "7857d5d1-d5ec-4ce9-a680-f209274dd5f2"
      },
      "id": "toRatNzzJ6G0",
      "execution_count": 103,
      "outputs": [
        {
          "output_type": "execute_result",
          "data": {
            "text/plain": [
              "AIMessage(content='', additional_kwargs={'function_call': {'name': 'conchita_coins', 'arguments': '{\"input\": 10.0}'}}, response_metadata={'prompt_feedback': {'block_reason': 0, 'safety_ratings': []}, 'finish_reason': 'STOP', 'model_name': 'gemini-2.0-flash', 'safety_ratings': []}, id='run--c507c6b7-7281-46ea-a7d2-000281224814-0', tool_calls=[{'name': 'conchita_coins', 'args': {'input': 10.0}, 'id': 'a93dc033-0921-42fa-a3be-5dab0c962bfe', 'type': 'tool_call'}], usage_metadata={'input_tokens': 32, 'output_tokens': 6, 'total_tokens': 38, 'input_token_details': {'cache_read': 0}})"
            ]
          },
          "metadata": {},
          "execution_count": 103
        }
      ]
    },
    {
      "cell_type": "code",
      "source": [
        "result.tool_calls"
      ],
      "metadata": {
        "colab": {
          "base_uri": "https://localhost:8080/"
        },
        "id": "l1tZlLQeJ-pF",
        "outputId": "c84a2fe1-5139-4496-bac6-abed5f2eae91"
      },
      "id": "l1tZlLQeJ-pF",
      "execution_count": 106,
      "outputs": [
        {
          "output_type": "execute_result",
          "data": {
            "text/plain": [
              "[{'name': 'conchita_coins',\n",
              "  'args': {'input': 10.0},\n",
              "  'id': 'a93dc033-0921-42fa-a3be-5dab0c962bfe',\n",
              "  'type': 'tool_call'}]"
            ]
          },
          "metadata": {},
          "execution_count": 106
        }
      ]
    },
    {
      "cell_type": "code",
      "source": [
        "tool_mapping = {\n",
        "    'conchita_coins': conchita_coins\n",
        "}\n",
        "tool_mapping"
      ],
      "metadata": {
        "colab": {
          "base_uri": "https://localhost:8080/"
        },
        "id": "nvH9X5T3J-x6",
        "outputId": "662a9394-e685-4e38-85f2-18e05ec86fc5"
      },
      "id": "nvH9X5T3J-x6",
      "execution_count": 107,
      "outputs": [
        {
          "output_type": "execute_result",
          "data": {
            "text/plain": [
              "{'conchita_coins': StructuredTool(name='conchita_coins', description='Use this tool to convert USD to Conchita Academy coins', args_schema=<class 'langchain_core.utils.pydantic.conchita_coins'>, func=<function conchita_coins at 0x7b31090a3c40>)}"
            ]
          },
          "metadata": {},
          "execution_count": 107
        }
      ]
    },
    {
      "cell_type": "code",
      "source": [
        "tool = tool_mapping[result.tool_calls[0][\"name\"]]"
      ],
      "metadata": {
        "id": "oLdmzZxaKEVF"
      },
      "id": "oLdmzZxaKEVF",
      "execution_count": 108,
      "outputs": []
    },
    {
      "cell_type": "code",
      "source": [
        "tool_output = tool.invoke(result.tool_calls[0][\"args\"])"
      ],
      "metadata": {
        "id": "LUcl9I5GKEed"
      },
      "id": "LUcl9I5GKEed",
      "execution_count": 109,
      "outputs": []
    },
    {
      "cell_type": "code",
      "source": [
        "tool_output"
      ],
      "metadata": {
        "colab": {
          "base_uri": "https://localhost:8080/"
        },
        "id": "uSRZLrmfKOk6",
        "outputId": "9a7e583a-d8c0-45d3-c567-e6222132918c"
      },
      "id": "uSRZLrmfKOk6",
      "execution_count": 110,
      "outputs": [
        {
          "output_type": "execute_result",
          "data": {
            "text/plain": [
              "13.0"
            ]
          },
          "metadata": {},
          "execution_count": 110
        }
      ]
    },
    {
      "cell_type": "markdown",
      "source": [
        "### Using in-built tools\n",
        "https://python.langchain.com/v0.1/docs/integrations/tools/"
      ],
      "metadata": {
        "id": "b17FY62pKbYp"
      },
      "id": "b17FY62pKbYp"
    },
    {
      "cell_type": "markdown",
      "source": [
        "#### DuckDuckGo Search tool"
      ],
      "metadata": {
        "id": "LptPgrlMKcRf"
      },
      "id": "LptPgrlMKcRf"
    },
    {
      "cell_type": "code",
      "source": [
        "%pip install --upgrade --quiet  duckduckgo-search"
      ],
      "metadata": {
        "colab": {
          "base_uri": "https://localhost:8080/"
        },
        "id": "aSG4om4dKgkW",
        "outputId": "e2ed305d-0a87-43c2-df85-2a0ca1ff46e3"
      },
      "id": "aSG4om4dKgkW",
      "execution_count": 112,
      "outputs": [
        {
          "output_type": "stream",
          "name": "stdout",
          "text": [
            "\u001b[?25l   \u001b[90m━━━━━━━━━━━━━━━━━━━━━━━━━━━━━━━━━━━━━━━━\u001b[0m \u001b[32m0.0/3.3 MB\u001b[0m \u001b[31m?\u001b[0m eta \u001b[36m-:--:--\u001b[0m\r\u001b[2K   \u001b[91m━━━━━━━━━━━━━━━━━━\u001b[0m\u001b[91m╸\u001b[0m\u001b[90m━━━━━━━━━━━━━━━━━━━━━\u001b[0m \u001b[32m1.5/3.3 MB\u001b[0m \u001b[31m45.8 MB/s\u001b[0m eta \u001b[36m0:00:01\u001b[0m\r\u001b[2K   \u001b[91m━━━━━━━━━━━━━━━━━━━━━━━━━━━━━━━━━━━━━━━\u001b[0m\u001b[91m╸\u001b[0m \u001b[32m3.3/3.3 MB\u001b[0m \u001b[31m69.1 MB/s\u001b[0m eta \u001b[36m0:00:01\u001b[0m\r\u001b[2K   \u001b[90m━━━━━━━━━━━━━━━━━━━━━━━━━━━━━━━━━━━━━━━━\u001b[0m \u001b[32m3.3/3.3 MB\u001b[0m \u001b[31m45.1 MB/s\u001b[0m eta \u001b[36m0:00:00\u001b[0m\n",
            "\u001b[?25h"
          ]
        }
      ]
    },
    {
      "cell_type": "code",
      "source": [
        "from langchain_community.tools import DuckDuckGoSearchRun\n",
        "search = DuckDuckGoSearchRun()"
      ],
      "metadata": {
        "id": "d-4KaaFJKlhN"
      },
      "id": "d-4KaaFJKlhN",
      "execution_count": 113,
      "outputs": []
    },
    {
      "cell_type": "code",
      "source": [
        "search.name, search.description"
      ],
      "metadata": {
        "colab": {
          "base_uri": "https://localhost:8080/"
        },
        "id": "iJ0s4lScKloQ",
        "outputId": "5259d496-92c3-4d2f-99bb-4b3382858aea"
      },
      "id": "iJ0s4lScKloQ",
      "execution_count": 114,
      "outputs": [
        {
          "output_type": "execute_result",
          "data": {
            "text/plain": [
              "('duckduckgo_search',\n",
              " 'A wrapper around DuckDuckGo Search. Useful for when you need to answer questions about current events. Input should be a search query.')"
            ]
          },
          "metadata": {},
          "execution_count": 114
        }
      ]
    },
    {
      "cell_type": "code",
      "source": [
        "search.run(\"What are tools in Langchain?\")"
      ],
      "metadata": {
        "colab": {
          "base_uri": "https://localhost:8080/",
          "height": 243
        },
        "id": "iCXPIatrKltQ",
        "outputId": "a45bb158-11d0-4830-cd7a-10b0c30de75d"
      },
      "id": "iCXPIatrKltQ",
      "execution_count": 115,
      "outputs": [
        {
          "output_type": "execute_result",
          "data": {
            "text/plain": [
              "'Types of LangChain Agents. Reactive Agents — Select and execute tools based on user input without long-term memory.; Conversational Agents — Maintain memory of past interactions, improving ... LangChain is a powerful tool that can be used to build a wide range of LLM-powered applications. It is simple to use and has a large user and contributor community. Conversational Agents : Build chatbots and virtual assistants that can engage in meaningful, context-aware conversations with users. In LangChain, an \"Agent\" is an AI entity that interacts with various \"Tools\" to perform tasks or answer queries. Tools are essentially functions that extend the agent\\'s capabilities by ... How to build Custom Tools in LangChain 1: Using @tool decorator: There are several ways to build custom tools. The tool decorator is an easy way to create tools. In conclusion, LangChain\\'s tools and agents represent a significant leap forward in the development of AI applications. By combining robust building blocks with intelligent orchestrators, LangChain empowers developers to create dynamic, context-aware, and scalable solutions that can transform industries and enhance user experiences. ...'"
            ],
            "application/vnd.google.colaboratory.intrinsic+json": {
              "type": "string"
            }
          },
          "metadata": {},
          "execution_count": 115
        }
      ]
    },
    {
      "cell_type": "code",
      "source": [
        "from langchain_community.tools import DuckDuckGoSearchResults\n",
        "search = DuckDuckGoSearchResults()\n",
        "search.invoke(\"What are tools in Langchain?\")"
      ],
      "metadata": {
        "colab": {
          "base_uri": "https://localhost:8080/",
          "height": 243
        },
        "id": "2uYi3e7EKsV2",
        "outputId": "9fa37624-6bfe-41aa-b3bd-2977fb40d1c2"
      },
      "id": "2uYi3e7EKsV2",
      "execution_count": 116,
      "outputs": [
        {
          "output_type": "execute_result",
          "data": {
            "text/plain": [
              "'snippet: What Are LangChain Agents? Agents in LangChain are advanced components that enable AI models to decide when and how to use tools dynamically., title: Understanding LangChain Tools and Agents: A Guide to Building ... - Medium, link: https://medium.com/@Shamimw/understanding-langchain-tools-and-agents-a-guide-to-building-smart-ai-applications-e81d200b3c12, snippet: LangChain is an open-source framework designed to simplify the creation of applications using large language models (LLMs). It provides a standard interface for chains, many integrations with other tools, and end-to-end chains for common applications., title: Introduction to LangChain - GeeksforGeeks, link: https://www.geeksforgeeks.org/introduction-to-langchain/, snippet: Tools can utilize APIs and libraries for performing certain tasks.They can access data and gather information from sources. There are many built-in tools in LangChain for common tasks like doing ..., title: Mastering Tools and Tool Calling Agents in LangChain: A ... - Medium, link: https://medium.com/@mariaaawaheed/mastering-tools-and-tool-calling-agents-in-langchain-a-comprehensive-guide-18a566f2aac5, snippet: The tool_output is a list but the ToolMessage content should be str, that\\'s why [0] is used at the end. from langchain_core.messages import HumanMessage, ToolMessage query = \"what is langchain?\", title: Getting Started with LangChain Tools | by Pelin Balci | Medium, link: https://medium.com/@balci.pelin/getting-started-with-langchain-tools-3beec9e1fb95'"
            ],
            "application/vnd.google.colaboratory.intrinsic+json": {
              "type": "string"
            }
          },
          "metadata": {},
          "execution_count": 116
        }
      ]
    },
    {
      "cell_type": "markdown",
      "source": [
        "### Wikipedia"
      ],
      "metadata": {
        "id": "l54BijapLOxH"
      },
      "id": "l54BijapLOxH"
    },
    {
      "cell_type": "code",
      "source": [
        "%pip install --upgrade --quiet  wikipedia"
      ],
      "metadata": {
        "colab": {
          "base_uri": "https://localhost:8080/"
        },
        "id": "8iiBLfLSLQI8",
        "outputId": "28213325-93b9-4d15-f889-9b3664e1b0dd"
      },
      "id": "8iiBLfLSLQI8",
      "execution_count": 117,
      "outputs": [
        {
          "output_type": "stream",
          "name": "stdout",
          "text": [
            "  Preparing metadata (setup.py) ... \u001b[?25l\u001b[?25hdone\n",
            "  Building wheel for wikipedia (setup.py) ... \u001b[?25l\u001b[?25hdone\n"
          ]
        }
      ]
    },
    {
      "cell_type": "code",
      "source": [
        "from langchain.tools import WikipediaQueryRun\n",
        "from langchain_community.utilities import WikipediaAPIWrapper\n",
        "\n",
        "wikipedia = WikipediaQueryRun(api_wrapper=WikipediaAPIWrapper())\n",
        "\n",
        "wikipedia.invoke(\"LangChain\")"
      ],
      "metadata": {
        "colab": {
          "base_uri": "https://localhost:8080/",
          "height": 243
        },
        "id": "ogxrTGxrLXrQ",
        "outputId": "36d80039-eeab-4408-8226-d4d687d9a663"
      },
      "id": "ogxrTGxrLXrQ",
      "execution_count": 118,
      "outputs": [
        {
          "output_type": "execute_result",
          "data": {
            "text/plain": [
              "'Page: LangChain\\nSummary: LangChain is a software framework that helps facilitate the integration of large language models (LLMs) into applications. As a language model integration framework, LangChain\\'s use-cases largely overlap with those of language models in general, including document analysis and summarization, chatbots, and code analysis.\\n\\n\\n\\nPage: Intelligent agent\\nSummary: In artificial intelligence, an intelligent agent is an entity that perceives its environment, takes actions autonomously to achieve goals, and may improve its performance through machine learning or by acquiring knowledge. Leading AI textbooks define artificial intelligence as the \"study and design of intelligent agents,\" emphasizing that goal-directed behavior is central to intelligence.\\nA specialized subset of intelligent agents, agentic AI (also known as an AI agent or simply agent), expands this concept by proactively pursuing goals, making decisions, and taking actions over extended periods, thereby exemplifying a novel form of digital agency.\\nIntelligent agents can range from simple to highly complex. A basic thermostat or control system is considered an intelligent agent, as is a human being, or any other system that meets the same criteria—such as a firm, a state, or a biome.\\nIntelligent agents operate based on an objective function, which encapsulates their goals. They are designed to create and execute plans that maximize the expected value of this function upon completion. For example, a reinforcement learning agent has a reward function, which allows programmers to shape its desired behavior. Similarly, an evolutionary algorithm\\'s behavior is guided by a fitness function.\\nIntelligent agents in artificial intelligence are closely related to agents in economics, and versions of the intelligent agent paradigm are studied in cognitive science, ethics, and the philosophy of practical reason, as well as in many interdisciplinary socio-cognitive modeling and computer social simulations.\\nIntelligent agents are often described schematically as abstract functional systems similar to computer programs. To distinguish theoretical models from real-world implementations, abstract descriptions of intelligent agents are called abstract intelligent agents. Intelligent agents are also closely related to software agents—autonomous computer programs that carry out tasks on behalf of users. They are also referred to using a term borrowed from economics: a \"rational agent\".\\n\\n\\n\\nPage: Milvus (vector database)\\nSummary: Milvus is a distributed vector database developed by Zilliz. It is available as both open-source software and a cloud service.\\nMilvus is an open-source project under LF AI & Data Foundation distributed under the Apache License 2.0.'"
            ],
            "application/vnd.google.colaboratory.intrinsic+json": {
              "type": "string"
            }
          },
          "metadata": {},
          "execution_count": 118
        }
      ]
    },
    {
      "cell_type": "markdown",
      "source": [
        "### Agents"
      ],
      "metadata": {
        "id": "sAcNkBUkLb4I"
      },
      "id": "sAcNkBUkLb4I"
    },
    {
      "cell_type": "code",
      "source": [
        "from langchain.agents import AgentExecutor, create_tool_calling_agent\n",
        "from langchain_core.prompts import ChatPromptTemplate\n",
        "\n",
        "prompt = ChatPromptTemplate.from_messages(\n",
        "\n",
        "      [  (\n",
        "            \"system\",\n",
        "            \"You are a helpful assistant. For answering the user query, look for information using DuckDuckGo Search and Wikipedia and then give the final answer\",\n",
        "        ),\n",
        "        (\"human\", \"{input}\"),\n",
        "\n",
        "\n",
        "           (\"placeholder\", \"{agent_scratchpad}\"),\n",
        "\n",
        "      ]\n",
        ")\n",
        "tools = [search, wikipedia]\n",
        "\n",
        "llm = ChatGoogleGenerativeAI(model=\"gemini-2.0-flash\")"
      ],
      "metadata": {
        "id": "LejS1z5-Lct0"
      },
      "id": "LejS1z5-Lct0",
      "execution_count": 129,
      "outputs": []
    },
    {
      "cell_type": "code",
      "source": [
        "agent = create_tool_calling_agent(llm, tools, prompt)"
      ],
      "metadata": {
        "id": "PZ12RZamL27c"
      },
      "id": "PZ12RZamL27c",
      "execution_count": 130,
      "outputs": []
    },
    {
      "cell_type": "code",
      "source": [
        "agent_executor = AgentExecutor(agent=agent, tools=tools, verbose=True)"
      ],
      "metadata": {
        "id": "dTZ8FgoFMUXt"
      },
      "id": "dTZ8FgoFMUXt",
      "execution_count": 131,
      "outputs": []
    },
    {
      "cell_type": "code",
      "source": [
        "agent_executor.invoke({\"input\": \"When was Nelson Mandela born and what are some of his famous quotes?\"})"
      ],
      "metadata": {
        "colab": {
          "base_uri": "https://localhost:8080/"
        },
        "id": "gBS1eX0zM0Nc",
        "outputId": "7ba56a04-a2cb-488f-e6bb-2bee40544acd"
      },
      "id": "gBS1eX0zM0Nc",
      "execution_count": 132,
      "outputs": [
        {
          "output_type": "stream",
          "name": "stdout",
          "text": [
            "\n",
            "\n",
            "\u001b[1m> Entering new AgentExecutor chain...\u001b[0m\n",
            "\u001b[32;1m\u001b[1;3m\n",
            "Invoking: `wikipedia` with `{'query': 'Nelson Mandela'}`\n",
            "\n",
            "\n",
            "\u001b[0m\u001b[33;1m\u001b[1;3mPage: Nelson Mandela\n",
            "Summary: Nelson Rolihlahla Mandela ( man-DEL-ə, Xhosa: [xolíɬaɬa mandɛ̂ːla]; born Rolihlahla Mandela; 18 July 1918 – 5 December 2013) was a South African anti-apartheid activist and politician who served as the first president of South Africa from 1994 to 1999. He was the country's first black head of state and the first elected in a fully representative democratic election. His government focused on dismantling the legacy of apartheid by fostering racial reconciliation. Ideologically an African nationalist and socialist, he served as the president of the African National Congress (ANC) party from 1991 to 1997.\n",
            "A Xhosa, Mandela was born into the Thembu royal family in Mvezo, South Africa. He studied law at the University of Fort Hare and the University of Witwatersrand before working as a lawyer in Johannesburg. There he became involved in anti-colonial and African nationalist politics, joining the ANC in 1943 and co-founding its Youth League in 1944. After the National Party's white-only government established apartheid, a system of racial segregation that privileged whites, Mandela and the ANC committed themselves to its overthrow. He was appointed president of the ANC's Transvaal branch, rising to prominence for his involvement in the 1952 Defiance Campaign and the 1955 Congress of the People. He was repeatedly arrested for seditious activities and was unsuccessfully prosecuted in the 1956 Treason Trial. Influenced by Marxism, he secretly joined the banned South African Communist Party (SACP). Although initially committed to non-violent protest, in association with the SACP he co-founded the militant uMkhonto we Sizwe in 1961 that led a sabotage campaign against the apartheid government. He was arrested and imprisoned in 1962, and, following the Rivonia Trial, was sentenced to life imprisonment for conspiring to overthrow the state.\n",
            "Mandela served 27 years in prison, split between Robben Island, Pollsmoor Prison, and Victor Verster Prison. Amid growing domestic and international pressure and fears of racial civil war, President F. W. de Klerk released him in 1990. Mandela and de Klerk led efforts to negotiate an end to apartheid, which resulted in the 1994 multiracial general election in which Mandela led the ANC to victory and became president. Leading a broad coalition government which promulgated a new constitution, Mandela emphasised reconciliation between the country's racial groups and created the Truth and Reconciliation Commission to investigate past human rights abuses. Economically, his administration retained its predecessor's liberal framework despite his own socialist beliefs, also introducing measures to encourage land reform, combat poverty and expand healthcare services. Internationally, Mandela acted as mediator in the Pan Am Flight 103 bombing trial and served as secretary-general of the Non-Aligned Movement from 1998 to 1999. He declined a second presidential term and was succeeded by his deputy, Thabo Mbeki. Mandela became an elder statesman and focused on combating poverty and HIV/AIDS through the charitable Nelson Mandela Foundation.\n",
            "Mandela was a controversial figure for much of his life. Although critics on the right denounced him as a communist terrorist and those on the far left deemed him too eager to negotiate and reconcile with apartheid's supporters, he gained international acclaim for his activism. Globally regarded as an icon of democracy and social justice, he received more than 250 honours, including the Nobel Peace Prize. He is held in deep respect within South Africa, where he is often referred to by his Thembu clan name, Madiba, and described as the \"Father of the Nation\".\n",
            "\n",
            "Page: Death and state funeral of Nelson Mandela\n",
            "Summary: On 5 December 2013, Nelson Mandela, the first president of South Africa to be elected in a fully representative democratic election, as well as the country's first black head of state, died at the age of 95 after a prolonged respiratory infe\u001b[0m\u001b[32;1m\u001b[1;3mNelson Mandela was born on July 18, 1918.\n",
            "\n",
            "Here are some of his famous quotes:\n",
            "\n",
            "*   \"Education is the most powerful weapon which you can use to change the world.\"\n",
            "*   \"For to be free is not merely to cast off one's chains, but to live in a way that respects and enhances the freedom of others.\"\n",
            "*   \"The greatest glory in living lies not in never falling, but in rising every time we fall.\"\n",
            "*   \"I learned that courage was not the absence of fear, but the triumph over it. The brave man is not he who does not feel afraid, but he who conquers that fear.\"\n",
            "*   \"No one is born hating another person because of the color of his skin, or his background, or his religion. People must learn to hate, and if they can learn to hate, they can be taught to love, for love comes more naturally to the human heart than its opposite.\"\u001b[0m\n",
            "\n",
            "\u001b[1m> Finished chain.\u001b[0m\n"
          ]
        },
        {
          "output_type": "execute_result",
          "data": {
            "text/plain": [
              "{'input': 'When was Nelson Mandela born and what are some of his famous quotes?',\n",
              " 'output': 'Nelson Mandela was born on July 18, 1918.\\n\\nHere are some of his famous quotes:\\n\\n*   \"Education is the most powerful weapon which you can use to change the world.\"\\n*   \"For to be free is not merely to cast off one\\'s chains, but to live in a way that respects and enhances the freedom of others.\"\\n*   \"The greatest glory in living lies not in never falling, but in rising every time we fall.\"\\n*   \"I learned that courage was not the absence of fear, but the triumph over it. The brave man is not he who does not feel afraid, but he who conquers that fear.\"\\n*   \"No one is born hating another person because of the color of his skin, or his background, or his religion. People must learn to hate, and if they can learn to hate, they can be taught to love, for love comes more naturally to the human heart than its opposite.\"'}"
            ]
          },
          "metadata": {},
          "execution_count": 132
        }
      ]
    },
    {
      "cell_type": "markdown",
      "source": [
        "#### Agent with memory"
      ],
      "metadata": {
        "id": "mGHfUdGCM7F0"
      },
      "id": "mGHfUdGCM7F0"
    },
    {
      "cell_type": "code",
      "source": [
        "prompt = ChatPromptTemplate.from_messages(\n",
        "    [\n",
        "        (\n",
        "            \"system\",\n",
        "            \"You are a helpful assistant. Based on user query and the chat history, look for information using DuckDuckGo Search and Wikipedia and then give the final answer\",\n",
        "        ),\n",
        "        (\"placeholder\", \"{history}\"),\n",
        "        (\"human\", \"{input}\"),\n",
        "        (\"placeholder\", \"{agent_scratchpad}\"),\n",
        "    ]\n",
        ")\n",
        "\n",
        "agent = create_tool_calling_agent(llm, tools, prompt)\n",
        "agent_executor = AgentExecutor(agent=agent, tools=tools, verbose=True)"
      ],
      "metadata": {
        "id": "PuMYjY36M8QV"
      },
      "id": "PuMYjY36M8QV",
      "execution_count": 133,
      "outputs": []
    },
    {
      "cell_type": "code",
      "source": [
        "from langchain_community.chat_message_histories import ChatMessageHistory\n",
        "from langchain_core.chat_history import BaseChatMessageHistory\n",
        "from langchain_core.runnables.history import RunnableWithMessageHistory\n",
        "\n",
        "store = {}\n",
        "\n",
        "\n",
        "def get_session_history(session_id: str) -> BaseChatMessageHistory:\n",
        "    if session_id not in store:\n",
        "        store[session_id] = ChatMessageHistory()\n",
        "    return store[session_id]\n",
        "\n",
        "\n",
        "agent_with_history = RunnableWithMessageHistory(\n",
        "    agent_executor,\n",
        "    get_session_history,\n",
        "    input_messages_key=\"input\",\n",
        "    history_messages_key=\"history\",\n",
        ")"
      ],
      "metadata": {
        "id": "OFqVZJ-yNCRk"
      },
      "id": "OFqVZJ-yNCRk",
      "execution_count": 134,
      "outputs": []
    },
    {
      "cell_type": "code",
      "source": [
        "agent_with_history.invoke(\n",
        "    {\"input\": \"When was Nelson Mandela born?\"},\n",
        "    config={\"configurable\": {\"session_id\": \"sess1\"}},\n",
        ")"
      ],
      "metadata": {
        "colab": {
          "base_uri": "https://localhost:8080/"
        },
        "id": "GQ5DjaULNKHy",
        "outputId": "89973521-0570-49cf-8e42-f5f199de6252"
      },
      "id": "GQ5DjaULNKHy",
      "execution_count": 135,
      "outputs": [
        {
          "output_type": "stream",
          "name": "stdout",
          "text": [
            "\n",
            "\n",
            "\u001b[1m> Entering new AgentExecutor chain...\u001b[0m\n",
            "\u001b[32;1m\u001b[1;3m\n",
            "Invoking: `wikipedia` with `{'query': 'Nelson Mandela'}`\n",
            "\n",
            "\n",
            "\u001b[0m\u001b[33;1m\u001b[1;3mPage: Nelson Mandela\n",
            "Summary: Nelson Rolihlahla Mandela ( man-DEL-ə, Xhosa: [xolíɬaɬa mandɛ̂ːla]; born Rolihlahla Mandela; 18 July 1918 – 5 December 2013) was a South African anti-apartheid activist and politician who served as the first president of South Africa from 1994 to 1999. He was the country's first black head of state and the first elected in a fully representative democratic election. His government focused on dismantling the legacy of apartheid by fostering racial reconciliation. Ideologically an African nationalist and socialist, he served as the president of the African National Congress (ANC) party from 1991 to 1997.\n",
            "A Xhosa, Mandela was born into the Thembu royal family in Mvezo, South Africa. He studied law at the University of Fort Hare and the University of Witwatersrand before working as a lawyer in Johannesburg. There he became involved in anti-colonial and African nationalist politics, joining the ANC in 1943 and co-founding its Youth League in 1944. After the National Party's white-only government established apartheid, a system of racial segregation that privileged whites, Mandela and the ANC committed themselves to its overthrow. He was appointed president of the ANC's Transvaal branch, rising to prominence for his involvement in the 1952 Defiance Campaign and the 1955 Congress of the People. He was repeatedly arrested for seditious activities and was unsuccessfully prosecuted in the 1956 Treason Trial. Influenced by Marxism, he secretly joined the banned South African Communist Party (SACP). Although initially committed to non-violent protest, in association with the SACP he co-founded the militant uMkhonto we Sizwe in 1961 that led a sabotage campaign against the apartheid government. He was arrested and imprisoned in 1962, and, following the Rivonia Trial, was sentenced to life imprisonment for conspiring to overthrow the state.\n",
            "Mandela served 27 years in prison, split between Robben Island, Pollsmoor Prison, and Victor Verster Prison. Amid growing domestic and international pressure and fears of racial civil war, President F. W. de Klerk released him in 1990. Mandela and de Klerk led efforts to negotiate an end to apartheid, which resulted in the 1994 multiracial general election in which Mandela led the ANC to victory and became president. Leading a broad coalition government which promulgated a new constitution, Mandela emphasised reconciliation between the country's racial groups and created the Truth and Reconciliation Commission to investigate past human rights abuses. Economically, his administration retained its predecessor's liberal framework despite his own socialist beliefs, also introducing measures to encourage land reform, combat poverty and expand healthcare services. Internationally, Mandela acted as mediator in the Pan Am Flight 103 bombing trial and served as secretary-general of the Non-Aligned Movement from 1998 to 1999. He declined a second presidential term and was succeeded by his deputy, Thabo Mbeki. Mandela became an elder statesman and focused on combating poverty and HIV/AIDS through the charitable Nelson Mandela Foundation.\n",
            "Mandela was a controversial figure for much of his life. Although critics on the right denounced him as a communist terrorist and those on the far left deemed him too eager to negotiate and reconcile with apartheid's supporters, he gained international acclaim for his activism. Globally regarded as an icon of democracy and social justice, he received more than 250 honours, including the Nobel Peace Prize. He is held in deep respect within South Africa, where he is often referred to by his Thembu clan name, Madiba, and described as the \"Father of the Nation\".\n",
            "\n",
            "Page: Death and state funeral of Nelson Mandela\n",
            "Summary: On 5 December 2013, Nelson Mandela, the first president of South Africa to be elected in a fully representative democratic election, as well as the country's first black head of state, died at the age of 95 after a prolonged respiratory infe\u001b[0m\u001b[32;1m\u001b[1;3mNelson Mandela was born on 18 July 1918.\n",
            "\u001b[0m\n",
            "\n",
            "\u001b[1m> Finished chain.\u001b[0m\n"
          ]
        },
        {
          "output_type": "execute_result",
          "data": {
            "text/plain": [
              "{'input': 'When was Nelson Mandela born?',\n",
              " 'history': [],\n",
              " 'output': 'Nelson Mandela was born on 18 July 1918.\\n'}"
            ]
          },
          "metadata": {},
          "execution_count": 135
        }
      ]
    },
    {
      "cell_type": "code",
      "source": [
        "result = agent_with_history.invoke(\n",
        "    {\"input\": \"What are some of his famous quotes?\"},\n",
        "    config={\"configurable\": {\"session_id\": \"sess1\"}},\n",
        ")"
      ],
      "metadata": {
        "colab": {
          "base_uri": "https://localhost:8080/"
        },
        "id": "Sz9iW3f7NKRm",
        "outputId": "23fd239d-a331-4b70-cb58-1b459421707a"
      },
      "id": "Sz9iW3f7NKRm",
      "execution_count": 136,
      "outputs": [
        {
          "output_type": "stream",
          "name": "stdout",
          "text": [
            "\n",
            "\n",
            "\u001b[1m> Entering new AgentExecutor chain...\u001b[0m\n",
            "\u001b[32;1m\u001b[1;3m\n",
            "Invoking: `duckduckgo_results_json` with `{'query': 'famous quotes by Nelson Mandela'}`\n",
            "\n",
            "\n",
            "\u001b[0m\u001b[36;1m\u001b[1;3msnippet: Nelson Mandela's Powerful Quotes. Here are 95 inspiring quotes by Nelson Mandela, touching on topics like courage, leadership, forgiveness, and perseverance: On Courage and Strength • \"Courage is not the absence of fear — it's inspiring others to move beyond it.\", title: 95 Nelson Mandela Powerful Quotes to Inspire and Guide You, link: https://lifeispositive.com/mandela-quotes/, snippet: Nelson Mandela was a brave leader and a symbol of hope for many people around the world. He fought against unfair treatment and worked hard for the freedom of his country, South Africa. Mandela's words continue to inspire millions, reminding us to believe in ourselves and to fight for justice. His quotes often reflect themes, title: Top 150 Nelson Mandela Quotes (With Meanings) - Scripture Savvy, link: https://scripturesavvy.com/nelson-mandela-quotes/, snippet: This collection of Nelson Mandela quotes shines a light on his wisdom regarding 3 things:. Forgiveness; Leadership; And the unwavering belief in the power of dreams. Nelson Mandela, an emblem of resilience and hope in the relentless pursuit of justice and equality, has left a legacy that transcends time through his profound insights and teachings.. Let these enduring quotes inspire you to ..., title: 60 Nelson Mandela Quotes (On Freedom, Fear, Leadership), link: https://wisdomquotes.com/nelson-mandela-quotes/, snippet: FAQs about Nelson Mandela Quotes. 1. What are some of Nelson Mandela's most famous quotes? Nelson Mandela is known for many powerful quotes, including: \"Education is the most powerful weapon which you can use to change the world.\" \"It always seems impossible until it's done.\", title: Nelson Mandela Quotes | Quote of the Day, link: https://quotesoftheday.org/nelson-mandela-quotes/\u001b[0m\u001b[32;1m\u001b[1;3mHere are some of Nelson Mandela's most famous quotes:\n",
            "\n",
            "*   \"Courage is not the absence of fear — it's inspiring others to move beyond it.\"\n",
            "*   \"Education is the most powerful weapon which you can use to change the world.\"\n",
            "*   \"It always seems impossible until it's done.\"\u001b[0m\n",
            "\n",
            "\u001b[1m> Finished chain.\u001b[0m\n"
          ]
        }
      ]
    },
    {
      "cell_type": "code",
      "source": [
        "result['output']"
      ],
      "metadata": {
        "colab": {
          "base_uri": "https://localhost:8080/",
          "height": 87
        },
        "id": "eRUMFDvGNSA0",
        "outputId": "5dd1820c-5d40-440c-b96a-01572e7b0a27"
      },
      "id": "eRUMFDvGNSA0",
      "execution_count": 137,
      "outputs": [
        {
          "output_type": "execute_result",
          "data": {
            "text/plain": [
              "'Here are some of Nelson Mandela\\'s most famous quotes:\\n\\n*   \"Courage is not the absence of fear — it\\'s inspiring others to move beyond it.\"\\n*   \"Education is the most powerful weapon which you can use to change the world.\"\\n*   \"It always seems impossible until it\\'s done.\"'"
            ],
            "application/vnd.google.colaboratory.intrinsic+json": {
              "type": "string"
            }
          },
          "metadata": {},
          "execution_count": 137
        }
      ]
    }
  ],
  "metadata": {
    "kernelspec": {
      "display_name": "Python 3 (ipykernel)",
      "language": "python",
      "name": "python3"
    },
    "language_info": {
      "codemirror_mode": {
        "name": "ipython",
        "version": 3
      },
      "file_extension": ".py",
      "mimetype": "text/x-python",
      "name": "python",
      "nbconvert_exporter": "python",
      "pygments_lexer": "ipython3",
      "version": "3.12.4"
    },
    "colab": {
      "provenance": []
    }
  },
  "nbformat": 4,
  "nbformat_minor": 5
}